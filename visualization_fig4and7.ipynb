{
 "cells": [
  {
   "cell_type": "code",
   "execution_count": 1,
   "metadata": {},
   "outputs": [],
   "source": [
    "import plotly.express as px\n",
    "import plotly.graph_objects as go\n",
    "import pandas as pd"
   ]
  },
  {
   "attachments": {},
   "cell_type": "markdown",
   "metadata": {},
   "source": [
    "## monthly"
   ]
  },
  {
   "cell_type": "code",
   "execution_count": 4,
   "metadata": {},
   "outputs": [],
   "source": [
    "monthly_whole_text= pd.read_csv(\"vis_basis/monthly_subreddits_whole_text.csv\", sep = ',')\n",
    "monthly_top_n_words= pd.read_csv(\"vis_basis/monthly_subreddits_top_n_words.csv\", sep = ',')\n",
    "\n",
    "# Rename columns\n",
    "monthly_top_n_words = monthly_top_n_words.rename(columns={'grouped_count_orig': 'sum_postings', 'relative': 'share_chores_to_all', \"grouped_count_chores\":\"count_chores\"})\n",
    "monthly_top_n_words[\"type\"]=\"Representative Topic words \"\n",
    "monthly_whole_text[\"type\"]=\"Posting \""
   ]
  },
  {
   "cell_type": "code",
   "execution_count": 5,
   "metadata": {},
   "outputs": [],
   "source": [
    "concate=pd.concat([monthly_top_n_words,monthly_whole_text])\n",
    "concate[\"Line\"]= concate[\"type\"] + \"\" + concate[\"subreddit\"]\n",
    "concate[\"group\"]=\"monthly\""
   ]
  },
  {
   "attachments": {},
   "cell_type": "markdown",
   "metadata": {},
   "source": [
    "## weekly"
   ]
  },
  {
   "cell_type": "code",
   "execution_count": 6,
   "metadata": {},
   "outputs": [],
   "source": [
    "weekly_whole_text= pd.read_csv(\"vis_basis/weekly_subreddits_whole_text.csv\", sep = ',')\n",
    "weekly_top_n_words= pd.read_csv(\"vis_basis/weekly_subreddits_top_n_words.csv\", sep = ',')\n",
    "\n",
    "# Rename columns\n",
    "weekly_top_n_words = weekly_top_n_words.rename(columns={'grouped_count_orig': 'sum_postings', 'relative': 'share_chores_to_all', \"grouped_count_chores\":\"count_chores\"})\n",
    "weekly_top_n_words[\"type\"]=\"Representative Topic words \"\n",
    "weekly_whole_text[\"type\"]=\"Posting \""
   ]
  },
  {
   "cell_type": "code",
   "execution_count": 7,
   "metadata": {},
   "outputs": [],
   "source": [
    "concate_weekly=pd.concat([weekly_top_n_words,weekly_whole_text])\n",
    "concate_weekly[\"Line\"]= concate_weekly[\"type\"] + \"\" + concate_weekly[\"subreddit\"]\n",
    "concate_weekly[\"group\"]=\"weekly\""
   ]
  },
  {
   "attachments": {},
   "cell_type": "markdown",
   "metadata": {},
   "source": [
    "## combine weekly and monthly data in one graph"
   ]
  },
  {
   "cell_type": "code",
   "execution_count": 8,
   "metadata": {},
   "outputs": [
    {
     "data": {
      "text/html": [
       "<div>\n",
       "<style scoped>\n",
       "    .dataframe tbody tr th:only-of-type {\n",
       "        vertical-align: middle;\n",
       "    }\n",
       "\n",
       "    .dataframe tbody tr th {\n",
       "        vertical-align: top;\n",
       "    }\n",
       "\n",
       "    .dataframe thead th {\n",
       "        text-align: right;\n",
       "    }\n",
       "</style>\n",
       "<table border=\"1\" class=\"dataframe\">\n",
       "  <thead>\n",
       "    <tr style=\"text-align: right;\">\n",
       "      <th></th>\n",
       "      <th>date_time</th>\n",
       "      <th>sum_postings</th>\n",
       "      <th>count_chores</th>\n",
       "      <th>share_chores_to_all</th>\n",
       "      <th>subreddit</th>\n",
       "      <th>type</th>\n",
       "      <th>comments</th>\n",
       "      <th>submissions</th>\n",
       "      <th>Line</th>\n",
       "      <th>group</th>\n",
       "      <th>line2</th>\n",
       "    </tr>\n",
       "  </thead>\n",
       "  <tbody>\n",
       "    <tr>\n",
       "      <th>0</th>\n",
       "      <td>2019-12-31</td>\n",
       "      <td>4698</td>\n",
       "      <td>1576</td>\n",
       "      <td>33.546190</td>\n",
       "      <td>Mommit</td>\n",
       "      <td>Representative Topic words</td>\n",
       "      <td>NaN</td>\n",
       "      <td>NaN</td>\n",
       "      <td>Representative Topic words Mommit</td>\n",
       "      <td>monthly</td>\n",
       "      <td>Representative Topic words Mommit monthly</td>\n",
       "    </tr>\n",
       "    <tr>\n",
       "      <th>1</th>\n",
       "      <td>2020-01-31</td>\n",
       "      <td>4985</td>\n",
       "      <td>1728</td>\n",
       "      <td>34.663992</td>\n",
       "      <td>Mommit</td>\n",
       "      <td>Representative Topic words</td>\n",
       "      <td>NaN</td>\n",
       "      <td>NaN</td>\n",
       "      <td>Representative Topic words Mommit</td>\n",
       "      <td>monthly</td>\n",
       "      <td>Representative Topic words Mommit monthly</td>\n",
       "    </tr>\n",
       "    <tr>\n",
       "      <th>2</th>\n",
       "      <td>2020-02-29</td>\n",
       "      <td>5365</td>\n",
       "      <td>1619</td>\n",
       "      <td>30.177074</td>\n",
       "      <td>Mommit</td>\n",
       "      <td>Representative Topic words</td>\n",
       "      <td>NaN</td>\n",
       "      <td>NaN</td>\n",
       "      <td>Representative Topic words Mommit</td>\n",
       "      <td>monthly</td>\n",
       "      <td>Representative Topic words Mommit monthly</td>\n",
       "    </tr>\n",
       "    <tr>\n",
       "      <th>3</th>\n",
       "      <td>2020-03-31</td>\n",
       "      <td>5121</td>\n",
       "      <td>2013</td>\n",
       "      <td>39.308729</td>\n",
       "      <td>Mommit</td>\n",
       "      <td>Representative Topic words</td>\n",
       "      <td>NaN</td>\n",
       "      <td>NaN</td>\n",
       "      <td>Representative Topic words Mommit</td>\n",
       "      <td>monthly</td>\n",
       "      <td>Representative Topic words Mommit monthly</td>\n",
       "    </tr>\n",
       "    <tr>\n",
       "      <th>4</th>\n",
       "      <td>2020-04-30</td>\n",
       "      <td>4711</td>\n",
       "      <td>1586</td>\n",
       "      <td>33.665888</td>\n",
       "      <td>Mommit</td>\n",
       "      <td>Representative Topic words</td>\n",
       "      <td>NaN</td>\n",
       "      <td>NaN</td>\n",
       "      <td>Representative Topic words Mommit</td>\n",
       "      <td>monthly</td>\n",
       "      <td>Representative Topic words Mommit monthly</td>\n",
       "    </tr>\n",
       "    <tr>\n",
       "      <th>...</th>\n",
       "      <td>...</td>\n",
       "      <td>...</td>\n",
       "      <td>...</td>\n",
       "      <td>...</td>\n",
       "      <td>...</td>\n",
       "      <td>...</td>\n",
       "      <td>...</td>\n",
       "      <td>...</td>\n",
       "      <td>...</td>\n",
       "      <td>...</td>\n",
       "      <td>...</td>\n",
       "    </tr>\n",
       "    <tr>\n",
       "      <th>61</th>\n",
       "      <td>2022-03-06</td>\n",
       "      <td>6033</td>\n",
       "      <td>727</td>\n",
       "      <td>12.050000</td>\n",
       "      <td>daddit</td>\n",
       "      <td>Posting</td>\n",
       "      <td>5601.0</td>\n",
       "      <td>432.0</td>\n",
       "      <td>Posting daddit</td>\n",
       "      <td>weekly</td>\n",
       "      <td>Posting daddit weekly</td>\n",
       "    </tr>\n",
       "    <tr>\n",
       "      <th>62</th>\n",
       "      <td>2022-03-13</td>\n",
       "      <td>7212</td>\n",
       "      <td>1005</td>\n",
       "      <td>13.935000</td>\n",
       "      <td>daddit</td>\n",
       "      <td>Posting</td>\n",
       "      <td>6763.0</td>\n",
       "      <td>449.0</td>\n",
       "      <td>Posting daddit</td>\n",
       "      <td>weekly</td>\n",
       "      <td>Posting daddit weekly</td>\n",
       "    </tr>\n",
       "    <tr>\n",
       "      <th>63</th>\n",
       "      <td>2022-03-20</td>\n",
       "      <td>8061</td>\n",
       "      <td>1300</td>\n",
       "      <td>16.127000</td>\n",
       "      <td>daddit</td>\n",
       "      <td>Posting</td>\n",
       "      <td>7622.0</td>\n",
       "      <td>439.0</td>\n",
       "      <td>Posting daddit</td>\n",
       "      <td>weekly</td>\n",
       "      <td>Posting daddit weekly</td>\n",
       "    </tr>\n",
       "    <tr>\n",
       "      <th>64</th>\n",
       "      <td>2022-03-27</td>\n",
       "      <td>8260</td>\n",
       "      <td>1489</td>\n",
       "      <td>18.027000</td>\n",
       "      <td>daddit</td>\n",
       "      <td>Posting</td>\n",
       "      <td>7847.0</td>\n",
       "      <td>413.0</td>\n",
       "      <td>Posting daddit</td>\n",
       "      <td>weekly</td>\n",
       "      <td>Posting daddit weekly</td>\n",
       "    </tr>\n",
       "    <tr>\n",
       "      <th>65</th>\n",
       "      <td>2022-04-03</td>\n",
       "      <td>3736</td>\n",
       "      <td>549</td>\n",
       "      <td>14.695000</td>\n",
       "      <td>daddit</td>\n",
       "      <td>Posting</td>\n",
       "      <td>3460.0</td>\n",
       "      <td>276.0</td>\n",
       "      <td>Posting daddit</td>\n",
       "      <td>weekly</td>\n",
       "      <td>Posting daddit weekly</td>\n",
       "    </tr>\n",
       "  </tbody>\n",
       "</table>\n",
       "<p>160 rows × 11 columns</p>\n",
       "</div>"
      ],
      "text/plain": [
       "     date_time  sum_postings  count_chores  share_chores_to_all subreddit  \\\n",
       "0   2019-12-31          4698          1576            33.546190    Mommit   \n",
       "1   2020-01-31          4985          1728            34.663992    Mommit   \n",
       "2   2020-02-29          5365          1619            30.177074    Mommit   \n",
       "3   2020-03-31          5121          2013            39.308729    Mommit   \n",
       "4   2020-04-30          4711          1586            33.665888    Mommit   \n",
       "..         ...           ...           ...                  ...       ...   \n",
       "61  2022-03-06          6033           727            12.050000    daddit   \n",
       "62  2022-03-13          7212          1005            13.935000    daddit   \n",
       "63  2022-03-20          8061          1300            16.127000    daddit   \n",
       "64  2022-03-27          8260          1489            18.027000    daddit   \n",
       "65  2022-04-03          3736           549            14.695000    daddit   \n",
       "\n",
       "                           type  comments  submissions  \\\n",
       "0   Representative Topic words        NaN          NaN   \n",
       "1   Representative Topic words        NaN          NaN   \n",
       "2   Representative Topic words        NaN          NaN   \n",
       "3   Representative Topic words        NaN          NaN   \n",
       "4   Representative Topic words        NaN          NaN   \n",
       "..                          ...       ...          ...   \n",
       "61                     Posting     5601.0        432.0   \n",
       "62                     Posting     6763.0        449.0   \n",
       "63                     Posting     7622.0        439.0   \n",
       "64                     Posting     7847.0        413.0   \n",
       "65                     Posting     3460.0        276.0   \n",
       "\n",
       "                                 Line    group  \\\n",
       "0   Representative Topic words Mommit  monthly   \n",
       "1   Representative Topic words Mommit  monthly   \n",
       "2   Representative Topic words Mommit  monthly   \n",
       "3   Representative Topic words Mommit  monthly   \n",
       "4   Representative Topic words Mommit  monthly   \n",
       "..                                ...      ...   \n",
       "61                     Posting daddit   weekly   \n",
       "62                     Posting daddit   weekly   \n",
       "63                     Posting daddit   weekly   \n",
       "64                     Posting daddit   weekly   \n",
       "65                     Posting daddit   weekly   \n",
       "\n",
       "                                        line2  \n",
       "0   Representative Topic words Mommit monthly  \n",
       "1   Representative Topic words Mommit monthly  \n",
       "2   Representative Topic words Mommit monthly  \n",
       "3   Representative Topic words Mommit monthly  \n",
       "4   Representative Topic words Mommit monthly  \n",
       "..                                        ...  \n",
       "61                      Posting daddit weekly  \n",
       "62                      Posting daddit weekly  \n",
       "63                      Posting daddit weekly  \n",
       "64                      Posting daddit weekly  \n",
       "65                      Posting daddit weekly  \n",
       "\n",
       "[160 rows x 11 columns]"
      ]
     },
     "execution_count": 8,
     "metadata": {},
     "output_type": "execute_result"
    }
   ],
   "source": [
    "all_together=pd.concat([concate, concate_weekly])\n",
    "all_together[\"line2\"]=all_together[\"Line\"]+\" \"+all_together[\"group\"]\n",
    "all_together"
   ]
  },
  {
   "cell_type": "code",
   "execution_count": 7,
   "metadata": {},
   "outputs": [],
   "source": [
    "# during_pandemic = all_together[(all_together[\"date_time\"] >= \"2020-03-01\") & (all_together[\"date_time\"] <= \"2020-05-05\")]\n",
    "# during_pandemic_topic=during_pandemic[during_pandemic[\"type\"]==\"Representative Topic words \"]\n",
    "# during_pandemic_topic_weekly=during_pandemic_topic[during_pandemic_topic[\"group\"]==\"weekly\"]\n",
    "# during_pandemic_topic_weekly_mommit=during_pandemic_topic_weekly[during_pandemic_topic_weekly[\"subreddit\"]==\"Mommit\"]\n",
    "# during_pandemic_topic_weekly_mommit"
   ]
  },
  {
   "cell_type": "markdown",
   "metadata": {},
   "source": [
    "Topics"
   ]
  },
  {
   "cell_type": "markdown",
   "metadata": {},
   "source": [
    "# Figure 4"
   ]
  },
  {
   "cell_type": "code",
   "execution_count": 25,
   "metadata": {},
   "outputs": [
    {
     "data": {
      "application/vnd.plotly.v1+json": {
       "config": {
        "plotlyServerURL": "https://plot.ly"
       },
       "data": [
        {
         "hovertemplate": "Line=r/Mommit monthly<br>date_time=%{x}<br>share_chores_to_all=%{y}<extra></extra>",
         "legendgroup": "r/Mommit monthly",
         "line": {
          "color": "rgb(241, 133, 54)",
          "dash": "solid"
         },
         "marker": {
          "symbol": "circle"
         },
         "mode": "markers+lines",
         "name": "r/Mommit monthly",
         "orientation": "v",
         "showlegend": true,
         "type": "scatter",
         "x": [
          "2019-12-31",
          "2020-01-31",
          "2020-02-29",
          "2020-03-31",
          "2020-04-30",
          "2021-03-31",
          "2022-03-31"
         ],
         "xaxis": "x",
         "y": [
          33.54618986802895,
          34.663991975927786,
          30.17707362534949,
          39.3087287639133,
          33.665888346423266,
          29.3624426514792,
          30.55453781331494
         ],
         "yaxis": "y"
        },
        {
         "hovertemplate": "Line=r/daddit monthly<br>date_time=%{x}<br>share_chores_to_all=%{y}<extra></extra>",
         "legendgroup": "r/daddit monthly",
         "line": {
          "color": "rgb(88, 176, 85)",
          "dash": "solid"
         },
         "marker": {
          "symbol": "circle"
         },
         "mode": "markers+lines",
         "name": "r/daddit monthly",
         "orientation": "v",
         "showlegend": true,
         "type": "scatter",
         "x": [
          "2019-12-31",
          "2020-01-31",
          "2020-02-29",
          "2020-03-31",
          "2020-04-30",
          "2021-03-31",
          "2022-03-31"
         ],
         "xaxis": "x",
         "y": [
          16.23402292792199,
          18.24188129899216,
          18.11448656791363,
          16.729475100942125,
          15.761042262472197,
          16.74718196457327,
          21.2599843853222
         ],
         "yaxis": "y"
        },
        {
         "marker": {
          "color": "black",
          "size": 10
         },
         "mode": "lines",
         "name": "Start of pandemic",
         "showlegend": true,
         "type": "scatter",
         "x": [
          null
         ],
         "y": [
          null
         ]
        }
       ],
       "layout": {
        "height": 500,
        "legend": {
         "font": {
          "size": 18
         },
         "itemsizing": "trace",
         "title": {
          "font": {
           "size": 14
          },
          "text": ""
         },
         "tracegroupgap": 0,
         "traceorder": "normal"
        },
        "plot_bgcolor": "white",
        "shapes": [
         {
          "line": {
           "color": "black",
           "width": 3
          },
          "type": "line",
          "x0": "2020-03-11",
          "x1": "2020-03-11",
          "xref": "x",
          "y0": 0,
          "y1": 1,
          "yref": "y domain"
         },
         {
          "line": {
           "color": "black",
           "width": 2
          },
          "name": "Start of pandemic",
          "type": "line",
          "x0": "2020-03-11",
          "x1": "2020-03-11",
          "y0": 0,
          "y1": 2500
         }
        ],
        "template": {
         "data": {
          "bar": [
           {
            "error_x": {
             "color": "#2a3f5f"
            },
            "error_y": {
             "color": "#2a3f5f"
            },
            "marker": {
             "line": {
              "color": "#E5ECF6",
              "width": 0.5
             },
             "pattern": {
              "fillmode": "overlay",
              "size": 10,
              "solidity": 0.2
             }
            },
            "type": "bar"
           }
          ],
          "barpolar": [
           {
            "marker": {
             "line": {
              "color": "#E5ECF6",
              "width": 0.5
             },
             "pattern": {
              "fillmode": "overlay",
              "size": 10,
              "solidity": 0.2
             }
            },
            "type": "barpolar"
           }
          ],
          "carpet": [
           {
            "aaxis": {
             "endlinecolor": "#2a3f5f",
             "gridcolor": "white",
             "linecolor": "white",
             "minorgridcolor": "white",
             "startlinecolor": "#2a3f5f"
            },
            "baxis": {
             "endlinecolor": "#2a3f5f",
             "gridcolor": "white",
             "linecolor": "white",
             "minorgridcolor": "white",
             "startlinecolor": "#2a3f5f"
            },
            "type": "carpet"
           }
          ],
          "choropleth": [
           {
            "colorbar": {
             "outlinewidth": 0,
             "ticks": ""
            },
            "type": "choropleth"
           }
          ],
          "contour": [
           {
            "colorbar": {
             "outlinewidth": 0,
             "ticks": ""
            },
            "colorscale": [
             [
              0,
              "#0d0887"
             ],
             [
              0.1111111111111111,
              "#46039f"
             ],
             [
              0.2222222222222222,
              "#7201a8"
             ],
             [
              0.3333333333333333,
              "#9c179e"
             ],
             [
              0.4444444444444444,
              "#bd3786"
             ],
             [
              0.5555555555555556,
              "#d8576b"
             ],
             [
              0.6666666666666666,
              "#ed7953"
             ],
             [
              0.7777777777777778,
              "#fb9f3a"
             ],
             [
              0.8888888888888888,
              "#fdca26"
             ],
             [
              1,
              "#f0f921"
             ]
            ],
            "type": "contour"
           }
          ],
          "contourcarpet": [
           {
            "colorbar": {
             "outlinewidth": 0,
             "ticks": ""
            },
            "type": "contourcarpet"
           }
          ],
          "heatmap": [
           {
            "colorbar": {
             "outlinewidth": 0,
             "ticks": ""
            },
            "colorscale": [
             [
              0,
              "#0d0887"
             ],
             [
              0.1111111111111111,
              "#46039f"
             ],
             [
              0.2222222222222222,
              "#7201a8"
             ],
             [
              0.3333333333333333,
              "#9c179e"
             ],
             [
              0.4444444444444444,
              "#bd3786"
             ],
             [
              0.5555555555555556,
              "#d8576b"
             ],
             [
              0.6666666666666666,
              "#ed7953"
             ],
             [
              0.7777777777777778,
              "#fb9f3a"
             ],
             [
              0.8888888888888888,
              "#fdca26"
             ],
             [
              1,
              "#f0f921"
             ]
            ],
            "type": "heatmap"
           }
          ],
          "heatmapgl": [
           {
            "colorbar": {
             "outlinewidth": 0,
             "ticks": ""
            },
            "colorscale": [
             [
              0,
              "#0d0887"
             ],
             [
              0.1111111111111111,
              "#46039f"
             ],
             [
              0.2222222222222222,
              "#7201a8"
             ],
             [
              0.3333333333333333,
              "#9c179e"
             ],
             [
              0.4444444444444444,
              "#bd3786"
             ],
             [
              0.5555555555555556,
              "#d8576b"
             ],
             [
              0.6666666666666666,
              "#ed7953"
             ],
             [
              0.7777777777777778,
              "#fb9f3a"
             ],
             [
              0.8888888888888888,
              "#fdca26"
             ],
             [
              1,
              "#f0f921"
             ]
            ],
            "type": "heatmapgl"
           }
          ],
          "histogram": [
           {
            "marker": {
             "pattern": {
              "fillmode": "overlay",
              "size": 10,
              "solidity": 0.2
             }
            },
            "type": "histogram"
           }
          ],
          "histogram2d": [
           {
            "colorbar": {
             "outlinewidth": 0,
             "ticks": ""
            },
            "colorscale": [
             [
              0,
              "#0d0887"
             ],
             [
              0.1111111111111111,
              "#46039f"
             ],
             [
              0.2222222222222222,
              "#7201a8"
             ],
             [
              0.3333333333333333,
              "#9c179e"
             ],
             [
              0.4444444444444444,
              "#bd3786"
             ],
             [
              0.5555555555555556,
              "#d8576b"
             ],
             [
              0.6666666666666666,
              "#ed7953"
             ],
             [
              0.7777777777777778,
              "#fb9f3a"
             ],
             [
              0.8888888888888888,
              "#fdca26"
             ],
             [
              1,
              "#f0f921"
             ]
            ],
            "type": "histogram2d"
           }
          ],
          "histogram2dcontour": [
           {
            "colorbar": {
             "outlinewidth": 0,
             "ticks": ""
            },
            "colorscale": [
             [
              0,
              "#0d0887"
             ],
             [
              0.1111111111111111,
              "#46039f"
             ],
             [
              0.2222222222222222,
              "#7201a8"
             ],
             [
              0.3333333333333333,
              "#9c179e"
             ],
             [
              0.4444444444444444,
              "#bd3786"
             ],
             [
              0.5555555555555556,
              "#d8576b"
             ],
             [
              0.6666666666666666,
              "#ed7953"
             ],
             [
              0.7777777777777778,
              "#fb9f3a"
             ],
             [
              0.8888888888888888,
              "#fdca26"
             ],
             [
              1,
              "#f0f921"
             ]
            ],
            "type": "histogram2dcontour"
           }
          ],
          "mesh3d": [
           {
            "colorbar": {
             "outlinewidth": 0,
             "ticks": ""
            },
            "type": "mesh3d"
           }
          ],
          "parcoords": [
           {
            "line": {
             "colorbar": {
              "outlinewidth": 0,
              "ticks": ""
             }
            },
            "type": "parcoords"
           }
          ],
          "pie": [
           {
            "automargin": true,
            "type": "pie"
           }
          ],
          "scatter": [
           {
            "fillpattern": {
             "fillmode": "overlay",
             "size": 10,
             "solidity": 0.2
            },
            "type": "scatter"
           }
          ],
          "scatter3d": [
           {
            "line": {
             "colorbar": {
              "outlinewidth": 0,
              "ticks": ""
             }
            },
            "marker": {
             "colorbar": {
              "outlinewidth": 0,
              "ticks": ""
             }
            },
            "type": "scatter3d"
           }
          ],
          "scattercarpet": [
           {
            "marker": {
             "colorbar": {
              "outlinewidth": 0,
              "ticks": ""
             }
            },
            "type": "scattercarpet"
           }
          ],
          "scattergeo": [
           {
            "marker": {
             "colorbar": {
              "outlinewidth": 0,
              "ticks": ""
             }
            },
            "type": "scattergeo"
           }
          ],
          "scattergl": [
           {
            "marker": {
             "colorbar": {
              "outlinewidth": 0,
              "ticks": ""
             }
            },
            "type": "scattergl"
           }
          ],
          "scattermapbox": [
           {
            "marker": {
             "colorbar": {
              "outlinewidth": 0,
              "ticks": ""
             }
            },
            "type": "scattermapbox"
           }
          ],
          "scatterpolar": [
           {
            "marker": {
             "colorbar": {
              "outlinewidth": 0,
              "ticks": ""
             }
            },
            "type": "scatterpolar"
           }
          ],
          "scatterpolargl": [
           {
            "marker": {
             "colorbar": {
              "outlinewidth": 0,
              "ticks": ""
             }
            },
            "type": "scatterpolargl"
           }
          ],
          "scatterternary": [
           {
            "marker": {
             "colorbar": {
              "outlinewidth": 0,
              "ticks": ""
             }
            },
            "type": "scatterternary"
           }
          ],
          "surface": [
           {
            "colorbar": {
             "outlinewidth": 0,
             "ticks": ""
            },
            "colorscale": [
             [
              0,
              "#0d0887"
             ],
             [
              0.1111111111111111,
              "#46039f"
             ],
             [
              0.2222222222222222,
              "#7201a8"
             ],
             [
              0.3333333333333333,
              "#9c179e"
             ],
             [
              0.4444444444444444,
              "#bd3786"
             ],
             [
              0.5555555555555556,
              "#d8576b"
             ],
             [
              0.6666666666666666,
              "#ed7953"
             ],
             [
              0.7777777777777778,
              "#fb9f3a"
             ],
             [
              0.8888888888888888,
              "#fdca26"
             ],
             [
              1,
              "#f0f921"
             ]
            ],
            "type": "surface"
           }
          ],
          "table": [
           {
            "cells": {
             "fill": {
              "color": "#EBF0F8"
             },
             "line": {
              "color": "white"
             }
            },
            "header": {
             "fill": {
              "color": "#C8D4E3"
             },
             "line": {
              "color": "white"
             }
            },
            "type": "table"
           }
          ]
         },
         "layout": {
          "annotationdefaults": {
           "arrowcolor": "#2a3f5f",
           "arrowhead": 0,
           "arrowwidth": 1
          },
          "autotypenumbers": "strict",
          "coloraxis": {
           "colorbar": {
            "outlinewidth": 0,
            "ticks": ""
           }
          },
          "colorscale": {
           "diverging": [
            [
             0,
             "#8e0152"
            ],
            [
             0.1,
             "#c51b7d"
            ],
            [
             0.2,
             "#de77ae"
            ],
            [
             0.3,
             "#f1b6da"
            ],
            [
             0.4,
             "#fde0ef"
            ],
            [
             0.5,
             "#f7f7f7"
            ],
            [
             0.6,
             "#e6f5d0"
            ],
            [
             0.7,
             "#b8e186"
            ],
            [
             0.8,
             "#7fbc41"
            ],
            [
             0.9,
             "#4d9221"
            ],
            [
             1,
             "#276419"
            ]
           ],
           "sequential": [
            [
             0,
             "#0d0887"
            ],
            [
             0.1111111111111111,
             "#46039f"
            ],
            [
             0.2222222222222222,
             "#7201a8"
            ],
            [
             0.3333333333333333,
             "#9c179e"
            ],
            [
             0.4444444444444444,
             "#bd3786"
            ],
            [
             0.5555555555555556,
             "#d8576b"
            ],
            [
             0.6666666666666666,
             "#ed7953"
            ],
            [
             0.7777777777777778,
             "#fb9f3a"
            ],
            [
             0.8888888888888888,
             "#fdca26"
            ],
            [
             1,
             "#f0f921"
            ]
           ],
           "sequentialminus": [
            [
             0,
             "#0d0887"
            ],
            [
             0.1111111111111111,
             "#46039f"
            ],
            [
             0.2222222222222222,
             "#7201a8"
            ],
            [
             0.3333333333333333,
             "#9c179e"
            ],
            [
             0.4444444444444444,
             "#bd3786"
            ],
            [
             0.5555555555555556,
             "#d8576b"
            ],
            [
             0.6666666666666666,
             "#ed7953"
            ],
            [
             0.7777777777777778,
             "#fb9f3a"
            ],
            [
             0.8888888888888888,
             "#fdca26"
            ],
            [
             1,
             "#f0f921"
            ]
           ]
          },
          "colorway": [
           "#636efa",
           "#EF553B",
           "#00cc96",
           "#ab63fa",
           "#FFA15A",
           "#19d3f3",
           "#FF6692",
           "#B6E880",
           "#FF97FF",
           "#FECB52"
          ],
          "font": {
           "color": "#2a3f5f"
          },
          "geo": {
           "bgcolor": "white",
           "lakecolor": "white",
           "landcolor": "#E5ECF6",
           "showlakes": true,
           "showland": true,
           "subunitcolor": "white"
          },
          "hoverlabel": {
           "align": "left"
          },
          "hovermode": "closest",
          "mapbox": {
           "style": "light"
          },
          "paper_bgcolor": "white",
          "plot_bgcolor": "#E5ECF6",
          "polar": {
           "angularaxis": {
            "gridcolor": "white",
            "linecolor": "white",
            "ticks": ""
           },
           "bgcolor": "#E5ECF6",
           "radialaxis": {
            "gridcolor": "white",
            "linecolor": "white",
            "ticks": ""
           }
          },
          "scene": {
           "xaxis": {
            "backgroundcolor": "#E5ECF6",
            "gridcolor": "white",
            "gridwidth": 2,
            "linecolor": "white",
            "showbackground": true,
            "ticks": "",
            "zerolinecolor": "white"
           },
           "yaxis": {
            "backgroundcolor": "#E5ECF6",
            "gridcolor": "white",
            "gridwidth": 2,
            "linecolor": "white",
            "showbackground": true,
            "ticks": "",
            "zerolinecolor": "white"
           },
           "zaxis": {
            "backgroundcolor": "#E5ECF6",
            "gridcolor": "white",
            "gridwidth": 2,
            "linecolor": "white",
            "showbackground": true,
            "ticks": "",
            "zerolinecolor": "white"
           }
          },
          "shapedefaults": {
           "line": {
            "color": "#2a3f5f"
           }
          },
          "ternary": {
           "aaxis": {
            "gridcolor": "white",
            "linecolor": "white",
            "ticks": ""
           },
           "baxis": {
            "gridcolor": "white",
            "linecolor": "white",
            "ticks": ""
           },
           "bgcolor": "#E5ECF6",
           "caxis": {
            "gridcolor": "white",
            "linecolor": "white",
            "ticks": ""
           }
          },
          "title": {
           "x": 0.05
          },
          "xaxis": {
           "automargin": true,
           "gridcolor": "white",
           "linecolor": "white",
           "ticks": "",
           "title": {
            "standoff": 15
           },
           "zerolinecolor": "white",
           "zerolinewidth": 2
          },
          "yaxis": {
           "automargin": true,
           "gridcolor": "white",
           "linecolor": "white",
           "ticks": "",
           "title": {
            "standoff": 15
           },
           "zerolinecolor": "white",
           "zerolinewidth": 2
          }
         }
        },
        "title": {
         "font": {
          "family": "Calibri",
          "size": 32
         },
         "text": "Share of posts with home responsibilites in the topic representations"
        },
        "width": 1200,
        "xaxis": {
         "anchor": "y",
         "domain": [
          0,
          1
         ],
         "dtick": "M2",
         "gridcolor": "lightgrey",
         "gridwidth": 0.5,
         "range": [
          "2019-12-01",
          "2022-04-30"
         ],
         "rangebreaks": [
          {
           "bounds": [
            "2020-06-01",
            "2021-02-28"
           ]
          },
          {
           "bounds": [
            "2021-05-01",
            "2022-02-28"
           ]
          }
         ],
         "showgrid": true,
         "tickangle": 45,
         "tickfont": {
          "family": "Calibri",
          "size": 24
         },
         "ticklabelmode": "period",
         "tickvals": [
          "2019-12-31",
          "2020-01-31",
          "2020-02-28",
          "2020-03-31",
          "2020-04-30",
          "2021-03-31",
          "2022-03-31"
         ],
         "title": {
          "text": "Date"
         }
        },
        "yaxis": {
         "anchor": "x",
         "domain": [
          0,
          1
         ],
         "gridcolor": "lightgrey",
         "gridwidth": 0.5,
         "range": [
          -1,
          45
         ],
         "showgrid": true,
         "tickfont": {
          "family": "Calibri",
          "size": 24
         },
         "title": {
          "font": {
           "family": "Calibri",
           "size": 24
          },
          "text": "Posts with home responsibilities (%)"
         }
        }
       }
      }
     },
     "metadata": {},
     "output_type": "display_data"
    }
   ],
   "source": [
    "colors=[\"rgb(241, 133, 54)\", \"rgb(88, 176, 85)\"]\n",
    "fig = px.line(concate[concate[\"type\"]==\"Representative Topic words \"], x='date_time', y='share_chores_to_all', color=\"Line\", height=500, width=1200,\n",
    "              title=\"Share of posts with home responsibilites in the topic representations\",\n",
    "              color_discrete_sequence=colors, markers=True)\n",
    "\n",
    "\n",
    "fig.add_vline(x=\"2020-03-11\", line_color=\"black\", line_width=3)\n",
    "\n",
    "newnames = {'Representative Topic words Mommit':'r/Mommit monthly', 'Representative Topic words daddit':'r/daddit monthly'\n",
    "            }\n",
    "fig.for_each_trace(lambda t: t.update(name = newnames[t.name],\n",
    "                                    legendgroup = newnames[t.name],\n",
    "                                    hovertemplate = t.hovertemplate.replace(t.name, newnames[t.name])\n",
    "                                    )\n",
    "                )\n",
    "\n",
    "# Set the same y-axis scale for both graphs\n",
    "fig.update_layout(yaxis=dict(range=[0, 80]))\n",
    "\n",
    "# Add vertical line --> start pandemic\n",
    "fig.add_shape(\n",
    "    type=\"line\",\n",
    "    x0=\"2020-03-11\", x1=\"2020-03-11\",\n",
    "    y0=0, y1=2500,\n",
    "    line=dict(color=\"black\", width=2),\n",
    "    name=\"Start of pandemic\"\n",
    ")\n",
    "\n",
    "# Add custom legend items as annotations\n",
    "fig.add_trace(\n",
    "    go.Scatter(\n",
    "        x=[None],\n",
    "        y=[None],\n",
    "        mode='lines',\n",
    "        marker=dict(color=\"black\", size=10),\n",
    "        showlegend=True,\n",
    "        name=\"Start of pandemic\"\n",
    "    )\n",
    ")\n",
    "\n",
    "fig.update_layout(\n",
    "    legend=dict(\n",
    "        title='',\n",
    "        title_font=dict(size=14)\n",
    "    ),\n",
    "    xaxis=dict(\n",
    "        showgrid=True,  # Display x-axis grid lines\n",
    "        gridcolor='lightgrey',  \n",
    "        gridwidth=0.5  \n",
    "    ),\n",
    "    yaxis=dict(\n",
    "        showgrid=True,  # Display y-axis grid lines\n",
    "        gridcolor='lightgrey', \n",
    "        gridwidth=0.5  \n",
    "    )\n",
    ")\n",
    "\n",
    "# Updating layout and axis labels\n",
    "fig.update_layout(\n",
    "    plot_bgcolor='white',\n",
    "    title={\n",
    "        'font': {'size': 32, 'family': 'Calibri'} \n",
    "    },\n",
    "    xaxis_title='Date',\n",
    "    yaxis_title='Posts with home responsibilities (%)',\n",
    "    xaxis={\n",
    "        'tickfont': {'size': 24, 'family': 'Calibri'},  \n",
    "        \"range\":[\"2019-12-01\", \"2022-04-30\"],\n",
    "        \"dtick\":\"M2\",\n",
    "        \"ticklabelmode\":\"period\",\n",
    "        \"tickvals\":[\"2019-12-31\", \"2020-01-31\", \"2020-02-28\", \"2020-03-31\", \"2020-04-30\", \"2021-03-31\", \"2022-03-31\"],\n",
    "        \"rangebreaks\": [\n",
    "            {\"bounds\": [\"2020-06-01\", \"2021-02-28\"]},  \n",
    "            {\"bounds\": [\"2021-05-01\", \"2022-02-28\"]}\n",
    "        ]\n",
    "    },\n",
    "    yaxis={\n",
    "        'title': {'font': {'size': 24, 'family': 'Calibri'}},  \n",
    "        'tickfont': {'size': 24, 'family': 'Calibri'},  \n",
    "        'range': [-1,45]\n",
    "    }\n",
    "    ,\n",
    "\n",
    "        legend=dict(\n",
    "            font=dict(size=18),\n",
    "            traceorder='normal',  # Preserve the order of legend items\n",
    "            itemsizing='trace'  # Adjust the size of legend items based on traces\n",
    "        )\n",
    ")\n",
    "\n",
    "\n",
    "fig.update_xaxes(tickangle= 45)  \n",
    "\n",
    "\n",
    "\n",
    "fig.show()\n"
   ]
  },
  {
   "cell_type": "markdown",
   "metadata": {},
   "source": [
    "Direct posts"
   ]
  },
  {
   "cell_type": "markdown",
   "metadata": {},
   "source": [
    "# Figure 7"
   ]
  },
  {
   "cell_type": "code",
   "execution_count": 28,
   "metadata": {},
   "outputs": [
    {
     "data": {
      "application/vnd.plotly.v1+json": {
       "config": {
        "plotlyServerURL": "https://plot.ly"
       },
       "data": [
        {
         "hovertemplate": "Line=r/Mommit monthly<br>date_time=%{x}<br>share_chores_to_all=%{y}<extra></extra>",
         "legendgroup": "r/Mommit monthly",
         "line": {
          "color": "rgb(241, 133, 54)",
          "dash": "solid"
         },
         "marker": {
          "symbol": "circle"
         },
         "mode": "markers+lines",
         "name": "r/Mommit monthly",
         "orientation": "v",
         "showlegend": true,
         "type": "scatter",
         "x": [
          "2019-12-31",
          "2020-01-31",
          "2020-02-29",
          "2020-03-31",
          "2020-04-30",
          "2021-03-31",
          "2022-03-31"
         ],
         "xaxis": "x",
         "y": [
          19.051,
          16.63,
          15.713,
          18.317,
          18.786,
          17.829,
          18.399
         ],
         "yaxis": "y"
        },
        {
         "hovertemplate": "Line=r/daddit monthly<br>date_time=%{x}<br>share_chores_to_all=%{y}<extra></extra>",
         "legendgroup": "r/daddit monthly",
         "line": {
          "color": "rgb(88, 176, 85)",
          "dash": "solid"
         },
         "marker": {
          "symbol": "circle"
         },
         "mode": "markers+lines",
         "name": "r/daddit monthly",
         "orientation": "v",
         "showlegend": true,
         "type": "scatter",
         "x": [
          "2019-12-31",
          "2020-01-31",
          "2020-02-29",
          "2020-03-31",
          "2020-04-30",
          "2021-03-31",
          "2022-03-31"
         ],
         "xaxis": "x",
         "y": [
          12.94,
          12.867,
          11.963,
          10.996,
          11.058,
          12.305,
          15.224
         ],
         "yaxis": "y"
        },
        {
         "line": {
          "dash": "solid"
         },
         "marker": {
          "color": "black",
          "size": 10
         },
         "mode": "lines",
         "name": "Start of pandemic",
         "showlegend": true,
         "type": "scatter",
         "x": [
          null
         ],
         "y": [
          null
         ]
        }
       ],
       "layout": {
        "height": 500,
        "legend": {
         "font": {
          "size": 18
         },
         "title": {
          "font": {
           "size": 14
          },
          "text": ""
         },
         "tracegroupgap": 0
        },
        "plot_bgcolor": "white",
        "shapes": [
         {
          "line": {
           "color": "black",
           "width": 3
          },
          "type": "line",
          "x0": "2020-03-11",
          "x1": "2020-03-11",
          "xref": "x",
          "y0": 0,
          "y1": 1,
          "yref": "y domain"
         },
         {
          "line": {
           "color": "black",
           "width": 2
          },
          "name": "Start of pandemic",
          "type": "line",
          "x0": "2020-03-11",
          "x1": "2020-03-11",
          "y0": 0,
          "y1": 2500
         }
        ],
        "template": {
         "data": {
          "bar": [
           {
            "error_x": {
             "color": "#2a3f5f"
            },
            "error_y": {
             "color": "#2a3f5f"
            },
            "marker": {
             "line": {
              "color": "#E5ECF6",
              "width": 0.5
             },
             "pattern": {
              "fillmode": "overlay",
              "size": 10,
              "solidity": 0.2
             }
            },
            "type": "bar"
           }
          ],
          "barpolar": [
           {
            "marker": {
             "line": {
              "color": "#E5ECF6",
              "width": 0.5
             },
             "pattern": {
              "fillmode": "overlay",
              "size": 10,
              "solidity": 0.2
             }
            },
            "type": "barpolar"
           }
          ],
          "carpet": [
           {
            "aaxis": {
             "endlinecolor": "#2a3f5f",
             "gridcolor": "white",
             "linecolor": "white",
             "minorgridcolor": "white",
             "startlinecolor": "#2a3f5f"
            },
            "baxis": {
             "endlinecolor": "#2a3f5f",
             "gridcolor": "white",
             "linecolor": "white",
             "minorgridcolor": "white",
             "startlinecolor": "#2a3f5f"
            },
            "type": "carpet"
           }
          ],
          "choropleth": [
           {
            "colorbar": {
             "outlinewidth": 0,
             "ticks": ""
            },
            "type": "choropleth"
           }
          ],
          "contour": [
           {
            "colorbar": {
             "outlinewidth": 0,
             "ticks": ""
            },
            "colorscale": [
             [
              0,
              "#0d0887"
             ],
             [
              0.1111111111111111,
              "#46039f"
             ],
             [
              0.2222222222222222,
              "#7201a8"
             ],
             [
              0.3333333333333333,
              "#9c179e"
             ],
             [
              0.4444444444444444,
              "#bd3786"
             ],
             [
              0.5555555555555556,
              "#d8576b"
             ],
             [
              0.6666666666666666,
              "#ed7953"
             ],
             [
              0.7777777777777778,
              "#fb9f3a"
             ],
             [
              0.8888888888888888,
              "#fdca26"
             ],
             [
              1,
              "#f0f921"
             ]
            ],
            "type": "contour"
           }
          ],
          "contourcarpet": [
           {
            "colorbar": {
             "outlinewidth": 0,
             "ticks": ""
            },
            "type": "contourcarpet"
           }
          ],
          "heatmap": [
           {
            "colorbar": {
             "outlinewidth": 0,
             "ticks": ""
            },
            "colorscale": [
             [
              0,
              "#0d0887"
             ],
             [
              0.1111111111111111,
              "#46039f"
             ],
             [
              0.2222222222222222,
              "#7201a8"
             ],
             [
              0.3333333333333333,
              "#9c179e"
             ],
             [
              0.4444444444444444,
              "#bd3786"
             ],
             [
              0.5555555555555556,
              "#d8576b"
             ],
             [
              0.6666666666666666,
              "#ed7953"
             ],
             [
              0.7777777777777778,
              "#fb9f3a"
             ],
             [
              0.8888888888888888,
              "#fdca26"
             ],
             [
              1,
              "#f0f921"
             ]
            ],
            "type": "heatmap"
           }
          ],
          "heatmapgl": [
           {
            "colorbar": {
             "outlinewidth": 0,
             "ticks": ""
            },
            "colorscale": [
             [
              0,
              "#0d0887"
             ],
             [
              0.1111111111111111,
              "#46039f"
             ],
             [
              0.2222222222222222,
              "#7201a8"
             ],
             [
              0.3333333333333333,
              "#9c179e"
             ],
             [
              0.4444444444444444,
              "#bd3786"
             ],
             [
              0.5555555555555556,
              "#d8576b"
             ],
             [
              0.6666666666666666,
              "#ed7953"
             ],
             [
              0.7777777777777778,
              "#fb9f3a"
             ],
             [
              0.8888888888888888,
              "#fdca26"
             ],
             [
              1,
              "#f0f921"
             ]
            ],
            "type": "heatmapgl"
           }
          ],
          "histogram": [
           {
            "marker": {
             "pattern": {
              "fillmode": "overlay",
              "size": 10,
              "solidity": 0.2
             }
            },
            "type": "histogram"
           }
          ],
          "histogram2d": [
           {
            "colorbar": {
             "outlinewidth": 0,
             "ticks": ""
            },
            "colorscale": [
             [
              0,
              "#0d0887"
             ],
             [
              0.1111111111111111,
              "#46039f"
             ],
             [
              0.2222222222222222,
              "#7201a8"
             ],
             [
              0.3333333333333333,
              "#9c179e"
             ],
             [
              0.4444444444444444,
              "#bd3786"
             ],
             [
              0.5555555555555556,
              "#d8576b"
             ],
             [
              0.6666666666666666,
              "#ed7953"
             ],
             [
              0.7777777777777778,
              "#fb9f3a"
             ],
             [
              0.8888888888888888,
              "#fdca26"
             ],
             [
              1,
              "#f0f921"
             ]
            ],
            "type": "histogram2d"
           }
          ],
          "histogram2dcontour": [
           {
            "colorbar": {
             "outlinewidth": 0,
             "ticks": ""
            },
            "colorscale": [
             [
              0,
              "#0d0887"
             ],
             [
              0.1111111111111111,
              "#46039f"
             ],
             [
              0.2222222222222222,
              "#7201a8"
             ],
             [
              0.3333333333333333,
              "#9c179e"
             ],
             [
              0.4444444444444444,
              "#bd3786"
             ],
             [
              0.5555555555555556,
              "#d8576b"
             ],
             [
              0.6666666666666666,
              "#ed7953"
             ],
             [
              0.7777777777777778,
              "#fb9f3a"
             ],
             [
              0.8888888888888888,
              "#fdca26"
             ],
             [
              1,
              "#f0f921"
             ]
            ],
            "type": "histogram2dcontour"
           }
          ],
          "mesh3d": [
           {
            "colorbar": {
             "outlinewidth": 0,
             "ticks": ""
            },
            "type": "mesh3d"
           }
          ],
          "parcoords": [
           {
            "line": {
             "colorbar": {
              "outlinewidth": 0,
              "ticks": ""
             }
            },
            "type": "parcoords"
           }
          ],
          "pie": [
           {
            "automargin": true,
            "type": "pie"
           }
          ],
          "scatter": [
           {
            "fillpattern": {
             "fillmode": "overlay",
             "size": 10,
             "solidity": 0.2
            },
            "type": "scatter"
           }
          ],
          "scatter3d": [
           {
            "line": {
             "colorbar": {
              "outlinewidth": 0,
              "ticks": ""
             }
            },
            "marker": {
             "colorbar": {
              "outlinewidth": 0,
              "ticks": ""
             }
            },
            "type": "scatter3d"
           }
          ],
          "scattercarpet": [
           {
            "marker": {
             "colorbar": {
              "outlinewidth": 0,
              "ticks": ""
             }
            },
            "type": "scattercarpet"
           }
          ],
          "scattergeo": [
           {
            "marker": {
             "colorbar": {
              "outlinewidth": 0,
              "ticks": ""
             }
            },
            "type": "scattergeo"
           }
          ],
          "scattergl": [
           {
            "marker": {
             "colorbar": {
              "outlinewidth": 0,
              "ticks": ""
             }
            },
            "type": "scattergl"
           }
          ],
          "scattermapbox": [
           {
            "marker": {
             "colorbar": {
              "outlinewidth": 0,
              "ticks": ""
             }
            },
            "type": "scattermapbox"
           }
          ],
          "scatterpolar": [
           {
            "marker": {
             "colorbar": {
              "outlinewidth": 0,
              "ticks": ""
             }
            },
            "type": "scatterpolar"
           }
          ],
          "scatterpolargl": [
           {
            "marker": {
             "colorbar": {
              "outlinewidth": 0,
              "ticks": ""
             }
            },
            "type": "scatterpolargl"
           }
          ],
          "scatterternary": [
           {
            "marker": {
             "colorbar": {
              "outlinewidth": 0,
              "ticks": ""
             }
            },
            "type": "scatterternary"
           }
          ],
          "surface": [
           {
            "colorbar": {
             "outlinewidth": 0,
             "ticks": ""
            },
            "colorscale": [
             [
              0,
              "#0d0887"
             ],
             [
              0.1111111111111111,
              "#46039f"
             ],
             [
              0.2222222222222222,
              "#7201a8"
             ],
             [
              0.3333333333333333,
              "#9c179e"
             ],
             [
              0.4444444444444444,
              "#bd3786"
             ],
             [
              0.5555555555555556,
              "#d8576b"
             ],
             [
              0.6666666666666666,
              "#ed7953"
             ],
             [
              0.7777777777777778,
              "#fb9f3a"
             ],
             [
              0.8888888888888888,
              "#fdca26"
             ],
             [
              1,
              "#f0f921"
             ]
            ],
            "type": "surface"
           }
          ],
          "table": [
           {
            "cells": {
             "fill": {
              "color": "#EBF0F8"
             },
             "line": {
              "color": "white"
             }
            },
            "header": {
             "fill": {
              "color": "#C8D4E3"
             },
             "line": {
              "color": "white"
             }
            },
            "type": "table"
           }
          ]
         },
         "layout": {
          "annotationdefaults": {
           "arrowcolor": "#2a3f5f",
           "arrowhead": 0,
           "arrowwidth": 1
          },
          "autotypenumbers": "strict",
          "coloraxis": {
           "colorbar": {
            "outlinewidth": 0,
            "ticks": ""
           }
          },
          "colorscale": {
           "diverging": [
            [
             0,
             "#8e0152"
            ],
            [
             0.1,
             "#c51b7d"
            ],
            [
             0.2,
             "#de77ae"
            ],
            [
             0.3,
             "#f1b6da"
            ],
            [
             0.4,
             "#fde0ef"
            ],
            [
             0.5,
             "#f7f7f7"
            ],
            [
             0.6,
             "#e6f5d0"
            ],
            [
             0.7,
             "#b8e186"
            ],
            [
             0.8,
             "#7fbc41"
            ],
            [
             0.9,
             "#4d9221"
            ],
            [
             1,
             "#276419"
            ]
           ],
           "sequential": [
            [
             0,
             "#0d0887"
            ],
            [
             0.1111111111111111,
             "#46039f"
            ],
            [
             0.2222222222222222,
             "#7201a8"
            ],
            [
             0.3333333333333333,
             "#9c179e"
            ],
            [
             0.4444444444444444,
             "#bd3786"
            ],
            [
             0.5555555555555556,
             "#d8576b"
            ],
            [
             0.6666666666666666,
             "#ed7953"
            ],
            [
             0.7777777777777778,
             "#fb9f3a"
            ],
            [
             0.8888888888888888,
             "#fdca26"
            ],
            [
             1,
             "#f0f921"
            ]
           ],
           "sequentialminus": [
            [
             0,
             "#0d0887"
            ],
            [
             0.1111111111111111,
             "#46039f"
            ],
            [
             0.2222222222222222,
             "#7201a8"
            ],
            [
             0.3333333333333333,
             "#9c179e"
            ],
            [
             0.4444444444444444,
             "#bd3786"
            ],
            [
             0.5555555555555556,
             "#d8576b"
            ],
            [
             0.6666666666666666,
             "#ed7953"
            ],
            [
             0.7777777777777778,
             "#fb9f3a"
            ],
            [
             0.8888888888888888,
             "#fdca26"
            ],
            [
             1,
             "#f0f921"
            ]
           ]
          },
          "colorway": [
           "#636efa",
           "#EF553B",
           "#00cc96",
           "#ab63fa",
           "#FFA15A",
           "#19d3f3",
           "#FF6692",
           "#B6E880",
           "#FF97FF",
           "#FECB52"
          ],
          "font": {
           "color": "#2a3f5f"
          },
          "geo": {
           "bgcolor": "white",
           "lakecolor": "white",
           "landcolor": "#E5ECF6",
           "showlakes": true,
           "showland": true,
           "subunitcolor": "white"
          },
          "hoverlabel": {
           "align": "left"
          },
          "hovermode": "closest",
          "mapbox": {
           "style": "light"
          },
          "paper_bgcolor": "white",
          "plot_bgcolor": "#E5ECF6",
          "polar": {
           "angularaxis": {
            "gridcolor": "white",
            "linecolor": "white",
            "ticks": ""
           },
           "bgcolor": "#E5ECF6",
           "radialaxis": {
            "gridcolor": "white",
            "linecolor": "white",
            "ticks": ""
           }
          },
          "scene": {
           "xaxis": {
            "backgroundcolor": "#E5ECF6",
            "gridcolor": "white",
            "gridwidth": 2,
            "linecolor": "white",
            "showbackground": true,
            "ticks": "",
            "zerolinecolor": "white"
           },
           "yaxis": {
            "backgroundcolor": "#E5ECF6",
            "gridcolor": "white",
            "gridwidth": 2,
            "linecolor": "white",
            "showbackground": true,
            "ticks": "",
            "zerolinecolor": "white"
           },
           "zaxis": {
            "backgroundcolor": "#E5ECF6",
            "gridcolor": "white",
            "gridwidth": 2,
            "linecolor": "white",
            "showbackground": true,
            "ticks": "",
            "zerolinecolor": "white"
           }
          },
          "shapedefaults": {
           "line": {
            "color": "#2a3f5f"
           }
          },
          "ternary": {
           "aaxis": {
            "gridcolor": "white",
            "linecolor": "white",
            "ticks": ""
           },
           "baxis": {
            "gridcolor": "white",
            "linecolor": "white",
            "ticks": ""
           },
           "bgcolor": "#E5ECF6",
           "caxis": {
            "gridcolor": "white",
            "linecolor": "white",
            "ticks": ""
           }
          },
          "title": {
           "x": 0.05
          },
          "xaxis": {
           "automargin": true,
           "gridcolor": "white",
           "linecolor": "white",
           "ticks": "",
           "title": {
            "standoff": 15
           },
           "zerolinecolor": "white",
           "zerolinewidth": 2
          },
          "yaxis": {
           "automargin": true,
           "gridcolor": "white",
           "linecolor": "white",
           "ticks": "",
           "title": {
            "standoff": 15
           },
           "zerolinecolor": "white",
           "zerolinewidth": 2
          }
         }
        },
        "title": {
         "font": {
          "family": "Calibri",
          "size": 32
         },
         "text": "Share of posts with home responsibilites"
        },
        "width": 1200,
        "xaxis": {
         "anchor": "y",
         "domain": [
          0,
          1
         ],
         "dtick": "M2",
         "gridcolor": "lightgrey",
         "gridwidth": 0.5,
         "range": [
          "2019-12-01",
          "2022-04-30"
         ],
         "rangebreaks": [
          {
           "bounds": [
            "2020-06-01",
            "2021-02-28"
           ]
          },
          {
           "bounds": [
            "2021-05-01",
            "2022-02-28"
           ]
          }
         ],
         "showgrid": true,
         "tickfont": {
          "family": "Calibri",
          "size": 24
         },
         "ticklabelmode": "period",
         "tickvals": [
          "2019-12-31",
          "2020-01-31",
          "2020-02-28",
          "2020-03-31",
          "2020-04-30",
          "2021-03-31",
          "2022-03-31"
         ],
         "title": {
          "text": ""
         }
        },
        "yaxis": {
         "anchor": "x",
         "domain": [
          0,
          1
         ],
         "gridcolor": "lightgrey",
         "gridwidth": 0.5,
         "range": [
          -1,
          45
         ],
         "showgrid": true,
         "tickfont": {
          "family": "Calibri",
          "size": 24
         },
         "title": {
          "font": {
           "family": "Calibri",
           "size": 24
          },
          "text": "Frequency in %"
         }
        }
       }
      }
     },
     "metadata": {},
     "output_type": "display_data"
    }
   ],
   "source": [
    "colors=[\"rgb(241, 133, 54)\", \"rgb(88, 176, 85)\"]\n",
    "line_styles = ['solid','solid']\n",
    "\n",
    "fig = px.line(concate[concate[\"type\"]==\"Posting \"], x='date_time', y='share_chores_to_all', color=\"Line\", height=500, width=1200,\n",
    "              title=\"Share of posts with home responsibilites\",\n",
    "              color_discrete_sequence=colors, markers=True)\n",
    "newnames = {'Posting Mommit':'r/Mommit monthly', 'Posting daddit':'r/daddit monthly'}\n",
    "fig.for_each_trace(lambda t: t.update(name = newnames[t.name],\n",
    "                                    legendgroup = newnames[t.name],\n",
    "                                    hovertemplate = t.hovertemplate.replace(t.name, newnames[t.name])\n",
    "                                    )\n",
    "                )\n",
    "\n",
    "\n",
    "fig.add_vline(x=\"2020-03-11\", line_color=\"black\", line_width=3)\n",
    "\n",
    "# Set the same y-axis scale for both graphs\n",
    "fig.update_layout(yaxis=dict(range=[0, 80]))\n",
    "\n",
    "    # Add vertical line --> start pandemic\n",
    "fig.add_shape(\n",
    "    type=\"line\",\n",
    "    x0=\"2020-03-11\", x1=\"2020-03-11\",\n",
    "    y0=0, y1=2500,\n",
    "    line=dict(color=\"black\", width=2),\n",
    "    name=\"Start of pandemic\"\n",
    ")\n",
    "\n",
    "# Add custom legend items as annotations\n",
    "fig.add_trace(\n",
    "    go.Scatter(\n",
    "        x=[None],\n",
    "        y=[None],\n",
    "        mode='lines',\n",
    "        marker=dict(color=\"black\", size=10),\n",
    "        line=dict(dash=line_styles[0]),  # Set line style from line_styles list\n",
    "\n",
    "        showlegend=True,\n",
    "        name=\"Start of pandemic\"\n",
    "    )\n",
    ")\n",
    "\n",
    "fig.update_layout(\n",
    "    legend=dict(\n",
    "        title='',\n",
    "        title_font=dict(size=14),\n",
    "        font=dict(size=18),\n",
    "\n",
    "    ),\n",
    "    xaxis=dict(\n",
    "        showgrid=True,  # Display x-axis grid lines\n",
    "        gridcolor='lightgrey',  \n",
    "        gridwidth=0.5  \n",
    "    ),\n",
    "    yaxis=dict(\n",
    "        showgrid=True,  # Display y-axis grid lines\n",
    "        gridcolor='lightgrey', \n",
    "        gridwidth=0.5 \n",
    "    )\n",
    ")\n",
    "\n",
    "# Updating layout and axis labels\n",
    "fig.update_layout(\n",
    "    plot_bgcolor='white',\n",
    "    title={\n",
    "        'font': {'size': 32, 'family': 'Calibri'} \n",
    "    },\n",
    "    xaxis_title='Date',\n",
    "    yaxis_title='Frequency in %',\n",
    "    xaxis={\n",
    "        'title':\"\", #{'font': {'size': 24, 'family': 'Calibri'}}, \n",
    "        'tickfont': {'size': 24, 'family': 'Calibri'},  \n",
    "        \"range\":[\"2019-12-01\", \"2022-04-30\"],\n",
    "        \"dtick\":\"M2\",\n",
    "        \"ticklabelmode\":\"period\",\n",
    "        \"tickvals\":[\"2019-12-31\", \"2020-01-31\", \"2020-02-28\", \"2020-03-31\", \"2020-04-30\", \"2021-03-31\", \"2022-03-31\"],\n",
    "        \"rangebreaks\": [\n",
    "            {\"bounds\": [\"2020-06-01\", \"2021-02-28\"]},  \n",
    "            {\"bounds\": [\"2021-05-01\", \"2022-02-28\"]}\n",
    "        ]\n",
    "    },\n",
    "    yaxis={\n",
    "        'title': {'font': {'size': 24, 'family': 'Calibri'}}, \n",
    "        'tickfont': {'size': 24, 'family': 'Calibri'},\n",
    "        'range': [-1,45]\n",
    "    }\n",
    "        \n",
    ")\n",
    "\n",
    "#fig.update_traces(patch={\"line\": {\"color\": \"rgba(88, 176, 95, 0.50)\", \"width\": 2.5, \"dash\": 'dot'}}, selector={\"legendgroup\": \"r/daddit weekly\"}) \n",
    "\n",
    "fig.show()"
   ]
  },
  {
   "cell_type": "code",
   "execution_count": null,
   "metadata": {},
   "outputs": [],
   "source": [
    "data_figure_4=concate[concate[\"type\"]==\"Representative Topic words \"]\n",
    "data_figure_4.to_parquet(\"monthly_figure4.parquet\")\n",
    "\n",
    "data_figure_7=concate[concate[\"type\"]==\"Posting \"]\n",
    "data_figure_7.to_parquet(\"monthly_figure7.parquet\")"
   ]
  },
  {
   "cell_type": "markdown",
   "metadata": {},
   "source": [
    "## Average values per time period\n",
    "\n",
    "get average per time period, subreddit and analytical approach\n",
    "\n",
    "- add standard deviation "
   ]
  },
  {
   "cell_type": "code",
   "execution_count": 11,
   "metadata": {},
   "outputs": [],
   "source": [
    "def average_timeframe(df, start, end, type, subreddit):\n",
    "    \"\"\"create average value per time period of interest\n",
    "    Args:\n",
    "        - df\n",
    "        - start = start point\n",
    "        - end = end point\n",
    "        - type = which approach (topics or post)\n",
    "        - subreddit = which subreddit    \n",
    "    \"\"\"\n",
    "    timeframe = df[\n",
    "        (df[\"date_time\"] >= start) & (df[\"date_time\"] < end)\n",
    "    ]\n",
    "\n",
    "    timeframe_type=timeframe[timeframe[\"type\"]==type]\n",
    "\n",
    "    # filter the weekly data from the all_together dataframe\n",
    "    timeframe_weekly=timeframe_type[timeframe_type[\"group\"]==\"weekly\"]\n",
    "\n",
    "    timeframe_subreddit=timeframe_weekly[timeframe_weekly[\"subreddit\"]==subreddit]\n",
    "\n",
    "    average=timeframe_subreddit[\"share_chores_to_all\"].mean()\n",
    "    std=timeframe_subreddit[\"share_chores_to_all\"].std()\n",
    "    return average, std"
   ]
  },
  {
   "cell_type": "code",
   "execution_count": 12,
   "metadata": {},
   "outputs": [],
   "source": [
    "# start of pandemic March March 11 to end of April 2020\n",
    "average_mommit_posting, std_mommit_posting=average_timeframe(all_together, \"2020-03-11\", \"2021-01-01\", \"Posting \", \"Mommit\")\n",
    "average_mommit_topic,std_mommit_topic =average_timeframe(all_together, \"2020-03-11\", \"2021-01-01\", \"Representative Topic words \", \"Mommit\")\n",
    "average_daddit_posting,std_daddit_posting =average_timeframe(all_together, \"2020-03-11\", \"2021-01-01\", \"Posting \", \"daddit\")\n",
    "average_daddit_topic, std_daddit_topic=average_timeframe(all_together, \"2020-03-11\", \"2021-01-01\", \"Representative Topic words \", \"daddit\")\n",
    "\n",
    "\n",
    "immediate_covid=[average_daddit_topic, average_daddit_posting, average_mommit_topic,average_mommit_posting]\n",
    "immediate_covid_std=[std_daddit_topic, std_daddit_posting, std_mommit_topic, std_mommit_posting]"
   ]
  },
  {
   "cell_type": "code",
   "execution_count": 13,
   "metadata": {},
   "outputs": [],
   "source": [
    "# before covid time span  \n",
    "pre_pandemic= all_together[all_together[\"date_time\"] < \"2020-03-11\"]\n",
    "average_mommit_posting_pre, std_mommit_posting_pre=average_timeframe(all_together, \"2019-01-01\", \"2020-03-10\", \"Posting \", \"Mommit\")\n",
    "average_mommit_topic_pre, std_mommit_topic_pre=average_timeframe(all_together, \"2019-01-01\", \"2020-03-10\", \"Representative Topic words \", \"Mommit\")\n",
    "average_daddit_posting_pre, std_daddit_posting_pre=average_timeframe(all_together, \"2019-01-01\", \"2020-03-10\", \"Posting \", \"daddit\")\n",
    "average_daddit_topic_pre, std_daddit_topic_pre=average_timeframe(all_together, \"2019-01-01\", \"2020-03-10\", \"Representative Topic words \", \"daddit\")\n",
    "\n",
    "pre_covid=[average_daddit_topic_pre, average_daddit_posting_pre,average_mommit_topic_pre, average_mommit_posting_pre]\n",
    "pre_covid_std=[std_daddit_topic_pre, std_daddit_posting_pre, std_mommit_topic_pre, std_mommit_posting_pre]"
   ]
  },
  {
   "cell_type": "code",
   "execution_count": 14,
   "metadata": {},
   "outputs": [],
   "source": [
    "#  march 2021 \n",
    "average_mommit_posting_21, std_mommit_posting_21=average_timeframe(all_together, \"2021-01-01\", \"2022-01-01\", \"Posting \", \"Mommit\")\n",
    "average_mommit_topic_21, std_mommit_topic_21=average_timeframe(all_together, \"2021-01-01\", \"2022-01-01\", \"Representative Topic words \", \"Mommit\")\n",
    "average_daddit_posting_21, std_daddit_posting_21=average_timeframe(all_together, \"2021-01-01\", \"2022-01-01\", \"Posting \", \"daddit\")\n",
    "average_daddit_topic_21, std_daddit_topic_21=average_timeframe(all_together,  \"2021-01-01\", \"2022-01-01\", \"Representative Topic words \", \"daddit\")\n",
    "\n",
    "march21=[average_daddit_topic_21, average_daddit_posting_21,average_mommit_topic_21, average_mommit_posting_21]\n",
    "march21_std=[std_daddit_topic_21, std_daddit_posting_21, std_mommit_topic_21,std_mommit_posting_21]"
   ]
  },
  {
   "cell_type": "code",
   "execution_count": 15,
   "metadata": {},
   "outputs": [],
   "source": [
    "# march 2022\n",
    "average_mommit_posting_22, std_mommit_posting_22=average_timeframe(all_together, \"2022-01-01\", \"2022-12-12\", \"Posting \", \"Mommit\")\n",
    "average_mommit_topic_22, std_mommit_topic_22=average_timeframe(all_together, \"2022-01-01\", \"2022-12-12\", \"Representative Topic words \", \"Mommit\")\n",
    "\n",
    "average_daddit_posting_22, std_daddit_posting_22=average_timeframe(all_together, \"2022-01-01\", \"2022-12-12\", \"Posting \", \"daddit\")\n",
    "average_daddit_topic_22, std_daddit_topic_22=average_timeframe(all_together,  \"2022-01-01\", \"2022-12-12\", \"Representative Topic words \", \"daddit\")\n",
    "\n",
    "march22=[average_daddit_topic_22, average_daddit_posting_22,average_mommit_topic_22, average_mommit_posting_22]\n",
    "march22_std=[std_daddit_topic_22, std_daddit_posting_22, std_mommit_topic_22, std_mommit_posting_22 ]"
   ]
  },
  {
   "cell_type": "markdown",
   "metadata": {},
   "source": [
    "plot averages per time period"
   ]
  },
  {
   "cell_type": "code",
   "execution_count": 16,
   "metadata": {},
   "outputs": [
    {
     "data": {
      "application/vnd.plotly.v1+json": {
       "config": {
        "plotlyServerURL": "https://plot.ly"
       },
       "data": [
        {
         "error_y": {
          "array": [
           2.9301154995180476,
           1.187666287104172,
           4.084499787932593,
           6.360811492105016
          ],
          "type": "data",
          "visible": true
         },
         "insidetextanchor": "start",
         "marker": {
          "color": "rgba(136, 136, 136, 0.8)"
         },
         "name": "Average pre-COVID",
         "text": [
          "17.8988756169876",
          "12.346933333333334",
          "33.89054888925215",
          "18.73186666666667"
         ],
         "textangle": -45,
         "textfont": {
          "color": "black",
          "size": 18
         },
         "textposition": "inside",
         "texttemplate": "%{text:.2f}",
         "type": "bar",
         "x": [
          "r/daddit topics",
          "r/daddit direct post",
          "r/Mommit topics",
          "r/Mommit direct post"
         ],
         "y": [
          17.8988756169876,
          12.346933333333334,
          33.89054888925215,
          18.73186666666667
         ]
        },
        {
         "error_y": {
          "array": [
           1.3572624689074972,
           1.0409812678429902,
           4.9090509742815165,
           1.8120588921366292
          ],
          "type": "data",
          "visible": true
         },
         "insidetextanchor": "start",
         "marker": {
          "color": "rgba(155, 0, 0, 0.8)"
         },
         "name": "Average COVID-start",
         "text": [
          "16.28397890142402",
          "10.9955",
          "35.649545772004615",
          "18.2875"
         ],
         "textangle": -45,
         "textfont": {
          "color": "black",
          "size": 18
         },
         "textposition": "inside",
         "texttemplate": "%{text:.2f}",
         "type": "bar",
         "x": [
          "r/daddit topics",
          "r/daddit direct post",
          "r/Mommit topics",
          "r/Mommit direct post"
         ],
         "y": [
          16.28397890142402,
          10.9955,
          35.649545772004615,
          18.2875
         ]
        },
        {
         "error_y": {
          "array": [
           2.3513832618496613,
           1.1676805213756034,
           5.733352915989562,
           2.635654321036809
          ],
          "type": "data",
          "visible": true
         },
         "insidetextanchor": "start",
         "marker": {
          "color": "rgba(255, 165, 128, 0.8)"
         },
         "name": "Average March 2021",
         "text": [
          "16.899668801709772",
          "12.311599999999999",
          "28.88055035284821",
          "18.0988"
         ],
         "textangle": -45,
         "textfont": {
          "color": "black",
          "size": 18
         },
         "textposition": "inside",
         "texttemplate": "%{text:.2f}",
         "type": "bar",
         "x": [
          "r/daddit topics",
          "r/daddit direct post",
          "r/Mommit topics",
          "r/Mommit direct post"
         ],
         "y": [
          16.899668801709772,
          12.311599999999999,
          28.88055035284821,
          18.0988
         ]
        },
        {
         "error_y": {
          "array": [
           4.99188528293603,
           2.2559419762041752,
           3.1147256175763904,
           2.2850360391031033
          ],
          "type": "data",
          "visible": true
         },
         "insidetextanchor": "start",
         "marker": {
          "color": "rgba(0, 128, 128, 0.8)"
         },
         "name": "Average March 2022",
         "text": [
          "20.523871884971577",
          "14.966800000000001",
          "30.131060617572228",
          "18.808799999999998"
         ],
         "textangle": -45,
         "textfont": {
          "color": "black",
          "size": 18
         },
         "textposition": "inside",
         "texttemplate": "%{text:.2f}",
         "type": "bar",
         "x": [
          "r/daddit topics",
          "r/daddit direct post",
          "r/Mommit topics",
          "r/Mommit direct post"
         ],
         "y": [
          20.523871884971577,
          14.966800000000001,
          30.131060617572228,
          18.808799999999998
         ]
        }
       ],
       "layout": {
        "barmode": "group",
        "height": 850,
        "legend": {
         "font": {
          "family": "Calibri",
          "size": 28
         },
         "title": {
          "font": {
           "family": "Calibri",
           "size": 30
          },
          "text": "Time Periods"
         }
        },
        "margin": {
         "b": 100,
         "t": 200
        },
        "plot_bgcolor": "white",
        "template": {
         "data": {
          "bar": [
           {
            "error_x": {
             "color": "#2a3f5f"
            },
            "error_y": {
             "color": "#2a3f5f"
            },
            "marker": {
             "line": {
              "color": "#E5ECF6",
              "width": 0.5
             },
             "pattern": {
              "fillmode": "overlay",
              "size": 10,
              "solidity": 0.2
             }
            },
            "type": "bar"
           }
          ],
          "barpolar": [
           {
            "marker": {
             "line": {
              "color": "#E5ECF6",
              "width": 0.5
             },
             "pattern": {
              "fillmode": "overlay",
              "size": 10,
              "solidity": 0.2
             }
            },
            "type": "barpolar"
           }
          ],
          "carpet": [
           {
            "aaxis": {
             "endlinecolor": "#2a3f5f",
             "gridcolor": "white",
             "linecolor": "white",
             "minorgridcolor": "white",
             "startlinecolor": "#2a3f5f"
            },
            "baxis": {
             "endlinecolor": "#2a3f5f",
             "gridcolor": "white",
             "linecolor": "white",
             "minorgridcolor": "white",
             "startlinecolor": "#2a3f5f"
            },
            "type": "carpet"
           }
          ],
          "choropleth": [
           {
            "colorbar": {
             "outlinewidth": 0,
             "ticks": ""
            },
            "type": "choropleth"
           }
          ],
          "contour": [
           {
            "colorbar": {
             "outlinewidth": 0,
             "ticks": ""
            },
            "colorscale": [
             [
              0,
              "#0d0887"
             ],
             [
              0.1111111111111111,
              "#46039f"
             ],
             [
              0.2222222222222222,
              "#7201a8"
             ],
             [
              0.3333333333333333,
              "#9c179e"
             ],
             [
              0.4444444444444444,
              "#bd3786"
             ],
             [
              0.5555555555555556,
              "#d8576b"
             ],
             [
              0.6666666666666666,
              "#ed7953"
             ],
             [
              0.7777777777777778,
              "#fb9f3a"
             ],
             [
              0.8888888888888888,
              "#fdca26"
             ],
             [
              1,
              "#f0f921"
             ]
            ],
            "type": "contour"
           }
          ],
          "contourcarpet": [
           {
            "colorbar": {
             "outlinewidth": 0,
             "ticks": ""
            },
            "type": "contourcarpet"
           }
          ],
          "heatmap": [
           {
            "colorbar": {
             "outlinewidth": 0,
             "ticks": ""
            },
            "colorscale": [
             [
              0,
              "#0d0887"
             ],
             [
              0.1111111111111111,
              "#46039f"
             ],
             [
              0.2222222222222222,
              "#7201a8"
             ],
             [
              0.3333333333333333,
              "#9c179e"
             ],
             [
              0.4444444444444444,
              "#bd3786"
             ],
             [
              0.5555555555555556,
              "#d8576b"
             ],
             [
              0.6666666666666666,
              "#ed7953"
             ],
             [
              0.7777777777777778,
              "#fb9f3a"
             ],
             [
              0.8888888888888888,
              "#fdca26"
             ],
             [
              1,
              "#f0f921"
             ]
            ],
            "type": "heatmap"
           }
          ],
          "heatmapgl": [
           {
            "colorbar": {
             "outlinewidth": 0,
             "ticks": ""
            },
            "colorscale": [
             [
              0,
              "#0d0887"
             ],
             [
              0.1111111111111111,
              "#46039f"
             ],
             [
              0.2222222222222222,
              "#7201a8"
             ],
             [
              0.3333333333333333,
              "#9c179e"
             ],
             [
              0.4444444444444444,
              "#bd3786"
             ],
             [
              0.5555555555555556,
              "#d8576b"
             ],
             [
              0.6666666666666666,
              "#ed7953"
             ],
             [
              0.7777777777777778,
              "#fb9f3a"
             ],
             [
              0.8888888888888888,
              "#fdca26"
             ],
             [
              1,
              "#f0f921"
             ]
            ],
            "type": "heatmapgl"
           }
          ],
          "histogram": [
           {
            "marker": {
             "pattern": {
              "fillmode": "overlay",
              "size": 10,
              "solidity": 0.2
             }
            },
            "type": "histogram"
           }
          ],
          "histogram2d": [
           {
            "colorbar": {
             "outlinewidth": 0,
             "ticks": ""
            },
            "colorscale": [
             [
              0,
              "#0d0887"
             ],
             [
              0.1111111111111111,
              "#46039f"
             ],
             [
              0.2222222222222222,
              "#7201a8"
             ],
             [
              0.3333333333333333,
              "#9c179e"
             ],
             [
              0.4444444444444444,
              "#bd3786"
             ],
             [
              0.5555555555555556,
              "#d8576b"
             ],
             [
              0.6666666666666666,
              "#ed7953"
             ],
             [
              0.7777777777777778,
              "#fb9f3a"
             ],
             [
              0.8888888888888888,
              "#fdca26"
             ],
             [
              1,
              "#f0f921"
             ]
            ],
            "type": "histogram2d"
           }
          ],
          "histogram2dcontour": [
           {
            "colorbar": {
             "outlinewidth": 0,
             "ticks": ""
            },
            "colorscale": [
             [
              0,
              "#0d0887"
             ],
             [
              0.1111111111111111,
              "#46039f"
             ],
             [
              0.2222222222222222,
              "#7201a8"
             ],
             [
              0.3333333333333333,
              "#9c179e"
             ],
             [
              0.4444444444444444,
              "#bd3786"
             ],
             [
              0.5555555555555556,
              "#d8576b"
             ],
             [
              0.6666666666666666,
              "#ed7953"
             ],
             [
              0.7777777777777778,
              "#fb9f3a"
             ],
             [
              0.8888888888888888,
              "#fdca26"
             ],
             [
              1,
              "#f0f921"
             ]
            ],
            "type": "histogram2dcontour"
           }
          ],
          "mesh3d": [
           {
            "colorbar": {
             "outlinewidth": 0,
             "ticks": ""
            },
            "type": "mesh3d"
           }
          ],
          "parcoords": [
           {
            "line": {
             "colorbar": {
              "outlinewidth": 0,
              "ticks": ""
             }
            },
            "type": "parcoords"
           }
          ],
          "pie": [
           {
            "automargin": true,
            "type": "pie"
           }
          ],
          "scatter": [
           {
            "fillpattern": {
             "fillmode": "overlay",
             "size": 10,
             "solidity": 0.2
            },
            "type": "scatter"
           }
          ],
          "scatter3d": [
           {
            "line": {
             "colorbar": {
              "outlinewidth": 0,
              "ticks": ""
             }
            },
            "marker": {
             "colorbar": {
              "outlinewidth": 0,
              "ticks": ""
             }
            },
            "type": "scatter3d"
           }
          ],
          "scattercarpet": [
           {
            "marker": {
             "colorbar": {
              "outlinewidth": 0,
              "ticks": ""
             }
            },
            "type": "scattercarpet"
           }
          ],
          "scattergeo": [
           {
            "marker": {
             "colorbar": {
              "outlinewidth": 0,
              "ticks": ""
             }
            },
            "type": "scattergeo"
           }
          ],
          "scattergl": [
           {
            "marker": {
             "colorbar": {
              "outlinewidth": 0,
              "ticks": ""
             }
            },
            "type": "scattergl"
           }
          ],
          "scattermapbox": [
           {
            "marker": {
             "colorbar": {
              "outlinewidth": 0,
              "ticks": ""
             }
            },
            "type": "scattermapbox"
           }
          ],
          "scatterpolar": [
           {
            "marker": {
             "colorbar": {
              "outlinewidth": 0,
              "ticks": ""
             }
            },
            "type": "scatterpolar"
           }
          ],
          "scatterpolargl": [
           {
            "marker": {
             "colorbar": {
              "outlinewidth": 0,
              "ticks": ""
             }
            },
            "type": "scatterpolargl"
           }
          ],
          "scatterternary": [
           {
            "marker": {
             "colorbar": {
              "outlinewidth": 0,
              "ticks": ""
             }
            },
            "type": "scatterternary"
           }
          ],
          "surface": [
           {
            "colorbar": {
             "outlinewidth": 0,
             "ticks": ""
            },
            "colorscale": [
             [
              0,
              "#0d0887"
             ],
             [
              0.1111111111111111,
              "#46039f"
             ],
             [
              0.2222222222222222,
              "#7201a8"
             ],
             [
              0.3333333333333333,
              "#9c179e"
             ],
             [
              0.4444444444444444,
              "#bd3786"
             ],
             [
              0.5555555555555556,
              "#d8576b"
             ],
             [
              0.6666666666666666,
              "#ed7953"
             ],
             [
              0.7777777777777778,
              "#fb9f3a"
             ],
             [
              0.8888888888888888,
              "#fdca26"
             ],
             [
              1,
              "#f0f921"
             ]
            ],
            "type": "surface"
           }
          ],
          "table": [
           {
            "cells": {
             "fill": {
              "color": "#EBF0F8"
             },
             "line": {
              "color": "white"
             }
            },
            "header": {
             "fill": {
              "color": "#C8D4E3"
             },
             "line": {
              "color": "white"
             }
            },
            "type": "table"
           }
          ]
         },
         "layout": {
          "annotationdefaults": {
           "arrowcolor": "#2a3f5f",
           "arrowhead": 0,
           "arrowwidth": 1
          },
          "autotypenumbers": "strict",
          "coloraxis": {
           "colorbar": {
            "outlinewidth": 0,
            "ticks": ""
           }
          },
          "colorscale": {
           "diverging": [
            [
             0,
             "#8e0152"
            ],
            [
             0.1,
             "#c51b7d"
            ],
            [
             0.2,
             "#de77ae"
            ],
            [
             0.3,
             "#f1b6da"
            ],
            [
             0.4,
             "#fde0ef"
            ],
            [
             0.5,
             "#f7f7f7"
            ],
            [
             0.6,
             "#e6f5d0"
            ],
            [
             0.7,
             "#b8e186"
            ],
            [
             0.8,
             "#7fbc41"
            ],
            [
             0.9,
             "#4d9221"
            ],
            [
             1,
             "#276419"
            ]
           ],
           "sequential": [
            [
             0,
             "#0d0887"
            ],
            [
             0.1111111111111111,
             "#46039f"
            ],
            [
             0.2222222222222222,
             "#7201a8"
            ],
            [
             0.3333333333333333,
             "#9c179e"
            ],
            [
             0.4444444444444444,
             "#bd3786"
            ],
            [
             0.5555555555555556,
             "#d8576b"
            ],
            [
             0.6666666666666666,
             "#ed7953"
            ],
            [
             0.7777777777777778,
             "#fb9f3a"
            ],
            [
             0.8888888888888888,
             "#fdca26"
            ],
            [
             1,
             "#f0f921"
            ]
           ],
           "sequentialminus": [
            [
             0,
             "#0d0887"
            ],
            [
             0.1111111111111111,
             "#46039f"
            ],
            [
             0.2222222222222222,
             "#7201a8"
            ],
            [
             0.3333333333333333,
             "#9c179e"
            ],
            [
             0.4444444444444444,
             "#bd3786"
            ],
            [
             0.5555555555555556,
             "#d8576b"
            ],
            [
             0.6666666666666666,
             "#ed7953"
            ],
            [
             0.7777777777777778,
             "#fb9f3a"
            ],
            [
             0.8888888888888888,
             "#fdca26"
            ],
            [
             1,
             "#f0f921"
            ]
           ]
          },
          "colorway": [
           "#636efa",
           "#EF553B",
           "#00cc96",
           "#ab63fa",
           "#FFA15A",
           "#19d3f3",
           "#FF6692",
           "#B6E880",
           "#FF97FF",
           "#FECB52"
          ],
          "font": {
           "color": "#2a3f5f"
          },
          "geo": {
           "bgcolor": "white",
           "lakecolor": "white",
           "landcolor": "#E5ECF6",
           "showlakes": true,
           "showland": true,
           "subunitcolor": "white"
          },
          "hoverlabel": {
           "align": "left"
          },
          "hovermode": "closest",
          "mapbox": {
           "style": "light"
          },
          "paper_bgcolor": "white",
          "plot_bgcolor": "#E5ECF6",
          "polar": {
           "angularaxis": {
            "gridcolor": "white",
            "linecolor": "white",
            "ticks": ""
           },
           "bgcolor": "#E5ECF6",
           "radialaxis": {
            "gridcolor": "white",
            "linecolor": "white",
            "ticks": ""
           }
          },
          "scene": {
           "xaxis": {
            "backgroundcolor": "#E5ECF6",
            "gridcolor": "white",
            "gridwidth": 2,
            "linecolor": "white",
            "showbackground": true,
            "ticks": "",
            "zerolinecolor": "white"
           },
           "yaxis": {
            "backgroundcolor": "#E5ECF6",
            "gridcolor": "white",
            "gridwidth": 2,
            "linecolor": "white",
            "showbackground": true,
            "ticks": "",
            "zerolinecolor": "white"
           },
           "zaxis": {
            "backgroundcolor": "#E5ECF6",
            "gridcolor": "white",
            "gridwidth": 2,
            "linecolor": "white",
            "showbackground": true,
            "ticks": "",
            "zerolinecolor": "white"
           }
          },
          "shapedefaults": {
           "line": {
            "color": "#2a3f5f"
           }
          },
          "ternary": {
           "aaxis": {
            "gridcolor": "white",
            "linecolor": "white",
            "ticks": ""
           },
           "baxis": {
            "gridcolor": "white",
            "linecolor": "white",
            "ticks": ""
           },
           "bgcolor": "#E5ECF6",
           "caxis": {
            "gridcolor": "white",
            "linecolor": "white",
            "ticks": ""
           }
          },
          "title": {
           "x": 0.05
          },
          "xaxis": {
           "automargin": true,
           "gridcolor": "white",
           "linecolor": "white",
           "ticks": "",
           "title": {
            "standoff": 15
           },
           "zerolinecolor": "white",
           "zerolinewidth": 2
          },
          "yaxis": {
           "automargin": true,
           "gridcolor": "white",
           "linecolor": "white",
           "ticks": "",
           "title": {
            "standoff": 15
           },
           "zerolinecolor": "white",
           "zerolinewidth": 2
          }
         }
        },
        "title": {
         "font": {
          "family": "Calibri",
          "size": 40
         },
         "text": "Weekly Average Posts on Home Responsibilities by Time Period<br>(with Standard Deviations)"
        },
        "width": 1500,
        "xaxis": {
         "gridcolor": "lightgrey",
         "gridwidth": 0.5,
         "showgrid": true,
         "tickfont": {
          "family": "Calibri",
          "size": 30
         }
        },
        "yaxis": {
         "gridcolor": "lightgrey",
         "gridwidth": 0.5,
         "range": [
          -3,
          45
         ],
         "showgrid": true,
         "tickfont": {
          "family": "Calibri",
          "size": 30
         },
         "title": {
          "font": {
           "family": "Calibri",
           "size": 30
          },
          "text": "Frequency in %"
         }
        }
       }
      }
     },
     "metadata": {},
     "output_type": "display_data"
    }
   ],
   "source": [
    "# Data\n",
    "categories = ['r/daddit topics', 'r/daddit direct post', 'r/Mommit topics', 'r/Mommit direct post']\n",
    "pre_covid_avg = pre_covid \n",
    "pre_covid_std = pre_covid_std\n",
    "\n",
    "immediate_covid = immediate_covid\n",
    "immediate_covid_std= immediate_covid_std\n",
    "\n",
    "march_2021 = march21\n",
    "march21_std = march21_std\n",
    "\n",
    "march_2022 = march22 \n",
    "march22_std = march22_std\n",
    "\n",
    "# Colors\n",
    "#colors = [\"#888888\", \"#9B0000\", \"#FFA580\", \"#008080\"]  \n",
    "colors = [\"rgba(136, 136, 136, 0.8)\", \"rgba(155, 0, 0, 0.8)\", \"rgba(255, 165, 128, 0.8)\", \"rgba(0, 128, 128, 0.8)\"]\n",
    "\n",
    "# Create traces for each time period\n",
    "trace_pre_covid = go.Bar(\n",
    "    x=categories,\n",
    "    y=pre_covid_avg,\n",
    "    text=pre_covid_avg,\n",
    "    name='Average pre-COVID',\n",
    "    texttemplate='%{text:.2f}',\n",
    "    textposition='inside',\n",
    "    textangle=-45,  # Tilt the text by 45 degrees\n",
    "    insidetextanchor='start',  # Position text at the bottom inside the bar\n",
    "\n",
    "    marker=dict(color=colors[0]),\n",
    "    textfont=dict(size=18, color=\"black\"),\n",
    "    error_y=dict(type='data', array=pre_covid_std, visible=True)\n",
    "\n",
    ")\n",
    "\n",
    "\n",
    "trace_immediate_covid = go.Bar(\n",
    "    x=categories,\n",
    "    y=immediate_covid,\n",
    "    text=immediate_covid,\n",
    "    name='Average COVID-start',\n",
    "    texttemplate='%{text:.2f}',\n",
    "    textposition='inside',\n",
    "    textangle=-45,  # Tilt the text by 45 degrees\n",
    "    insidetextanchor='start',  # Position text at the bottom inside the bar\n",
    "    marker=dict(color=colors[1]),\n",
    "    textfont=dict(size=18, color=\"black\"),\n",
    "    error_y=dict(type='data', array=immediate_covid_std, visible=True)\n",
    "\n",
    ")\n",
    "\n",
    "trace_march_2021 = go.Bar(\n",
    "    x=categories,\n",
    "    y=march_2021,\n",
    "    text=march_2021,\n",
    "    name='Average March 2021',\n",
    "    texttemplate='%{text:.2f}',\n",
    "    textposition='inside',\n",
    "    textangle=-45,  # Tilt the text by 45 degrees\n",
    "    insidetextanchor='start',  # Position text at the bottom inside the bar\n",
    "\n",
    "    marker=dict(color=colors[2]),\n",
    "    textfont=dict(size=18, color=\"black\"),\n",
    "    error_y=dict(type='data', array=march21_std, visible=True)\n",
    "\n",
    ")\n",
    "\n",
    "trace_march_2022 = go.Bar(\n",
    "    x=categories,\n",
    "    y=march_2022,\n",
    "    text=march_2022,\n",
    "    name='Average March 2022',\n",
    "    texttemplate='%{text:.2f}',\n",
    "    textposition='inside',\n",
    "    textangle=-45,  # Tilt the text by 45 degrees\n",
    "    insidetextanchor='start',  # Position text at the bottom inside the bar    marker=dict(color=colors[3]),\n",
    "    marker=dict(color=colors[3]),\n",
    "\n",
    "    textfont=dict(size=18, color=\"black\"),\n",
    "    \n",
    "    error_y=dict(type='data', array=march22_std, visible=True)\n",
    "\n",
    ")\n",
    "\n",
    "# Create data list\n",
    "data = [trace_pre_covid, trace_immediate_covid, trace_march_2021, trace_march_2022]\n",
    "# Adjust the layout to create space below the graph\n",
    "\n",
    "\n",
    "# Define layout\n",
    "layout = go.Layout(\n",
    "    title='Weekly Average Posts on Home Responsibilities by Time Period<br>(with Standard Deviations)',\n",
    "    title_font=dict(size=40, family='Calibri'),\n",
    "    xaxis=dict(showgrid=True, gridcolor='lightgrey', gridwidth=0.5, tickfont=dict(family='Calibri', size=30)),\n",
    "    yaxis=dict(title='Frequency in %', title_font=dict(size=30, family='Calibri'), range=[-3, 45], showgrid=True, gridcolor='lightgrey', gridwidth=0.5, tickfont=dict(family='Calibri', size=30)),\n",
    "    barmode='group',\n",
    "    plot_bgcolor='white',\n",
    "    legend=dict(font=dict(family='Calibri', size=28), title=dict(text='Time Periods', font=dict(size=30, family='Calibri'))),\n",
    "    height=850,\n",
    "    width=1500\n",
    ")\n",
    "\n",
    "# Adjust the layout to create space below the graph\n",
    "layout.update(\n",
    "    margin=dict(t=200, b=100)  # Increase the top margin to add space between the title and the graph\n",
    ")\n",
    "# Create the figure\n",
    "fig = go.Figure(data=data, layout=layout)\n",
    "\n",
    "\n",
    "\n",
    "# Display the chart\n",
    "fig.show()\n"
   ]
  }
 ],
 "metadata": {
  "kernelspec": {
   "display_name": "Python 3",
   "language": "python",
   "name": "python3"
  },
  "language_info": {
   "codemirror_mode": {
    "name": "ipython",
    "version": 3
   },
   "file_extension": ".py",
   "mimetype": "text/x-python",
   "name": "python",
   "nbconvert_exporter": "python",
   "pygments_lexer": "ipython3",
   "version": "3.9.7"
  },
  "orig_nbformat": 4
 },
 "nbformat": 4,
 "nbformat_minor": 2
}
