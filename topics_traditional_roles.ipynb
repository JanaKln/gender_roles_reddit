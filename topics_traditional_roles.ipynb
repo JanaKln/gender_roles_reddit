{
 "cells": [
  {
   "attachments": {},
   "cell_type": "markdown",
   "metadata": {},
   "source": [
    "# file for top_n_words as basis for traditional hh chores\n",
    "--> household chores in topics"
   ]
  },
  {
   "cell_type": "code",
   "execution_count": 1,
   "metadata": {},
   "outputs": [],
   "source": [
    "import pandas as pd\n",
    "import numpy as np\n",
    "from bertopic import BERTopic\n",
    "import preprocessing_BERTopic as preprocessing\n",
    "import plotly.io as pio\n",
    "import gensim\n",
    "import gensim.corpora as corpora\n",
    "from gensim.models.coherencemodel import CoherenceModel\n",
    "import plotly.express as px\n",
    "import plotly.graph_objects as go\n",
    "\n",
    "from bertopic.vectorizers import ClassTfidfTransformer\n",
    "from sklearn.feature_extraction.text import CountVectorizer\n",
    "from nltk.corpus import stopwords\n",
    "\n",
    "\n",
    "from docx import Document\n",
    "from docx.enum.table import WD_TABLE_ALIGNMENT, WD_ALIGN_VERTICAL"
   ]
  },
  {
   "attachments": {},
   "cell_type": "markdown",
   "metadata": {},
   "source": [
    "# Load data & BERTopic models\n",
    "\n",
    "- csv file with the clean data\n",
    "- BERTopic model -- model with no restrictions for topic nr\n",
    "    - only set min_topic_size to 30\n",
    "- do outlier reduction so that most documents are assigned to a topic\n",
    "- remove stopwords and few additional words from the words representative for the topics"
   ]
  },
  {
   "cell_type": "code",
   "execution_count": 2,
   "metadata": {},
   "outputs": [],
   "source": [
    "# Countvectorizer remove stopwords after training BERTopic\n",
    "stopwords = list(stopwords.words('english')) + ['http', 'https', \"www\", \"oh\", \"com\", \"reddit\", \"Reddit\", \"haha\", \"lol\", \"daddit\", \"mommit\"]\n",
    "\n",
    "def reduce_outlier_topic(model, text, stopwords):\n",
    "    topics=model.topics_\n",
    "    new_distribution=model.reduce_outliers(text, topics, strategy=\"distributions\")\n",
    "\n",
    "    # initalize count vectorizer\n",
    "    vectorizer_model = CountVectorizer(stop_words=stopwords, ngram_range=(1, 3))\n",
    "\n",
    "    # update topics\n",
    "    model.update_topics(text, topics=new_distribution, vectorizer_model=vectorizer_model)\n",
    "\n",
    "    topic_info=model.get_topic_info()\n",
    "    doc_info=model.get_document_info(text)\n",
    "\n",
    "    return model, topic_info, doc_info"
   ]
  },
  {
   "cell_type": "code",
   "execution_count": 3,
   "metadata": {},
   "outputs": [],
   "source": [
    "def load_dataset(csv:str, model_name:str):\n",
    "    \"\"\"\"\n",
    "    loads the mommit and daddit data and their corresponding topic model to create the merged df for both    \n",
    "    \"\"\"\n",
    "    # load in dataset\n",
    "    data= pd.read_csv(csv, sep = ';').iloc[:,1:]\n",
    "    # filter out the rows that fall between the given dates\n",
    "    mask = (data['date_time'] < '2020-06-01 00:00:00') | ((data['date_time'] > '2020-06-30 23:59:59')& (data['date_time'] < '2020-10-01 00:00:00')) | (data['date_time'] > '2020-10-31 23:59:59')\n",
    "    data_corr_times = data.loc[mask]\n",
    "\n",
    "    # reset index after filtering\n",
    "    data_corr_times=data_corr_times.reset_index()\n",
    "    # create a list of the text column\n",
    "    text=data_corr_times[\"whole_text\"].to_list()\n",
    "\n",
    "    # load model\n",
    "    model = BERTopic.load(model_name)\n",
    "\n",
    "    # outlier reduction\n",
    "    model_reducedOutlier, topic_info, doc_info=reduce_outlier_topic(model, text, stopwords)\n",
    "\n",
    "    # merge the results from the topic model to the dataframe\n",
    "    merged_df=pd.merge(data_corr_times, doc_info, left_index=True, right_index=True) # debug cell to see dataframe\n",
    "\n",
    "    return merged_df, text, model_reducedOutlier, topic_info"
   ]
  },
  {
   "cell_type": "code",
   "execution_count": 4,
   "metadata": {},
   "outputs": [
    {
     "data": {
      "text/html": [
       "<div>\n",
       "<style scoped>\n",
       "    .dataframe tbody tr th:only-of-type {\n",
       "        vertical-align: middle;\n",
       "    }\n",
       "\n",
       "    .dataframe tbody tr th {\n",
       "        vertical-align: top;\n",
       "    }\n",
       "\n",
       "    .dataframe thead th {\n",
       "        text-align: right;\n",
       "    }\n",
       "</style>\n",
       "<table border=\"1\" class=\"dataframe\">\n",
       "  <thead>\n",
       "    <tr style=\"text-align: right;\">\n",
       "      <th></th>\n",
       "      <th>Topic</th>\n",
       "      <th>Count</th>\n",
       "      <th>Name</th>\n",
       "    </tr>\n",
       "  </thead>\n",
       "  <tbody>\n",
       "    <tr>\n",
       "      <th>0</th>\n",
       "      <td>-1</td>\n",
       "      <td>6</td>\n",
       "      <td>-1_หน_broogie_งใหม เร_brugz</td>\n",
       "    </tr>\n",
       "    <tr>\n",
       "      <th>1</th>\n",
       "      <td>0</td>\n",
       "      <td>5792</td>\n",
       "      <td>0_sleep_bed_night_sleeping</td>\n",
       "    </tr>\n",
       "    <tr>\n",
       "      <th>2</th>\n",
       "      <td>1</td>\n",
       "      <td>3542</td>\n",
       "      <td>1_thank_sorry_thank much_comments</td>\n",
       "    </tr>\n",
       "    <tr>\n",
       "      <th>3</th>\n",
       "      <td>2</td>\n",
       "      <td>2441</td>\n",
       "      <td>2_food_eat_cheese_meal</td>\n",
       "    </tr>\n",
       "    <tr>\n",
       "      <th>4</th>\n",
       "      <td>3</td>\n",
       "      <td>1357</td>\n",
       "      <td>3_cute_photos_photo_picture</td>\n",
       "    </tr>\n",
       "    <tr>\n",
       "      <th>...</th>\n",
       "      <td>...</td>\n",
       "      <td>...</td>\n",
       "      <td>...</td>\n",
       "    </tr>\n",
       "    <tr>\n",
       "      <th>223</th>\n",
       "      <td>222</td>\n",
       "      <td>123</td>\n",
       "      <td>222_sneeze_pee_cough_legs</td>\n",
       "    </tr>\n",
       "    <tr>\n",
       "      <th>224</th>\n",
       "      <td>223</td>\n",
       "      <td>62</td>\n",
       "      <td>223_smoke_smoking_around smoke_neighbors</td>\n",
       "    </tr>\n",
       "    <tr>\n",
       "      <th>225</th>\n",
       "      <td>224</td>\n",
       "      <td>166</td>\n",
       "      <td>224_kisses_mouth_kiss_face</td>\n",
       "    </tr>\n",
       "    <tr>\n",
       "      <th>226</th>\n",
       "      <td>225</td>\n",
       "      <td>119</td>\n",
       "      <td>225_cake_smash_whipped_chocolate</td>\n",
       "    </tr>\n",
       "    <tr>\n",
       "      <th>227</th>\n",
       "      <td>226</td>\n",
       "      <td>116</td>\n",
       "      <td>226_paint_paper_crayons_markers</td>\n",
       "    </tr>\n",
       "  </tbody>\n",
       "</table>\n",
       "<p>228 rows × 3 columns</p>\n",
       "</div>"
      ],
      "text/plain": [
       "     Topic  Count                                      Name\n",
       "0       -1      6               -1_หน_broogie_งใหม เร_brugz\n",
       "1        0   5792                0_sleep_bed_night_sleeping\n",
       "2        1   3542         1_thank_sorry_thank much_comments\n",
       "3        2   2441                    2_food_eat_cheese_meal\n",
       "4        3   1357               3_cute_photos_photo_picture\n",
       "..     ...    ...                                       ...\n",
       "223    222    123                 222_sneeze_pee_cough_legs\n",
       "224    223     62  223_smoke_smoking_around smoke_neighbors\n",
       "225    224    166                224_kisses_mouth_kiss_face\n",
       "226    225    119          225_cake_smash_whipped_chocolate\n",
       "227    226    116           226_paint_paper_crayons_markers\n",
       "\n",
       "[228 rows x 3 columns]"
      ]
     },
     "execution_count": 4,
     "metadata": {},
     "output_type": "execute_result"
    }
   ],
   "source": [
    "# load data and model for r/Mommit\n",
    "# min topic size =30\n",
    "# replace mommit_clean with mommit_text_6 (or vice versa)\n",
    "data_mommit, text_mommit, model_mommit, topic_info_mommit=load_dataset(csv=\"mommit_text_6.csv\", model_name=\"topic_models\\Ansatz_march_2021+2022\\mommit\\BERTopic_mommit_dec19_march22\")\n",
    "topic_info_mommit"
   ]
  },
  {
   "cell_type": "code",
   "execution_count": 10,
   "metadata": {},
   "outputs": [
    {
     "data": {
      "text/plain": [
       "77600"
      ]
     },
     "execution_count": 10,
     "metadata": {},
     "output_type": "execute_result"
    }
   ],
   "source": [
    "len(data_mommit) # 77600"
   ]
  },
  {
   "cell_type": "code",
   "execution_count": 11,
   "metadata": {},
   "outputs": [
    {
     "name": "stdout",
     "output_type": "stream",
     "text": [
      "78963\n",
      "217\n"
     ]
    },
    {
     "data": {
      "text/html": [
       "<div>\n",
       "<style scoped>\n",
       "    .dataframe tbody tr th:only-of-type {\n",
       "        vertical-align: middle;\n",
       "    }\n",
       "\n",
       "    .dataframe tbody tr th {\n",
       "        vertical-align: top;\n",
       "    }\n",
       "\n",
       "    .dataframe thead th {\n",
       "        text-align: right;\n",
       "    }\n",
       "</style>\n",
       "<table border=\"1\" class=\"dataframe\">\n",
       "  <thead>\n",
       "    <tr style=\"text-align: right;\">\n",
       "      <th></th>\n",
       "      <th>Topic</th>\n",
       "      <th>Count</th>\n",
       "      <th>Name</th>\n",
       "    </tr>\n",
       "  </thead>\n",
       "  <tbody>\n",
       "    <tr>\n",
       "      <th>0</th>\n",
       "      <td>-1</td>\n",
       "      <td>24</td>\n",
       "      <td>-1_num_num num_aaaaayyyyyyy_yuuuup</td>\n",
       "    </tr>\n",
       "    <tr>\n",
       "      <th>1</th>\n",
       "      <td>0</td>\n",
       "      <td>2672</td>\n",
       "      <td>0_dad_dads_father_good</td>\n",
       "    </tr>\n",
       "    <tr>\n",
       "      <th>2</th>\n",
       "      <td>1</td>\n",
       "      <td>1800</td>\n",
       "      <td>1_eat_food_cheese_snack</td>\n",
       "    </tr>\n",
       "    <tr>\n",
       "      <th>3</th>\n",
       "      <td>2</td>\n",
       "      <td>1979</td>\n",
       "      <td>2_photos_photo_smile_picture</td>\n",
       "    </tr>\n",
       "    <tr>\n",
       "      <th>4</th>\n",
       "      <td>3</td>\n",
       "      <td>3303</td>\n",
       "      <td>3_sleep_night_bed_sleeping</td>\n",
       "    </tr>\n",
       "    <tr>\n",
       "      <th>...</th>\n",
       "      <td>...</td>\n",
       "      <td>...</td>\n",
       "      <td>...</td>\n",
       "    </tr>\n",
       "    <tr>\n",
       "      <th>212</th>\n",
       "      <td>211</td>\n",
       "      <td>182</td>\n",
       "      <td>211_car_cars_one car_two cars</td>\n",
       "    </tr>\n",
       "    <tr>\n",
       "      <th>213</th>\n",
       "      <td>212</td>\n",
       "      <td>215</td>\n",
       "      <td>212_balls_poop_tar_poop balls</td>\n",
       "    </tr>\n",
       "    <tr>\n",
       "      <th>214</th>\n",
       "      <td>213</td>\n",
       "      <td>143</td>\n",
       "      <td>213_wedding_weddings_common_community</td>\n",
       "    </tr>\n",
       "    <tr>\n",
       "      <th>215</th>\n",
       "      <td>214</td>\n",
       "      <td>114</td>\n",
       "      <td>214_stroller_strollers_car_double stroller</td>\n",
       "    </tr>\n",
       "    <tr>\n",
       "      <th>216</th>\n",
       "      <td>215</td>\n",
       "      <td>108</td>\n",
       "      <td>215_hockey_fan_game_awesome bet</td>\n",
       "    </tr>\n",
       "  </tbody>\n",
       "</table>\n",
       "<p>217 rows × 3 columns</p>\n",
       "</div>"
      ],
      "text/plain": [
       "     Topic  Count                                        Name\n",
       "0       -1     24          -1_num_num num_aaaaayyyyyyy_yuuuup\n",
       "1        0   2672                      0_dad_dads_father_good\n",
       "2        1   1800                     1_eat_food_cheese_snack\n",
       "3        2   1979                2_photos_photo_smile_picture\n",
       "4        3   3303                  3_sleep_night_bed_sleeping\n",
       "..     ...    ...                                         ...\n",
       "212    211    182               211_car_cars_one car_two cars\n",
       "213    212    215               212_balls_poop_tar_poop balls\n",
       "214    213    143       213_wedding_weddings_common_community\n",
       "215    214    114  214_stroller_strollers_car_double stroller\n",
       "216    215    108             215_hockey_fan_game_awesome bet\n",
       "\n",
       "[217 rows x 3 columns]"
      ]
     },
     "execution_count": 11,
     "metadata": {},
     "output_type": "execute_result"
    }
   ],
   "source": [
    "# load data and model for r/daddit\n",
    "data_daddit, text_daddit, model_daddit, topic_info_daddit=load_dataset(csv=\"daddit_clean.csv\", model_name=\"topic_models\\Ansatz_march_2021+2022\\daddit\\BERTopic_daddit_dec19_march22\")\n",
    "print(len(data_daddit)) # 78963 = len_data_corr_times\n",
    "print(len(topic_info_daddit)) #216 topics + -1\n",
    "topic_info_daddit"
   ]
  },
  {
   "cell_type": "code",
   "execution_count": 12,
   "metadata": {},
   "outputs": [],
   "source": [
    "# write as parquet file for quick access\n",
    "data_mommit.to_parquet(\"data_mommit.parquet\")\n",
    "data_daddit.to_parquet(\"data_daddit.parquet\")"
   ]
  },
  {
   "attachments": {},
   "cell_type": "markdown",
   "metadata": {},
   "source": [
    "# typical female chores at home:\n",
    "\n",
    "- one way to analyze gender roles is by looking at the distribution of household chores\n",
    "- Daminger 2019: Distinction between pyhical and cognitive work in the household\n",
    "    - cognitive work/ mental load: \"No meal is made, no dentist appointment scheduled, and no daycare center selected without some amount of foresight, planning, and deciding.\"\n",
    "\n",
    "- van Tienoven (2023) : COVIDTUS study and Belgian Time Use survey -> collection of household chores\n",
    "\n",
    "- some keywords added manually after screening the posts"
   ]
  },
  {
   "cell_type": "code",
   "execution_count": 14,
   "metadata": {},
   "outputs": [],
   "source": [
    "# filter for documents containing keywords related with household chores\n",
    "keywords=[\n",
    "            # category meal prep/ cooking/ food...\n",
    "            \"grocery list\", \"meal prep\", \"healthy eating\", \"recipes\", \"recipe\", \"meal planning\", \"grocery shopping\", \"grocery\", \"groceries\", \"cooking techniques\",\n",
    "            \"kitchen appliances\",\"intolerance\", \"cooking\", \"cook\", \"baking\", \"bake\", \"dinner\", \"lunch\", \"pan\", \"carrot\", \"banana\", \"cups\", \"tbsp\", \"veggies\",\n",
    "             \"lunch boxes\", \"lunch box\", \"oatmeal\", \"diet\",\"breakfast\", \"snack\", \"cheese\", \"nutrition\", \"ingredients\", \"set table\", \"meal\", \"oven\", \n",
    "            \n",
    "            # category Cleaning\n",
    "            \"wash\", \"housekeeping\", \"cleaning products\", \"vacuuming\", \"dusting\", \"mopping\", \"cleaning\", \"clean\", \"dishes\", \"dish washing\", \"dishwasher\", \"sweeping\",\n",
    "            \"making beds\",\"rinse\", \"wipe\", \"carpet\", \n",
    "            \n",
    "            # catgory Laundry\n",
    "            \"closet\",  \"folding clothes\", \"washing machine\", \"dryer\", \"laundry detergent\", \"ironing board\", \"iron\", \"laundry\", \"folded\", \"hand wash\",\n",
    "\n",
    "            # category 'Child_care':\n",
    "            \"feeding\", \"bathing\", \"homework\", \"playtime\", \"discipline\", \"take care\", \"taking care\", \"playtime\", \"bedtime story\", \"care\", \"playground\", \"daycare\", \"day-care\",\n",
    "            \"security\", \"safety\", \"diaper\", \"school\", \"soothing\", \"coloring\", \"book\", \"kindergarden\", \"nap\", \"bedtime\",\n",
    "\n",
    "            # category: Planning_Organizing_Running_errands':\n",
    "            \"household\", \"calendar\", \"scheduling\", \"schedule\", \"reminders\", \"appointments\", \"activities\", \"birthday\", \"present\", \"doctor\", \"cake\",  \"shopping\",\n",
    "            \"prescription pick-up\",\"prescription\", \"post office\", \"dry cleaning\", \"bank\", \"errands\", \"planning\", \"organization\", \"supply\", \"supplies\", \"anticipate\",\n",
    "            \"prepare\",\"shopping\", \"Dr\", \"ped\", \"pediatrician\", \n",
    "\n",
    "            # category 'Finances':\n",
    "            \"budgeting\", \"bill paying\", \"saving\", \"investing\", \"debt management\", \"dollar\", \"money\", \"spending\", \"cheap\", \"expensive\", \"pricey\", \"cost\",\n",
    "    \n",
    "            # category 'House_maintanance': [ \n",
    "            \"interior design\", \"furniture\", \"home repairs\", \"landscaping\", \"outdoor maintenance\",  \"plants\", \"planting\", \"weeding\", \"pruning\", \"lawn care\",\n",
    "            \"decoration\", \"garden\", \"pets\", \"cat\", \"dog\",\n",
    "                \n",
    "            # category 'Mental_load':\n",
    "            \"busy\", \"hectic\", \"organized\", \"domestic\", \"routine\", \"multitasking\", \"tiring\", \"fulfilling\", \"tired\", \"worry\", \"care\",  \"emotional\", \"fulfilling\", \"anticipate\",\n",
    "            \"comfort\", \"support child\", \"anticipate\",   \"prepare\", \"comfort child\", \"comfort husband\", \"comfort family\", \"sick child\", \"ill child\", \"household\", \"chores\"\n",
    "\n",
    "            #### van Tienoven ####\n",
    "            # COVIDTUS Routine --> only changed everything to small letters\n",
    "            \"serving food\", \"set the table\", \"cooking\", \"preparing food\", \"baking\", \"making coffee\", \"making drinks\", \"storing\", \"arranging\", \"preserving food\", \"washing dishes\",\n",
    "            \"clearing table\", \"loading dishwasher\", \"unloading dishwasher\", \"vacuuming\", \"dusting\", \"sweeping\", \"mopping\", \"toilet cleaning\", \"clean the toilet\", \"window cleaning\",\n",
    "            \"cleaning up\", \"putting things away\", \"changing sheets\", \"changing bedclothes\", \"making the bed\", \"outside cleaning\" \"clean terrace\", \"clean driveway\", \"clean paths\",\n",
    "            \"clear up rubbish\", \"put out rubbish\",\"garbage\", \"rubbish\", \"recycling of waste\", \"disposal of waste\", \"arranging household goods and materials\", \"groceries away\",\n",
    "            \"write grocery list\", \"light a ﬁre\",\"handwashing clothing\", \"handwashing textiles\", \"packing for a trip\", \"washing into washing machine\",\n",
    "            \"removing washing from washing machine\", \"dryer\", \"sorting clothes\", \"hanging up washing\", \"taking in washing\", \"ironing\", \"mangling\", \"folding clothes\",\n",
    "            \"arranging clothes\", \"folding textiles\", \"arranging textiles\",\"mending\", \"adjusting clothes\", \"sewing on buttons\", \"handiwork\", \"polishing shoes\", \"paying bills\",\n",
    "            \"taxes\", \"mortgages\", \"insurance\", \"household administration\",\"prepare day\", \"prepare journey\", \"prepare party\", \"plan day\", \"plan journey\", \"plan party\",\n",
    "            \"making shopping lists\", \"daily planning\", \"weekly planning\",\"shopping groceries\", \"shop food\", \"shop clothes\", \"shop gifts\", \"shop household goods\", \"shop electronics\",\n",
    "            \"shop plant\", \"comfort baby\", \"wash baby\",\"dress baby\", \"put baby to bed\", \"feeding baby\", \"wash child\", \"dress child\", \"put child to bed\", \"feed children\",\n",
    "            \"supervise eating\", \"cut meat\", \"cut food\", \"help with homework\",\"supervise child with homework\", \"self-study\", \"home reading\", \"talking about school\",\n",
    "            \"taking a child to school\", \"accompanying a child to school\",\"taking a child to childcare\", \"accompanying a child to childcare\", \"talking to teacher\",\n",
    "            \"taking baby to a doctor\", \"taking child to a doctor\", \"accompanying baby to a doctor\", \"accompanying child to a doctor\", \"taking baby to a hospital visit\",\n",
    "            \"taking child to a hospital visit\", \"accompanying baby to a hospital visit\", \"accompanying child to a hospital visit\",  \"taking child to sport activities\",\n",
    "            \"accompanying child to sport activities\", \"taking child to cultural activities\", \"accompanying child to cultural activities\", \"taking child to activities\",\n",
    "            \"taking baby to activities\", \"accompanying child to activities\", \"accompanying baby to activities\", \"physical care\", \"cutting hair\", \"cut hair\", \"toileting\",\n",
    "            \"take medical care\",\n",
    "\n",
    "            # BTUSI3 Routine\n",
    "            # only what has not been in Covidtus list\n",
    "            \"cooking\", \"preparing food\", \"set table\", \"washing dishes\", \"clearing table\", \"dusting\", \"sweeping\", \"packing away\", \"mopping\", \"cleaning\", \"washing car\",\n",
    "            \"handwashing\", \"arranging clothes\", \"arranging textiles\", \n",
    "\n",
    "            # COVIDTUS non-routine\n",
    "            \"tending pet\", \"pet\", \"caring for pets\", \"clean cage\", \"clean stable\", \"clean aquarium\",  \"indoor plant care\", \"watering\",  \"mowing grass\", \"working in the garden\",\n",
    "            \"taking care outdoor plants\", \"veterinarian\", \"walking the dog\", \"walk the dog\", \"playing with pet\", \"playing with pets\", \"construction renovation\", \"painting\",\n",
    "            \"wallpapering\", \"plumbing\", \"electrical repairs\", \"decor changes\", \"carpentry\", \"rooﬁng\", \"maintenance of household equipment\", \"repair of household equipment\",\n",
    "            \"maintenance of household equipment\", \"maintenance of household appliances\",\"maintenance of household appliances\", \"maintenance of car\", \"repair of car\",\n",
    "            \"maintenance of bike\", \"repair of bike\", \"washing car\", \"washing bike\", \"washing scooter\", \"picking up\", \"laundromat\", \"shoemaker\", \"refueling\",  \"bank\",\n",
    "            \"post ofﬁce\",  \"council\", \"centrelink\", \"tax ofﬁce\", \"police\", \"government department\", \"broker\", \"insurance\", \"notary public\", \"visit garage\", \"visit mechanic\",\n",
    "            \"car wash\", \"warrant check\", \"pharmacy\", \"reading to child\", \"playing with child\", \"talking to child \", \"going for walks with children\", \"swimming with children\",\n",
    "            \"bike ride\", \"outdoor games\",  \"supervision\", \"give guidance\", \"teach\", \n",
    "\n",
    "            # BTUSI3 non-routine\n",
    "            # only what has not been in Covidtus list\n",
    "            \"online banking\",\n",
    "\n",
    "\n",
    "          # added by me\n",
    "          \"leftovers\", \"food storage\", \"kitchen organization\", \"food preparation\", \"spices and seasoning\", \"grilling\", \"freezing food\", \"food preservation\", \"slow cooker\",\n",
    "\n",
    "          \"stain removal\", \"garbage disposal\", \"cleaning schedule\", \"cleaning supplies\", \"steam cleaning\", \"organizing closets\", \"decluttering\", \"household maintenance\",\n",
    "\n",
    "          \"dry cleaning\", \"delicate fabrics\", \"laundry sorting\", \"stain treatment\", \"laundry routine\", \"laundry symbols\", \"ironing clothes\", \"laundry storage\",\n",
    "\n",
    "          \"childproofing\", \"bath time\", \"potty training\", \"storytelling\", \"craft activities\", \"outdoor play\", \"child development\", \"playdate\", \"children's health\",\n",
    "\n",
    "          \"time management\", \"meal planning\", \"appointment scheduling\", \"gift\", \"party planning\", \"holiday preparations\", \"travel arrangements\", \"home inventory\",\n",
    "          \"home improvement projects\",\n",
    "\n",
    "          \"budget management\", \"expense tracking\", \"bill organization\", \"financial planning\", \"investment strategies\", \"tax preparation\", \"insurance policies\",\n",
    "          \"savings goals\",\n",
    "\n",
    "          \"home security\", \"pest control\", \"HVAC maintenance\", \"roof maintenance\", \"gutter cleaning\", \"paint touch-ups\", \"furniture repairs\", \"home decor updates\",\n",
    "\n",
    "          \"time for self-care\", \"stress management\", \"family communication\", \"work-life balance\", \"self-care routine\", \"relaxation techniques\", \"mindfulness practices\",\n",
    "          \"prioritizing tasks\"\n",
    "          ]"
   ]
  },
  {
   "cell_type": "code",
   "execution_count": 15,
   "metadata": {},
   "outputs": [],
   "source": [
    "def build_chores_df(df, column:str):\n",
    "    # initialize an empty list to store the filtered dataframes\n",
    "    filtered_dfs = []\n",
    "\n",
    "    # iterate through the list of keywords and filter the dataframe for each keyword\n",
    "    for keyword in keywords:\n",
    "        filtered_df = df[df[column].str.contains(fr'\\b{keyword}\\b', regex=True)] # only takes EXACT keywords.\n",
    "        # E.g. if the keyword is \"supervise child with homework\", documents only containing \"child\" dont fall into the filter\n",
    "        filtered_dfs.append(filtered_df)\n",
    "\n",
    "    # combine the filtered dataframes\n",
    "    chores_dataframe = pd.concat(filtered_dfs)\n",
    "    chores_dataframe=chores_dataframe.reset_index()\n",
    "\n",
    "    return chores_dataframe"
   ]
  },
  {
   "attachments": {},
   "cell_type": "markdown",
   "metadata": {},
   "source": [
    "# hh chores and care work in the topics found by bertopic"
   ]
  },
  {
   "attachments": {},
   "cell_type": "markdown",
   "metadata": {},
   "source": [
    "## In how many topics can the keywords be found, based on the top_n_words ?\n",
    "\n",
    "- are traditional hh chores represented in the topics?"
   ]
  },
  {
   "cell_type": "code",
   "execution_count": 16,
   "metadata": {},
   "outputs": [
    {
     "name": "stdout",
     "output_type": "stream",
     "text": [
      "35230\n",
      "29290\n"
     ]
    }
   ],
   "source": [
    "# build chores dataframe for mommit and daddit, based on whether keywords are found in the Top_n_words \n",
    "top_n_chores_mommit= build_chores_df(data_mommit, \"Top_n_words\")\n",
    "top_n_chores_daddit= build_chores_df(data_daddit, \"Top_n_words\")\n",
    "\n",
    "print(len(top_n_chores_mommit)) # 35230\n",
    "print(len(top_n_chores_daddit)) # 29290"
   ]
  },
  {
   "cell_type": "code",
   "execution_count": 17,
   "metadata": {},
   "outputs": [
    {
     "name": "stdout",
     "output_type": "stream",
     "text": [
      "24555\n",
      "66\n",
      "14867\n",
      "45\n"
     ]
    }
   ],
   "source": [
    "# drop duplicates, when multiple keywords are found in one posting\n",
    "## drop duplicates in Mommit\n",
    "top_n_clean_mommit=top_n_chores_mommit.drop_duplicates()\n",
    "print(len(top_n_clean_mommit)) # mommit: 24555 \n",
    "\n",
    "## topics in top_n_clean_mommit\n",
    "topics_chores_mommit= top_n_clean_mommit[\"Name\"].unique()\n",
    "print(len(topics_chores_mommit)) # 66 topics where the top n words are in the household chores keywords\n",
    "\n",
    "## drop duplicates in daddit\n",
    "top_n_clean_daddit=top_n_chores_daddit.drop_duplicates()\n",
    "print(len(top_n_clean_daddit)) # daddit: 14867\n",
    "\n",
    "## topics in top_n_clean_daddit\n",
    "topics_chores_daddit= top_n_clean_daddit[\"Name\"].unique()\n",
    "print(len(topics_chores_daddit)) # 45 topics where the top n words are in the household chores keywords"
   ]
  },
  {
   "cell_type": "code",
   "execution_count": 18,
   "metadata": {},
   "outputs": [
    {
     "name": "stdout",
     "output_type": "stream",
     "text": [
      "0.2894736842105263\n",
      "0.2073732718894009\n"
     ]
    }
   ],
   "source": [
    "# relation all topics to household related topics\n",
    "# 28.94 % der topics in r/Mommit haben in ihren top n words household chores\n",
    "# 20.737% der topics in r/daddit haben in ihren top n words household chores\n",
    "relation_topics_mommit=len(topics_chores_mommit)/len(topic_info_mommit)\n",
    "relation_topics_daddit=len(topics_chores_daddit)/len(topic_info_daddit)\n",
    "\n",
    "print(relation_topics_mommit)\n",
    "print(relation_topics_daddit)"
   ]
  },
  {
   "attachments": {},
   "cell_type": "markdown",
   "metadata": {},
   "source": [
    "### Create a table with topic, Count, Top_n_word and an example document"
   ]
  },
  {
   "cell_type": "code",
   "execution_count": 19,
   "metadata": {},
   "outputs": [],
   "source": [
    "def add_info_topics_chores(topic_chores, topic_info, data):\n",
    "    \"\"\" add Count and Top_n_words to the dataframe\n",
    "\n",
    "    topic_chores= array that includes topics with keywords in their top_n_words (representative words for topic)   \n",
    "    topic_info= output from BERTopic, numeric and string names of topic and topic count\n",
    "    data= for each posting, topic assignment (here to get the Top_n_words per topic)\n",
    "    \"\"\"\n",
    "    # find the topic names present in the topic_chores df\n",
    "    filtered_chores = topic_info[topic_info['Name'].isin(topic_chores)]\n",
    "    merged_df = filtered_chores.merge(data[[\"Topic\", \"Name\", \"Top_n_words\"]], on=['Topic', 'Name']).drop_duplicates().reset_index()\n",
    "    return merged_df"
   ]
  },
  {
   "cell_type": "code",
   "execution_count": 20,
   "metadata": {},
   "outputs": [
    {
     "data": {
      "text/html": [
       "<div>\n",
       "<style scoped>\n",
       "    .dataframe tbody tr th:only-of-type {\n",
       "        vertical-align: middle;\n",
       "    }\n",
       "\n",
       "    .dataframe tbody tr th {\n",
       "        vertical-align: top;\n",
       "    }\n",
       "\n",
       "    .dataframe thead th {\n",
       "        text-align: right;\n",
       "    }\n",
       "</style>\n",
       "<table border=\"1\" class=\"dataframe\">\n",
       "  <thead>\n",
       "    <tr style=\"text-align: right;\">\n",
       "      <th></th>\n",
       "      <th>index</th>\n",
       "      <th>Topic</th>\n",
       "      <th>Count</th>\n",
       "      <th>Name</th>\n",
       "      <th>Top_n_words</th>\n",
       "    </tr>\n",
       "  </thead>\n",
       "  <tbody>\n",
       "    <tr>\n",
       "      <th>0</th>\n",
       "      <td>0</td>\n",
       "      <td>0</td>\n",
       "      <td>5792</td>\n",
       "      <td>0_sleep_bed_night_sleeping</td>\n",
       "      <td>sleep - bed - night - sleeping - nap - crib - ...</td>\n",
       "    </tr>\n",
       "    <tr>\n",
       "      <th>1</th>\n",
       "      <td>5792</td>\n",
       "      <td>2</td>\n",
       "      <td>2441</td>\n",
       "      <td>2_food_eat_cheese_meal</td>\n",
       "      <td>food - eat - cheese - meal - chicken - foods -...</td>\n",
       "    </tr>\n",
       "    <tr>\n",
       "      <th>2</th>\n",
       "      <td>8233</td>\n",
       "      <td>8</td>\n",
       "      <td>652</td>\n",
       "      <td>8_book_books_read_series</td>\n",
       "      <td>book - books - read - series - pout - library ...</td>\n",
       "    </tr>\n",
       "    <tr>\n",
       "      <th>3</th>\n",
       "      <td>8885</td>\n",
       "      <td>12</td>\n",
       "      <td>1237</td>\n",
       "      <td>12_formula_breastfeeding_milk_breast</td>\n",
       "      <td>formula - breastfeeding - milk - breast - fed ...</td>\n",
       "    </tr>\n",
       "    <tr>\n",
       "      <th>4</th>\n",
       "      <td>10122</td>\n",
       "      <td>29</td>\n",
       "      <td>464</td>\n",
       "      <td>29_pediatrician_doctor_appointment_doctors</td>\n",
       "      <td>pediatrician - doctor - appointment - doctors ...</td>\n",
       "    </tr>\n",
       "    <tr>\n",
       "      <th>...</th>\n",
       "      <td>...</td>\n",
       "      <td>...</td>\n",
       "      <td>...</td>\n",
       "      <td>...</td>\n",
       "      <td>...</td>\n",
       "    </tr>\n",
       "    <tr>\n",
       "      <th>61</th>\n",
       "      <td>24053</td>\n",
       "      <td>203</td>\n",
       "      <td>70</td>\n",
       "      <td>203_taxes_file_tax_irs</td>\n",
       "      <td>taxes - file - tax - irs - filed - 2019 - stim...</td>\n",
       "    </tr>\n",
       "    <tr>\n",
       "      <th>62</th>\n",
       "      <td>24123</td>\n",
       "      <td>215</td>\n",
       "      <td>111</td>\n",
       "      <td>215_break_breaks_need break_reading</td>\n",
       "      <td>break - breaks - need break - reading - candle...</td>\n",
       "    </tr>\n",
       "    <tr>\n",
       "      <th>63</th>\n",
       "      <td>24234</td>\n",
       "      <td>218</td>\n",
       "      <td>86</td>\n",
       "      <td>218_playground_playgrounds_slide_park</td>\n",
       "      <td>playground - playgrounds - slide - park - tram...</td>\n",
       "    </tr>\n",
       "    <tr>\n",
       "      <th>64</th>\n",
       "      <td>24320</td>\n",
       "      <td>225</td>\n",
       "      <td>119</td>\n",
       "      <td>225_cake_smash_whipped_chocolate</td>\n",
       "      <td>cake - smash - whipped - chocolate - cakes - i...</td>\n",
       "    </tr>\n",
       "    <tr>\n",
       "      <th>65</th>\n",
       "      <td>24439</td>\n",
       "      <td>226</td>\n",
       "      <td>116</td>\n",
       "      <td>226_paint_paper_crayons_markers</td>\n",
       "      <td>paint - paper - crayons - markers - coloring -...</td>\n",
       "    </tr>\n",
       "  </tbody>\n",
       "</table>\n",
       "<p>66 rows × 5 columns</p>\n",
       "</div>"
      ],
      "text/plain": [
       "    index  Topic  Count                                        Name  \\\n",
       "0       0      0   5792                  0_sleep_bed_night_sleeping   \n",
       "1    5792      2   2441                      2_food_eat_cheese_meal   \n",
       "2    8233      8    652                    8_book_books_read_series   \n",
       "3    8885     12   1237        12_formula_breastfeeding_milk_breast   \n",
       "4   10122     29    464  29_pediatrician_doctor_appointment_doctors   \n",
       "..    ...    ...    ...                                         ...   \n",
       "61  24053    203     70                      203_taxes_file_tax_irs   \n",
       "62  24123    215    111         215_break_breaks_need break_reading   \n",
       "63  24234    218     86       218_playground_playgrounds_slide_park   \n",
       "64  24320    225    119            225_cake_smash_whipped_chocolate   \n",
       "65  24439    226    116             226_paint_paper_crayons_markers   \n",
       "\n",
       "                                          Top_n_words  \n",
       "0   sleep - bed - night - sleeping - nap - crib - ...  \n",
       "1   food - eat - cheese - meal - chicken - foods -...  \n",
       "2   book - books - read - series - pout - library ...  \n",
       "3   formula - breastfeeding - milk - breast - fed ...  \n",
       "4   pediatrician - doctor - appointment - doctors ...  \n",
       "..                                                ...  \n",
       "61  taxes - file - tax - irs - filed - 2019 - stim...  \n",
       "62  break - breaks - need break - reading - candle...  \n",
       "63  playground - playgrounds - slide - park - tram...  \n",
       "64  cake - smash - whipped - chocolate - cakes - i...  \n",
       "65  paint - paper - crayons - markers - coloring -...  \n",
       "\n",
       "[66 rows x 5 columns]"
      ]
     },
     "execution_count": 20,
     "metadata": {},
     "output_type": "execute_result"
    }
   ],
   "source": [
    "# add Count and Top_n_words for the topics that have keywords on hh chores/ childcare \n",
    "topics_chores_mommit=add_info_topics_chores(topics_chores_mommit, topic_info_mommit, data_mommit)\n",
    "topics_chores_daddit=add_info_topics_chores(topics_chores_daddit, topic_info_daddit, data_daddit)\n",
    "topics_chores_mommit"
   ]
  },
  {
   "cell_type": "code",
   "execution_count": 21,
   "metadata": {},
   "outputs": [],
   "source": [
    "def example_document_df(topic_info, merged_df):\n",
    "    \"\"\"\n",
    "    - add an example document to the df that has topics, with top_n_words from keyword list\n",
    "    - loop over the topics that have keywords in their top_n_words and find a representative document & one with an assigned probability of 1 \n",
    "\n",
    "    topic_info= topics_chores_mommit /topics_chores_daddit --> df with topics (string and numeric), count and top_n_words based on occurance of keyword in top_n_words\n",
    "    merged_df= for each posting, topic assignment (here to get an example document per topic)\n",
    "    \"\"\"\n",
    "    result = []\n",
    "    unique_topics = topic_info[\"Topic\"].unique()\n",
    "\n",
    "    for topic in unique_topics:\n",
    "        filtered_df = merged_df[(merged_df[\"Topic\"] == topic) & (merged_df[\"Representative_document\"] == True) & (merged_df[\"Probability\"] == 1)]\n",
    "        if not filtered_df.empty:\n",
    "            document = filtered_df.iloc[0][\"Document\"]\n",
    "            top_n_words=filtered_df.iloc[0][\"Top_n_words\"]\n",
    "            name = topic_info[topic_info[\"Topic\"] == topic][\"Name\"].iloc[0]\n",
    "            count = topic_info[topic_info[\"Topic\"] == topic][\"Count\"].iloc[0]\n",
    "\n",
    "            result.append({\"Topic\": topic, \"Name\": name, \"Count\":count, \"Top_n_words\":top_n_words, \"Document\": document})\n",
    "\n",
    "    result_df = pd.DataFrame(result)\n",
    "    return result_df"
   ]
  },
  {
   "cell_type": "code",
   "execution_count": 22,
   "metadata": {},
   "outputs": [],
   "source": [
    "topics_chores_daddit=example_document_df(topics_chores_daddit, data_daddit)\n",
    "topics_chores_mommit=example_document_df(topics_chores_mommit, data_mommit)"
   ]
  },
  {
   "cell_type": "code",
   "execution_count": 23,
   "metadata": {},
   "outputs": [],
   "source": [
    "def create_table_topics(df, docname):\n",
    "# Create a new Word document\n",
    "    doc = Document()\n",
    "\n",
    "    # Add a table to the document\n",
    "    table = doc.add_table(rows=1, cols=len(df.columns))\n",
    "    table.style = 'Table Grid'  # Apply a table style with lines\n",
    "\n",
    "    # Add column names to the table\n",
    "    for i, column_name in enumerate(df.columns):\n",
    "        table.cell(0, i).text = column_name\n",
    "\n",
    "    # Add data to the table\n",
    "    for _, row in df.iterrows():\n",
    "        new_row = table.add_row().cells\n",
    "        for i, value in enumerate(row):\n",
    "            new_row[i].text = str(value)\n",
    "\n",
    "    # Align the table horizontally to the center\n",
    "    table.alignment = WD_TABLE_ALIGNMENT.CENTER\n",
    "\n",
    "    # Set vertical alignment for all cells to center\n",
    "    for row in table.rows:\n",
    "        for cell in row.cells:\n",
    "            cell.vertical_alignment = WD_ALIGN_VERTICAL.CENTER\n",
    "\n",
    "    # Save the document\n",
    "    doc.save(f'{docname}.docx')"
   ]
  },
  {
   "cell_type": "code",
   "execution_count": 18,
   "metadata": {},
   "outputs": [],
   "source": [
    "# create a table with example for all topics including a keyword on home responsibilities - r/daddit (appendix)\n",
    "# create_table_topics(topics_chores_daddit, \"tables/chores_topics_daddit\") "
   ]
  },
  {
   "cell_type": "code",
   "execution_count": null,
   "metadata": {},
   "outputs": [],
   "source": [
    "# create a table with example for all topics including a keyword on home responsibilities - r/Mommit (appendix)\n",
    "#create_table_topics(topics_chores_mommit, \"tables/chores_topics_mommit\") "
   ]
  },
  {
   "attachments": {},
   "cell_type": "markdown",
   "metadata": {},
   "source": [
    "### group topics into broader categories\n",
    "\n",
    "- inductive content analysis\n",
    "\n",
    "categories by Daminger\n",
    "- logistics/ scheduling\n",
    "- care for children\n",
    "- social relationships\n",
    "- cleaning/ laundry\n",
    "- shopping\n",
    "- food\n",
    "- travel / leisure\n",
    "- finances\n",
    "- home/ car maintenance"
   ]
  },
  {
   "cell_type": "code",
   "execution_count": 24,
   "metadata": {},
   "outputs": [],
   "source": [
    "# start with damingers list and then expand/ change it\n",
    "# basis are the topics, where keywords are found in the top_n_words (=representative for a topic)\n",
    "\n",
    "keywords_broader_daddit= {'Meal planning & Shopping': [1, 203],                          \n",
    "                    'Cleaning, laundry & house maintanance': [32, 86, 108, 156], \n",
    "                    'Childcare':[6, 9, 25, 39, 54, 57, 88, 104, 115,127, 154, 157, 200],\n",
    "                    'Child health': [12, 120, 159, 165, 188, 206],\n",
    "                    'Finances':[35, 49, 79, 112, 140],\n",
    "                    '(Social) Activities':[7, 26, 55, 66, 103, 106, 138, 153, 175, 194, 205],\n",
    "                    'Mom health & support':[139, 207], \n",
    "                    'Other':[34, 212]\n",
    "}\n",
    "\n",
    "keywords_broader_mommit = {'Meal planning & Shopping': [2, 109, 131, 164, 165, 186, 225],                          \n",
    "                    'Cleaning, laundry & house maintanance': [32, 38, 88, 133, 177, 184, 192, 193], \n",
    "                    'Childcare':[0, 12, 33, 36, 39, 40, 43, 50, 59, 85, 108, 127, 134,157, 163, 169, 182, 199],\n",
    "                    'Child health': [29, 30, 54, 90, 115, 124, 130, 146],\n",
    "                    'Finances':[99, 12, 128, 203],\n",
    "                    '(Social) Activities':[8, 31, 35, 41, 52,62, 65, 66, 79, 105, 151, 218, 226],\n",
    "                    'Mom health & support':[63, 141,144, 156, 190, 194, 195, 215],\n",
    "                    'Other':[142]\n",
    "}"
   ]
  },
  {
   "cell_type": "code",
   "execution_count": 25,
   "metadata": {},
   "outputs": [],
   "source": [
    "def assign_category(topic, category_dict):\n",
    "    \"\"\"assign braoder categroy labels to topics\"\"\"\n",
    "    for category, topics in category_dict.items():\n",
    "        if topic in topics:\n",
    "            return category\n",
    "    return 'Unknown'  # If no matching category is found\n",
    "\n",
    "# Add a new column with the assigned categories\n",
    "top_n_clean_daddit['Category'] = top_n_clean_daddit['Topic'].apply(lambda x: assign_category(x, keywords_broader_daddit))\n",
    "\n",
    "# Add a new column with the assigned categories\n",
    "top_n_clean_mommit['Category'] = top_n_clean_mommit['Topic'].apply(lambda x: assign_category(x, keywords_broader_mommit))"
   ]
  },
  {
   "cell_type": "code",
   "execution_count": 26,
   "metadata": {},
   "outputs": [
    {
     "name": "stdout",
     "output_type": "stream",
     "text": [
      "24555\n",
      "14867\n"
     ]
    }
   ],
   "source": [
    "print(len(top_n_clean_mommit))\n",
    "print(len(top_n_clean_daddit))"
   ]
  },
  {
   "cell_type": "code",
   "execution_count": 28,
   "metadata": {},
   "outputs": [],
   "source": [
    "top_n_clean_mommit[\"small_categories\"] = np.where((top_n_clean_mommit['Category'] == 'Meal planning & Shopping') |\n",
    "                                                  (top_n_clean_mommit['Category'] == 'Cleaning, laundry & house maintanance'),\n",
    "                                                  'Household chores',\n",
    "                                                  np.where((top_n_clean_mommit['Category'] == 'Childcare') |\n",
    "                                                           (top_n_clean_mommit['Category'] == 'Child health'),\n",
    "                                                           'Care work',\n",
    "                                                           np.where((top_n_clean_mommit['Category'] == 'Finances') |\n",
    "                                                                    (top_n_clean_mommit['Category'] == '(Social) Activities') |\n",
    "                                                                    (top_n_clean_mommit['Category'] == 'Mom health & support'),\n",
    "                                                                    'Organization & mental load',\n",
    "                                                                    top_n_clean_mommit['Category']\n",
    "                                                                    )\n",
    "                                                           )\n",
    "                                                  )\n",
    "\n",
    "top_n_clean_daddit[\"small_categories\"] = np.where((top_n_clean_daddit['Category'] == 'Meal planning & Shopping') |\n",
    "                                                  (top_n_clean_daddit['Category'] == 'Cleaning, laundry & house maintanance'),\n",
    "                                                  'Household chores',\n",
    "                                                  np.where((top_n_clean_daddit['Category'] == 'Childcare') |\n",
    "                                                           (top_n_clean_daddit['Category'] == 'Child health'),\n",
    "                                                           'Care work',\n",
    "                                                           np.where((top_n_clean_daddit['Category'] == 'Finances') |\n",
    "                                                                    (top_n_clean_daddit['Category'] == '(Social) Activities') |\n",
    "                                                                    (top_n_clean_daddit['Category'] == 'Mom health & support'),\n",
    "                                                                    'Organization & mental load',\n",
    "                                                                    top_n_clean_daddit['Category']\n",
    "                                                                    )\n",
    "                                                           )\n",
    "                                                  )"
   ]
  },
  {
   "attachments": {},
   "cell_type": "markdown",
   "metadata": {},
   "source": [
    "#### table of grouped topics"
   ]
  },
  {
   "cell_type": "code",
   "execution_count": 29,
   "metadata": {},
   "outputs": [],
   "source": [
    "# broader categories\n",
    "def grouping_table(top_n_chores):\n",
    "    \"\"\"creates table with topic and its assigend category plus each topics top_n_words\n",
    "    - for appendix --> to comprehend grouping\n",
    "    \"\"\"\n",
    "\n",
    "    category_order = ['Childcare', 'Child health', 'Cleaning, laundry & house maintanance', 'Meal planning & Shopping',\n",
    "                  '(Social) Activities', \"Mom health & support\", 'Finances', 'Other']\n",
    "\n",
    "    top_n_chores_reduced=top_n_chores[[\"Category\", \"Topic\", \"Top_n_words\"]].drop_duplicates()\n",
    "    top_n_chores_reduced=top_n_chores_reduced.sort_values(by=\"Category\", key=lambda x: x.map({v: i for i, v in enumerate(category_order)}))\n",
    "\n",
    "    return top_n_chores_reduced"
   ]
  },
  {
   "cell_type": "code",
   "execution_count": 30,
   "metadata": {},
   "outputs": [],
   "source": [
    "top_n_clean_mommit_reduced=grouping_table(top_n_clean_mommit)\n",
    "top_n_clean_daddit_reduced=grouping_table(top_n_clean_daddit)"
   ]
  },
  {
   "cell_type": "code",
   "execution_count": 31,
   "metadata": {},
   "outputs": [
    {
     "data": {
      "text/html": [
       "<div>\n",
       "<style scoped>\n",
       "    .dataframe tbody tr th:only-of-type {\n",
       "        vertical-align: middle;\n",
       "    }\n",
       "\n",
       "    .dataframe tbody tr th {\n",
       "        vertical-align: top;\n",
       "    }\n",
       "\n",
       "    .dataframe thead th {\n",
       "        text-align: right;\n",
       "    }\n",
       "</style>\n",
       "<table border=\"1\" class=\"dataframe\">\n",
       "  <thead>\n",
       "    <tr style=\"text-align: right;\">\n",
       "      <th></th>\n",
       "      <th>Category</th>\n",
       "      <th>Topic</th>\n",
       "      <th>Top_n_words</th>\n",
       "    </tr>\n",
       "  </thead>\n",
       "  <tbody>\n",
       "    <tr>\n",
       "      <th>15563</th>\n",
       "      <td>Childcare</td>\n",
       "      <td>108</td>\n",
       "      <td>teacher - school - teachers - 504 - iep - stud...</td>\n",
       "    </tr>\n",
       "    <tr>\n",
       "      <th>11526</th>\n",
       "      <td>Childcare</td>\n",
       "      <td>169</td>\n",
       "      <td>year old - shower - old - naked - weird - year...</td>\n",
       "    </tr>\n",
       "    <tr>\n",
       "      <th>15561</th>\n",
       "      <td>Childcare</td>\n",
       "      <td>157</td>\n",
       "      <td>kindergarten - school - grade - preschool - st...</td>\n",
       "    </tr>\n",
       "    <tr>\n",
       "      <th>12241</th>\n",
       "      <td>Childcare</td>\n",
       "      <td>85</td>\n",
       "      <td>daycare - daycares - provider - home - home da...</td>\n",
       "    </tr>\n",
       "    <tr>\n",
       "      <th>9856</th>\n",
       "      <td>Childcare</td>\n",
       "      <td>12</td>\n",
       "      <td>formula - breastfeeding - milk - breast - fed ...</td>\n",
       "    </tr>\n",
       "    <tr>\n",
       "      <th>...</th>\n",
       "      <td>...</td>\n",
       "      <td>...</td>\n",
       "      <td>...</td>\n",
       "    </tr>\n",
       "    <tr>\n",
       "      <th>24651</th>\n",
       "      <td>Mom health &amp; support</td>\n",
       "      <td>156</td>\n",
       "      <td>ppd - ppa - ppd ppa - depression - doctor - he...</td>\n",
       "    </tr>\n",
       "    <tr>\n",
       "      <th>31582</th>\n",
       "      <td>Finances</td>\n",
       "      <td>203</td>\n",
       "      <td>taxes - file - tax - irs - filed - 2019 - stim...</td>\n",
       "    </tr>\n",
       "    <tr>\n",
       "      <th>31655</th>\n",
       "      <td>Finances</td>\n",
       "      <td>99</td>\n",
       "      <td>insurance - bill - medicaid - pay - hallway - ...</td>\n",
       "    </tr>\n",
       "    <tr>\n",
       "      <th>13245</th>\n",
       "      <td>Finances</td>\n",
       "      <td>128</td>\n",
       "      <td>childcare - daycare - pay - paying - assistanc...</td>\n",
       "    </tr>\n",
       "    <tr>\n",
       "      <th>8673</th>\n",
       "      <td>Other</td>\n",
       "      <td>142</td>\n",
       "      <td>closet - hide - cops - hid - door - hiding - r...</td>\n",
       "    </tr>\n",
       "  </tbody>\n",
       "</table>\n",
       "<p>66 rows × 3 columns</p>\n",
       "</div>"
      ],
      "text/plain": [
       "                   Category  Topic  \\\n",
       "15563             Childcare    108   \n",
       "11526             Childcare    169   \n",
       "15561             Childcare    157   \n",
       "12241             Childcare     85   \n",
       "9856              Childcare     12   \n",
       "...                     ...    ...   \n",
       "24651  Mom health & support    156   \n",
       "31582              Finances    203   \n",
       "31655              Finances     99   \n",
       "13245              Finances    128   \n",
       "8673                  Other    142   \n",
       "\n",
       "                                             Top_n_words  \n",
       "15563  teacher - school - teachers - 504 - iep - stud...  \n",
       "11526  year old - shower - old - naked - weird - year...  \n",
       "15561  kindergarten - school - grade - preschool - st...  \n",
       "12241  daycare - daycares - provider - home - home da...  \n",
       "9856   formula - breastfeeding - milk - breast - fed ...  \n",
       "...                                                  ...  \n",
       "24651  ppd - ppa - ppd ppa - depression - doctor - he...  \n",
       "31582  taxes - file - tax - irs - filed - 2019 - stim...  \n",
       "31655  insurance - bill - medicaid - pay - hallway - ...  \n",
       "13245  childcare - daycare - pay - paying - assistanc...  \n",
       "8673   closet - hide - cops - hid - door - hiding - r...  \n",
       "\n",
       "[66 rows x 3 columns]"
      ]
     },
     "execution_count": 31,
     "metadata": {},
     "output_type": "execute_result"
    }
   ],
   "source": [
    "top_n_clean_mommit_reduced"
   ]
  },
  {
   "cell_type": "code",
   "execution_count": 32,
   "metadata": {},
   "outputs": [],
   "source": [
    "# create a table\n",
    "# create_table_topics(top_n_clean_mommit_reduced, \"tables/grouping_topics_mommit\")  "
   ]
  },
  {
   "cell_type": "code",
   "execution_count": null,
   "metadata": {},
   "outputs": [],
   "source": [
    "# create_table_topics(top_n_clean_daddit_reduced, \"tables/grouping_topics_daddit\") "
   ]
  },
  {
   "attachments": {},
   "cell_type": "markdown",
   "metadata": {},
   "source": [
    "#### visualize grouped topics"
   ]
  },
  {
   "cell_type": "code",
   "execution_count": 33,
   "metadata": {},
   "outputs": [
    {
     "data": {
      "text/plain": [
       "39422"
      ]
     },
     "execution_count": 33,
     "metadata": {},
     "output_type": "execute_result"
    }
   ],
   "source": [
    "# append the top_n_clean dfs to better visualize in one graph\n",
    "top_n_clean_append = pd.concat([top_n_clean_mommit, top_n_clean_daddit])\n",
    "len(top_n_clean_append)"
   ]
  },
  {
   "cell_type": "code",
   "execution_count": 34,
   "metadata": {},
   "outputs": [],
   "source": [
    "# broad categories\n",
    "grouped_df = top_n_clean_append.groupby(['Category', 'subreddit']).size().reset_index(name='Count')"
   ]
  },
  {
   "cell_type": "code",
   "execution_count": 35,
   "metadata": {},
   "outputs": [
    {
     "data": {
      "text/html": [
       "<div>\n",
       "<style scoped>\n",
       "    .dataframe tbody tr th:only-of-type {\n",
       "        vertical-align: middle;\n",
       "    }\n",
       "\n",
       "    .dataframe tbody tr th {\n",
       "        vertical-align: top;\n",
       "    }\n",
       "\n",
       "    .dataframe thead th {\n",
       "        text-align: right;\n",
       "    }\n",
       "</style>\n",
       "<table border=\"1\" class=\"dataframe\">\n",
       "  <thead>\n",
       "    <tr style=\"text-align: right;\">\n",
       "      <th></th>\n",
       "      <th>small_categories</th>\n",
       "      <th>subreddit</th>\n",
       "      <th>Count</th>\n",
       "    </tr>\n",
       "  </thead>\n",
       "  <tbody>\n",
       "    <tr>\n",
       "      <th>0</th>\n",
       "      <td>Care work</td>\n",
       "      <td>Mommit</td>\n",
       "      <td>13911</td>\n",
       "    </tr>\n",
       "    <tr>\n",
       "      <th>1</th>\n",
       "      <td>Care work</td>\n",
       "      <td>daddit</td>\n",
       "      <td>6277</td>\n",
       "    </tr>\n",
       "    <tr>\n",
       "      <th>2</th>\n",
       "      <td>Household chores</td>\n",
       "      <td>Mommit</td>\n",
       "      <td>4856</td>\n",
       "    </tr>\n",
       "    <tr>\n",
       "      <th>3</th>\n",
       "      <td>Household chores</td>\n",
       "      <td>daddit</td>\n",
       "      <td>2794</td>\n",
       "    </tr>\n",
       "    <tr>\n",
       "      <th>4</th>\n",
       "      <td>Organization &amp; mental load</td>\n",
       "      <td>Mommit</td>\n",
       "      <td>5608</td>\n",
       "    </tr>\n",
       "    <tr>\n",
       "      <th>5</th>\n",
       "      <td>Organization &amp; mental load</td>\n",
       "      <td>daddit</td>\n",
       "      <td>5268</td>\n",
       "    </tr>\n",
       "    <tr>\n",
       "      <th>6</th>\n",
       "      <td>Other</td>\n",
       "      <td>Mommit</td>\n",
       "      <td>180</td>\n",
       "    </tr>\n",
       "    <tr>\n",
       "      <th>7</th>\n",
       "      <td>Other</td>\n",
       "      <td>daddit</td>\n",
       "      <td>528</td>\n",
       "    </tr>\n",
       "  </tbody>\n",
       "</table>\n",
       "</div>"
      ],
      "text/plain": [
       "             small_categories subreddit  Count\n",
       "0                   Care work    Mommit  13911\n",
       "1                   Care work    daddit   6277\n",
       "2            Household chores    Mommit   4856\n",
       "3            Household chores    daddit   2794\n",
       "4  Organization & mental load    Mommit   5608\n",
       "5  Organization & mental load    daddit   5268\n",
       "6                       Other    Mommit    180\n",
       "7                       Other    daddit    528"
      ]
     },
     "execution_count": 35,
     "metadata": {},
     "output_type": "execute_result"
    }
   ],
   "source": [
    "# small categories\n",
    "grouped_df_small = top_n_clean_append.groupby(['small_categories', 'subreddit']).size().reset_index(name='Count')\n",
    "grouped_df_small"
   ]
  },
  {
   "attachments": {},
   "cell_type": "markdown",
   "metadata": {},
   "source": [
    "plot categories"
   ]
  },
  {
   "cell_type": "code",
   "execution_count": 36,
   "metadata": {},
   "outputs": [
    {
     "data": {
      "application/vnd.plotly.v1+json": {
       "config": {
        "plotlyServerURL": "https://plot.ly"
       },
       "data": [
        {
         "alignmentgroup": "True",
         "hovertemplate": "subreddit=Mommit<br>Category=%{x}<br>Count=%{y}<extra></extra>",
         "legendgroup": "Mommit",
         "marker": {
          "color": "rgb(241, 133, 64)",
          "pattern": {
           "shape": ""
          }
         },
         "name": "Mommit",
         "offsetgroup": "Mommit",
         "orientation": "v",
         "showlegend": true,
         "textposition": "auto",
         "type": "bar",
         "x": [
          "(Social) Activities",
          "Child health",
          "Childcare",
          "Cleaning, laundry & house maintanance",
          "Finances",
          "Meal planning & Shopping",
          "Mom health & support",
          "Other"
         ],
         "xaxis": "x",
         "y": [
          3967,
          2293,
          11618,
          1670,
          383,
          3186,
          1258,
          180
         ],
         "yaxis": "y"
        },
        {
         "alignmentgroup": "True",
         "hovertemplate": "subreddit=daddit<br>Category=%{x}<br>Count=%{y}<extra></extra>",
         "legendgroup": "daddit",
         "marker": {
          "color": "rgb(88, 176, 95)",
          "pattern": {
           "shape": ""
          }
         },
         "name": "daddit",
         "offsetgroup": "daddit",
         "orientation": "v",
         "showlegend": true,
         "textposition": "auto",
         "type": "bar",
         "x": [
          "(Social) Activities",
          "Child health",
          "Childcare",
          "Cleaning, laundry & house maintanance",
          "Finances",
          "Meal planning & Shopping",
          "Mom health & support",
          "Other"
         ],
         "xaxis": "x",
         "y": [
          2974,
          1263,
          5014,
          880,
          1516,
          1914,
          778,
          528
         ],
         "yaxis": "y"
        }
       ],
       "layout": {
        "barmode": "group",
        "height": 800,
        "legend": {
         "font": {
          "size": 18
         },
         "title": {
          "font": {
           "size": 22
          },
          "text": "Subreddit"
         },
         "tracegroupgap": 0
        },
        "margin": {
         "t": 60
        },
        "plot_bgcolor": "white",
        "template": {
         "data": {
          "bar": [
           {
            "error_x": {
             "color": "#2a3f5f"
            },
            "error_y": {
             "color": "#2a3f5f"
            },
            "marker": {
             "line": {
              "color": "#E5ECF6",
              "width": 0.5
             },
             "pattern": {
              "fillmode": "overlay",
              "size": 10,
              "solidity": 0.2
             }
            },
            "type": "bar"
           }
          ],
          "barpolar": [
           {
            "marker": {
             "line": {
              "color": "#E5ECF6",
              "width": 0.5
             },
             "pattern": {
              "fillmode": "overlay",
              "size": 10,
              "solidity": 0.2
             }
            },
            "type": "barpolar"
           }
          ],
          "carpet": [
           {
            "aaxis": {
             "endlinecolor": "#2a3f5f",
             "gridcolor": "white",
             "linecolor": "white",
             "minorgridcolor": "white",
             "startlinecolor": "#2a3f5f"
            },
            "baxis": {
             "endlinecolor": "#2a3f5f",
             "gridcolor": "white",
             "linecolor": "white",
             "minorgridcolor": "white",
             "startlinecolor": "#2a3f5f"
            },
            "type": "carpet"
           }
          ],
          "choropleth": [
           {
            "colorbar": {
             "outlinewidth": 0,
             "ticks": ""
            },
            "type": "choropleth"
           }
          ],
          "contour": [
           {
            "colorbar": {
             "outlinewidth": 0,
             "ticks": ""
            },
            "colorscale": [
             [
              0,
              "#0d0887"
             ],
             [
              0.1111111111111111,
              "#46039f"
             ],
             [
              0.2222222222222222,
              "#7201a8"
             ],
             [
              0.3333333333333333,
              "#9c179e"
             ],
             [
              0.4444444444444444,
              "#bd3786"
             ],
             [
              0.5555555555555556,
              "#d8576b"
             ],
             [
              0.6666666666666666,
              "#ed7953"
             ],
             [
              0.7777777777777778,
              "#fb9f3a"
             ],
             [
              0.8888888888888888,
              "#fdca26"
             ],
             [
              1,
              "#f0f921"
             ]
            ],
            "type": "contour"
           }
          ],
          "contourcarpet": [
           {
            "colorbar": {
             "outlinewidth": 0,
             "ticks": ""
            },
            "type": "contourcarpet"
           }
          ],
          "heatmap": [
           {
            "colorbar": {
             "outlinewidth": 0,
             "ticks": ""
            },
            "colorscale": [
             [
              0,
              "#0d0887"
             ],
             [
              0.1111111111111111,
              "#46039f"
             ],
             [
              0.2222222222222222,
              "#7201a8"
             ],
             [
              0.3333333333333333,
              "#9c179e"
             ],
             [
              0.4444444444444444,
              "#bd3786"
             ],
             [
              0.5555555555555556,
              "#d8576b"
             ],
             [
              0.6666666666666666,
              "#ed7953"
             ],
             [
              0.7777777777777778,
              "#fb9f3a"
             ],
             [
              0.8888888888888888,
              "#fdca26"
             ],
             [
              1,
              "#f0f921"
             ]
            ],
            "type": "heatmap"
           }
          ],
          "heatmapgl": [
           {
            "colorbar": {
             "outlinewidth": 0,
             "ticks": ""
            },
            "colorscale": [
             [
              0,
              "#0d0887"
             ],
             [
              0.1111111111111111,
              "#46039f"
             ],
             [
              0.2222222222222222,
              "#7201a8"
             ],
             [
              0.3333333333333333,
              "#9c179e"
             ],
             [
              0.4444444444444444,
              "#bd3786"
             ],
             [
              0.5555555555555556,
              "#d8576b"
             ],
             [
              0.6666666666666666,
              "#ed7953"
             ],
             [
              0.7777777777777778,
              "#fb9f3a"
             ],
             [
              0.8888888888888888,
              "#fdca26"
             ],
             [
              1,
              "#f0f921"
             ]
            ],
            "type": "heatmapgl"
           }
          ],
          "histogram": [
           {
            "marker": {
             "pattern": {
              "fillmode": "overlay",
              "size": 10,
              "solidity": 0.2
             }
            },
            "type": "histogram"
           }
          ],
          "histogram2d": [
           {
            "colorbar": {
             "outlinewidth": 0,
             "ticks": ""
            },
            "colorscale": [
             [
              0,
              "#0d0887"
             ],
             [
              0.1111111111111111,
              "#46039f"
             ],
             [
              0.2222222222222222,
              "#7201a8"
             ],
             [
              0.3333333333333333,
              "#9c179e"
             ],
             [
              0.4444444444444444,
              "#bd3786"
             ],
             [
              0.5555555555555556,
              "#d8576b"
             ],
             [
              0.6666666666666666,
              "#ed7953"
             ],
             [
              0.7777777777777778,
              "#fb9f3a"
             ],
             [
              0.8888888888888888,
              "#fdca26"
             ],
             [
              1,
              "#f0f921"
             ]
            ],
            "type": "histogram2d"
           }
          ],
          "histogram2dcontour": [
           {
            "colorbar": {
             "outlinewidth": 0,
             "ticks": ""
            },
            "colorscale": [
             [
              0,
              "#0d0887"
             ],
             [
              0.1111111111111111,
              "#46039f"
             ],
             [
              0.2222222222222222,
              "#7201a8"
             ],
             [
              0.3333333333333333,
              "#9c179e"
             ],
             [
              0.4444444444444444,
              "#bd3786"
             ],
             [
              0.5555555555555556,
              "#d8576b"
             ],
             [
              0.6666666666666666,
              "#ed7953"
             ],
             [
              0.7777777777777778,
              "#fb9f3a"
             ],
             [
              0.8888888888888888,
              "#fdca26"
             ],
             [
              1,
              "#f0f921"
             ]
            ],
            "type": "histogram2dcontour"
           }
          ],
          "mesh3d": [
           {
            "colorbar": {
             "outlinewidth": 0,
             "ticks": ""
            },
            "type": "mesh3d"
           }
          ],
          "parcoords": [
           {
            "line": {
             "colorbar": {
              "outlinewidth": 0,
              "ticks": ""
             }
            },
            "type": "parcoords"
           }
          ],
          "pie": [
           {
            "automargin": true,
            "type": "pie"
           }
          ],
          "scatter": [
           {
            "fillpattern": {
             "fillmode": "overlay",
             "size": 10,
             "solidity": 0.2
            },
            "type": "scatter"
           }
          ],
          "scatter3d": [
           {
            "line": {
             "colorbar": {
              "outlinewidth": 0,
              "ticks": ""
             }
            },
            "marker": {
             "colorbar": {
              "outlinewidth": 0,
              "ticks": ""
             }
            },
            "type": "scatter3d"
           }
          ],
          "scattercarpet": [
           {
            "marker": {
             "colorbar": {
              "outlinewidth": 0,
              "ticks": ""
             }
            },
            "type": "scattercarpet"
           }
          ],
          "scattergeo": [
           {
            "marker": {
             "colorbar": {
              "outlinewidth": 0,
              "ticks": ""
             }
            },
            "type": "scattergeo"
           }
          ],
          "scattergl": [
           {
            "marker": {
             "colorbar": {
              "outlinewidth": 0,
              "ticks": ""
             }
            },
            "type": "scattergl"
           }
          ],
          "scattermapbox": [
           {
            "marker": {
             "colorbar": {
              "outlinewidth": 0,
              "ticks": ""
             }
            },
            "type": "scattermapbox"
           }
          ],
          "scatterpolar": [
           {
            "marker": {
             "colorbar": {
              "outlinewidth": 0,
              "ticks": ""
             }
            },
            "type": "scatterpolar"
           }
          ],
          "scatterpolargl": [
           {
            "marker": {
             "colorbar": {
              "outlinewidth": 0,
              "ticks": ""
             }
            },
            "type": "scatterpolargl"
           }
          ],
          "scatterternary": [
           {
            "marker": {
             "colorbar": {
              "outlinewidth": 0,
              "ticks": ""
             }
            },
            "type": "scatterternary"
           }
          ],
          "surface": [
           {
            "colorbar": {
             "outlinewidth": 0,
             "ticks": ""
            },
            "colorscale": [
             [
              0,
              "#0d0887"
             ],
             [
              0.1111111111111111,
              "#46039f"
             ],
             [
              0.2222222222222222,
              "#7201a8"
             ],
             [
              0.3333333333333333,
              "#9c179e"
             ],
             [
              0.4444444444444444,
              "#bd3786"
             ],
             [
              0.5555555555555556,
              "#d8576b"
             ],
             [
              0.6666666666666666,
              "#ed7953"
             ],
             [
              0.7777777777777778,
              "#fb9f3a"
             ],
             [
              0.8888888888888888,
              "#fdca26"
             ],
             [
              1,
              "#f0f921"
             ]
            ],
            "type": "surface"
           }
          ],
          "table": [
           {
            "cells": {
             "fill": {
              "color": "#EBF0F8"
             },
             "line": {
              "color": "white"
             }
            },
            "header": {
             "fill": {
              "color": "#C8D4E3"
             },
             "line": {
              "color": "white"
             }
            },
            "type": "table"
           }
          ]
         },
         "layout": {
          "annotationdefaults": {
           "arrowcolor": "#2a3f5f",
           "arrowhead": 0,
           "arrowwidth": 1
          },
          "autotypenumbers": "strict",
          "coloraxis": {
           "colorbar": {
            "outlinewidth": 0,
            "ticks": ""
           }
          },
          "colorscale": {
           "diverging": [
            [
             0,
             "#8e0152"
            ],
            [
             0.1,
             "#c51b7d"
            ],
            [
             0.2,
             "#de77ae"
            ],
            [
             0.3,
             "#f1b6da"
            ],
            [
             0.4,
             "#fde0ef"
            ],
            [
             0.5,
             "#f7f7f7"
            ],
            [
             0.6,
             "#e6f5d0"
            ],
            [
             0.7,
             "#b8e186"
            ],
            [
             0.8,
             "#7fbc41"
            ],
            [
             0.9,
             "#4d9221"
            ],
            [
             1,
             "#276419"
            ]
           ],
           "sequential": [
            [
             0,
             "#0d0887"
            ],
            [
             0.1111111111111111,
             "#46039f"
            ],
            [
             0.2222222222222222,
             "#7201a8"
            ],
            [
             0.3333333333333333,
             "#9c179e"
            ],
            [
             0.4444444444444444,
             "#bd3786"
            ],
            [
             0.5555555555555556,
             "#d8576b"
            ],
            [
             0.6666666666666666,
             "#ed7953"
            ],
            [
             0.7777777777777778,
             "#fb9f3a"
            ],
            [
             0.8888888888888888,
             "#fdca26"
            ],
            [
             1,
             "#f0f921"
            ]
           ],
           "sequentialminus": [
            [
             0,
             "#0d0887"
            ],
            [
             0.1111111111111111,
             "#46039f"
            ],
            [
             0.2222222222222222,
             "#7201a8"
            ],
            [
             0.3333333333333333,
             "#9c179e"
            ],
            [
             0.4444444444444444,
             "#bd3786"
            ],
            [
             0.5555555555555556,
             "#d8576b"
            ],
            [
             0.6666666666666666,
             "#ed7953"
            ],
            [
             0.7777777777777778,
             "#fb9f3a"
            ],
            [
             0.8888888888888888,
             "#fdca26"
            ],
            [
             1,
             "#f0f921"
            ]
           ]
          },
          "colorway": [
           "#636efa",
           "#EF553B",
           "#00cc96",
           "#ab63fa",
           "#FFA15A",
           "#19d3f3",
           "#FF6692",
           "#B6E880",
           "#FF97FF",
           "#FECB52"
          ],
          "font": {
           "color": "#2a3f5f"
          },
          "geo": {
           "bgcolor": "white",
           "lakecolor": "white",
           "landcolor": "#E5ECF6",
           "showlakes": true,
           "showland": true,
           "subunitcolor": "white"
          },
          "hoverlabel": {
           "align": "left"
          },
          "hovermode": "closest",
          "mapbox": {
           "style": "light"
          },
          "paper_bgcolor": "white",
          "plot_bgcolor": "#E5ECF6",
          "polar": {
           "angularaxis": {
            "gridcolor": "white",
            "linecolor": "white",
            "ticks": ""
           },
           "bgcolor": "#E5ECF6",
           "radialaxis": {
            "gridcolor": "white",
            "linecolor": "white",
            "ticks": ""
           }
          },
          "scene": {
           "xaxis": {
            "backgroundcolor": "#E5ECF6",
            "gridcolor": "white",
            "gridwidth": 2,
            "linecolor": "white",
            "showbackground": true,
            "ticks": "",
            "zerolinecolor": "white"
           },
           "yaxis": {
            "backgroundcolor": "#E5ECF6",
            "gridcolor": "white",
            "gridwidth": 2,
            "linecolor": "white",
            "showbackground": true,
            "ticks": "",
            "zerolinecolor": "white"
           },
           "zaxis": {
            "backgroundcolor": "#E5ECF6",
            "gridcolor": "white",
            "gridwidth": 2,
            "linecolor": "white",
            "showbackground": true,
            "ticks": "",
            "zerolinecolor": "white"
           }
          },
          "shapedefaults": {
           "line": {
            "color": "#2a3f5f"
           }
          },
          "ternary": {
           "aaxis": {
            "gridcolor": "white",
            "linecolor": "white",
            "ticks": ""
           },
           "baxis": {
            "gridcolor": "white",
            "linecolor": "white",
            "ticks": ""
           },
           "bgcolor": "#E5ECF6",
           "caxis": {
            "gridcolor": "white",
            "linecolor": "white",
            "ticks": ""
           }
          },
          "title": {
           "x": 0.05
          },
          "xaxis": {
           "automargin": true,
           "gridcolor": "white",
           "linecolor": "white",
           "ticks": "",
           "title": {
            "standoff": 15
           },
           "zerolinecolor": "white",
           "zerolinewidth": 2
          },
          "yaxis": {
           "automargin": true,
           "gridcolor": "white",
           "linecolor": "white",
           "ticks": "",
           "title": {
            "standoff": 15
           },
           "zerolinecolor": "white",
           "zerolinewidth": 2
          }
         }
        },
        "title": {
         "font": {
          "family": "Calibri",
          "size": 32
         },
         "text": "Posts with topics on home responsibilities by category"
        },
        "width": 1000,
        "xaxis": {
         "anchor": "y",
         "categoryarray": [
          "Childcare",
          "Child health",
          "Cleaning, laundry & house maintanance",
          "Meal planning & Shopping",
          "(Social) Activities",
          "Mom health & support",
          "Finances",
          "Other"
         ],
         "categoryorder": "array",
         "domain": [
          0,
          1
         ],
         "gridcolor": "lightgrey",
         "gridwidth": 0.5,
         "showgrid": true,
         "tickfont": {
          "family": "Calibri",
          "size": 24
         },
         "title": {
          "font": {
           "family": "Calibri",
           "size": 24
          },
          "text": ""
         }
        },
        "yaxis": {
         "anchor": "x",
         "domain": [
          0,
          1
         ],
         "gridcolor": "lightgrey",
         "gridwidth": 0.5,
         "showgrid": true,
         "tickfont": {
          "family": "Calibri",
          "size": 24
         },
         "title": {
          "font": {
           "family": "Calibri",
           "size": 24
          },
          "text": "Count"
         }
        }
       }
      }
     },
     "metadata": {},
     "output_type": "display_data"
    }
   ],
   "source": [
    "# broader categories\n",
    "category_order = ['Childcare', 'Child health', 'Cleaning, laundry & house maintanance', 'Meal planning & Shopping',\n",
    "                  '(Social) Activities', \"Mom health & support\", 'Finances', 'Other']\n",
    "\n",
    "colors = [\"rgb(241, 133, 64)\", \"rgb(88, 176, 95)\"]\n",
    "\n",
    "\n",
    "fig = px.bar(grouped_df, x='Category', y=\"Count\", color=\"subreddit\", barmode=\"group\", category_orders={'Category': category_order}, height=800, width=1000) # mit 500 & 1200 vergleichen\n",
    "\n",
    "# Assigning the shades of grey to bar colors\n",
    "for i, color in enumerate(colors):\n",
    "    fig.update_traces(selector=dict(name=grouped_df['subreddit'].unique()[i]), marker_color=color)\n",
    "\n",
    "\n",
    "fig.update_layout(\n",
    "    legend=dict(\n",
    "        title='Subreddit',\n",
    "        font=(dict(size=18)),\n",
    "        title_font=dict(size=22)\n",
    "    ),\n",
    "    xaxis=dict(\n",
    "        showgrid=True,  # Display x-axis grid lines\n",
    "        gridcolor='lightgrey',  # Set the color of the x-axis grid lines\n",
    "        gridwidth=0.5  # Set the width of the x-axis grid lines\n",
    "    ),\n",
    "    yaxis=dict(\n",
    "        showgrid=True,  # Display y-axis grid lines\n",
    "        gridcolor='lightgrey',  # Set the color of the y-axis grid lines\n",
    "        gridwidth=0.5  # Set the width of the y-axis grid lines\n",
    "    )\n",
    ")\n",
    "\n",
    "# Updating layout and axis labels\n",
    "fig.update_layout(\n",
    "    plot_bgcolor='white',\n",
    "    title={\n",
    "        'text': 'Posts with topics on home responsibilities by category',\n",
    "        'font': {'size': 32, 'family': 'Calibri'}  # Adjust the size and family of the title font as desired\n",
    "    },\n",
    "    xaxis_title='',\n",
    "    yaxis_title='Count',\n",
    "    xaxis={\n",
    "        'title': {'font': {'size': 24, 'family': 'Calibri'}},  # Adjust the size and family of the x-axis label as desired\n",
    "        'tickfont': {'size': 24, 'family': 'Calibri'}  # Adjust the size and family of the x-axis tick labels as desired\n",
    "    },\n",
    "    yaxis={\n",
    "        'title': {'font': {'size': 24, 'family': 'Calibri'}},  # Adjust the size and family of the y-axis label as desired\n",
    "        'tickfont': {'size': 24, 'family': 'Calibri'},  # Adjust the size and family of the y-axis tick labels as desired\n",
    "    }\n",
    ")\n",
    "\n",
    "\n",
    "fig.show()\n"
   ]
  },
  {
   "cell_type": "code",
   "execution_count": 37,
   "metadata": {},
   "outputs": [
    {
     "data": {
      "application/vnd.plotly.v1+json": {
       "config": {
        "plotlyServerURL": "https://plot.ly"
       },
       "data": [
        {
         "alignmentgroup": "True",
         "hovertemplate": "subreddit=Mommit<br>small_categories=%{x}<br>Count=%{y}<extra></extra>",
         "legendgroup": "Mommit",
         "marker": {
          "color": "rgb(241, 133, 64)",
          "pattern": {
           "shape": ""
          }
         },
         "name": "Mommit",
         "offsetgroup": "Mommit",
         "orientation": "v",
         "showlegend": true,
         "textposition": "auto",
         "type": "bar",
         "x": [
          "Care work",
          "Household chores",
          "Organization & mental load",
          "Other"
         ],
         "xaxis": "x",
         "y": [
          13911,
          4856,
          5608,
          180
         ],
         "yaxis": "y"
        },
        {
         "alignmentgroup": "True",
         "hovertemplate": "subreddit=daddit<br>small_categories=%{x}<br>Count=%{y}<extra></extra>",
         "legendgroup": "daddit",
         "marker": {
          "color": "rgb(88, 176, 95)",
          "pattern": {
           "shape": ""
          }
         },
         "name": "daddit",
         "offsetgroup": "daddit",
         "orientation": "v",
         "showlegend": true,
         "textposition": "auto",
         "type": "bar",
         "x": [
          "Care work",
          "Household chores",
          "Organization & mental load",
          "Other"
         ],
         "xaxis": "x",
         "y": [
          6277,
          2794,
          5268,
          528
         ],
         "yaxis": "y"
        }
       ],
       "layout": {
        "barmode": "group",
        "height": 800,
        "legend": {
         "title": {
          "font": {
           "size": 14
          },
          "text": "Subreddit"
         },
         "tracegroupgap": 0
        },
        "margin": {
         "t": 60
        },
        "plot_bgcolor": "white",
        "template": {
         "data": {
          "bar": [
           {
            "error_x": {
             "color": "#2a3f5f"
            },
            "error_y": {
             "color": "#2a3f5f"
            },
            "marker": {
             "line": {
              "color": "#E5ECF6",
              "width": 0.5
             },
             "pattern": {
              "fillmode": "overlay",
              "size": 10,
              "solidity": 0.2
             }
            },
            "type": "bar"
           }
          ],
          "barpolar": [
           {
            "marker": {
             "line": {
              "color": "#E5ECF6",
              "width": 0.5
             },
             "pattern": {
              "fillmode": "overlay",
              "size": 10,
              "solidity": 0.2
             }
            },
            "type": "barpolar"
           }
          ],
          "carpet": [
           {
            "aaxis": {
             "endlinecolor": "#2a3f5f",
             "gridcolor": "white",
             "linecolor": "white",
             "minorgridcolor": "white",
             "startlinecolor": "#2a3f5f"
            },
            "baxis": {
             "endlinecolor": "#2a3f5f",
             "gridcolor": "white",
             "linecolor": "white",
             "minorgridcolor": "white",
             "startlinecolor": "#2a3f5f"
            },
            "type": "carpet"
           }
          ],
          "choropleth": [
           {
            "colorbar": {
             "outlinewidth": 0,
             "ticks": ""
            },
            "type": "choropleth"
           }
          ],
          "contour": [
           {
            "colorbar": {
             "outlinewidth": 0,
             "ticks": ""
            },
            "colorscale": [
             [
              0,
              "#0d0887"
             ],
             [
              0.1111111111111111,
              "#46039f"
             ],
             [
              0.2222222222222222,
              "#7201a8"
             ],
             [
              0.3333333333333333,
              "#9c179e"
             ],
             [
              0.4444444444444444,
              "#bd3786"
             ],
             [
              0.5555555555555556,
              "#d8576b"
             ],
             [
              0.6666666666666666,
              "#ed7953"
             ],
             [
              0.7777777777777778,
              "#fb9f3a"
             ],
             [
              0.8888888888888888,
              "#fdca26"
             ],
             [
              1,
              "#f0f921"
             ]
            ],
            "type": "contour"
           }
          ],
          "contourcarpet": [
           {
            "colorbar": {
             "outlinewidth": 0,
             "ticks": ""
            },
            "type": "contourcarpet"
           }
          ],
          "heatmap": [
           {
            "colorbar": {
             "outlinewidth": 0,
             "ticks": ""
            },
            "colorscale": [
             [
              0,
              "#0d0887"
             ],
             [
              0.1111111111111111,
              "#46039f"
             ],
             [
              0.2222222222222222,
              "#7201a8"
             ],
             [
              0.3333333333333333,
              "#9c179e"
             ],
             [
              0.4444444444444444,
              "#bd3786"
             ],
             [
              0.5555555555555556,
              "#d8576b"
             ],
             [
              0.6666666666666666,
              "#ed7953"
             ],
             [
              0.7777777777777778,
              "#fb9f3a"
             ],
             [
              0.8888888888888888,
              "#fdca26"
             ],
             [
              1,
              "#f0f921"
             ]
            ],
            "type": "heatmap"
           }
          ],
          "heatmapgl": [
           {
            "colorbar": {
             "outlinewidth": 0,
             "ticks": ""
            },
            "colorscale": [
             [
              0,
              "#0d0887"
             ],
             [
              0.1111111111111111,
              "#46039f"
             ],
             [
              0.2222222222222222,
              "#7201a8"
             ],
             [
              0.3333333333333333,
              "#9c179e"
             ],
             [
              0.4444444444444444,
              "#bd3786"
             ],
             [
              0.5555555555555556,
              "#d8576b"
             ],
             [
              0.6666666666666666,
              "#ed7953"
             ],
             [
              0.7777777777777778,
              "#fb9f3a"
             ],
             [
              0.8888888888888888,
              "#fdca26"
             ],
             [
              1,
              "#f0f921"
             ]
            ],
            "type": "heatmapgl"
           }
          ],
          "histogram": [
           {
            "marker": {
             "pattern": {
              "fillmode": "overlay",
              "size": 10,
              "solidity": 0.2
             }
            },
            "type": "histogram"
           }
          ],
          "histogram2d": [
           {
            "colorbar": {
             "outlinewidth": 0,
             "ticks": ""
            },
            "colorscale": [
             [
              0,
              "#0d0887"
             ],
             [
              0.1111111111111111,
              "#46039f"
             ],
             [
              0.2222222222222222,
              "#7201a8"
             ],
             [
              0.3333333333333333,
              "#9c179e"
             ],
             [
              0.4444444444444444,
              "#bd3786"
             ],
             [
              0.5555555555555556,
              "#d8576b"
             ],
             [
              0.6666666666666666,
              "#ed7953"
             ],
             [
              0.7777777777777778,
              "#fb9f3a"
             ],
             [
              0.8888888888888888,
              "#fdca26"
             ],
             [
              1,
              "#f0f921"
             ]
            ],
            "type": "histogram2d"
           }
          ],
          "histogram2dcontour": [
           {
            "colorbar": {
             "outlinewidth": 0,
             "ticks": ""
            },
            "colorscale": [
             [
              0,
              "#0d0887"
             ],
             [
              0.1111111111111111,
              "#46039f"
             ],
             [
              0.2222222222222222,
              "#7201a8"
             ],
             [
              0.3333333333333333,
              "#9c179e"
             ],
             [
              0.4444444444444444,
              "#bd3786"
             ],
             [
              0.5555555555555556,
              "#d8576b"
             ],
             [
              0.6666666666666666,
              "#ed7953"
             ],
             [
              0.7777777777777778,
              "#fb9f3a"
             ],
             [
              0.8888888888888888,
              "#fdca26"
             ],
             [
              1,
              "#f0f921"
             ]
            ],
            "type": "histogram2dcontour"
           }
          ],
          "mesh3d": [
           {
            "colorbar": {
             "outlinewidth": 0,
             "ticks": ""
            },
            "type": "mesh3d"
           }
          ],
          "parcoords": [
           {
            "line": {
             "colorbar": {
              "outlinewidth": 0,
              "ticks": ""
             }
            },
            "type": "parcoords"
           }
          ],
          "pie": [
           {
            "automargin": true,
            "type": "pie"
           }
          ],
          "scatter": [
           {
            "fillpattern": {
             "fillmode": "overlay",
             "size": 10,
             "solidity": 0.2
            },
            "type": "scatter"
           }
          ],
          "scatter3d": [
           {
            "line": {
             "colorbar": {
              "outlinewidth": 0,
              "ticks": ""
             }
            },
            "marker": {
             "colorbar": {
              "outlinewidth": 0,
              "ticks": ""
             }
            },
            "type": "scatter3d"
           }
          ],
          "scattercarpet": [
           {
            "marker": {
             "colorbar": {
              "outlinewidth": 0,
              "ticks": ""
             }
            },
            "type": "scattercarpet"
           }
          ],
          "scattergeo": [
           {
            "marker": {
             "colorbar": {
              "outlinewidth": 0,
              "ticks": ""
             }
            },
            "type": "scattergeo"
           }
          ],
          "scattergl": [
           {
            "marker": {
             "colorbar": {
              "outlinewidth": 0,
              "ticks": ""
             }
            },
            "type": "scattergl"
           }
          ],
          "scattermapbox": [
           {
            "marker": {
             "colorbar": {
              "outlinewidth": 0,
              "ticks": ""
             }
            },
            "type": "scattermapbox"
           }
          ],
          "scatterpolar": [
           {
            "marker": {
             "colorbar": {
              "outlinewidth": 0,
              "ticks": ""
             }
            },
            "type": "scatterpolar"
           }
          ],
          "scatterpolargl": [
           {
            "marker": {
             "colorbar": {
              "outlinewidth": 0,
              "ticks": ""
             }
            },
            "type": "scatterpolargl"
           }
          ],
          "scatterternary": [
           {
            "marker": {
             "colorbar": {
              "outlinewidth": 0,
              "ticks": ""
             }
            },
            "type": "scatterternary"
           }
          ],
          "surface": [
           {
            "colorbar": {
             "outlinewidth": 0,
             "ticks": ""
            },
            "colorscale": [
             [
              0,
              "#0d0887"
             ],
             [
              0.1111111111111111,
              "#46039f"
             ],
             [
              0.2222222222222222,
              "#7201a8"
             ],
             [
              0.3333333333333333,
              "#9c179e"
             ],
             [
              0.4444444444444444,
              "#bd3786"
             ],
             [
              0.5555555555555556,
              "#d8576b"
             ],
             [
              0.6666666666666666,
              "#ed7953"
             ],
             [
              0.7777777777777778,
              "#fb9f3a"
             ],
             [
              0.8888888888888888,
              "#fdca26"
             ],
             [
              1,
              "#f0f921"
             ]
            ],
            "type": "surface"
           }
          ],
          "table": [
           {
            "cells": {
             "fill": {
              "color": "#EBF0F8"
             },
             "line": {
              "color": "white"
             }
            },
            "header": {
             "fill": {
              "color": "#C8D4E3"
             },
             "line": {
              "color": "white"
             }
            },
            "type": "table"
           }
          ]
         },
         "layout": {
          "annotationdefaults": {
           "arrowcolor": "#2a3f5f",
           "arrowhead": 0,
           "arrowwidth": 1
          },
          "autotypenumbers": "strict",
          "coloraxis": {
           "colorbar": {
            "outlinewidth": 0,
            "ticks": ""
           }
          },
          "colorscale": {
           "diverging": [
            [
             0,
             "#8e0152"
            ],
            [
             0.1,
             "#c51b7d"
            ],
            [
             0.2,
             "#de77ae"
            ],
            [
             0.3,
             "#f1b6da"
            ],
            [
             0.4,
             "#fde0ef"
            ],
            [
             0.5,
             "#f7f7f7"
            ],
            [
             0.6,
             "#e6f5d0"
            ],
            [
             0.7,
             "#b8e186"
            ],
            [
             0.8,
             "#7fbc41"
            ],
            [
             0.9,
             "#4d9221"
            ],
            [
             1,
             "#276419"
            ]
           ],
           "sequential": [
            [
             0,
             "#0d0887"
            ],
            [
             0.1111111111111111,
             "#46039f"
            ],
            [
             0.2222222222222222,
             "#7201a8"
            ],
            [
             0.3333333333333333,
             "#9c179e"
            ],
            [
             0.4444444444444444,
             "#bd3786"
            ],
            [
             0.5555555555555556,
             "#d8576b"
            ],
            [
             0.6666666666666666,
             "#ed7953"
            ],
            [
             0.7777777777777778,
             "#fb9f3a"
            ],
            [
             0.8888888888888888,
             "#fdca26"
            ],
            [
             1,
             "#f0f921"
            ]
           ],
           "sequentialminus": [
            [
             0,
             "#0d0887"
            ],
            [
             0.1111111111111111,
             "#46039f"
            ],
            [
             0.2222222222222222,
             "#7201a8"
            ],
            [
             0.3333333333333333,
             "#9c179e"
            ],
            [
             0.4444444444444444,
             "#bd3786"
            ],
            [
             0.5555555555555556,
             "#d8576b"
            ],
            [
             0.6666666666666666,
             "#ed7953"
            ],
            [
             0.7777777777777778,
             "#fb9f3a"
            ],
            [
             0.8888888888888888,
             "#fdca26"
            ],
            [
             1,
             "#f0f921"
            ]
           ]
          },
          "colorway": [
           "#636efa",
           "#EF553B",
           "#00cc96",
           "#ab63fa",
           "#FFA15A",
           "#19d3f3",
           "#FF6692",
           "#B6E880",
           "#FF97FF",
           "#FECB52"
          ],
          "font": {
           "color": "#2a3f5f"
          },
          "geo": {
           "bgcolor": "white",
           "lakecolor": "white",
           "landcolor": "#E5ECF6",
           "showlakes": true,
           "showland": true,
           "subunitcolor": "white"
          },
          "hoverlabel": {
           "align": "left"
          },
          "hovermode": "closest",
          "mapbox": {
           "style": "light"
          },
          "paper_bgcolor": "white",
          "plot_bgcolor": "#E5ECF6",
          "polar": {
           "angularaxis": {
            "gridcolor": "white",
            "linecolor": "white",
            "ticks": ""
           },
           "bgcolor": "#E5ECF6",
           "radialaxis": {
            "gridcolor": "white",
            "linecolor": "white",
            "ticks": ""
           }
          },
          "scene": {
           "xaxis": {
            "backgroundcolor": "#E5ECF6",
            "gridcolor": "white",
            "gridwidth": 2,
            "linecolor": "white",
            "showbackground": true,
            "ticks": "",
            "zerolinecolor": "white"
           },
           "yaxis": {
            "backgroundcolor": "#E5ECF6",
            "gridcolor": "white",
            "gridwidth": 2,
            "linecolor": "white",
            "showbackground": true,
            "ticks": "",
            "zerolinecolor": "white"
           },
           "zaxis": {
            "backgroundcolor": "#E5ECF6",
            "gridcolor": "white",
            "gridwidth": 2,
            "linecolor": "white",
            "showbackground": true,
            "ticks": "",
            "zerolinecolor": "white"
           }
          },
          "shapedefaults": {
           "line": {
            "color": "#2a3f5f"
           }
          },
          "ternary": {
           "aaxis": {
            "gridcolor": "white",
            "linecolor": "white",
            "ticks": ""
           },
           "baxis": {
            "gridcolor": "white",
            "linecolor": "white",
            "ticks": ""
           },
           "bgcolor": "#E5ECF6",
           "caxis": {
            "gridcolor": "white",
            "linecolor": "white",
            "ticks": ""
           }
          },
          "title": {
           "x": 0.05
          },
          "xaxis": {
           "automargin": true,
           "gridcolor": "white",
           "linecolor": "white",
           "ticks": "",
           "title": {
            "standoff": 15
           },
           "zerolinecolor": "white",
           "zerolinewidth": 2
          },
          "yaxis": {
           "automargin": true,
           "gridcolor": "white",
           "linecolor": "white",
           "ticks": "",
           "title": {
            "standoff": 15
           },
           "zerolinecolor": "white",
           "zerolinewidth": 2
          }
         }
        },
        "title": {
         "font": {
          "family": "Calibri",
          "size": 32
         },
         "text": "Postings by category and subreddit"
        },
        "width": 800,
        "xaxis": {
         "anchor": "y",
         "categoryarray": [
          "Care work",
          "Household chores",
          "Organization & mental load"
         ],
         "categoryorder": "array",
         "domain": [
          0,
          1
         ],
         "gridcolor": "lightgrey",
         "gridwidth": 0.5,
         "showgrid": true,
         "tickfont": {
          "family": "Calibri",
          "size": 24
         },
         "title": {
          "font": {
           "family": "Calibri",
           "size": 24
          },
          "text": ""
         }
        },
        "yaxis": {
         "anchor": "x",
         "domain": [
          0,
          1
         ],
         "gridcolor": "lightgrey",
         "gridwidth": 0.5,
         "showgrid": true,
         "tickfont": {
          "family": "Calibri",
          "size": 24
         },
         "title": {
          "font": {
           "family": "Calibri",
           "size": 24
          },
          "text": "Count"
         }
        }
       }
      }
     },
     "metadata": {},
     "output_type": "display_data"
    }
   ],
   "source": [
    "# smaller categories\n",
    "category_order = [\"Care work\", 'Household chores', 'Organization & mental load']\n",
    "\n",
    "colors = [\"rgb(241, 133, 64)\", \"rgb(88, 176, 95)\"]\n",
    "\n",
    "\n",
    "fig = px.bar(grouped_df_small, x='small_categories', y=\"Count\", color=\"subreddit\", barmode=\"group\", category_orders={'small_categories': category_order}, height=800, width=800)\n",
    "\n",
    "# Assigning the shades of grey to bar colors\n",
    "for i, color in enumerate(colors):\n",
    "    fig.update_traces(selector=dict(name=grouped_df_small['subreddit'].unique()[i]), marker_color=color)\n",
    "\n",
    "\n",
    "fig.update_layout(\n",
    "    legend=dict(\n",
    "        title='Subreddit',\n",
    "        title_font=dict(size=14)\n",
    "    ),\n",
    "    xaxis=dict(\n",
    "        showgrid=True,  # Display x-axis grid lines\n",
    "        gridcolor='lightgrey',  # Set the color of the x-axis grid lines\n",
    "        gridwidth=0.5  # Set the width of the x-axis grid lines\n",
    "    ),\n",
    "    yaxis=dict(\n",
    "        showgrid=True,  # Display y-axis grid lines\n",
    "        gridcolor='lightgrey',  # Set the color of the y-axis grid lines\n",
    "        gridwidth=0.5  # Set the width of the y-axis grid lines\n",
    "    )\n",
    ")\n",
    "\n",
    "# Updating layout and axis labels\n",
    "fig.update_layout(\n",
    "    plot_bgcolor='white',\n",
    "    title={\n",
    "        'text': 'Postings by category and subreddit',\n",
    "        'font': {'size': 32, 'family': 'Calibri'}  # Adjust the size and family of the title font as desired\n",
    "    },\n",
    "    xaxis_title='',\n",
    "    yaxis_title='Count',\n",
    "    xaxis={\n",
    "        'title': {'font': {'size': 24, 'family': 'Calibri'}},  # Adjust the size and family of the x-axis label as desired\n",
    "        'tickfont': {'size': 24, 'family': 'Calibri'}  # Adjust the size and family of the x-axis tick labels as desired\n",
    "    },\n",
    "    yaxis={\n",
    "        'title': {'font': {'size': 24, 'family': 'Calibri'}},  # Adjust the size and family of the y-axis label as desired\n",
    "        'tickfont': {'size': 24, 'family': 'Calibri'},  # Adjust the size and family of the y-axis tick labels as desired\n",
    "    }\n",
    ")\n",
    "\n",
    "\n",
    "fig.show()\n"
   ]
  },
  {
   "attachments": {},
   "cell_type": "markdown",
   "metadata": {},
   "source": [
    "### visualize over time"
   ]
  },
  {
   "cell_type": "code",
   "execution_count": 38,
   "metadata": {},
   "outputs": [],
   "source": [
    "# count chores occurances in general\n",
    "def weekly_monthly_chores(df):\n",
    "    df['date_time'] = pd.to_datetime(df['date_time'])\n",
    "    weekly = df.groupby(pd.Grouper(key='date_time', freq='W-SUN'))['small_categories'].value_counts().reset_index(name='Count')\n",
    "    monthly = df.groupby(pd.Grouper(key='date_time', freq='M'))['small_categories'].value_counts().reset_index(name='Count')\n",
    "\n",
    "    return weekly, monthly\n",
    "\n",
    "mommit_weekly_chores, mommit_monthly_chores=weekly_monthly_chores(top_n_clean_mommit)\n",
    "daddit_weekly_chores, daddit_monthly_chores=weekly_monthly_chores(top_n_clean_daddit)"
   ]
  },
  {
   "cell_type": "code",
   "execution_count": 39,
   "metadata": {},
   "outputs": [
    {
     "data": {
      "text/html": [
       "<div>\n",
       "<style scoped>\n",
       "    .dataframe tbody tr th:only-of-type {\n",
       "        vertical-align: middle;\n",
       "    }\n",
       "\n",
       "    .dataframe tbody tr th {\n",
       "        vertical-align: top;\n",
       "    }\n",
       "\n",
       "    .dataframe thead th {\n",
       "        text-align: right;\n",
       "    }\n",
       "</style>\n",
       "<table border=\"1\" class=\"dataframe\">\n",
       "  <thead>\n",
       "    <tr style=\"text-align: right;\">\n",
       "      <th></th>\n",
       "      <th>date_time</th>\n",
       "      <th>small_categories</th>\n",
       "      <th>Count</th>\n",
       "    </tr>\n",
       "  </thead>\n",
       "  <tbody>\n",
       "    <tr>\n",
       "      <th>0</th>\n",
       "      <td>2019-12-01</td>\n",
       "      <td>Care work</td>\n",
       "      <td>23</td>\n",
       "    </tr>\n",
       "    <tr>\n",
       "      <th>1</th>\n",
       "      <td>2019-12-01</td>\n",
       "      <td>Organization &amp; mental load</td>\n",
       "      <td>8</td>\n",
       "    </tr>\n",
       "    <tr>\n",
       "      <th>2</th>\n",
       "      <td>2019-12-01</td>\n",
       "      <td>Household chores</td>\n",
       "      <td>3</td>\n",
       "    </tr>\n",
       "    <tr>\n",
       "      <th>3</th>\n",
       "      <td>2019-12-08</td>\n",
       "      <td>Care work</td>\n",
       "      <td>153</td>\n",
       "    </tr>\n",
       "    <tr>\n",
       "      <th>4</th>\n",
       "      <td>2019-12-08</td>\n",
       "      <td>Organization &amp; mental load</td>\n",
       "      <td>149</td>\n",
       "    </tr>\n",
       "    <tr>\n",
       "      <th>...</th>\n",
       "      <td>...</td>\n",
       "      <td>...</td>\n",
       "      <td>...</td>\n",
       "    </tr>\n",
       "    <tr>\n",
       "      <th>126</th>\n",
       "      <td>2022-03-27</td>\n",
       "      <td>Other</td>\n",
       "      <td>95</td>\n",
       "    </tr>\n",
       "    <tr>\n",
       "      <th>127</th>\n",
       "      <td>2022-04-03</td>\n",
       "      <td>Care work</td>\n",
       "      <td>310</td>\n",
       "    </tr>\n",
       "    <tr>\n",
       "      <th>128</th>\n",
       "      <td>2022-04-03</td>\n",
       "      <td>Organization &amp; mental load</td>\n",
       "      <td>206</td>\n",
       "    </tr>\n",
       "    <tr>\n",
       "      <th>129</th>\n",
       "      <td>2022-04-03</td>\n",
       "      <td>Household chores</td>\n",
       "      <td>100</td>\n",
       "    </tr>\n",
       "    <tr>\n",
       "      <th>130</th>\n",
       "      <td>2022-04-03</td>\n",
       "      <td>Other</td>\n",
       "      <td>23</td>\n",
       "    </tr>\n",
       "  </tbody>\n",
       "</table>\n",
       "<p>131 rows × 3 columns</p>\n",
       "</div>"
      ],
      "text/plain": [
       "     date_time            small_categories  Count\n",
       "0   2019-12-01                   Care work     23\n",
       "1   2019-12-01  Organization & mental load      8\n",
       "2   2019-12-01            Household chores      3\n",
       "3   2019-12-08                   Care work    153\n",
       "4   2019-12-08  Organization & mental load    149\n",
       "..         ...                         ...    ...\n",
       "126 2022-03-27                       Other     95\n",
       "127 2022-04-03                   Care work    310\n",
       "128 2022-04-03  Organization & mental load    206\n",
       "129 2022-04-03            Household chores    100\n",
       "130 2022-04-03                       Other     23\n",
       "\n",
       "[131 rows x 3 columns]"
      ]
     },
     "execution_count": 39,
     "metadata": {},
     "output_type": "execute_result"
    }
   ],
   "source": [
    "daddit_weekly_chores"
   ]
  },
  {
   "cell_type": "code",
   "execution_count": 40,
   "metadata": {},
   "outputs": [
    {
     "data": {
      "text/html": [
       "<div>\n",
       "<style scoped>\n",
       "    .dataframe tbody tr th:only-of-type {\n",
       "        vertical-align: middle;\n",
       "    }\n",
       "\n",
       "    .dataframe tbody tr th {\n",
       "        vertical-align: top;\n",
       "    }\n",
       "\n",
       "    .dataframe thead th {\n",
       "        text-align: right;\n",
       "    }\n",
       "</style>\n",
       "<table border=\"1\" class=\"dataframe\">\n",
       "  <thead>\n",
       "    <tr style=\"text-align: right;\">\n",
       "      <th></th>\n",
       "      <th>date_time</th>\n",
       "      <th>small_categories</th>\n",
       "      <th>Count</th>\n",
       "    </tr>\n",
       "  </thead>\n",
       "  <tbody>\n",
       "    <tr>\n",
       "      <th>0</th>\n",
       "      <td>2019-12-01</td>\n",
       "      <td>Organization &amp; mental load</td>\n",
       "      <td>32</td>\n",
       "    </tr>\n",
       "    <tr>\n",
       "      <th>1</th>\n",
       "      <td>2019-12-01</td>\n",
       "      <td>Care work</td>\n",
       "      <td>10</td>\n",
       "    </tr>\n",
       "    <tr>\n",
       "      <th>2</th>\n",
       "      <td>2019-12-01</td>\n",
       "      <td>Household chores</td>\n",
       "      <td>4</td>\n",
       "    </tr>\n",
       "    <tr>\n",
       "      <th>3</th>\n",
       "      <td>2019-12-08</td>\n",
       "      <td>Care work</td>\n",
       "      <td>160</td>\n",
       "    </tr>\n",
       "    <tr>\n",
       "      <th>4</th>\n",
       "      <td>2019-12-08</td>\n",
       "      <td>Organization &amp; mental load</td>\n",
       "      <td>133</td>\n",
       "    </tr>\n",
       "    <tr>\n",
       "      <th>...</th>\n",
       "      <td>...</td>\n",
       "      <td>...</td>\n",
       "      <td>...</td>\n",
       "    </tr>\n",
       "    <tr>\n",
       "      <th>122</th>\n",
       "      <td>2022-03-27</td>\n",
       "      <td>Other</td>\n",
       "      <td>14</td>\n",
       "    </tr>\n",
       "    <tr>\n",
       "      <th>123</th>\n",
       "      <td>2022-04-03</td>\n",
       "      <td>Care work</td>\n",
       "      <td>958</td>\n",
       "    </tr>\n",
       "    <tr>\n",
       "      <th>124</th>\n",
       "      <td>2022-04-03</td>\n",
       "      <td>Household chores</td>\n",
       "      <td>488</td>\n",
       "    </tr>\n",
       "    <tr>\n",
       "      <th>125</th>\n",
       "      <td>2022-04-03</td>\n",
       "      <td>Organization &amp; mental load</td>\n",
       "      <td>250</td>\n",
       "    </tr>\n",
       "    <tr>\n",
       "      <th>126</th>\n",
       "      <td>2022-04-03</td>\n",
       "      <td>Other</td>\n",
       "      <td>6</td>\n",
       "    </tr>\n",
       "  </tbody>\n",
       "</table>\n",
       "<p>127 rows × 3 columns</p>\n",
       "</div>"
      ],
      "text/plain": [
       "     date_time            small_categories  Count\n",
       "0   2019-12-01  Organization & mental load     32\n",
       "1   2019-12-01                   Care work     10\n",
       "2   2019-12-01            Household chores      4\n",
       "3   2019-12-08                   Care work    160\n",
       "4   2019-12-08  Organization & mental load    133\n",
       "..         ...                         ...    ...\n",
       "122 2022-03-27                       Other     14\n",
       "123 2022-04-03                   Care work    958\n",
       "124 2022-04-03            Household chores    488\n",
       "125 2022-04-03  Organization & mental load    250\n",
       "126 2022-04-03                       Other      6\n",
       "\n",
       "[127 rows x 3 columns]"
      ]
     },
     "execution_count": 40,
     "metadata": {},
     "output_type": "execute_result"
    }
   ],
   "source": [
    "mommit_weekly_chores"
   ]
  },
  {
   "cell_type": "code",
   "execution_count": 41,
   "metadata": {},
   "outputs": [
    {
     "data": {
      "text/html": [
       "<div>\n",
       "<style scoped>\n",
       "    .dataframe tbody tr th:only-of-type {\n",
       "        vertical-align: middle;\n",
       "    }\n",
       "\n",
       "    .dataframe tbody tr th {\n",
       "        vertical-align: top;\n",
       "    }\n",
       "\n",
       "    .dataframe thead th {\n",
       "        text-align: right;\n",
       "    }\n",
       "</style>\n",
       "<table border=\"1\" class=\"dataframe\">\n",
       "  <thead>\n",
       "    <tr style=\"text-align: right;\">\n",
       "      <th></th>\n",
       "      <th>date_time</th>\n",
       "      <th>small_categories</th>\n",
       "      <th>Count</th>\n",
       "    </tr>\n",
       "  </thead>\n",
       "  <tbody>\n",
       "    <tr>\n",
       "      <th>0</th>\n",
       "      <td>2019-12-31</td>\n",
       "      <td>Care work</td>\n",
       "      <td>579</td>\n",
       "    </tr>\n",
       "    <tr>\n",
       "      <th>1</th>\n",
       "      <td>2019-12-31</td>\n",
       "      <td>Organization &amp; mental load</td>\n",
       "      <td>469</td>\n",
       "    </tr>\n",
       "    <tr>\n",
       "      <th>2</th>\n",
       "      <td>2019-12-31</td>\n",
       "      <td>Household chores</td>\n",
       "      <td>149</td>\n",
       "    </tr>\n",
       "    <tr>\n",
       "      <th>3</th>\n",
       "      <td>2019-12-31</td>\n",
       "      <td>Other</td>\n",
       "      <td>35</td>\n",
       "    </tr>\n",
       "    <tr>\n",
       "      <th>4</th>\n",
       "      <td>2020-01-31</td>\n",
       "      <td>Care work</td>\n",
       "      <td>795</td>\n",
       "    </tr>\n",
       "    <tr>\n",
       "      <th>5</th>\n",
       "      <td>2020-01-31</td>\n",
       "      <td>Organization &amp; mental load</td>\n",
       "      <td>531</td>\n",
       "    </tr>\n",
       "    <tr>\n",
       "      <th>6</th>\n",
       "      <td>2020-01-31</td>\n",
       "      <td>Household chores</td>\n",
       "      <td>262</td>\n",
       "    </tr>\n",
       "    <tr>\n",
       "      <th>7</th>\n",
       "      <td>2020-01-31</td>\n",
       "      <td>Other</td>\n",
       "      <td>41</td>\n",
       "    </tr>\n",
       "    <tr>\n",
       "      <th>8</th>\n",
       "      <td>2020-02-29</td>\n",
       "      <td>Care work</td>\n",
       "      <td>603</td>\n",
       "    </tr>\n",
       "    <tr>\n",
       "      <th>9</th>\n",
       "      <td>2020-02-29</td>\n",
       "      <td>Organization &amp; mental load</td>\n",
       "      <td>518</td>\n",
       "    </tr>\n",
       "    <tr>\n",
       "      <th>10</th>\n",
       "      <td>2020-02-29</td>\n",
       "      <td>Household chores</td>\n",
       "      <td>269</td>\n",
       "    </tr>\n",
       "    <tr>\n",
       "      <th>11</th>\n",
       "      <td>2020-02-29</td>\n",
       "      <td>Other</td>\n",
       "      <td>53</td>\n",
       "    </tr>\n",
       "    <tr>\n",
       "      <th>12</th>\n",
       "      <td>2020-03-31</td>\n",
       "      <td>Care work</td>\n",
       "      <td>548</td>\n",
       "    </tr>\n",
       "    <tr>\n",
       "      <th>13</th>\n",
       "      <td>2020-03-31</td>\n",
       "      <td>Organization &amp; mental load</td>\n",
       "      <td>418</td>\n",
       "    </tr>\n",
       "    <tr>\n",
       "      <th>14</th>\n",
       "      <td>2020-03-31</td>\n",
       "      <td>Household chores</td>\n",
       "      <td>245</td>\n",
       "    </tr>\n",
       "    <tr>\n",
       "      <th>15</th>\n",
       "      <td>2020-03-31</td>\n",
       "      <td>Other</td>\n",
       "      <td>32</td>\n",
       "    </tr>\n",
       "    <tr>\n",
       "      <th>16</th>\n",
       "      <td>2020-04-30</td>\n",
       "      <td>Care work</td>\n",
       "      <td>395</td>\n",
       "    </tr>\n",
       "    <tr>\n",
       "      <th>17</th>\n",
       "      <td>2020-04-30</td>\n",
       "      <td>Organization &amp; mental load</td>\n",
       "      <td>388</td>\n",
       "    </tr>\n",
       "    <tr>\n",
       "      <th>18</th>\n",
       "      <td>2020-04-30</td>\n",
       "      <td>Household chores</td>\n",
       "      <td>187</td>\n",
       "    </tr>\n",
       "    <tr>\n",
       "      <th>19</th>\n",
       "      <td>2020-04-30</td>\n",
       "      <td>Other</td>\n",
       "      <td>22</td>\n",
       "    </tr>\n",
       "    <tr>\n",
       "      <th>20</th>\n",
       "      <td>2021-03-31</td>\n",
       "      <td>Care work</td>\n",
       "      <td>557</td>\n",
       "    </tr>\n",
       "    <tr>\n",
       "      <th>21</th>\n",
       "      <td>2021-03-31</td>\n",
       "      <td>Organization &amp; mental load</td>\n",
       "      <td>416</td>\n",
       "    </tr>\n",
       "    <tr>\n",
       "      <th>22</th>\n",
       "      <td>2021-03-31</td>\n",
       "      <td>Household chores</td>\n",
       "      <td>240</td>\n",
       "    </tr>\n",
       "    <tr>\n",
       "      <th>23</th>\n",
       "      <td>2021-03-31</td>\n",
       "      <td>Other</td>\n",
       "      <td>35</td>\n",
       "    </tr>\n",
       "    <tr>\n",
       "      <th>24</th>\n",
       "      <td>2022-03-31</td>\n",
       "      <td>Care work</td>\n",
       "      <td>2800</td>\n",
       "    </tr>\n",
       "    <tr>\n",
       "      <th>25</th>\n",
       "      <td>2022-03-31</td>\n",
       "      <td>Organization &amp; mental load</td>\n",
       "      <td>2528</td>\n",
       "    </tr>\n",
       "    <tr>\n",
       "      <th>26</th>\n",
       "      <td>2022-03-31</td>\n",
       "      <td>Household chores</td>\n",
       "      <td>1442</td>\n",
       "    </tr>\n",
       "    <tr>\n",
       "      <th>27</th>\n",
       "      <td>2022-03-31</td>\n",
       "      <td>Other</td>\n",
       "      <td>310</td>\n",
       "    </tr>\n",
       "  </tbody>\n",
       "</table>\n",
       "</div>"
      ],
      "text/plain": [
       "    date_time            small_categories  Count\n",
       "0  2019-12-31                   Care work    579\n",
       "1  2019-12-31  Organization & mental load    469\n",
       "2  2019-12-31            Household chores    149\n",
       "3  2019-12-31                       Other     35\n",
       "4  2020-01-31                   Care work    795\n",
       "5  2020-01-31  Organization & mental load    531\n",
       "6  2020-01-31            Household chores    262\n",
       "7  2020-01-31                       Other     41\n",
       "8  2020-02-29                   Care work    603\n",
       "9  2020-02-29  Organization & mental load    518\n",
       "10 2020-02-29            Household chores    269\n",
       "11 2020-02-29                       Other     53\n",
       "12 2020-03-31                   Care work    548\n",
       "13 2020-03-31  Organization & mental load    418\n",
       "14 2020-03-31            Household chores    245\n",
       "15 2020-03-31                       Other     32\n",
       "16 2020-04-30                   Care work    395\n",
       "17 2020-04-30  Organization & mental load    388\n",
       "18 2020-04-30            Household chores    187\n",
       "19 2020-04-30                       Other     22\n",
       "20 2021-03-31                   Care work    557\n",
       "21 2021-03-31  Organization & mental load    416\n",
       "22 2021-03-31            Household chores    240\n",
       "23 2021-03-31                       Other     35\n",
       "24 2022-03-31                   Care work   2800\n",
       "25 2022-03-31  Organization & mental load   2528\n",
       "26 2022-03-31            Household chores   1442\n",
       "27 2022-03-31                       Other    310"
      ]
     },
     "execution_count": 41,
     "metadata": {},
     "output_type": "execute_result"
    }
   ],
   "source": [
    "daddit_monthly_chores"
   ]
  },
  {
   "cell_type": "code",
   "execution_count": 42,
   "metadata": {},
   "outputs": [
    {
     "name": "stdout",
     "output_type": "stream",
     "text": [
      "14867\n",
      "24555\n"
     ]
    }
   ],
   "source": [
    "print(daddit_weekly_chores[\"Count\"].sum())\n",
    "print(mommit_weekly_chores[\"Count\"].sum())"
   ]
  },
  {
   "cell_type": "code",
   "execution_count": 43,
   "metadata": {},
   "outputs": [
    {
     "name": "stdout",
     "output_type": "stream",
     "text": [
      "13911\n"
     ]
    }
   ],
   "source": [
    "# sanity check:\n",
    "mommit_carework=mommit_weekly_chores[mommit_weekly_chores[\"small_categories\"]==\"Care work\"]\n",
    "print(mommit_carework[\"Count\"].sum()) # sollte 13911 sein"
   ]
  },
  {
   "attachments": {},
   "cell_type": "markdown",
   "metadata": {},
   "source": [
    "#### absoulte\n",
    "\n",
    "postings, where the from BERTopic created topics and associated top_n_words have hh keywords in it --> + manual grouping into broader categories\n",
    "- absolute\n",
    "- relative"
   ]
  },
  {
   "cell_type": "code",
   "execution_count": 44,
   "metadata": {},
   "outputs": [
    {
     "data": {
      "application/vnd.plotly.v1+json": {
       "config": {
        "plotlyServerURL": "https://plot.ly"
       },
       "data": [
        {
         "hovertemplate": "small_categories=Organization & mental load<br>date_time=%{x}<br>Count=%{y}<extra></extra>",
         "legendgroup": "Organization & mental load",
         "line": {
          "color": "#636efa",
          "dash": "solid"
         },
         "marker": {
          "symbol": "circle"
         },
         "mode": "lines",
         "name": "Organization & mental load",
         "orientation": "v",
         "showlegend": true,
         "type": "scatter",
         "x": [
          "2019-12-01T00:00:00",
          "2019-12-08T00:00:00",
          "2019-12-15T00:00:00",
          "2019-12-22T00:00:00",
          "2019-12-29T00:00:00",
          "2020-01-05T00:00:00",
          "2020-01-12T00:00:00",
          "2020-01-19T00:00:00",
          "2020-01-26T00:00:00",
          "2020-02-02T00:00:00",
          "2020-02-09T00:00:00",
          "2020-02-16T00:00:00",
          "2020-02-23T00:00:00",
          "2020-03-01T00:00:00",
          "2020-03-08T00:00:00",
          "2020-03-15T00:00:00",
          "2020-03-22T00:00:00",
          "2020-03-29T00:00:00",
          "2020-04-05T00:00:00",
          "2020-04-12T00:00:00",
          "2020-04-19T00:00:00",
          "2020-04-26T00:00:00",
          "2020-05-03T00:00:00",
          "2021-03-07T00:00:00",
          "2021-03-14T00:00:00",
          "2021-03-21T00:00:00",
          "2021-03-28T00:00:00",
          "2021-04-04T00:00:00",
          "2022-03-06T00:00:00",
          "2022-03-13T00:00:00",
          "2022-03-20T00:00:00",
          "2022-03-27T00:00:00",
          "2022-04-03T00:00:00"
         ],
         "xaxis": "x",
         "y": [
          32,
          133,
          95,
          65,
          103,
          55,
          77,
          98,
          74,
          81,
          63,
          100,
          89,
          94,
          251,
          52,
          81,
          121,
          56,
          43,
          118,
          55,
          27,
          87,
          77,
          78,
          79,
          51,
          383,
          836,
          933,
          871,
          250
         ],
         "yaxis": "y"
        },
        {
         "hovertemplate": "small_categories=Care work<br>date_time=%{x}<br>Count=%{y}<extra></extra>",
         "legendgroup": "Care work",
         "line": {
          "color": "#EF553B",
          "dash": "solid"
         },
         "marker": {
          "symbol": "circle"
         },
         "mode": "lines",
         "name": "Care work",
         "orientation": "v",
         "showlegend": true,
         "type": "scatter",
         "x": [
          "2019-12-01T00:00:00",
          "2019-12-08T00:00:00",
          "2019-12-15T00:00:00",
          "2019-12-22T00:00:00",
          "2019-12-29T00:00:00",
          "2020-01-05T00:00:00",
          "2020-01-12T00:00:00",
          "2020-01-19T00:00:00",
          "2020-01-26T00:00:00",
          "2020-02-02T00:00:00",
          "2020-02-09T00:00:00",
          "2020-02-16T00:00:00",
          "2020-02-23T00:00:00",
          "2020-03-01T00:00:00",
          "2020-03-08T00:00:00",
          "2020-03-15T00:00:00",
          "2020-03-22T00:00:00",
          "2020-03-29T00:00:00",
          "2020-04-05T00:00:00",
          "2020-04-12T00:00:00",
          "2020-04-19T00:00:00",
          "2020-04-26T00:00:00",
          "2020-05-03T00:00:00",
          "2021-03-07T00:00:00",
          "2021-03-14T00:00:00",
          "2021-03-21T00:00:00",
          "2021-03-28T00:00:00",
          "2021-04-04T00:00:00",
          "2022-03-06T00:00:00",
          "2022-03-13T00:00:00",
          "2022-03-20T00:00:00",
          "2022-03-27T00:00:00",
          "2022-04-03T00:00:00"
         ],
         "xaxis": "x",
         "y": [
          10,
          160,
          211,
          283,
          156,
          184,
          219,
          241,
          201,
          194,
          230,
          235,
          245,
          222,
          234,
          238,
          218,
          172,
          237,
          186,
          212,
          360,
          190,
          277,
          149,
          294,
          169,
          102,
          1057,
          2292,
          1992,
          1783,
          958
         ],
         "yaxis": "y"
        },
        {
         "hovertemplate": "small_categories=Household chores<br>date_time=%{x}<br>Count=%{y}<extra></extra>",
         "legendgroup": "Household chores",
         "line": {
          "color": "#00cc96",
          "dash": "solid"
         },
         "marker": {
          "symbol": "circle"
         },
         "mode": "lines",
         "name": "Household chores",
         "orientation": "v",
         "showlegend": true,
         "type": "scatter",
         "x": [
          "2019-12-01T00:00:00",
          "2019-12-08T00:00:00",
          "2019-12-15T00:00:00",
          "2019-12-22T00:00:00",
          "2019-12-29T00:00:00",
          "2020-01-05T00:00:00",
          "2020-01-12T00:00:00",
          "2020-01-19T00:00:00",
          "2020-01-26T00:00:00",
          "2020-02-02T00:00:00",
          "2020-02-09T00:00:00",
          "2020-02-16T00:00:00",
          "2020-02-23T00:00:00",
          "2020-03-01T00:00:00",
          "2020-03-08T00:00:00",
          "2020-03-15T00:00:00",
          "2020-03-22T00:00:00",
          "2020-03-29T00:00:00",
          "2020-04-05T00:00:00",
          "2020-04-12T00:00:00",
          "2020-04-19T00:00:00",
          "2020-04-26T00:00:00",
          "2020-05-03T00:00:00",
          "2021-03-07T00:00:00",
          "2021-03-14T00:00:00",
          "2021-03-21T00:00:00",
          "2021-03-28T00:00:00",
          "2021-04-04T00:00:00",
          "2022-03-06T00:00:00",
          "2022-03-13T00:00:00",
          "2022-03-20T00:00:00",
          "2022-03-27T00:00:00",
          "2022-04-03T00:00:00"
         ],
         "xaxis": "x",
         "y": [
          4,
          44,
          61,
          70,
          58,
          101,
          130,
          87,
          59,
          54,
          79,
          67,
          91,
          101,
          78,
          164,
          69,
          112,
          69,
          28,
          42,
          48,
          18,
          96,
          99,
          164,
          69,
          59,
          384,
          567,
          737,
          559,
          488
         ],
         "yaxis": "y"
        },
        {
         "hovertemplate": "small_categories=Other<br>date_time=%{x}<br>Count=%{y}<extra></extra>",
         "legendgroup": "Other",
         "line": {
          "color": "#ab63fa",
          "dash": "solid"
         },
         "marker": {
          "symbol": "circle"
         },
         "mode": "lines",
         "name": "Other",
         "orientation": "v",
         "showlegend": true,
         "type": "scatter",
         "x": [
          "2019-12-08T00:00:00",
          "2019-12-15T00:00:00",
          "2019-12-29T00:00:00",
          "2020-01-05T00:00:00",
          "2020-01-12T00:00:00",
          "2020-01-19T00:00:00",
          "2020-01-26T00:00:00",
          "2020-02-02T00:00:00",
          "2020-02-09T00:00:00",
          "2020-02-16T00:00:00",
          "2020-02-23T00:00:00",
          "2020-03-01T00:00:00",
          "2020-03-08T00:00:00",
          "2020-03-22T00:00:00",
          "2020-03-29T00:00:00",
          "2020-04-05T00:00:00",
          "2020-04-12T00:00:00",
          "2020-04-19T00:00:00",
          "2020-04-26T00:00:00",
          "2020-05-03T00:00:00",
          "2021-03-14T00:00:00",
          "2021-03-21T00:00:00",
          "2021-03-28T00:00:00",
          "2022-03-06T00:00:00",
          "2022-03-13T00:00:00",
          "2022-03-20T00:00:00",
          "2022-03-27T00:00:00",
          "2022-04-03T00:00:00"
         ],
         "xaxis": "x",
         "y": [
          2,
          1,
          3,
          3,
          2,
          4,
          1,
          3,
          1,
          1,
          6,
          4,
          1,
          38,
          5,
          4,
          2,
          1,
          2,
          3,
          2,
          3,
          1,
          13,
          26,
          28,
          14,
          6
         ],
         "yaxis": "y"
        }
       ],
       "layout": {
        "legend": {
         "title": {
          "text": "small_categories"
         },
         "tracegroupgap": 0
        },
        "shapes": [
         {
          "line": {
           "color": "black",
           "width": 3
          },
          "type": "line",
          "x0": "2020-03-11",
          "x1": "2020-03-11",
          "xref": "x",
          "y0": 0,
          "y1": 1,
          "yref": "y domain"
         }
        ],
        "template": {
         "data": {
          "bar": [
           {
            "error_x": {
             "color": "#2a3f5f"
            },
            "error_y": {
             "color": "#2a3f5f"
            },
            "marker": {
             "line": {
              "color": "#E5ECF6",
              "width": 0.5
             },
             "pattern": {
              "fillmode": "overlay",
              "size": 10,
              "solidity": 0.2
             }
            },
            "type": "bar"
           }
          ],
          "barpolar": [
           {
            "marker": {
             "line": {
              "color": "#E5ECF6",
              "width": 0.5
             },
             "pattern": {
              "fillmode": "overlay",
              "size": 10,
              "solidity": 0.2
             }
            },
            "type": "barpolar"
           }
          ],
          "carpet": [
           {
            "aaxis": {
             "endlinecolor": "#2a3f5f",
             "gridcolor": "white",
             "linecolor": "white",
             "minorgridcolor": "white",
             "startlinecolor": "#2a3f5f"
            },
            "baxis": {
             "endlinecolor": "#2a3f5f",
             "gridcolor": "white",
             "linecolor": "white",
             "minorgridcolor": "white",
             "startlinecolor": "#2a3f5f"
            },
            "type": "carpet"
           }
          ],
          "choropleth": [
           {
            "colorbar": {
             "outlinewidth": 0,
             "ticks": ""
            },
            "type": "choropleth"
           }
          ],
          "contour": [
           {
            "colorbar": {
             "outlinewidth": 0,
             "ticks": ""
            },
            "colorscale": [
             [
              0,
              "#0d0887"
             ],
             [
              0.1111111111111111,
              "#46039f"
             ],
             [
              0.2222222222222222,
              "#7201a8"
             ],
             [
              0.3333333333333333,
              "#9c179e"
             ],
             [
              0.4444444444444444,
              "#bd3786"
             ],
             [
              0.5555555555555556,
              "#d8576b"
             ],
             [
              0.6666666666666666,
              "#ed7953"
             ],
             [
              0.7777777777777778,
              "#fb9f3a"
             ],
             [
              0.8888888888888888,
              "#fdca26"
             ],
             [
              1,
              "#f0f921"
             ]
            ],
            "type": "contour"
           }
          ],
          "contourcarpet": [
           {
            "colorbar": {
             "outlinewidth": 0,
             "ticks": ""
            },
            "type": "contourcarpet"
           }
          ],
          "heatmap": [
           {
            "colorbar": {
             "outlinewidth": 0,
             "ticks": ""
            },
            "colorscale": [
             [
              0,
              "#0d0887"
             ],
             [
              0.1111111111111111,
              "#46039f"
             ],
             [
              0.2222222222222222,
              "#7201a8"
             ],
             [
              0.3333333333333333,
              "#9c179e"
             ],
             [
              0.4444444444444444,
              "#bd3786"
             ],
             [
              0.5555555555555556,
              "#d8576b"
             ],
             [
              0.6666666666666666,
              "#ed7953"
             ],
             [
              0.7777777777777778,
              "#fb9f3a"
             ],
             [
              0.8888888888888888,
              "#fdca26"
             ],
             [
              1,
              "#f0f921"
             ]
            ],
            "type": "heatmap"
           }
          ],
          "heatmapgl": [
           {
            "colorbar": {
             "outlinewidth": 0,
             "ticks": ""
            },
            "colorscale": [
             [
              0,
              "#0d0887"
             ],
             [
              0.1111111111111111,
              "#46039f"
             ],
             [
              0.2222222222222222,
              "#7201a8"
             ],
             [
              0.3333333333333333,
              "#9c179e"
             ],
             [
              0.4444444444444444,
              "#bd3786"
             ],
             [
              0.5555555555555556,
              "#d8576b"
             ],
             [
              0.6666666666666666,
              "#ed7953"
             ],
             [
              0.7777777777777778,
              "#fb9f3a"
             ],
             [
              0.8888888888888888,
              "#fdca26"
             ],
             [
              1,
              "#f0f921"
             ]
            ],
            "type": "heatmapgl"
           }
          ],
          "histogram": [
           {
            "marker": {
             "pattern": {
              "fillmode": "overlay",
              "size": 10,
              "solidity": 0.2
             }
            },
            "type": "histogram"
           }
          ],
          "histogram2d": [
           {
            "colorbar": {
             "outlinewidth": 0,
             "ticks": ""
            },
            "colorscale": [
             [
              0,
              "#0d0887"
             ],
             [
              0.1111111111111111,
              "#46039f"
             ],
             [
              0.2222222222222222,
              "#7201a8"
             ],
             [
              0.3333333333333333,
              "#9c179e"
             ],
             [
              0.4444444444444444,
              "#bd3786"
             ],
             [
              0.5555555555555556,
              "#d8576b"
             ],
             [
              0.6666666666666666,
              "#ed7953"
             ],
             [
              0.7777777777777778,
              "#fb9f3a"
             ],
             [
              0.8888888888888888,
              "#fdca26"
             ],
             [
              1,
              "#f0f921"
             ]
            ],
            "type": "histogram2d"
           }
          ],
          "histogram2dcontour": [
           {
            "colorbar": {
             "outlinewidth": 0,
             "ticks": ""
            },
            "colorscale": [
             [
              0,
              "#0d0887"
             ],
             [
              0.1111111111111111,
              "#46039f"
             ],
             [
              0.2222222222222222,
              "#7201a8"
             ],
             [
              0.3333333333333333,
              "#9c179e"
             ],
             [
              0.4444444444444444,
              "#bd3786"
             ],
             [
              0.5555555555555556,
              "#d8576b"
             ],
             [
              0.6666666666666666,
              "#ed7953"
             ],
             [
              0.7777777777777778,
              "#fb9f3a"
             ],
             [
              0.8888888888888888,
              "#fdca26"
             ],
             [
              1,
              "#f0f921"
             ]
            ],
            "type": "histogram2dcontour"
           }
          ],
          "mesh3d": [
           {
            "colorbar": {
             "outlinewidth": 0,
             "ticks": ""
            },
            "type": "mesh3d"
           }
          ],
          "parcoords": [
           {
            "line": {
             "colorbar": {
              "outlinewidth": 0,
              "ticks": ""
             }
            },
            "type": "parcoords"
           }
          ],
          "pie": [
           {
            "automargin": true,
            "type": "pie"
           }
          ],
          "scatter": [
           {
            "fillpattern": {
             "fillmode": "overlay",
             "size": 10,
             "solidity": 0.2
            },
            "type": "scatter"
           }
          ],
          "scatter3d": [
           {
            "line": {
             "colorbar": {
              "outlinewidth": 0,
              "ticks": ""
             }
            },
            "marker": {
             "colorbar": {
              "outlinewidth": 0,
              "ticks": ""
             }
            },
            "type": "scatter3d"
           }
          ],
          "scattercarpet": [
           {
            "marker": {
             "colorbar": {
              "outlinewidth": 0,
              "ticks": ""
             }
            },
            "type": "scattercarpet"
           }
          ],
          "scattergeo": [
           {
            "marker": {
             "colorbar": {
              "outlinewidth": 0,
              "ticks": ""
             }
            },
            "type": "scattergeo"
           }
          ],
          "scattergl": [
           {
            "marker": {
             "colorbar": {
              "outlinewidth": 0,
              "ticks": ""
             }
            },
            "type": "scattergl"
           }
          ],
          "scattermapbox": [
           {
            "marker": {
             "colorbar": {
              "outlinewidth": 0,
              "ticks": ""
             }
            },
            "type": "scattermapbox"
           }
          ],
          "scatterpolar": [
           {
            "marker": {
             "colorbar": {
              "outlinewidth": 0,
              "ticks": ""
             }
            },
            "type": "scatterpolar"
           }
          ],
          "scatterpolargl": [
           {
            "marker": {
             "colorbar": {
              "outlinewidth": 0,
              "ticks": ""
             }
            },
            "type": "scatterpolargl"
           }
          ],
          "scatterternary": [
           {
            "marker": {
             "colorbar": {
              "outlinewidth": 0,
              "ticks": ""
             }
            },
            "type": "scatterternary"
           }
          ],
          "surface": [
           {
            "colorbar": {
             "outlinewidth": 0,
             "ticks": ""
            },
            "colorscale": [
             [
              0,
              "#0d0887"
             ],
             [
              0.1111111111111111,
              "#46039f"
             ],
             [
              0.2222222222222222,
              "#7201a8"
             ],
             [
              0.3333333333333333,
              "#9c179e"
             ],
             [
              0.4444444444444444,
              "#bd3786"
             ],
             [
              0.5555555555555556,
              "#d8576b"
             ],
             [
              0.6666666666666666,
              "#ed7953"
             ],
             [
              0.7777777777777778,
              "#fb9f3a"
             ],
             [
              0.8888888888888888,
              "#fdca26"
             ],
             [
              1,
              "#f0f921"
             ]
            ],
            "type": "surface"
           }
          ],
          "table": [
           {
            "cells": {
             "fill": {
              "color": "#EBF0F8"
             },
             "line": {
              "color": "white"
             }
            },
            "header": {
             "fill": {
              "color": "#C8D4E3"
             },
             "line": {
              "color": "white"
             }
            },
            "type": "table"
           }
          ]
         },
         "layout": {
          "annotationdefaults": {
           "arrowcolor": "#2a3f5f",
           "arrowhead": 0,
           "arrowwidth": 1
          },
          "autotypenumbers": "strict",
          "coloraxis": {
           "colorbar": {
            "outlinewidth": 0,
            "ticks": ""
           }
          },
          "colorscale": {
           "diverging": [
            [
             0,
             "#8e0152"
            ],
            [
             0.1,
             "#c51b7d"
            ],
            [
             0.2,
             "#de77ae"
            ],
            [
             0.3,
             "#f1b6da"
            ],
            [
             0.4,
             "#fde0ef"
            ],
            [
             0.5,
             "#f7f7f7"
            ],
            [
             0.6,
             "#e6f5d0"
            ],
            [
             0.7,
             "#b8e186"
            ],
            [
             0.8,
             "#7fbc41"
            ],
            [
             0.9,
             "#4d9221"
            ],
            [
             1,
             "#276419"
            ]
           ],
           "sequential": [
            [
             0,
             "#0d0887"
            ],
            [
             0.1111111111111111,
             "#46039f"
            ],
            [
             0.2222222222222222,
             "#7201a8"
            ],
            [
             0.3333333333333333,
             "#9c179e"
            ],
            [
             0.4444444444444444,
             "#bd3786"
            ],
            [
             0.5555555555555556,
             "#d8576b"
            ],
            [
             0.6666666666666666,
             "#ed7953"
            ],
            [
             0.7777777777777778,
             "#fb9f3a"
            ],
            [
             0.8888888888888888,
             "#fdca26"
            ],
            [
             1,
             "#f0f921"
            ]
           ],
           "sequentialminus": [
            [
             0,
             "#0d0887"
            ],
            [
             0.1111111111111111,
             "#46039f"
            ],
            [
             0.2222222222222222,
             "#7201a8"
            ],
            [
             0.3333333333333333,
             "#9c179e"
            ],
            [
             0.4444444444444444,
             "#bd3786"
            ],
            [
             0.5555555555555556,
             "#d8576b"
            ],
            [
             0.6666666666666666,
             "#ed7953"
            ],
            [
             0.7777777777777778,
             "#fb9f3a"
            ],
            [
             0.8888888888888888,
             "#fdca26"
            ],
            [
             1,
             "#f0f921"
            ]
           ]
          },
          "colorway": [
           "#636efa",
           "#EF553B",
           "#00cc96",
           "#ab63fa",
           "#FFA15A",
           "#19d3f3",
           "#FF6692",
           "#B6E880",
           "#FF97FF",
           "#FECB52"
          ],
          "font": {
           "color": "#2a3f5f"
          },
          "geo": {
           "bgcolor": "white",
           "lakecolor": "white",
           "landcolor": "#E5ECF6",
           "showlakes": true,
           "showland": true,
           "subunitcolor": "white"
          },
          "hoverlabel": {
           "align": "left"
          },
          "hovermode": "closest",
          "mapbox": {
           "style": "light"
          },
          "paper_bgcolor": "white",
          "plot_bgcolor": "#E5ECF6",
          "polar": {
           "angularaxis": {
            "gridcolor": "white",
            "linecolor": "white",
            "ticks": ""
           },
           "bgcolor": "#E5ECF6",
           "radialaxis": {
            "gridcolor": "white",
            "linecolor": "white",
            "ticks": ""
           }
          },
          "scene": {
           "xaxis": {
            "backgroundcolor": "#E5ECF6",
            "gridcolor": "white",
            "gridwidth": 2,
            "linecolor": "white",
            "showbackground": true,
            "ticks": "",
            "zerolinecolor": "white"
           },
           "yaxis": {
            "backgroundcolor": "#E5ECF6",
            "gridcolor": "white",
            "gridwidth": 2,
            "linecolor": "white",
            "showbackground": true,
            "ticks": "",
            "zerolinecolor": "white"
           },
           "zaxis": {
            "backgroundcolor": "#E5ECF6",
            "gridcolor": "white",
            "gridwidth": 2,
            "linecolor": "white",
            "showbackground": true,
            "ticks": "",
            "zerolinecolor": "white"
           }
          },
          "shapedefaults": {
           "line": {
            "color": "#2a3f5f"
           }
          },
          "ternary": {
           "aaxis": {
            "gridcolor": "white",
            "linecolor": "white",
            "ticks": ""
           },
           "baxis": {
            "gridcolor": "white",
            "linecolor": "white",
            "ticks": ""
           },
           "bgcolor": "#E5ECF6",
           "caxis": {
            "gridcolor": "white",
            "linecolor": "white",
            "ticks": ""
           }
          },
          "title": {
           "x": 0.05
          },
          "xaxis": {
           "automargin": true,
           "gridcolor": "white",
           "linecolor": "white",
           "ticks": "",
           "title": {
            "standoff": 15
           },
           "zerolinecolor": "white",
           "zerolinewidth": 2
          },
          "yaxis": {
           "automargin": true,
           "gridcolor": "white",
           "linecolor": "white",
           "ticks": "",
           "title": {
            "standoff": 15
           },
           "zerolinecolor": "white",
           "zerolinewidth": 2
          }
         }
        },
        "title": {
         "text": "r/Mommit: Absolute postings associated with household chores, weekly"
        },
        "xaxis": {
         "anchor": "y",
         "domain": [
          0,
          1
         ],
         "title": {
          "text": "date_time"
         }
        },
        "yaxis": {
         "anchor": "x",
         "domain": [
          0,
          1
         ],
         "range": [
          0,
          2500
         ],
         "title": {
          "text": "Count"
         }
        }
       }
      }
     },
     "metadata": {},
     "output_type": "display_data"
    },
    {
     "data": {
      "application/vnd.plotly.v1+json": {
       "config": {
        "plotlyServerURL": "https://plot.ly"
       },
       "data": [
        {
         "hovertemplate": "small_categories=Care work<br>date_time=%{x}<br>Count=%{y}<extra></extra>",
         "legendgroup": "Care work",
         "line": {
          "color": "#636efa",
          "dash": "solid"
         },
         "marker": {
          "symbol": "circle"
         },
         "mode": "lines",
         "name": "Care work",
         "orientation": "v",
         "showlegend": true,
         "type": "scatter",
         "x": [
          "2019-12-01T00:00:00",
          "2019-12-08T00:00:00",
          "2019-12-15T00:00:00",
          "2019-12-22T00:00:00",
          "2019-12-29T00:00:00",
          "2020-01-05T00:00:00",
          "2020-01-12T00:00:00",
          "2020-01-19T00:00:00",
          "2020-01-26T00:00:00",
          "2020-02-02T00:00:00",
          "2020-02-09T00:00:00",
          "2020-02-16T00:00:00",
          "2020-02-23T00:00:00",
          "2020-03-01T00:00:00",
          "2020-03-08T00:00:00",
          "2020-03-15T00:00:00",
          "2020-03-22T00:00:00",
          "2020-03-29T00:00:00",
          "2020-04-05T00:00:00",
          "2020-04-12T00:00:00",
          "2020-04-19T00:00:00",
          "2020-04-26T00:00:00",
          "2020-05-03T00:00:00",
          "2021-03-07T00:00:00",
          "2021-03-14T00:00:00",
          "2021-03-21T00:00:00",
          "2021-03-28T00:00:00",
          "2021-04-04T00:00:00",
          "2022-03-06T00:00:00",
          "2022-03-13T00:00:00",
          "2022-03-20T00:00:00",
          "2022-03-27T00:00:00",
          "2022-04-03T00:00:00"
         ],
         "xaxis": "x",
         "y": [
          23,
          153,
          129,
          166,
          84,
          191,
          165,
          112,
          195,
          183,
          171,
          139,
          150,
          127,
          128,
          133,
          117,
          120,
          83,
          73,
          117,
          115,
          46,
          121,
          94,
          163,
          129,
          50,
          308,
          725,
          779,
          678,
          310
         ],
         "yaxis": "y"
        },
        {
         "hovertemplate": "small_categories=Organization & mental load<br>date_time=%{x}<br>Count=%{y}<extra></extra>",
         "legendgroup": "Organization & mental load",
         "line": {
          "color": "#EF553B",
          "dash": "solid"
         },
         "marker": {
          "symbol": "circle"
         },
         "mode": "lines",
         "name": "Organization & mental load",
         "orientation": "v",
         "showlegend": true,
         "type": "scatter",
         "x": [
          "2019-12-01T00:00:00",
          "2019-12-08T00:00:00",
          "2019-12-15T00:00:00",
          "2019-12-22T00:00:00",
          "2019-12-29T00:00:00",
          "2020-01-05T00:00:00",
          "2020-01-12T00:00:00",
          "2020-01-19T00:00:00",
          "2020-01-26T00:00:00",
          "2020-02-02T00:00:00",
          "2020-02-09T00:00:00",
          "2020-02-16T00:00:00",
          "2020-02-23T00:00:00",
          "2020-03-01T00:00:00",
          "2020-03-08T00:00:00",
          "2020-03-15T00:00:00",
          "2020-03-22T00:00:00",
          "2020-03-29T00:00:00",
          "2020-04-05T00:00:00",
          "2020-04-12T00:00:00",
          "2020-04-19T00:00:00",
          "2020-04-26T00:00:00",
          "2020-05-03T00:00:00",
          "2021-03-07T00:00:00",
          "2021-03-14T00:00:00",
          "2021-03-21T00:00:00",
          "2021-03-28T00:00:00",
          "2021-04-04T00:00:00",
          "2022-03-06T00:00:00",
          "2022-03-13T00:00:00",
          "2022-03-20T00:00:00",
          "2022-03-27T00:00:00",
          "2022-04-03T00:00:00"
         ],
         "xaxis": "x",
         "y": [
          8,
          149,
          79,
          105,
          90,
          137,
          136,
          134,
          86,
          139,
          129,
          108,
          128,
          111,
          109,
          69,
          105,
          98,
          80,
          98,
          92,
          99,
          35,
          93,
          86,
          93,
          93,
          51,
          284,
          521,
          474,
          1043,
          206
         ],
         "yaxis": "y"
        },
        {
         "hovertemplate": "small_categories=Household chores<br>date_time=%{x}<br>Count=%{y}<extra></extra>",
         "legendgroup": "Household chores",
         "line": {
          "color": "#00cc96",
          "dash": "solid"
         },
         "marker": {
          "symbol": "circle"
         },
         "mode": "lines",
         "name": "Household chores",
         "orientation": "v",
         "showlegend": true,
         "type": "scatter",
         "x": [
          "2019-12-01T00:00:00",
          "2019-12-08T00:00:00",
          "2019-12-15T00:00:00",
          "2019-12-22T00:00:00",
          "2019-12-29T00:00:00",
          "2020-01-05T00:00:00",
          "2020-01-12T00:00:00",
          "2020-01-19T00:00:00",
          "2020-01-26T00:00:00",
          "2020-02-02T00:00:00",
          "2020-02-09T00:00:00",
          "2020-02-16T00:00:00",
          "2020-02-23T00:00:00",
          "2020-03-01T00:00:00",
          "2020-03-08T00:00:00",
          "2020-03-15T00:00:00",
          "2020-03-22T00:00:00",
          "2020-03-29T00:00:00",
          "2020-04-05T00:00:00",
          "2020-04-12T00:00:00",
          "2020-04-19T00:00:00",
          "2020-04-26T00:00:00",
          "2020-05-03T00:00:00",
          "2021-03-07T00:00:00",
          "2021-03-14T00:00:00",
          "2021-03-21T00:00:00",
          "2021-03-28T00:00:00",
          "2021-04-04T00:00:00",
          "2022-03-06T00:00:00",
          "2022-03-13T00:00:00",
          "2022-03-20T00:00:00",
          "2022-03-27T00:00:00",
          "2022-04-03T00:00:00"
         ],
         "xaxis": "x",
         "y": [
          3,
          35,
          25,
          32,
          29,
          71,
          51,
          41,
          45,
          86,
          45,
          76,
          54,
          91,
          79,
          37,
          60,
          60,
          33,
          57,
          28,
          46,
          28,
          92,
          30,
          55,
          38,
          25,
          219,
          475,
          425,
          223,
          100
         ],
         "yaxis": "y"
        },
        {
         "hovertemplate": "small_categories=Other<br>date_time=%{x}<br>Count=%{y}<extra></extra>",
         "legendgroup": "Other",
         "line": {
          "color": "#ab63fa",
          "dash": "solid"
         },
         "marker": {
          "symbol": "circle"
         },
         "mode": "lines",
         "name": "Other",
         "orientation": "v",
         "showlegend": true,
         "type": "scatter",
         "x": [
          "2019-12-08T00:00:00",
          "2019-12-15T00:00:00",
          "2019-12-22T00:00:00",
          "2019-12-29T00:00:00",
          "2020-01-05T00:00:00",
          "2020-01-12T00:00:00",
          "2020-01-19T00:00:00",
          "2020-01-26T00:00:00",
          "2020-02-02T00:00:00",
          "2020-02-09T00:00:00",
          "2020-02-16T00:00:00",
          "2020-02-23T00:00:00",
          "2020-03-01T00:00:00",
          "2020-03-08T00:00:00",
          "2020-03-15T00:00:00",
          "2020-03-22T00:00:00",
          "2020-03-29T00:00:00",
          "2020-04-05T00:00:00",
          "2020-04-12T00:00:00",
          "2020-04-19T00:00:00",
          "2020-04-26T00:00:00",
          "2020-05-03T00:00:00",
          "2021-03-07T00:00:00",
          "2021-03-14T00:00:00",
          "2021-03-21T00:00:00",
          "2021-03-28T00:00:00",
          "2021-04-04T00:00:00",
          "2022-03-06T00:00:00",
          "2022-03-13T00:00:00",
          "2022-03-20T00:00:00",
          "2022-03-27T00:00:00",
          "2022-04-03T00:00:00"
         ],
         "xaxis": "x",
         "y": [
          3,
          23,
          2,
          7,
          10,
          14,
          6,
          6,
          5,
          27,
          15,
          7,
          6,
          15,
          5,
          4,
          4,
          7,
          4,
          5,
          3,
          5,
          12,
          9,
          5,
          5,
          4,
          31,
          135,
          26,
          95,
          23
         ],
         "yaxis": "y"
        }
       ],
       "layout": {
        "legend": {
         "title": {
          "text": "small_categories"
         },
         "tracegroupgap": 0
        },
        "shapes": [
         {
          "line": {
           "color": "black",
           "width": 3
          },
          "type": "line",
          "x0": "2020-03-11",
          "x1": "2020-03-11",
          "xref": "x",
          "y0": 0,
          "y1": 1,
          "yref": "y domain"
         }
        ],
        "template": {
         "data": {
          "bar": [
           {
            "error_x": {
             "color": "#2a3f5f"
            },
            "error_y": {
             "color": "#2a3f5f"
            },
            "marker": {
             "line": {
              "color": "#E5ECF6",
              "width": 0.5
             },
             "pattern": {
              "fillmode": "overlay",
              "size": 10,
              "solidity": 0.2
             }
            },
            "type": "bar"
           }
          ],
          "barpolar": [
           {
            "marker": {
             "line": {
              "color": "#E5ECF6",
              "width": 0.5
             },
             "pattern": {
              "fillmode": "overlay",
              "size": 10,
              "solidity": 0.2
             }
            },
            "type": "barpolar"
           }
          ],
          "carpet": [
           {
            "aaxis": {
             "endlinecolor": "#2a3f5f",
             "gridcolor": "white",
             "linecolor": "white",
             "minorgridcolor": "white",
             "startlinecolor": "#2a3f5f"
            },
            "baxis": {
             "endlinecolor": "#2a3f5f",
             "gridcolor": "white",
             "linecolor": "white",
             "minorgridcolor": "white",
             "startlinecolor": "#2a3f5f"
            },
            "type": "carpet"
           }
          ],
          "choropleth": [
           {
            "colorbar": {
             "outlinewidth": 0,
             "ticks": ""
            },
            "type": "choropleth"
           }
          ],
          "contour": [
           {
            "colorbar": {
             "outlinewidth": 0,
             "ticks": ""
            },
            "colorscale": [
             [
              0,
              "#0d0887"
             ],
             [
              0.1111111111111111,
              "#46039f"
             ],
             [
              0.2222222222222222,
              "#7201a8"
             ],
             [
              0.3333333333333333,
              "#9c179e"
             ],
             [
              0.4444444444444444,
              "#bd3786"
             ],
             [
              0.5555555555555556,
              "#d8576b"
             ],
             [
              0.6666666666666666,
              "#ed7953"
             ],
             [
              0.7777777777777778,
              "#fb9f3a"
             ],
             [
              0.8888888888888888,
              "#fdca26"
             ],
             [
              1,
              "#f0f921"
             ]
            ],
            "type": "contour"
           }
          ],
          "contourcarpet": [
           {
            "colorbar": {
             "outlinewidth": 0,
             "ticks": ""
            },
            "type": "contourcarpet"
           }
          ],
          "heatmap": [
           {
            "colorbar": {
             "outlinewidth": 0,
             "ticks": ""
            },
            "colorscale": [
             [
              0,
              "#0d0887"
             ],
             [
              0.1111111111111111,
              "#46039f"
             ],
             [
              0.2222222222222222,
              "#7201a8"
             ],
             [
              0.3333333333333333,
              "#9c179e"
             ],
             [
              0.4444444444444444,
              "#bd3786"
             ],
             [
              0.5555555555555556,
              "#d8576b"
             ],
             [
              0.6666666666666666,
              "#ed7953"
             ],
             [
              0.7777777777777778,
              "#fb9f3a"
             ],
             [
              0.8888888888888888,
              "#fdca26"
             ],
             [
              1,
              "#f0f921"
             ]
            ],
            "type": "heatmap"
           }
          ],
          "heatmapgl": [
           {
            "colorbar": {
             "outlinewidth": 0,
             "ticks": ""
            },
            "colorscale": [
             [
              0,
              "#0d0887"
             ],
             [
              0.1111111111111111,
              "#46039f"
             ],
             [
              0.2222222222222222,
              "#7201a8"
             ],
             [
              0.3333333333333333,
              "#9c179e"
             ],
             [
              0.4444444444444444,
              "#bd3786"
             ],
             [
              0.5555555555555556,
              "#d8576b"
             ],
             [
              0.6666666666666666,
              "#ed7953"
             ],
             [
              0.7777777777777778,
              "#fb9f3a"
             ],
             [
              0.8888888888888888,
              "#fdca26"
             ],
             [
              1,
              "#f0f921"
             ]
            ],
            "type": "heatmapgl"
           }
          ],
          "histogram": [
           {
            "marker": {
             "pattern": {
              "fillmode": "overlay",
              "size": 10,
              "solidity": 0.2
             }
            },
            "type": "histogram"
           }
          ],
          "histogram2d": [
           {
            "colorbar": {
             "outlinewidth": 0,
             "ticks": ""
            },
            "colorscale": [
             [
              0,
              "#0d0887"
             ],
             [
              0.1111111111111111,
              "#46039f"
             ],
             [
              0.2222222222222222,
              "#7201a8"
             ],
             [
              0.3333333333333333,
              "#9c179e"
             ],
             [
              0.4444444444444444,
              "#bd3786"
             ],
             [
              0.5555555555555556,
              "#d8576b"
             ],
             [
              0.6666666666666666,
              "#ed7953"
             ],
             [
              0.7777777777777778,
              "#fb9f3a"
             ],
             [
              0.8888888888888888,
              "#fdca26"
             ],
             [
              1,
              "#f0f921"
             ]
            ],
            "type": "histogram2d"
           }
          ],
          "histogram2dcontour": [
           {
            "colorbar": {
             "outlinewidth": 0,
             "ticks": ""
            },
            "colorscale": [
             [
              0,
              "#0d0887"
             ],
             [
              0.1111111111111111,
              "#46039f"
             ],
             [
              0.2222222222222222,
              "#7201a8"
             ],
             [
              0.3333333333333333,
              "#9c179e"
             ],
             [
              0.4444444444444444,
              "#bd3786"
             ],
             [
              0.5555555555555556,
              "#d8576b"
             ],
             [
              0.6666666666666666,
              "#ed7953"
             ],
             [
              0.7777777777777778,
              "#fb9f3a"
             ],
             [
              0.8888888888888888,
              "#fdca26"
             ],
             [
              1,
              "#f0f921"
             ]
            ],
            "type": "histogram2dcontour"
           }
          ],
          "mesh3d": [
           {
            "colorbar": {
             "outlinewidth": 0,
             "ticks": ""
            },
            "type": "mesh3d"
           }
          ],
          "parcoords": [
           {
            "line": {
             "colorbar": {
              "outlinewidth": 0,
              "ticks": ""
             }
            },
            "type": "parcoords"
           }
          ],
          "pie": [
           {
            "automargin": true,
            "type": "pie"
           }
          ],
          "scatter": [
           {
            "fillpattern": {
             "fillmode": "overlay",
             "size": 10,
             "solidity": 0.2
            },
            "type": "scatter"
           }
          ],
          "scatter3d": [
           {
            "line": {
             "colorbar": {
              "outlinewidth": 0,
              "ticks": ""
             }
            },
            "marker": {
             "colorbar": {
              "outlinewidth": 0,
              "ticks": ""
             }
            },
            "type": "scatter3d"
           }
          ],
          "scattercarpet": [
           {
            "marker": {
             "colorbar": {
              "outlinewidth": 0,
              "ticks": ""
             }
            },
            "type": "scattercarpet"
           }
          ],
          "scattergeo": [
           {
            "marker": {
             "colorbar": {
              "outlinewidth": 0,
              "ticks": ""
             }
            },
            "type": "scattergeo"
           }
          ],
          "scattergl": [
           {
            "marker": {
             "colorbar": {
              "outlinewidth": 0,
              "ticks": ""
             }
            },
            "type": "scattergl"
           }
          ],
          "scattermapbox": [
           {
            "marker": {
             "colorbar": {
              "outlinewidth": 0,
              "ticks": ""
             }
            },
            "type": "scattermapbox"
           }
          ],
          "scatterpolar": [
           {
            "marker": {
             "colorbar": {
              "outlinewidth": 0,
              "ticks": ""
             }
            },
            "type": "scatterpolar"
           }
          ],
          "scatterpolargl": [
           {
            "marker": {
             "colorbar": {
              "outlinewidth": 0,
              "ticks": ""
             }
            },
            "type": "scatterpolargl"
           }
          ],
          "scatterternary": [
           {
            "marker": {
             "colorbar": {
              "outlinewidth": 0,
              "ticks": ""
             }
            },
            "type": "scatterternary"
           }
          ],
          "surface": [
           {
            "colorbar": {
             "outlinewidth": 0,
             "ticks": ""
            },
            "colorscale": [
             [
              0,
              "#0d0887"
             ],
             [
              0.1111111111111111,
              "#46039f"
             ],
             [
              0.2222222222222222,
              "#7201a8"
             ],
             [
              0.3333333333333333,
              "#9c179e"
             ],
             [
              0.4444444444444444,
              "#bd3786"
             ],
             [
              0.5555555555555556,
              "#d8576b"
             ],
             [
              0.6666666666666666,
              "#ed7953"
             ],
             [
              0.7777777777777778,
              "#fb9f3a"
             ],
             [
              0.8888888888888888,
              "#fdca26"
             ],
             [
              1,
              "#f0f921"
             ]
            ],
            "type": "surface"
           }
          ],
          "table": [
           {
            "cells": {
             "fill": {
              "color": "#EBF0F8"
             },
             "line": {
              "color": "white"
             }
            },
            "header": {
             "fill": {
              "color": "#C8D4E3"
             },
             "line": {
              "color": "white"
             }
            },
            "type": "table"
           }
          ]
         },
         "layout": {
          "annotationdefaults": {
           "arrowcolor": "#2a3f5f",
           "arrowhead": 0,
           "arrowwidth": 1
          },
          "autotypenumbers": "strict",
          "coloraxis": {
           "colorbar": {
            "outlinewidth": 0,
            "ticks": ""
           }
          },
          "colorscale": {
           "diverging": [
            [
             0,
             "#8e0152"
            ],
            [
             0.1,
             "#c51b7d"
            ],
            [
             0.2,
             "#de77ae"
            ],
            [
             0.3,
             "#f1b6da"
            ],
            [
             0.4,
             "#fde0ef"
            ],
            [
             0.5,
             "#f7f7f7"
            ],
            [
             0.6,
             "#e6f5d0"
            ],
            [
             0.7,
             "#b8e186"
            ],
            [
             0.8,
             "#7fbc41"
            ],
            [
             0.9,
             "#4d9221"
            ],
            [
             1,
             "#276419"
            ]
           ],
           "sequential": [
            [
             0,
             "#0d0887"
            ],
            [
             0.1111111111111111,
             "#46039f"
            ],
            [
             0.2222222222222222,
             "#7201a8"
            ],
            [
             0.3333333333333333,
             "#9c179e"
            ],
            [
             0.4444444444444444,
             "#bd3786"
            ],
            [
             0.5555555555555556,
             "#d8576b"
            ],
            [
             0.6666666666666666,
             "#ed7953"
            ],
            [
             0.7777777777777778,
             "#fb9f3a"
            ],
            [
             0.8888888888888888,
             "#fdca26"
            ],
            [
             1,
             "#f0f921"
            ]
           ],
           "sequentialminus": [
            [
             0,
             "#0d0887"
            ],
            [
             0.1111111111111111,
             "#46039f"
            ],
            [
             0.2222222222222222,
             "#7201a8"
            ],
            [
             0.3333333333333333,
             "#9c179e"
            ],
            [
             0.4444444444444444,
             "#bd3786"
            ],
            [
             0.5555555555555556,
             "#d8576b"
            ],
            [
             0.6666666666666666,
             "#ed7953"
            ],
            [
             0.7777777777777778,
             "#fb9f3a"
            ],
            [
             0.8888888888888888,
             "#fdca26"
            ],
            [
             1,
             "#f0f921"
            ]
           ]
          },
          "colorway": [
           "#636efa",
           "#EF553B",
           "#00cc96",
           "#ab63fa",
           "#FFA15A",
           "#19d3f3",
           "#FF6692",
           "#B6E880",
           "#FF97FF",
           "#FECB52"
          ],
          "font": {
           "color": "#2a3f5f"
          },
          "geo": {
           "bgcolor": "white",
           "lakecolor": "white",
           "landcolor": "#E5ECF6",
           "showlakes": true,
           "showland": true,
           "subunitcolor": "white"
          },
          "hoverlabel": {
           "align": "left"
          },
          "hovermode": "closest",
          "mapbox": {
           "style": "light"
          },
          "paper_bgcolor": "white",
          "plot_bgcolor": "#E5ECF6",
          "polar": {
           "angularaxis": {
            "gridcolor": "white",
            "linecolor": "white",
            "ticks": ""
           },
           "bgcolor": "#E5ECF6",
           "radialaxis": {
            "gridcolor": "white",
            "linecolor": "white",
            "ticks": ""
           }
          },
          "scene": {
           "xaxis": {
            "backgroundcolor": "#E5ECF6",
            "gridcolor": "white",
            "gridwidth": 2,
            "linecolor": "white",
            "showbackground": true,
            "ticks": "",
            "zerolinecolor": "white"
           },
           "yaxis": {
            "backgroundcolor": "#E5ECF6",
            "gridcolor": "white",
            "gridwidth": 2,
            "linecolor": "white",
            "showbackground": true,
            "ticks": "",
            "zerolinecolor": "white"
           },
           "zaxis": {
            "backgroundcolor": "#E5ECF6",
            "gridcolor": "white",
            "gridwidth": 2,
            "linecolor": "white",
            "showbackground": true,
            "ticks": "",
            "zerolinecolor": "white"
           }
          },
          "shapedefaults": {
           "line": {
            "color": "#2a3f5f"
           }
          },
          "ternary": {
           "aaxis": {
            "gridcolor": "white",
            "linecolor": "white",
            "ticks": ""
           },
           "baxis": {
            "gridcolor": "white",
            "linecolor": "white",
            "ticks": ""
           },
           "bgcolor": "#E5ECF6",
           "caxis": {
            "gridcolor": "white",
            "linecolor": "white",
            "ticks": ""
           }
          },
          "title": {
           "x": 0.05
          },
          "xaxis": {
           "automargin": true,
           "gridcolor": "white",
           "linecolor": "white",
           "ticks": "",
           "title": {
            "standoff": 15
           },
           "zerolinecolor": "white",
           "zerolinewidth": 2
          },
          "yaxis": {
           "automargin": true,
           "gridcolor": "white",
           "linecolor": "white",
           "ticks": "",
           "title": {
            "standoff": 15
           },
           "zerolinecolor": "white",
           "zerolinewidth": 2
          }
         }
        },
        "title": {
         "text": "r/daddit: Absolute postings associated with household chores, weekly"
        },
        "xaxis": {
         "anchor": "y",
         "domain": [
          0,
          1
         ],
         "title": {
          "text": "date_time"
         }
        },
        "yaxis": {
         "anchor": "x",
         "domain": [
          0,
          1
         ],
         "range": [
          0,
          2500
         ],
         "title": {
          "text": "Count"
         }
        }
       }
      }
     },
     "metadata": {},
     "output_type": "display_data"
    }
   ],
   "source": [
    "# absoulute weekly\n",
    "\n",
    "# visualize the broad categories based on top_n_words\n",
    "dataframes=[mommit_weekly_chores, daddit_weekly_chores]\n",
    "titles = ['r/Mommit: Absolute postings associated with household chores, weekly',\n",
    "          'r/daddit: Absolute postings associated with household chores, weekly'\n",
    "          ]  # Specify the titles for each dataframe\n",
    "\n",
    "# Find the maximum value across all dataframes\n",
    "max_value=2000\n",
    "\n",
    "for i, dataframe in enumerate(dataframes):\n",
    "    fig = px.line(dataframe, x='date_time', y=\"Count\", color=\"small_categories\", title=f\"{titles[i]}\")\n",
    "    fig.add_vline(x=\"2020-03-11\", line_color=\"black\", line_width=3)\n",
    "\n",
    "    # Set the same y-axis scale for both graphs\n",
    "    fig.update_layout(yaxis=dict(range=[0, 2500]))\n",
    "    fig.show()"
   ]
  },
  {
   "cell_type": "code",
   "execution_count": 45,
   "metadata": {},
   "outputs": [
    {
     "data": {
      "application/vnd.plotly.v1+json": {
       "config": {
        "plotlyServerURL": "https://plot.ly"
       },
       "data": [
        {
         "hovertemplate": "small_categories=Care work<br>date_time=%{x}<br>Count=%{y}<extra></extra>",
         "legendgroup": "Care work",
         "line": {
          "color": "#636efa",
          "dash": "solid"
         },
         "marker": {
          "symbol": "circle"
         },
         "mode": "lines",
         "name": "Care work",
         "orientation": "v",
         "showlegend": true,
         "type": "scatter",
         "x": [
          "2019-12-31T00:00:00",
          "2020-01-31T00:00:00",
          "2020-02-29T00:00:00",
          "2020-03-31T00:00:00",
          "2020-04-30T00:00:00",
          "2021-03-31T00:00:00",
          "2022-03-31T00:00:00"
         ],
         "xaxis": "x",
         "y": [
          864,
          961,
          929,
          975,
          1109,
          991,
          8082
         ],
         "yaxis": "y"
        },
        {
         "hovertemplate": "small_categories=Organization & mental load<br>date_time=%{x}<br>Count=%{y}<extra></extra>",
         "legendgroup": "Organization & mental load",
         "line": {
          "color": "#EF553B",
          "dash": "solid"
         },
         "marker": {
          "symbol": "circle"
         },
         "mode": "lines",
         "name": "Organization & mental load",
         "orientation": "v",
         "showlegend": true,
         "type": "scatter",
         "x": [
          "2019-12-31T00:00:00",
          "2020-01-31T00:00:00",
          "2020-02-29T00:00:00",
          "2020-03-31T00:00:00",
          "2020-04-30T00:00:00",
          "2021-03-31T00:00:00",
          "2022-03-31T00:00:00"
         ],
         "xaxis": "x",
         "y": [
          435,
          367,
          341,
          536,
          284,
          372,
          3273
         ],
         "yaxis": "y"
        },
        {
         "hovertemplate": "small_categories=Household chores<br>date_time=%{x}<br>Count=%{y}<extra></extra>",
         "legendgroup": "Household chores",
         "line": {
          "color": "#00cc96",
          "dash": "solid"
         },
         "marker": {
          "symbol": "circle"
         },
         "mode": "lines",
         "name": "Household chores",
         "orientation": "v",
         "showlegend": true,
         "type": "scatter",
         "x": [
          "2019-12-31T00:00:00",
          "2020-01-31T00:00:00",
          "2020-02-29T00:00:00",
          "2020-03-31T00:00:00",
          "2020-04-30T00:00:00",
          "2021-03-31T00:00:00",
          "2022-03-31T00:00:00"
         ],
         "xaxis": "x",
         "y": [
          269,
          391,
          335,
          457,
          182,
          487,
          2735
         ],
         "yaxis": "y"
        },
        {
         "hovertemplate": "small_categories=Other<br>date_time=%{x}<br>Count=%{y}<extra></extra>",
         "legendgroup": "Other",
         "line": {
          "color": "#ab63fa",
          "dash": "solid"
         },
         "marker": {
          "symbol": "circle"
         },
         "mode": "lines",
         "name": "Other",
         "orientation": "v",
         "showlegend": true,
         "type": "scatter",
         "x": [
          "2019-12-31T00:00:00",
          "2020-01-31T00:00:00",
          "2020-02-29T00:00:00",
          "2020-03-31T00:00:00",
          "2020-04-30T00:00:00",
          "2021-03-31T00:00:00",
          "2022-03-31T00:00:00"
         ],
         "xaxis": "x",
         "y": [
          8,
          9,
          14,
          45,
          11,
          6,
          87
         ],
         "yaxis": "y"
        }
       ],
       "layout": {
        "legend": {
         "title": {
          "text": "small_categories"
         },
         "tracegroupgap": 0
        },
        "shapes": [
         {
          "line": {
           "color": "black",
           "width": 3
          },
          "type": "line",
          "x0": "2020-03-11",
          "x1": "2020-03-11",
          "xref": "x",
          "y0": 0,
          "y1": 1,
          "yref": "y domain"
         }
        ],
        "template": {
         "data": {
          "bar": [
           {
            "error_x": {
             "color": "#2a3f5f"
            },
            "error_y": {
             "color": "#2a3f5f"
            },
            "marker": {
             "line": {
              "color": "#E5ECF6",
              "width": 0.5
             },
             "pattern": {
              "fillmode": "overlay",
              "size": 10,
              "solidity": 0.2
             }
            },
            "type": "bar"
           }
          ],
          "barpolar": [
           {
            "marker": {
             "line": {
              "color": "#E5ECF6",
              "width": 0.5
             },
             "pattern": {
              "fillmode": "overlay",
              "size": 10,
              "solidity": 0.2
             }
            },
            "type": "barpolar"
           }
          ],
          "carpet": [
           {
            "aaxis": {
             "endlinecolor": "#2a3f5f",
             "gridcolor": "white",
             "linecolor": "white",
             "minorgridcolor": "white",
             "startlinecolor": "#2a3f5f"
            },
            "baxis": {
             "endlinecolor": "#2a3f5f",
             "gridcolor": "white",
             "linecolor": "white",
             "minorgridcolor": "white",
             "startlinecolor": "#2a3f5f"
            },
            "type": "carpet"
           }
          ],
          "choropleth": [
           {
            "colorbar": {
             "outlinewidth": 0,
             "ticks": ""
            },
            "type": "choropleth"
           }
          ],
          "contour": [
           {
            "colorbar": {
             "outlinewidth": 0,
             "ticks": ""
            },
            "colorscale": [
             [
              0,
              "#0d0887"
             ],
             [
              0.1111111111111111,
              "#46039f"
             ],
             [
              0.2222222222222222,
              "#7201a8"
             ],
             [
              0.3333333333333333,
              "#9c179e"
             ],
             [
              0.4444444444444444,
              "#bd3786"
             ],
             [
              0.5555555555555556,
              "#d8576b"
             ],
             [
              0.6666666666666666,
              "#ed7953"
             ],
             [
              0.7777777777777778,
              "#fb9f3a"
             ],
             [
              0.8888888888888888,
              "#fdca26"
             ],
             [
              1,
              "#f0f921"
             ]
            ],
            "type": "contour"
           }
          ],
          "contourcarpet": [
           {
            "colorbar": {
             "outlinewidth": 0,
             "ticks": ""
            },
            "type": "contourcarpet"
           }
          ],
          "heatmap": [
           {
            "colorbar": {
             "outlinewidth": 0,
             "ticks": ""
            },
            "colorscale": [
             [
              0,
              "#0d0887"
             ],
             [
              0.1111111111111111,
              "#46039f"
             ],
             [
              0.2222222222222222,
              "#7201a8"
             ],
             [
              0.3333333333333333,
              "#9c179e"
             ],
             [
              0.4444444444444444,
              "#bd3786"
             ],
             [
              0.5555555555555556,
              "#d8576b"
             ],
             [
              0.6666666666666666,
              "#ed7953"
             ],
             [
              0.7777777777777778,
              "#fb9f3a"
             ],
             [
              0.8888888888888888,
              "#fdca26"
             ],
             [
              1,
              "#f0f921"
             ]
            ],
            "type": "heatmap"
           }
          ],
          "heatmapgl": [
           {
            "colorbar": {
             "outlinewidth": 0,
             "ticks": ""
            },
            "colorscale": [
             [
              0,
              "#0d0887"
             ],
             [
              0.1111111111111111,
              "#46039f"
             ],
             [
              0.2222222222222222,
              "#7201a8"
             ],
             [
              0.3333333333333333,
              "#9c179e"
             ],
             [
              0.4444444444444444,
              "#bd3786"
             ],
             [
              0.5555555555555556,
              "#d8576b"
             ],
             [
              0.6666666666666666,
              "#ed7953"
             ],
             [
              0.7777777777777778,
              "#fb9f3a"
             ],
             [
              0.8888888888888888,
              "#fdca26"
             ],
             [
              1,
              "#f0f921"
             ]
            ],
            "type": "heatmapgl"
           }
          ],
          "histogram": [
           {
            "marker": {
             "pattern": {
              "fillmode": "overlay",
              "size": 10,
              "solidity": 0.2
             }
            },
            "type": "histogram"
           }
          ],
          "histogram2d": [
           {
            "colorbar": {
             "outlinewidth": 0,
             "ticks": ""
            },
            "colorscale": [
             [
              0,
              "#0d0887"
             ],
             [
              0.1111111111111111,
              "#46039f"
             ],
             [
              0.2222222222222222,
              "#7201a8"
             ],
             [
              0.3333333333333333,
              "#9c179e"
             ],
             [
              0.4444444444444444,
              "#bd3786"
             ],
             [
              0.5555555555555556,
              "#d8576b"
             ],
             [
              0.6666666666666666,
              "#ed7953"
             ],
             [
              0.7777777777777778,
              "#fb9f3a"
             ],
             [
              0.8888888888888888,
              "#fdca26"
             ],
             [
              1,
              "#f0f921"
             ]
            ],
            "type": "histogram2d"
           }
          ],
          "histogram2dcontour": [
           {
            "colorbar": {
             "outlinewidth": 0,
             "ticks": ""
            },
            "colorscale": [
             [
              0,
              "#0d0887"
             ],
             [
              0.1111111111111111,
              "#46039f"
             ],
             [
              0.2222222222222222,
              "#7201a8"
             ],
             [
              0.3333333333333333,
              "#9c179e"
             ],
             [
              0.4444444444444444,
              "#bd3786"
             ],
             [
              0.5555555555555556,
              "#d8576b"
             ],
             [
              0.6666666666666666,
              "#ed7953"
             ],
             [
              0.7777777777777778,
              "#fb9f3a"
             ],
             [
              0.8888888888888888,
              "#fdca26"
             ],
             [
              1,
              "#f0f921"
             ]
            ],
            "type": "histogram2dcontour"
           }
          ],
          "mesh3d": [
           {
            "colorbar": {
             "outlinewidth": 0,
             "ticks": ""
            },
            "type": "mesh3d"
           }
          ],
          "parcoords": [
           {
            "line": {
             "colorbar": {
              "outlinewidth": 0,
              "ticks": ""
             }
            },
            "type": "parcoords"
           }
          ],
          "pie": [
           {
            "automargin": true,
            "type": "pie"
           }
          ],
          "scatter": [
           {
            "fillpattern": {
             "fillmode": "overlay",
             "size": 10,
             "solidity": 0.2
            },
            "type": "scatter"
           }
          ],
          "scatter3d": [
           {
            "line": {
             "colorbar": {
              "outlinewidth": 0,
              "ticks": ""
             }
            },
            "marker": {
             "colorbar": {
              "outlinewidth": 0,
              "ticks": ""
             }
            },
            "type": "scatter3d"
           }
          ],
          "scattercarpet": [
           {
            "marker": {
             "colorbar": {
              "outlinewidth": 0,
              "ticks": ""
             }
            },
            "type": "scattercarpet"
           }
          ],
          "scattergeo": [
           {
            "marker": {
             "colorbar": {
              "outlinewidth": 0,
              "ticks": ""
             }
            },
            "type": "scattergeo"
           }
          ],
          "scattergl": [
           {
            "marker": {
             "colorbar": {
              "outlinewidth": 0,
              "ticks": ""
             }
            },
            "type": "scattergl"
           }
          ],
          "scattermapbox": [
           {
            "marker": {
             "colorbar": {
              "outlinewidth": 0,
              "ticks": ""
             }
            },
            "type": "scattermapbox"
           }
          ],
          "scatterpolar": [
           {
            "marker": {
             "colorbar": {
              "outlinewidth": 0,
              "ticks": ""
             }
            },
            "type": "scatterpolar"
           }
          ],
          "scatterpolargl": [
           {
            "marker": {
             "colorbar": {
              "outlinewidth": 0,
              "ticks": ""
             }
            },
            "type": "scatterpolargl"
           }
          ],
          "scatterternary": [
           {
            "marker": {
             "colorbar": {
              "outlinewidth": 0,
              "ticks": ""
             }
            },
            "type": "scatterternary"
           }
          ],
          "surface": [
           {
            "colorbar": {
             "outlinewidth": 0,
             "ticks": ""
            },
            "colorscale": [
             [
              0,
              "#0d0887"
             ],
             [
              0.1111111111111111,
              "#46039f"
             ],
             [
              0.2222222222222222,
              "#7201a8"
             ],
             [
              0.3333333333333333,
              "#9c179e"
             ],
             [
              0.4444444444444444,
              "#bd3786"
             ],
             [
              0.5555555555555556,
              "#d8576b"
             ],
             [
              0.6666666666666666,
              "#ed7953"
             ],
             [
              0.7777777777777778,
              "#fb9f3a"
             ],
             [
              0.8888888888888888,
              "#fdca26"
             ],
             [
              1,
              "#f0f921"
             ]
            ],
            "type": "surface"
           }
          ],
          "table": [
           {
            "cells": {
             "fill": {
              "color": "#EBF0F8"
             },
             "line": {
              "color": "white"
             }
            },
            "header": {
             "fill": {
              "color": "#C8D4E3"
             },
             "line": {
              "color": "white"
             }
            },
            "type": "table"
           }
          ]
         },
         "layout": {
          "annotationdefaults": {
           "arrowcolor": "#2a3f5f",
           "arrowhead": 0,
           "arrowwidth": 1
          },
          "autotypenumbers": "strict",
          "coloraxis": {
           "colorbar": {
            "outlinewidth": 0,
            "ticks": ""
           }
          },
          "colorscale": {
           "diverging": [
            [
             0,
             "#8e0152"
            ],
            [
             0.1,
             "#c51b7d"
            ],
            [
             0.2,
             "#de77ae"
            ],
            [
             0.3,
             "#f1b6da"
            ],
            [
             0.4,
             "#fde0ef"
            ],
            [
             0.5,
             "#f7f7f7"
            ],
            [
             0.6,
             "#e6f5d0"
            ],
            [
             0.7,
             "#b8e186"
            ],
            [
             0.8,
             "#7fbc41"
            ],
            [
             0.9,
             "#4d9221"
            ],
            [
             1,
             "#276419"
            ]
           ],
           "sequential": [
            [
             0,
             "#0d0887"
            ],
            [
             0.1111111111111111,
             "#46039f"
            ],
            [
             0.2222222222222222,
             "#7201a8"
            ],
            [
             0.3333333333333333,
             "#9c179e"
            ],
            [
             0.4444444444444444,
             "#bd3786"
            ],
            [
             0.5555555555555556,
             "#d8576b"
            ],
            [
             0.6666666666666666,
             "#ed7953"
            ],
            [
             0.7777777777777778,
             "#fb9f3a"
            ],
            [
             0.8888888888888888,
             "#fdca26"
            ],
            [
             1,
             "#f0f921"
            ]
           ],
           "sequentialminus": [
            [
             0,
             "#0d0887"
            ],
            [
             0.1111111111111111,
             "#46039f"
            ],
            [
             0.2222222222222222,
             "#7201a8"
            ],
            [
             0.3333333333333333,
             "#9c179e"
            ],
            [
             0.4444444444444444,
             "#bd3786"
            ],
            [
             0.5555555555555556,
             "#d8576b"
            ],
            [
             0.6666666666666666,
             "#ed7953"
            ],
            [
             0.7777777777777778,
             "#fb9f3a"
            ],
            [
             0.8888888888888888,
             "#fdca26"
            ],
            [
             1,
             "#f0f921"
            ]
           ]
          },
          "colorway": [
           "#636efa",
           "#EF553B",
           "#00cc96",
           "#ab63fa",
           "#FFA15A",
           "#19d3f3",
           "#FF6692",
           "#B6E880",
           "#FF97FF",
           "#FECB52"
          ],
          "font": {
           "color": "#2a3f5f"
          },
          "geo": {
           "bgcolor": "white",
           "lakecolor": "white",
           "landcolor": "#E5ECF6",
           "showlakes": true,
           "showland": true,
           "subunitcolor": "white"
          },
          "hoverlabel": {
           "align": "left"
          },
          "hovermode": "closest",
          "mapbox": {
           "style": "light"
          },
          "paper_bgcolor": "white",
          "plot_bgcolor": "#E5ECF6",
          "polar": {
           "angularaxis": {
            "gridcolor": "white",
            "linecolor": "white",
            "ticks": ""
           },
           "bgcolor": "#E5ECF6",
           "radialaxis": {
            "gridcolor": "white",
            "linecolor": "white",
            "ticks": ""
           }
          },
          "scene": {
           "xaxis": {
            "backgroundcolor": "#E5ECF6",
            "gridcolor": "white",
            "gridwidth": 2,
            "linecolor": "white",
            "showbackground": true,
            "ticks": "",
            "zerolinecolor": "white"
           },
           "yaxis": {
            "backgroundcolor": "#E5ECF6",
            "gridcolor": "white",
            "gridwidth": 2,
            "linecolor": "white",
            "showbackground": true,
            "ticks": "",
            "zerolinecolor": "white"
           },
           "zaxis": {
            "backgroundcolor": "#E5ECF6",
            "gridcolor": "white",
            "gridwidth": 2,
            "linecolor": "white",
            "showbackground": true,
            "ticks": "",
            "zerolinecolor": "white"
           }
          },
          "shapedefaults": {
           "line": {
            "color": "#2a3f5f"
           }
          },
          "ternary": {
           "aaxis": {
            "gridcolor": "white",
            "linecolor": "white",
            "ticks": ""
           },
           "baxis": {
            "gridcolor": "white",
            "linecolor": "white",
            "ticks": ""
           },
           "bgcolor": "#E5ECF6",
           "caxis": {
            "gridcolor": "white",
            "linecolor": "white",
            "ticks": ""
           }
          },
          "title": {
           "x": 0.05
          },
          "xaxis": {
           "automargin": true,
           "gridcolor": "white",
           "linecolor": "white",
           "ticks": "",
           "title": {
            "standoff": 15
           },
           "zerolinecolor": "white",
           "zerolinewidth": 2
          },
          "yaxis": {
           "automargin": true,
           "gridcolor": "white",
           "linecolor": "white",
           "ticks": "",
           "title": {
            "standoff": 15
           },
           "zerolinecolor": "white",
           "zerolinewidth": 2
          }
         }
        },
        "title": {
         "text": "r/Mommit: Absolute postings associated with household chores, monthly"
        },
        "xaxis": {
         "anchor": "y",
         "domain": [
          0,
          1
         ],
         "title": {
          "text": "date_time"
         }
        },
        "yaxis": {
         "anchor": "x",
         "domain": [
          0,
          1
         ],
         "range": [
          0,
          7010
         ],
         "title": {
          "text": "Count"
         }
        }
       }
      }
     },
     "metadata": {},
     "output_type": "display_data"
    },
    {
     "data": {
      "application/vnd.plotly.v1+json": {
       "config": {
        "plotlyServerURL": "https://plot.ly"
       },
       "data": [
        {
         "hovertemplate": "small_categories=Care work<br>date_time=%{x}<br>Count=%{y}<extra></extra>",
         "legendgroup": "Care work",
         "line": {
          "color": "#636efa",
          "dash": "solid"
         },
         "marker": {
          "symbol": "circle"
         },
         "mode": "lines",
         "name": "Care work",
         "orientation": "v",
         "showlegend": true,
         "type": "scatter",
         "x": [
          "2019-12-31T00:00:00",
          "2020-01-31T00:00:00",
          "2020-02-29T00:00:00",
          "2020-03-31T00:00:00",
          "2020-04-30T00:00:00",
          "2021-03-31T00:00:00",
          "2022-03-31T00:00:00"
         ],
         "xaxis": "x",
         "y": [
          579,
          795,
          603,
          548,
          395,
          557,
          2800
         ],
         "yaxis": "y"
        },
        {
         "hovertemplate": "small_categories=Organization & mental load<br>date_time=%{x}<br>Count=%{y}<extra></extra>",
         "legendgroup": "Organization & mental load",
         "line": {
          "color": "#EF553B",
          "dash": "solid"
         },
         "marker": {
          "symbol": "circle"
         },
         "mode": "lines",
         "name": "Organization & mental load",
         "orientation": "v",
         "showlegend": true,
         "type": "scatter",
         "x": [
          "2019-12-31T00:00:00",
          "2020-01-31T00:00:00",
          "2020-02-29T00:00:00",
          "2020-03-31T00:00:00",
          "2020-04-30T00:00:00",
          "2021-03-31T00:00:00",
          "2022-03-31T00:00:00"
         ],
         "xaxis": "x",
         "y": [
          469,
          531,
          518,
          418,
          388,
          416,
          2528
         ],
         "yaxis": "y"
        },
        {
         "hovertemplate": "small_categories=Household chores<br>date_time=%{x}<br>Count=%{y}<extra></extra>",
         "legendgroup": "Household chores",
         "line": {
          "color": "#00cc96",
          "dash": "solid"
         },
         "marker": {
          "symbol": "circle"
         },
         "mode": "lines",
         "name": "Household chores",
         "orientation": "v",
         "showlegend": true,
         "type": "scatter",
         "x": [
          "2019-12-31T00:00:00",
          "2020-01-31T00:00:00",
          "2020-02-29T00:00:00",
          "2020-03-31T00:00:00",
          "2020-04-30T00:00:00",
          "2021-03-31T00:00:00",
          "2022-03-31T00:00:00"
         ],
         "xaxis": "x",
         "y": [
          149,
          262,
          269,
          245,
          187,
          240,
          1442
         ],
         "yaxis": "y"
        },
        {
         "hovertemplate": "small_categories=Other<br>date_time=%{x}<br>Count=%{y}<extra></extra>",
         "legendgroup": "Other",
         "line": {
          "color": "#ab63fa",
          "dash": "solid"
         },
         "marker": {
          "symbol": "circle"
         },
         "mode": "lines",
         "name": "Other",
         "orientation": "v",
         "showlegend": true,
         "type": "scatter",
         "x": [
          "2019-12-31T00:00:00",
          "2020-01-31T00:00:00",
          "2020-02-29T00:00:00",
          "2020-03-31T00:00:00",
          "2020-04-30T00:00:00",
          "2021-03-31T00:00:00",
          "2022-03-31T00:00:00"
         ],
         "xaxis": "x",
         "y": [
          35,
          41,
          53,
          32,
          22,
          35,
          310
         ],
         "yaxis": "y"
        }
       ],
       "layout": {
        "legend": {
         "title": {
          "text": "small_categories"
         },
         "tracegroupgap": 0
        },
        "shapes": [
         {
          "line": {
           "color": "black",
           "width": 3
          },
          "type": "line",
          "x0": "2020-03-11",
          "x1": "2020-03-11",
          "xref": "x",
          "y0": 0,
          "y1": 1,
          "yref": "y domain"
         }
        ],
        "template": {
         "data": {
          "bar": [
           {
            "error_x": {
             "color": "#2a3f5f"
            },
            "error_y": {
             "color": "#2a3f5f"
            },
            "marker": {
             "line": {
              "color": "#E5ECF6",
              "width": 0.5
             },
             "pattern": {
              "fillmode": "overlay",
              "size": 10,
              "solidity": 0.2
             }
            },
            "type": "bar"
           }
          ],
          "barpolar": [
           {
            "marker": {
             "line": {
              "color": "#E5ECF6",
              "width": 0.5
             },
             "pattern": {
              "fillmode": "overlay",
              "size": 10,
              "solidity": 0.2
             }
            },
            "type": "barpolar"
           }
          ],
          "carpet": [
           {
            "aaxis": {
             "endlinecolor": "#2a3f5f",
             "gridcolor": "white",
             "linecolor": "white",
             "minorgridcolor": "white",
             "startlinecolor": "#2a3f5f"
            },
            "baxis": {
             "endlinecolor": "#2a3f5f",
             "gridcolor": "white",
             "linecolor": "white",
             "minorgridcolor": "white",
             "startlinecolor": "#2a3f5f"
            },
            "type": "carpet"
           }
          ],
          "choropleth": [
           {
            "colorbar": {
             "outlinewidth": 0,
             "ticks": ""
            },
            "type": "choropleth"
           }
          ],
          "contour": [
           {
            "colorbar": {
             "outlinewidth": 0,
             "ticks": ""
            },
            "colorscale": [
             [
              0,
              "#0d0887"
             ],
             [
              0.1111111111111111,
              "#46039f"
             ],
             [
              0.2222222222222222,
              "#7201a8"
             ],
             [
              0.3333333333333333,
              "#9c179e"
             ],
             [
              0.4444444444444444,
              "#bd3786"
             ],
             [
              0.5555555555555556,
              "#d8576b"
             ],
             [
              0.6666666666666666,
              "#ed7953"
             ],
             [
              0.7777777777777778,
              "#fb9f3a"
             ],
             [
              0.8888888888888888,
              "#fdca26"
             ],
             [
              1,
              "#f0f921"
             ]
            ],
            "type": "contour"
           }
          ],
          "contourcarpet": [
           {
            "colorbar": {
             "outlinewidth": 0,
             "ticks": ""
            },
            "type": "contourcarpet"
           }
          ],
          "heatmap": [
           {
            "colorbar": {
             "outlinewidth": 0,
             "ticks": ""
            },
            "colorscale": [
             [
              0,
              "#0d0887"
             ],
             [
              0.1111111111111111,
              "#46039f"
             ],
             [
              0.2222222222222222,
              "#7201a8"
             ],
             [
              0.3333333333333333,
              "#9c179e"
             ],
             [
              0.4444444444444444,
              "#bd3786"
             ],
             [
              0.5555555555555556,
              "#d8576b"
             ],
             [
              0.6666666666666666,
              "#ed7953"
             ],
             [
              0.7777777777777778,
              "#fb9f3a"
             ],
             [
              0.8888888888888888,
              "#fdca26"
             ],
             [
              1,
              "#f0f921"
             ]
            ],
            "type": "heatmap"
           }
          ],
          "heatmapgl": [
           {
            "colorbar": {
             "outlinewidth": 0,
             "ticks": ""
            },
            "colorscale": [
             [
              0,
              "#0d0887"
             ],
             [
              0.1111111111111111,
              "#46039f"
             ],
             [
              0.2222222222222222,
              "#7201a8"
             ],
             [
              0.3333333333333333,
              "#9c179e"
             ],
             [
              0.4444444444444444,
              "#bd3786"
             ],
             [
              0.5555555555555556,
              "#d8576b"
             ],
             [
              0.6666666666666666,
              "#ed7953"
             ],
             [
              0.7777777777777778,
              "#fb9f3a"
             ],
             [
              0.8888888888888888,
              "#fdca26"
             ],
             [
              1,
              "#f0f921"
             ]
            ],
            "type": "heatmapgl"
           }
          ],
          "histogram": [
           {
            "marker": {
             "pattern": {
              "fillmode": "overlay",
              "size": 10,
              "solidity": 0.2
             }
            },
            "type": "histogram"
           }
          ],
          "histogram2d": [
           {
            "colorbar": {
             "outlinewidth": 0,
             "ticks": ""
            },
            "colorscale": [
             [
              0,
              "#0d0887"
             ],
             [
              0.1111111111111111,
              "#46039f"
             ],
             [
              0.2222222222222222,
              "#7201a8"
             ],
             [
              0.3333333333333333,
              "#9c179e"
             ],
             [
              0.4444444444444444,
              "#bd3786"
             ],
             [
              0.5555555555555556,
              "#d8576b"
             ],
             [
              0.6666666666666666,
              "#ed7953"
             ],
             [
              0.7777777777777778,
              "#fb9f3a"
             ],
             [
              0.8888888888888888,
              "#fdca26"
             ],
             [
              1,
              "#f0f921"
             ]
            ],
            "type": "histogram2d"
           }
          ],
          "histogram2dcontour": [
           {
            "colorbar": {
             "outlinewidth": 0,
             "ticks": ""
            },
            "colorscale": [
             [
              0,
              "#0d0887"
             ],
             [
              0.1111111111111111,
              "#46039f"
             ],
             [
              0.2222222222222222,
              "#7201a8"
             ],
             [
              0.3333333333333333,
              "#9c179e"
             ],
             [
              0.4444444444444444,
              "#bd3786"
             ],
             [
              0.5555555555555556,
              "#d8576b"
             ],
             [
              0.6666666666666666,
              "#ed7953"
             ],
             [
              0.7777777777777778,
              "#fb9f3a"
             ],
             [
              0.8888888888888888,
              "#fdca26"
             ],
             [
              1,
              "#f0f921"
             ]
            ],
            "type": "histogram2dcontour"
           }
          ],
          "mesh3d": [
           {
            "colorbar": {
             "outlinewidth": 0,
             "ticks": ""
            },
            "type": "mesh3d"
           }
          ],
          "parcoords": [
           {
            "line": {
             "colorbar": {
              "outlinewidth": 0,
              "ticks": ""
             }
            },
            "type": "parcoords"
           }
          ],
          "pie": [
           {
            "automargin": true,
            "type": "pie"
           }
          ],
          "scatter": [
           {
            "fillpattern": {
             "fillmode": "overlay",
             "size": 10,
             "solidity": 0.2
            },
            "type": "scatter"
           }
          ],
          "scatter3d": [
           {
            "line": {
             "colorbar": {
              "outlinewidth": 0,
              "ticks": ""
             }
            },
            "marker": {
             "colorbar": {
              "outlinewidth": 0,
              "ticks": ""
             }
            },
            "type": "scatter3d"
           }
          ],
          "scattercarpet": [
           {
            "marker": {
             "colorbar": {
              "outlinewidth": 0,
              "ticks": ""
             }
            },
            "type": "scattercarpet"
           }
          ],
          "scattergeo": [
           {
            "marker": {
             "colorbar": {
              "outlinewidth": 0,
              "ticks": ""
             }
            },
            "type": "scattergeo"
           }
          ],
          "scattergl": [
           {
            "marker": {
             "colorbar": {
              "outlinewidth": 0,
              "ticks": ""
             }
            },
            "type": "scattergl"
           }
          ],
          "scattermapbox": [
           {
            "marker": {
             "colorbar": {
              "outlinewidth": 0,
              "ticks": ""
             }
            },
            "type": "scattermapbox"
           }
          ],
          "scatterpolar": [
           {
            "marker": {
             "colorbar": {
              "outlinewidth": 0,
              "ticks": ""
             }
            },
            "type": "scatterpolar"
           }
          ],
          "scatterpolargl": [
           {
            "marker": {
             "colorbar": {
              "outlinewidth": 0,
              "ticks": ""
             }
            },
            "type": "scatterpolargl"
           }
          ],
          "scatterternary": [
           {
            "marker": {
             "colorbar": {
              "outlinewidth": 0,
              "ticks": ""
             }
            },
            "type": "scatterternary"
           }
          ],
          "surface": [
           {
            "colorbar": {
             "outlinewidth": 0,
             "ticks": ""
            },
            "colorscale": [
             [
              0,
              "#0d0887"
             ],
             [
              0.1111111111111111,
              "#46039f"
             ],
             [
              0.2222222222222222,
              "#7201a8"
             ],
             [
              0.3333333333333333,
              "#9c179e"
             ],
             [
              0.4444444444444444,
              "#bd3786"
             ],
             [
              0.5555555555555556,
              "#d8576b"
             ],
             [
              0.6666666666666666,
              "#ed7953"
             ],
             [
              0.7777777777777778,
              "#fb9f3a"
             ],
             [
              0.8888888888888888,
              "#fdca26"
             ],
             [
              1,
              "#f0f921"
             ]
            ],
            "type": "surface"
           }
          ],
          "table": [
           {
            "cells": {
             "fill": {
              "color": "#EBF0F8"
             },
             "line": {
              "color": "white"
             }
            },
            "header": {
             "fill": {
              "color": "#C8D4E3"
             },
             "line": {
              "color": "white"
             }
            },
            "type": "table"
           }
          ]
         },
         "layout": {
          "annotationdefaults": {
           "arrowcolor": "#2a3f5f",
           "arrowhead": 0,
           "arrowwidth": 1
          },
          "autotypenumbers": "strict",
          "coloraxis": {
           "colorbar": {
            "outlinewidth": 0,
            "ticks": ""
           }
          },
          "colorscale": {
           "diverging": [
            [
             0,
             "#8e0152"
            ],
            [
             0.1,
             "#c51b7d"
            ],
            [
             0.2,
             "#de77ae"
            ],
            [
             0.3,
             "#f1b6da"
            ],
            [
             0.4,
             "#fde0ef"
            ],
            [
             0.5,
             "#f7f7f7"
            ],
            [
             0.6,
             "#e6f5d0"
            ],
            [
             0.7,
             "#b8e186"
            ],
            [
             0.8,
             "#7fbc41"
            ],
            [
             0.9,
             "#4d9221"
            ],
            [
             1,
             "#276419"
            ]
           ],
           "sequential": [
            [
             0,
             "#0d0887"
            ],
            [
             0.1111111111111111,
             "#46039f"
            ],
            [
             0.2222222222222222,
             "#7201a8"
            ],
            [
             0.3333333333333333,
             "#9c179e"
            ],
            [
             0.4444444444444444,
             "#bd3786"
            ],
            [
             0.5555555555555556,
             "#d8576b"
            ],
            [
             0.6666666666666666,
             "#ed7953"
            ],
            [
             0.7777777777777778,
             "#fb9f3a"
            ],
            [
             0.8888888888888888,
             "#fdca26"
            ],
            [
             1,
             "#f0f921"
            ]
           ],
           "sequentialminus": [
            [
             0,
             "#0d0887"
            ],
            [
             0.1111111111111111,
             "#46039f"
            ],
            [
             0.2222222222222222,
             "#7201a8"
            ],
            [
             0.3333333333333333,
             "#9c179e"
            ],
            [
             0.4444444444444444,
             "#bd3786"
            ],
            [
             0.5555555555555556,
             "#d8576b"
            ],
            [
             0.6666666666666666,
             "#ed7953"
            ],
            [
             0.7777777777777778,
             "#fb9f3a"
            ],
            [
             0.8888888888888888,
             "#fdca26"
            ],
            [
             1,
             "#f0f921"
            ]
           ]
          },
          "colorway": [
           "#636efa",
           "#EF553B",
           "#00cc96",
           "#ab63fa",
           "#FFA15A",
           "#19d3f3",
           "#FF6692",
           "#B6E880",
           "#FF97FF",
           "#FECB52"
          ],
          "font": {
           "color": "#2a3f5f"
          },
          "geo": {
           "bgcolor": "white",
           "lakecolor": "white",
           "landcolor": "#E5ECF6",
           "showlakes": true,
           "showland": true,
           "subunitcolor": "white"
          },
          "hoverlabel": {
           "align": "left"
          },
          "hovermode": "closest",
          "mapbox": {
           "style": "light"
          },
          "paper_bgcolor": "white",
          "plot_bgcolor": "#E5ECF6",
          "polar": {
           "angularaxis": {
            "gridcolor": "white",
            "linecolor": "white",
            "ticks": ""
           },
           "bgcolor": "#E5ECF6",
           "radialaxis": {
            "gridcolor": "white",
            "linecolor": "white",
            "ticks": ""
           }
          },
          "scene": {
           "xaxis": {
            "backgroundcolor": "#E5ECF6",
            "gridcolor": "white",
            "gridwidth": 2,
            "linecolor": "white",
            "showbackground": true,
            "ticks": "",
            "zerolinecolor": "white"
           },
           "yaxis": {
            "backgroundcolor": "#E5ECF6",
            "gridcolor": "white",
            "gridwidth": 2,
            "linecolor": "white",
            "showbackground": true,
            "ticks": "",
            "zerolinecolor": "white"
           },
           "zaxis": {
            "backgroundcolor": "#E5ECF6",
            "gridcolor": "white",
            "gridwidth": 2,
            "linecolor": "white",
            "showbackground": true,
            "ticks": "",
            "zerolinecolor": "white"
           }
          },
          "shapedefaults": {
           "line": {
            "color": "#2a3f5f"
           }
          },
          "ternary": {
           "aaxis": {
            "gridcolor": "white",
            "linecolor": "white",
            "ticks": ""
           },
           "baxis": {
            "gridcolor": "white",
            "linecolor": "white",
            "ticks": ""
           },
           "bgcolor": "#E5ECF6",
           "caxis": {
            "gridcolor": "white",
            "linecolor": "white",
            "ticks": ""
           }
          },
          "title": {
           "x": 0.05
          },
          "xaxis": {
           "automargin": true,
           "gridcolor": "white",
           "linecolor": "white",
           "ticks": "",
           "title": {
            "standoff": 15
           },
           "zerolinecolor": "white",
           "zerolinewidth": 2
          },
          "yaxis": {
           "automargin": true,
           "gridcolor": "white",
           "linecolor": "white",
           "ticks": "",
           "title": {
            "standoff": 15
           },
           "zerolinecolor": "white",
           "zerolinewidth": 2
          }
         }
        },
        "title": {
         "text": "r/daddit: Absolute postings associated with household chores, monthly"
        },
        "xaxis": {
         "anchor": "y",
         "domain": [
          0,
          1
         ],
         "title": {
          "text": "date_time"
         }
        },
        "yaxis": {
         "anchor": "x",
         "domain": [
          0,
          1
         ],
         "range": [
          0,
          7010
         ],
         "title": {
          "text": "Count"
         }
        }
       }
      }
     },
     "metadata": {},
     "output_type": "display_data"
    }
   ],
   "source": [
    "# absoulute monthly\n",
    "\n",
    "# visualize the broad categories based on top_n_words\n",
    "dataframes=[mommit_monthly_chores,daddit_monthly_chores]\n",
    "titles = ['r/Mommit: Absolute postings associated with household chores, monthly',\n",
    "          'r/daddit: Absolute postings associated with household chores, monthly',\n",
    "          ]  # Specify the titles for each dataframe\n",
    "\n",
    "# Find the maximum value across all dataframes\n",
    "max_value=7000\n",
    "\n",
    "for i, dataframe in enumerate(dataframes):\n",
    "    fig = px.line(dataframe, x='date_time', y=\"Count\", color=\"small_categories\", title=f\"{titles[i]}\")\n",
    "    fig.add_vline(x=\"2020-03-11\", line_color=\"black\", line_width=3)\n",
    "\n",
    "    # Set the same y-axis scale for both graphs\n",
    "    fig.update_layout(yaxis=dict(range=[0, max_value+10]))\n",
    "    fig.show()"
   ]
  },
  {
   "attachments": {},
   "cell_type": "markdown",
   "metadata": {},
   "source": [
    "#### relative"
   ]
  },
  {
   "attachments": {},
   "cell_type": "markdown",
   "metadata": {},
   "source": [
    "##### grouping"
   ]
  },
  {
   "cell_type": "code",
   "execution_count": 46,
   "metadata": {},
   "outputs": [],
   "source": [
    "def weekly_monthly_grouping(df):\n",
    "    \"\"\"\n",
    "    Count number of documents per week from the df where keywords are found in top_n_words\n",
    "    \"\"\"\n",
    "    df[\"date_time\"]=pd.to_datetime(df['date_time'])\n",
    "    per_week = df.groupby([pd.Grouper(key='date_time', freq='W-SUN')]).size().reset_index(name='grouped_count')\n",
    "    per_month = df.groupby([pd.Grouper(key='date_time', freq=\"M\")]).size().reset_index(name='grouped_count')\n",
    "\n",
    "    return per_week, per_month"
   ]
  },
  {
   "cell_type": "code",
   "execution_count": 47,
   "metadata": {},
   "outputs": [
    {
     "data": {
      "text/html": [
       "<div>\n",
       "<style scoped>\n",
       "    .dataframe tbody tr th:only-of-type {\n",
       "        vertical-align: middle;\n",
       "    }\n",
       "\n",
       "    .dataframe tbody tr th {\n",
       "        vertical-align: top;\n",
       "    }\n",
       "\n",
       "    .dataframe thead th {\n",
       "        text-align: right;\n",
       "    }\n",
       "</style>\n",
       "<table border=\"1\" class=\"dataframe\">\n",
       "  <thead>\n",
       "    <tr style=\"text-align: right;\">\n",
       "      <th></th>\n",
       "      <th>date_time</th>\n",
       "      <th>grouped_count</th>\n",
       "    </tr>\n",
       "  </thead>\n",
       "  <tbody>\n",
       "    <tr>\n",
       "      <th>0</th>\n",
       "      <td>2019-12-01</td>\n",
       "      <td>121</td>\n",
       "    </tr>\n",
       "    <tr>\n",
       "      <th>1</th>\n",
       "      <td>2019-12-08</td>\n",
       "      <td>1141</td>\n",
       "    </tr>\n",
       "    <tr>\n",
       "      <th>2</th>\n",
       "      <td>2019-12-15</td>\n",
       "      <td>1146</td>\n",
       "    </tr>\n",
       "    <tr>\n",
       "      <th>3</th>\n",
       "      <td>2019-12-22</td>\n",
       "      <td>1144</td>\n",
       "    </tr>\n",
       "    <tr>\n",
       "      <th>4</th>\n",
       "      <td>2019-12-29</td>\n",
       "      <td>858</td>\n",
       "    </tr>\n",
       "    <tr>\n",
       "      <th>...</th>\n",
       "      <td>...</td>\n",
       "      <td>...</td>\n",
       "    </tr>\n",
       "    <tr>\n",
       "      <th>118</th>\n",
       "      <td>2022-03-06</td>\n",
       "      <td>6593</td>\n",
       "    </tr>\n",
       "    <tr>\n",
       "      <th>119</th>\n",
       "      <td>2022-03-13</td>\n",
       "      <td>11057</td>\n",
       "    </tr>\n",
       "    <tr>\n",
       "      <th>120</th>\n",
       "      <td>2022-03-20</td>\n",
       "      <td>11038</td>\n",
       "    </tr>\n",
       "    <tr>\n",
       "      <th>121</th>\n",
       "      <td>2022-03-27</td>\n",
       "      <td>11618</td>\n",
       "    </tr>\n",
       "    <tr>\n",
       "      <th>122</th>\n",
       "      <td>2022-04-03</td>\n",
       "      <td>6093</td>\n",
       "    </tr>\n",
       "  </tbody>\n",
       "</table>\n",
       "<p>123 rows × 2 columns</p>\n",
       "</div>"
      ],
      "text/plain": [
       "     date_time  grouped_count\n",
       "0   2019-12-01            121\n",
       "1   2019-12-08           1141\n",
       "2   2019-12-15           1146\n",
       "3   2019-12-22           1144\n",
       "4   2019-12-29            858\n",
       "..         ...            ...\n",
       "118 2022-03-06           6593\n",
       "119 2022-03-13          11057\n",
       "120 2022-03-20          11038\n",
       "121 2022-03-27          11618\n",
       "122 2022-04-03           6093\n",
       "\n",
       "[123 rows x 2 columns]"
      ]
     },
     "execution_count": 47,
     "metadata": {},
     "output_type": "execute_result"
    }
   ],
   "source": [
    "# basis are all data\n",
    "weekly_mommit2, monthly_mommit2=weekly_monthly_grouping(data_mommit)\n",
    "weekly_daddit2, monthly_daddit2=weekly_monthly_grouping(data_daddit)\n",
    "weekly_mommit2"
   ]
  },
  {
   "cell_type": "code",
   "execution_count": 48,
   "metadata": {},
   "outputs": [
    {
     "data": {
      "text/html": [
       "<div>\n",
       "<style scoped>\n",
       "    .dataframe tbody tr th:only-of-type {\n",
       "        vertical-align: middle;\n",
       "    }\n",
       "\n",
       "    .dataframe tbody tr th {\n",
       "        vertical-align: top;\n",
       "    }\n",
       "\n",
       "    .dataframe thead th {\n",
       "        text-align: right;\n",
       "    }\n",
       "</style>\n",
       "<table border=\"1\" class=\"dataframe\">\n",
       "  <thead>\n",
       "    <tr style=\"text-align: right;\">\n",
       "      <th></th>\n",
       "      <th>date_time</th>\n",
       "      <th>small_categories</th>\n",
       "      <th>Count</th>\n",
       "      <th>grouped_count</th>\n",
       "      <th>relative chores</th>\n",
       "    </tr>\n",
       "  </thead>\n",
       "  <tbody>\n",
       "    <tr>\n",
       "      <th>0</th>\n",
       "      <td>2019-12-01</td>\n",
       "      <td>Organization &amp; mental load</td>\n",
       "      <td>32</td>\n",
       "      <td>121</td>\n",
       "      <td>26.446281</td>\n",
       "    </tr>\n",
       "    <tr>\n",
       "      <th>1</th>\n",
       "      <td>2019-12-01</td>\n",
       "      <td>Care work</td>\n",
       "      <td>10</td>\n",
       "      <td>121</td>\n",
       "      <td>8.264463</td>\n",
       "    </tr>\n",
       "    <tr>\n",
       "      <th>2</th>\n",
       "      <td>2019-12-01</td>\n",
       "      <td>Household chores</td>\n",
       "      <td>4</td>\n",
       "      <td>121</td>\n",
       "      <td>3.305785</td>\n",
       "    </tr>\n",
       "    <tr>\n",
       "      <th>3</th>\n",
       "      <td>2019-12-08</td>\n",
       "      <td>Care work</td>\n",
       "      <td>160</td>\n",
       "      <td>1141</td>\n",
       "      <td>14.022787</td>\n",
       "    </tr>\n",
       "    <tr>\n",
       "      <th>4</th>\n",
       "      <td>2019-12-08</td>\n",
       "      <td>Organization &amp; mental load</td>\n",
       "      <td>133</td>\n",
       "      <td>1141</td>\n",
       "      <td>11.656442</td>\n",
       "    </tr>\n",
       "    <tr>\n",
       "      <th>...</th>\n",
       "      <td>...</td>\n",
       "      <td>...</td>\n",
       "      <td>...</td>\n",
       "      <td>...</td>\n",
       "      <td>...</td>\n",
       "    </tr>\n",
       "    <tr>\n",
       "      <th>122</th>\n",
       "      <td>2022-03-27</td>\n",
       "      <td>Other</td>\n",
       "      <td>14</td>\n",
       "      <td>11618</td>\n",
       "      <td>0.120503</td>\n",
       "    </tr>\n",
       "    <tr>\n",
       "      <th>123</th>\n",
       "      <td>2022-04-03</td>\n",
       "      <td>Care work</td>\n",
       "      <td>958</td>\n",
       "      <td>6093</td>\n",
       "      <td>15.722961</td>\n",
       "    </tr>\n",
       "    <tr>\n",
       "      <th>124</th>\n",
       "      <td>2022-04-03</td>\n",
       "      <td>Household chores</td>\n",
       "      <td>488</td>\n",
       "      <td>6093</td>\n",
       "      <td>8.009191</td>\n",
       "    </tr>\n",
       "    <tr>\n",
       "      <th>125</th>\n",
       "      <td>2022-04-03</td>\n",
       "      <td>Organization &amp; mental load</td>\n",
       "      <td>250</td>\n",
       "      <td>6093</td>\n",
       "      <td>4.103069</td>\n",
       "    </tr>\n",
       "    <tr>\n",
       "      <th>126</th>\n",
       "      <td>2022-04-03</td>\n",
       "      <td>Other</td>\n",
       "      <td>6</td>\n",
       "      <td>6093</td>\n",
       "      <td>0.098474</td>\n",
       "    </tr>\n",
       "  </tbody>\n",
       "</table>\n",
       "<p>127 rows × 5 columns</p>\n",
       "</div>"
      ],
      "text/plain": [
       "     date_time            small_categories  Count  grouped_count  \\\n",
       "0   2019-12-01  Organization & mental load     32            121   \n",
       "1   2019-12-01                   Care work     10            121   \n",
       "2   2019-12-01            Household chores      4            121   \n",
       "3   2019-12-08                   Care work    160           1141   \n",
       "4   2019-12-08  Organization & mental load    133           1141   \n",
       "..         ...                         ...    ...            ...   \n",
       "122 2022-03-27                       Other     14          11618   \n",
       "123 2022-04-03                   Care work    958           6093   \n",
       "124 2022-04-03            Household chores    488           6093   \n",
       "125 2022-04-03  Organization & mental load    250           6093   \n",
       "126 2022-04-03                       Other      6           6093   \n",
       "\n",
       "     relative chores  \n",
       "0          26.446281  \n",
       "1           8.264463  \n",
       "2           3.305785  \n",
       "3          14.022787  \n",
       "4          11.656442  \n",
       "..               ...  \n",
       "122         0.120503  \n",
       "123        15.722961  \n",
       "124         8.009191  \n",
       "125         4.103069  \n",
       "126         0.098474  \n",
       "\n",
       "[127 rows x 5 columns]"
      ]
     },
     "execution_count": 48,
     "metadata": {},
     "output_type": "execute_result"
    }
   ],
   "source": [
    "def relative_broad_categories(grouped_df, chores_df):\n",
    "    relative_weeks= pd.merge(grouped_df,chores_df, on=\"date_time\" )\n",
    "    relative_weeks[\"relative chores\"]= relative_weeks[\"Count\"]/relative_weeks[\"grouped_count\"]*100\n",
    "    return relative_weeks\n",
    "\n",
    "# merge weekly grouped data with hh chores \n",
    "relative_weeks_mommit=relative_broad_categories(mommit_weekly_chores, weekly_mommit2)\n",
    "relative_weeks_daddit=relative_broad_categories(daddit_weekly_chores, weekly_daddit2)\n",
    "\n",
    "relative_weeks_mommit"
   ]
  },
  {
   "cell_type": "code",
   "execution_count": 49,
   "metadata": {},
   "outputs": [
    {
     "data": {
      "text/html": [
       "<div>\n",
       "<style scoped>\n",
       "    .dataframe tbody tr th:only-of-type {\n",
       "        vertical-align: middle;\n",
       "    }\n",
       "\n",
       "    .dataframe tbody tr th {\n",
       "        vertical-align: top;\n",
       "    }\n",
       "\n",
       "    .dataframe thead th {\n",
       "        text-align: right;\n",
       "    }\n",
       "</style>\n",
       "<table border=\"1\" class=\"dataframe\">\n",
       "  <thead>\n",
       "    <tr style=\"text-align: right;\">\n",
       "      <th></th>\n",
       "      <th>date_time</th>\n",
       "      <th>small_categories</th>\n",
       "      <th>Count</th>\n",
       "      <th>grouped_count</th>\n",
       "      <th>relative chores</th>\n",
       "    </tr>\n",
       "  </thead>\n",
       "  <tbody>\n",
       "    <tr>\n",
       "      <th>0</th>\n",
       "      <td>2019-12-31</td>\n",
       "      <td>Care work</td>\n",
       "      <td>579</td>\n",
       "      <td>7589</td>\n",
       "      <td>7.629464</td>\n",
       "    </tr>\n",
       "    <tr>\n",
       "      <th>1</th>\n",
       "      <td>2019-12-31</td>\n",
       "      <td>Organization &amp; mental load</td>\n",
       "      <td>469</td>\n",
       "      <td>7589</td>\n",
       "      <td>6.179997</td>\n",
       "    </tr>\n",
       "    <tr>\n",
       "      <th>2</th>\n",
       "      <td>2019-12-31</td>\n",
       "      <td>Household chores</td>\n",
       "      <td>149</td>\n",
       "      <td>7589</td>\n",
       "      <td>1.963368</td>\n",
       "    </tr>\n",
       "    <tr>\n",
       "      <th>3</th>\n",
       "      <td>2019-12-31</td>\n",
       "      <td>Other</td>\n",
       "      <td>35</td>\n",
       "      <td>7589</td>\n",
       "      <td>0.461194</td>\n",
       "    </tr>\n",
       "    <tr>\n",
       "      <th>4</th>\n",
       "      <td>2020-01-31</td>\n",
       "      <td>Care work</td>\n",
       "      <td>795</td>\n",
       "      <td>8930</td>\n",
       "      <td>8.902576</td>\n",
       "    </tr>\n",
       "    <tr>\n",
       "      <th>5</th>\n",
       "      <td>2020-01-31</td>\n",
       "      <td>Organization &amp; mental load</td>\n",
       "      <td>531</td>\n",
       "      <td>8930</td>\n",
       "      <td>5.946249</td>\n",
       "    </tr>\n",
       "    <tr>\n",
       "      <th>6</th>\n",
       "      <td>2020-01-31</td>\n",
       "      <td>Household chores</td>\n",
       "      <td>262</td>\n",
       "      <td>8930</td>\n",
       "      <td>2.933931</td>\n",
       "    </tr>\n",
       "    <tr>\n",
       "      <th>7</th>\n",
       "      <td>2020-01-31</td>\n",
       "      <td>Other</td>\n",
       "      <td>41</td>\n",
       "      <td>8930</td>\n",
       "      <td>0.459127</td>\n",
       "    </tr>\n",
       "    <tr>\n",
       "      <th>8</th>\n",
       "      <td>2020-02-29</td>\n",
       "      <td>Care work</td>\n",
       "      <td>603</td>\n",
       "      <td>7966</td>\n",
       "      <td>7.569671</td>\n",
       "    </tr>\n",
       "    <tr>\n",
       "      <th>9</th>\n",
       "      <td>2020-02-29</td>\n",
       "      <td>Organization &amp; mental load</td>\n",
       "      <td>518</td>\n",
       "      <td>7966</td>\n",
       "      <td>6.502636</td>\n",
       "    </tr>\n",
       "    <tr>\n",
       "      <th>10</th>\n",
       "      <td>2020-02-29</td>\n",
       "      <td>Household chores</td>\n",
       "      <td>269</td>\n",
       "      <td>7966</td>\n",
       "      <td>3.376852</td>\n",
       "    </tr>\n",
       "    <tr>\n",
       "      <th>11</th>\n",
       "      <td>2020-02-29</td>\n",
       "      <td>Other</td>\n",
       "      <td>53</td>\n",
       "      <td>7966</td>\n",
       "      <td>0.665328</td>\n",
       "    </tr>\n",
       "    <tr>\n",
       "      <th>12</th>\n",
       "      <td>2020-03-31</td>\n",
       "      <td>Care work</td>\n",
       "      <td>548</td>\n",
       "      <td>7430</td>\n",
       "      <td>7.375505</td>\n",
       "    </tr>\n",
       "    <tr>\n",
       "      <th>13</th>\n",
       "      <td>2020-03-31</td>\n",
       "      <td>Organization &amp; mental load</td>\n",
       "      <td>418</td>\n",
       "      <td>7430</td>\n",
       "      <td>5.625841</td>\n",
       "    </tr>\n",
       "    <tr>\n",
       "      <th>14</th>\n",
       "      <td>2020-03-31</td>\n",
       "      <td>Household chores</td>\n",
       "      <td>245</td>\n",
       "      <td>7430</td>\n",
       "      <td>3.297443</td>\n",
       "    </tr>\n",
       "    <tr>\n",
       "      <th>15</th>\n",
       "      <td>2020-03-31</td>\n",
       "      <td>Other</td>\n",
       "      <td>32</td>\n",
       "      <td>7430</td>\n",
       "      <td>0.430686</td>\n",
       "    </tr>\n",
       "    <tr>\n",
       "      <th>16</th>\n",
       "      <td>2020-04-30</td>\n",
       "      <td>Care work</td>\n",
       "      <td>395</td>\n",
       "      <td>6294</td>\n",
       "      <td>6.275818</td>\n",
       "    </tr>\n",
       "    <tr>\n",
       "      <th>17</th>\n",
       "      <td>2020-04-30</td>\n",
       "      <td>Organization &amp; mental load</td>\n",
       "      <td>388</td>\n",
       "      <td>6294</td>\n",
       "      <td>6.164601</td>\n",
       "    </tr>\n",
       "    <tr>\n",
       "      <th>18</th>\n",
       "      <td>2020-04-30</td>\n",
       "      <td>Household chores</td>\n",
       "      <td>187</td>\n",
       "      <td>6294</td>\n",
       "      <td>2.971084</td>\n",
       "    </tr>\n",
       "    <tr>\n",
       "      <th>19</th>\n",
       "      <td>2020-04-30</td>\n",
       "      <td>Other</td>\n",
       "      <td>22</td>\n",
       "      <td>6294</td>\n",
       "      <td>0.349539</td>\n",
       "    </tr>\n",
       "    <tr>\n",
       "      <th>20</th>\n",
       "      <td>2021-03-31</td>\n",
       "      <td>Care work</td>\n",
       "      <td>557</td>\n",
       "      <td>7452</td>\n",
       "      <td>7.474503</td>\n",
       "    </tr>\n",
       "    <tr>\n",
       "      <th>21</th>\n",
       "      <td>2021-03-31</td>\n",
       "      <td>Organization &amp; mental load</td>\n",
       "      <td>416</td>\n",
       "      <td>7452</td>\n",
       "      <td>5.582394</td>\n",
       "    </tr>\n",
       "    <tr>\n",
       "      <th>22</th>\n",
       "      <td>2021-03-31</td>\n",
       "      <td>Household chores</td>\n",
       "      <td>240</td>\n",
       "      <td>7452</td>\n",
       "      <td>3.220612</td>\n",
       "    </tr>\n",
       "    <tr>\n",
       "      <th>23</th>\n",
       "      <td>2021-03-31</td>\n",
       "      <td>Other</td>\n",
       "      <td>35</td>\n",
       "      <td>7452</td>\n",
       "      <td>0.469673</td>\n",
       "    </tr>\n",
       "    <tr>\n",
       "      <th>24</th>\n",
       "      <td>2022-03-31</td>\n",
       "      <td>Care work</td>\n",
       "      <td>2800</td>\n",
       "      <td>33302</td>\n",
       "      <td>8.407903</td>\n",
       "    </tr>\n",
       "    <tr>\n",
       "      <th>25</th>\n",
       "      <td>2022-03-31</td>\n",
       "      <td>Organization &amp; mental load</td>\n",
       "      <td>2528</td>\n",
       "      <td>33302</td>\n",
       "      <td>7.591136</td>\n",
       "    </tr>\n",
       "    <tr>\n",
       "      <th>26</th>\n",
       "      <td>2022-03-31</td>\n",
       "      <td>Household chores</td>\n",
       "      <td>1442</td>\n",
       "      <td>33302</td>\n",
       "      <td>4.330070</td>\n",
       "    </tr>\n",
       "    <tr>\n",
       "      <th>27</th>\n",
       "      <td>2022-03-31</td>\n",
       "      <td>Other</td>\n",
       "      <td>310</td>\n",
       "      <td>33302</td>\n",
       "      <td>0.930875</td>\n",
       "    </tr>\n",
       "  </tbody>\n",
       "</table>\n",
       "</div>"
      ],
      "text/plain": [
       "    date_time            small_categories  Count  grouped_count  \\\n",
       "0  2019-12-31                   Care work    579           7589   \n",
       "1  2019-12-31  Organization & mental load    469           7589   \n",
       "2  2019-12-31            Household chores    149           7589   \n",
       "3  2019-12-31                       Other     35           7589   \n",
       "4  2020-01-31                   Care work    795           8930   \n",
       "5  2020-01-31  Organization & mental load    531           8930   \n",
       "6  2020-01-31            Household chores    262           8930   \n",
       "7  2020-01-31                       Other     41           8930   \n",
       "8  2020-02-29                   Care work    603           7966   \n",
       "9  2020-02-29  Organization & mental load    518           7966   \n",
       "10 2020-02-29            Household chores    269           7966   \n",
       "11 2020-02-29                       Other     53           7966   \n",
       "12 2020-03-31                   Care work    548           7430   \n",
       "13 2020-03-31  Organization & mental load    418           7430   \n",
       "14 2020-03-31            Household chores    245           7430   \n",
       "15 2020-03-31                       Other     32           7430   \n",
       "16 2020-04-30                   Care work    395           6294   \n",
       "17 2020-04-30  Organization & mental load    388           6294   \n",
       "18 2020-04-30            Household chores    187           6294   \n",
       "19 2020-04-30                       Other     22           6294   \n",
       "20 2021-03-31                   Care work    557           7452   \n",
       "21 2021-03-31  Organization & mental load    416           7452   \n",
       "22 2021-03-31            Household chores    240           7452   \n",
       "23 2021-03-31                       Other     35           7452   \n",
       "24 2022-03-31                   Care work   2800          33302   \n",
       "25 2022-03-31  Organization & mental load   2528          33302   \n",
       "26 2022-03-31            Household chores   1442          33302   \n",
       "27 2022-03-31                       Other    310          33302   \n",
       "\n",
       "    relative chores  \n",
       "0          7.629464  \n",
       "1          6.179997  \n",
       "2          1.963368  \n",
       "3          0.461194  \n",
       "4          8.902576  \n",
       "5          5.946249  \n",
       "6          2.933931  \n",
       "7          0.459127  \n",
       "8          7.569671  \n",
       "9          6.502636  \n",
       "10         3.376852  \n",
       "11         0.665328  \n",
       "12         7.375505  \n",
       "13         5.625841  \n",
       "14         3.297443  \n",
       "15         0.430686  \n",
       "16         6.275818  \n",
       "17         6.164601  \n",
       "18         2.971084  \n",
       "19         0.349539  \n",
       "20         7.474503  \n",
       "21         5.582394  \n",
       "22         3.220612  \n",
       "23         0.469673  \n",
       "24         8.407903  \n",
       "25         7.591136  \n",
       "26         4.330070  \n",
       "27         0.930875  "
      ]
     },
     "execution_count": 49,
     "metadata": {},
     "output_type": "execute_result"
    }
   ],
   "source": [
    "# merge monthly grouped data with hh chores\n",
    "relative_months_mommit=relative_broad_categories(mommit_monthly_chores, monthly_mommit2)\n",
    "relative_months_daddit=relative_broad_categories(daddit_monthly_chores, monthly_daddit2)\n",
    "relative_months_daddit"
   ]
  },
  {
   "cell_type": "code",
   "execution_count": 50,
   "metadata": {},
   "outputs": [
    {
     "data": {
      "text/plain": [
       "24555"
      ]
     },
     "execution_count": 50,
     "metadata": {},
     "output_type": "execute_result"
    }
   ],
   "source": [
    "# sanity check\n",
    "relative_weeks_mommit[\"Count\"].sum()"
   ]
  },
  {
   "cell_type": "code",
   "execution_count": 53,
   "metadata": {},
   "outputs": [],
   "source": [
    "# to parquet\n",
    "relative_months_mommit.to_parquet(\"figure5_percentages.parquet\")\n",
    "relative_months_daddit.to_parquet(\"figure6_percentages.parquet\")"
   ]
  },
  {
   "cell_type": "markdown",
   "metadata": {},
   "source": [
    "# Figures 5 & 6"
   ]
  },
  {
   "cell_type": "code",
   "execution_count": 51,
   "metadata": {},
   "outputs": [
    {
     "data": {
      "application/vnd.plotly.v1+json": {
       "config": {
        "plotlyServerURL": "https://plot.ly"
       },
       "data": [
        {
         "hovertemplate": "small_categories=Care work<br>date_time=%{x}<br>relative chores=%{y}<extra></extra>",
         "legendgroup": "Care work",
         "line": {
          "color": "rgb(31, 119, 180)",
          "dash": "solid"
         },
         "marker": {
          "symbol": "circle"
         },
         "mode": "lines+markers",
         "name": "Care work",
         "orientation": "v",
         "showlegend": true,
         "type": "scatter",
         "x": [
          "2019-12-01T00:00:00",
          "2019-12-08T00:00:00",
          "2019-12-15T00:00:00",
          "2019-12-22T00:00:00",
          "2019-12-29T00:00:00",
          "2020-01-05T00:00:00",
          "2020-01-12T00:00:00",
          "2020-01-19T00:00:00",
          "2020-01-26T00:00:00",
          "2020-02-02T00:00:00",
          "2020-02-09T00:00:00",
          "2020-02-16T00:00:00",
          "2020-02-23T00:00:00",
          "2020-03-01T00:00:00",
          "2020-03-08T00:00:00",
          "2020-03-15T00:00:00",
          "2020-03-22T00:00:00",
          "2020-03-29T00:00:00",
          "2020-04-05T00:00:00",
          "2020-04-12T00:00:00",
          "2020-04-19T00:00:00",
          "2020-04-26T00:00:00",
          "2020-05-03T00:00:00",
          "2021-03-07T00:00:00",
          "2021-03-14T00:00:00",
          "2021-03-21T00:00:00",
          "2021-03-28T00:00:00",
          "2021-04-04T00:00:00",
          "2022-03-06T00:00:00",
          "2022-03-13T00:00:00",
          "2022-03-20T00:00:00",
          "2022-03-27T00:00:00",
          "2022-04-03T00:00:00"
         ],
         "xaxis": "x",
         "y": [
          8.264462809917356,
          14.022787028921998,
          18.411867364746946,
          24.737762237762237,
          18.181818181818183,
          18.003913894324853,
          18.94463667820069,
          21.252204585537918,
          17.585301837270343,
          18.54684512428298,
          19.230769230769234,
          17.00434153400868,
          18.107908351810792,
          15.925394548063126,
          17.727272727272727,
          21.26899016979446,
          20.036764705882355,
          16.059757236227824,
          23.326771653543307,
          17.884615384615383,
          22.481442205726403,
          26.706231454005934,
          27.181688125894134,
          16.87995124923827,
          12.934027777777779,
          21.030042918454935,
          13.695299837925445,
          11.383928571428571,
          16.032155316244502,
          20.728949986433935,
          18.046747599202753,
          15.34687553795834,
          15.722960774659445
         ],
         "yaxis": "y"
        },
        {
         "hovertemplate": "small_categories=Household chores<br>date_time=%{x}<br>relative chores=%{y}<extra></extra>",
         "legendgroup": "Household chores",
         "line": {
          "color": "rgb(44, 160, 44)",
          "dash": "solid"
         },
         "marker": {
          "symbol": "circle"
         },
         "mode": "lines+markers",
         "name": "Household chores",
         "orientation": "v",
         "showlegend": true,
         "type": "scatter",
         "x": [
          "2019-12-01T00:00:00",
          "2019-12-08T00:00:00",
          "2019-12-15T00:00:00",
          "2019-12-22T00:00:00",
          "2019-12-29T00:00:00",
          "2020-01-05T00:00:00",
          "2020-01-12T00:00:00",
          "2020-01-19T00:00:00",
          "2020-01-26T00:00:00",
          "2020-02-02T00:00:00",
          "2020-02-09T00:00:00",
          "2020-02-16T00:00:00",
          "2020-02-23T00:00:00",
          "2020-03-01T00:00:00",
          "2020-03-08T00:00:00",
          "2020-03-15T00:00:00",
          "2020-03-22T00:00:00",
          "2020-03-29T00:00:00",
          "2020-04-05T00:00:00",
          "2020-04-12T00:00:00",
          "2020-04-19T00:00:00",
          "2020-04-26T00:00:00",
          "2020-05-03T00:00:00",
          "2021-03-07T00:00:00",
          "2021-03-14T00:00:00",
          "2021-03-21T00:00:00",
          "2021-03-28T00:00:00",
          "2021-04-04T00:00:00",
          "2022-03-06T00:00:00",
          "2022-03-13T00:00:00",
          "2022-03-20T00:00:00",
          "2022-03-27T00:00:00",
          "2022-04-03T00:00:00"
         ],
         "xaxis": "x",
         "y": [
          3.3057851239669422,
          3.856266432953549,
          5.322862129144852,
          6.118881118881119,
          6.75990675990676,
          9.882583170254403,
          11.245674740484429,
          7.671957671957672,
          5.16185476815398,
          5.162523900573614,
          6.605351170568562,
          4.848046309696093,
          6.72579453067258,
          7.245337159253945,
          5.909090909090909,
          14.655942806076855,
          6.341911764705882,
          10.457516339869281,
          6.791338582677166,
          2.6923076923076925,
          4.453870625662779,
          3.5608308605341246,
          2.575107296137339,
          5.850091407678245,
          8.59375,
          11.731044349070102,
          5.591572123176661,
          6.584821428571429,
          5.82435916881541,
          5.12797322962829,
          6.676934227215075,
          4.811499397486658,
          8.009190874774331
         ],
         "yaxis": "y"
        },
        {
         "hovertemplate": "small_categories=Organization & mental load<br>date_time=%{x}<br>relative chores=%{y}<extra></extra>",
         "legendgroup": "Organization & mental load",
         "line": {
          "color": "rgb(214, 39, 40)",
          "dash": "solid"
         },
         "marker": {
          "symbol": "circle"
         },
         "mode": "lines+markers",
         "name": "Organization & mental load",
         "orientation": "v",
         "showlegend": true,
         "type": "scatter",
         "x": [
          "2019-12-01T00:00:00",
          "2019-12-08T00:00:00",
          "2019-12-15T00:00:00",
          "2019-12-22T00:00:00",
          "2019-12-29T00:00:00",
          "2020-01-05T00:00:00",
          "2020-01-12T00:00:00",
          "2020-01-19T00:00:00",
          "2020-01-26T00:00:00",
          "2020-02-02T00:00:00",
          "2020-02-09T00:00:00",
          "2020-02-16T00:00:00",
          "2020-02-23T00:00:00",
          "2020-03-01T00:00:00",
          "2020-03-08T00:00:00",
          "2020-03-15T00:00:00",
          "2020-03-22T00:00:00",
          "2020-03-29T00:00:00",
          "2020-04-05T00:00:00",
          "2020-04-12T00:00:00",
          "2020-04-19T00:00:00",
          "2020-04-26T00:00:00",
          "2020-05-03T00:00:00",
          "2021-03-07T00:00:00",
          "2021-03-14T00:00:00",
          "2021-03-21T00:00:00",
          "2021-03-28T00:00:00",
          "2021-04-04T00:00:00",
          "2022-03-06T00:00:00",
          "2022-03-13T00:00:00",
          "2022-03-20T00:00:00",
          "2022-03-27T00:00:00",
          "2022-04-03T00:00:00"
         ],
         "xaxis": "x",
         "y": [
          26.446280991735538,
          11.65644171779141,
          8.289703315881326,
          5.681818181818182,
          12.004662004662006,
          5.38160469667319,
          6.660899653979238,
          8.641975308641975,
          6.474190726159231,
          7.743785850860421,
          5.2675585284280935,
          7.23589001447178,
          6.577974870657798,
          6.743185078909613,
          19.015151515151516,
          4.647006255585344,
          7.44485294117647,
          11.297852474323063,
          5.511811023622047,
          4.134615384615384,
          12.513255567338282,
          4.080118694362018,
          3.862660944206009,
          5.301645338208409,
          6.684027777777778,
          5.579399141630901,
          6.40194489465154,
          5.691964285714286,
          5.809191566813287,
          7.5608211992403005,
          8.452618227939844,
          7.496987433293166,
          4.103069095683572
         ],
         "yaxis": "y"
        },
        {
         "hovertemplate": "small_categories=Other<br>date_time=%{x}<br>relative chores=%{y}<extra></extra>",
         "legendgroup": "Other",
         "line": {
          "color": "rgb(127, 127, 127)",
          "dash": "solid"
         },
         "marker": {
          "symbol": "circle"
         },
         "mode": "lines+markers",
         "name": "Other",
         "orientation": "v",
         "showlegend": true,
         "type": "scatter",
         "x": [
          "2019-12-08T00:00:00",
          "2019-12-15T00:00:00",
          "2019-12-29T00:00:00",
          "2020-01-05T00:00:00",
          "2020-01-12T00:00:00",
          "2020-01-19T00:00:00",
          "2020-01-26T00:00:00",
          "2020-02-02T00:00:00",
          "2020-02-09T00:00:00",
          "2020-02-16T00:00:00",
          "2020-02-23T00:00:00",
          "2020-03-01T00:00:00",
          "2020-03-08T00:00:00",
          "2020-03-22T00:00:00",
          "2020-03-29T00:00:00",
          "2020-04-05T00:00:00",
          "2020-04-12T00:00:00",
          "2020-04-19T00:00:00",
          "2020-04-26T00:00:00",
          "2020-05-03T00:00:00",
          "2021-03-14T00:00:00",
          "2021-03-21T00:00:00",
          "2021-03-28T00:00:00",
          "2022-03-06T00:00:00",
          "2022-03-13T00:00:00",
          "2022-03-20T00:00:00",
          "2022-03-27T00:00:00",
          "2022-04-03T00:00:00"
         ],
         "xaxis": "x",
         "y": [
          0.175284837861525,
          0.08726003490401396,
          0.34965034965034963,
          0.29354207436399216,
          0.17301038062283738,
          0.3527336860670194,
          0.08748906386701663,
          0.28680688336520077,
          0.08361204013377926,
          0.0723589001447178,
          0.4434589800443459,
          0.2869440459110474,
          0.07575757575757576,
          3.4926470588235294,
          0.4668534080298786,
          0.39370078740157477,
          0.19230769230769232,
          0.10604453870625664,
          0.1483679525222552,
          0.4291845493562232,
          0.1736111111111111,
          0.2145922746781116,
          0.08103727714748785,
          0.19717882602760503,
          0.23514515691417204,
          0.2536691429606813,
          0.12050266827336892,
          0.09847365829640572
         ],
         "yaxis": "y"
        },
        {
         "marker": {
          "color": "black",
          "size": 10
         },
         "mode": "lines",
         "name": "Start of pandemic",
         "showlegend": true,
         "type": "scatter",
         "x": [
          null
         ],
         "y": [
          null
         ]
        }
       ],
       "layout": {
        "height": 500,
        "legend": {
         "font": {
          "size": 18
         },
         "itemsizing": "trace",
         "title": {
          "text": ""
         },
         "tracegroupgap": 0,
         "traceorder": "normal"
        },
        "plot_bgcolor": "white",
        "shapes": [
         {
          "line": {
           "color": "black",
           "width": 2
          },
          "name": "Start of pandemic",
          "type": "line",
          "x0": "2020-03-11",
          "x1": "2020-03-11",
          "y0": 0,
          "y1": 2500
         }
        ],
        "template": {
         "data": {
          "bar": [
           {
            "error_x": {
             "color": "#2a3f5f"
            },
            "error_y": {
             "color": "#2a3f5f"
            },
            "marker": {
             "line": {
              "color": "#E5ECF6",
              "width": 0.5
             },
             "pattern": {
              "fillmode": "overlay",
              "size": 10,
              "solidity": 0.2
             }
            },
            "type": "bar"
           }
          ],
          "barpolar": [
           {
            "marker": {
             "line": {
              "color": "#E5ECF6",
              "width": 0.5
             },
             "pattern": {
              "fillmode": "overlay",
              "size": 10,
              "solidity": 0.2
             }
            },
            "type": "barpolar"
           }
          ],
          "carpet": [
           {
            "aaxis": {
             "endlinecolor": "#2a3f5f",
             "gridcolor": "white",
             "linecolor": "white",
             "minorgridcolor": "white",
             "startlinecolor": "#2a3f5f"
            },
            "baxis": {
             "endlinecolor": "#2a3f5f",
             "gridcolor": "white",
             "linecolor": "white",
             "minorgridcolor": "white",
             "startlinecolor": "#2a3f5f"
            },
            "type": "carpet"
           }
          ],
          "choropleth": [
           {
            "colorbar": {
             "outlinewidth": 0,
             "ticks": ""
            },
            "type": "choropleth"
           }
          ],
          "contour": [
           {
            "colorbar": {
             "outlinewidth": 0,
             "ticks": ""
            },
            "colorscale": [
             [
              0,
              "#0d0887"
             ],
             [
              0.1111111111111111,
              "#46039f"
             ],
             [
              0.2222222222222222,
              "#7201a8"
             ],
             [
              0.3333333333333333,
              "#9c179e"
             ],
             [
              0.4444444444444444,
              "#bd3786"
             ],
             [
              0.5555555555555556,
              "#d8576b"
             ],
             [
              0.6666666666666666,
              "#ed7953"
             ],
             [
              0.7777777777777778,
              "#fb9f3a"
             ],
             [
              0.8888888888888888,
              "#fdca26"
             ],
             [
              1,
              "#f0f921"
             ]
            ],
            "type": "contour"
           }
          ],
          "contourcarpet": [
           {
            "colorbar": {
             "outlinewidth": 0,
             "ticks": ""
            },
            "type": "contourcarpet"
           }
          ],
          "heatmap": [
           {
            "colorbar": {
             "outlinewidth": 0,
             "ticks": ""
            },
            "colorscale": [
             [
              0,
              "#0d0887"
             ],
             [
              0.1111111111111111,
              "#46039f"
             ],
             [
              0.2222222222222222,
              "#7201a8"
             ],
             [
              0.3333333333333333,
              "#9c179e"
             ],
             [
              0.4444444444444444,
              "#bd3786"
             ],
             [
              0.5555555555555556,
              "#d8576b"
             ],
             [
              0.6666666666666666,
              "#ed7953"
             ],
             [
              0.7777777777777778,
              "#fb9f3a"
             ],
             [
              0.8888888888888888,
              "#fdca26"
             ],
             [
              1,
              "#f0f921"
             ]
            ],
            "type": "heatmap"
           }
          ],
          "heatmapgl": [
           {
            "colorbar": {
             "outlinewidth": 0,
             "ticks": ""
            },
            "colorscale": [
             [
              0,
              "#0d0887"
             ],
             [
              0.1111111111111111,
              "#46039f"
             ],
             [
              0.2222222222222222,
              "#7201a8"
             ],
             [
              0.3333333333333333,
              "#9c179e"
             ],
             [
              0.4444444444444444,
              "#bd3786"
             ],
             [
              0.5555555555555556,
              "#d8576b"
             ],
             [
              0.6666666666666666,
              "#ed7953"
             ],
             [
              0.7777777777777778,
              "#fb9f3a"
             ],
             [
              0.8888888888888888,
              "#fdca26"
             ],
             [
              1,
              "#f0f921"
             ]
            ],
            "type": "heatmapgl"
           }
          ],
          "histogram": [
           {
            "marker": {
             "pattern": {
              "fillmode": "overlay",
              "size": 10,
              "solidity": 0.2
             }
            },
            "type": "histogram"
           }
          ],
          "histogram2d": [
           {
            "colorbar": {
             "outlinewidth": 0,
             "ticks": ""
            },
            "colorscale": [
             [
              0,
              "#0d0887"
             ],
             [
              0.1111111111111111,
              "#46039f"
             ],
             [
              0.2222222222222222,
              "#7201a8"
             ],
             [
              0.3333333333333333,
              "#9c179e"
             ],
             [
              0.4444444444444444,
              "#bd3786"
             ],
             [
              0.5555555555555556,
              "#d8576b"
             ],
             [
              0.6666666666666666,
              "#ed7953"
             ],
             [
              0.7777777777777778,
              "#fb9f3a"
             ],
             [
              0.8888888888888888,
              "#fdca26"
             ],
             [
              1,
              "#f0f921"
             ]
            ],
            "type": "histogram2d"
           }
          ],
          "histogram2dcontour": [
           {
            "colorbar": {
             "outlinewidth": 0,
             "ticks": ""
            },
            "colorscale": [
             [
              0,
              "#0d0887"
             ],
             [
              0.1111111111111111,
              "#46039f"
             ],
             [
              0.2222222222222222,
              "#7201a8"
             ],
             [
              0.3333333333333333,
              "#9c179e"
             ],
             [
              0.4444444444444444,
              "#bd3786"
             ],
             [
              0.5555555555555556,
              "#d8576b"
             ],
             [
              0.6666666666666666,
              "#ed7953"
             ],
             [
              0.7777777777777778,
              "#fb9f3a"
             ],
             [
              0.8888888888888888,
              "#fdca26"
             ],
             [
              1,
              "#f0f921"
             ]
            ],
            "type": "histogram2dcontour"
           }
          ],
          "mesh3d": [
           {
            "colorbar": {
             "outlinewidth": 0,
             "ticks": ""
            },
            "type": "mesh3d"
           }
          ],
          "parcoords": [
           {
            "line": {
             "colorbar": {
              "outlinewidth": 0,
              "ticks": ""
             }
            },
            "type": "parcoords"
           }
          ],
          "pie": [
           {
            "automargin": true,
            "type": "pie"
           }
          ],
          "scatter": [
           {
            "fillpattern": {
             "fillmode": "overlay",
             "size": 10,
             "solidity": 0.2
            },
            "type": "scatter"
           }
          ],
          "scatter3d": [
           {
            "line": {
             "colorbar": {
              "outlinewidth": 0,
              "ticks": ""
             }
            },
            "marker": {
             "colorbar": {
              "outlinewidth": 0,
              "ticks": ""
             }
            },
            "type": "scatter3d"
           }
          ],
          "scattercarpet": [
           {
            "marker": {
             "colorbar": {
              "outlinewidth": 0,
              "ticks": ""
             }
            },
            "type": "scattercarpet"
           }
          ],
          "scattergeo": [
           {
            "marker": {
             "colorbar": {
              "outlinewidth": 0,
              "ticks": ""
             }
            },
            "type": "scattergeo"
           }
          ],
          "scattergl": [
           {
            "marker": {
             "colorbar": {
              "outlinewidth": 0,
              "ticks": ""
             }
            },
            "type": "scattergl"
           }
          ],
          "scattermapbox": [
           {
            "marker": {
             "colorbar": {
              "outlinewidth": 0,
              "ticks": ""
             }
            },
            "type": "scattermapbox"
           }
          ],
          "scatterpolar": [
           {
            "marker": {
             "colorbar": {
              "outlinewidth": 0,
              "ticks": ""
             }
            },
            "type": "scatterpolar"
           }
          ],
          "scatterpolargl": [
           {
            "marker": {
             "colorbar": {
              "outlinewidth": 0,
              "ticks": ""
             }
            },
            "type": "scatterpolargl"
           }
          ],
          "scatterternary": [
           {
            "marker": {
             "colorbar": {
              "outlinewidth": 0,
              "ticks": ""
             }
            },
            "type": "scatterternary"
           }
          ],
          "surface": [
           {
            "colorbar": {
             "outlinewidth": 0,
             "ticks": ""
            },
            "colorscale": [
             [
              0,
              "#0d0887"
             ],
             [
              0.1111111111111111,
              "#46039f"
             ],
             [
              0.2222222222222222,
              "#7201a8"
             ],
             [
              0.3333333333333333,
              "#9c179e"
             ],
             [
              0.4444444444444444,
              "#bd3786"
             ],
             [
              0.5555555555555556,
              "#d8576b"
             ],
             [
              0.6666666666666666,
              "#ed7953"
             ],
             [
              0.7777777777777778,
              "#fb9f3a"
             ],
             [
              0.8888888888888888,
              "#fdca26"
             ],
             [
              1,
              "#f0f921"
             ]
            ],
            "type": "surface"
           }
          ],
          "table": [
           {
            "cells": {
             "fill": {
              "color": "#EBF0F8"
             },
             "line": {
              "color": "white"
             }
            },
            "header": {
             "fill": {
              "color": "#C8D4E3"
             },
             "line": {
              "color": "white"
             }
            },
            "type": "table"
           }
          ]
         },
         "layout": {
          "annotationdefaults": {
           "arrowcolor": "#2a3f5f",
           "arrowhead": 0,
           "arrowwidth": 1
          },
          "autotypenumbers": "strict",
          "coloraxis": {
           "colorbar": {
            "outlinewidth": 0,
            "ticks": ""
           }
          },
          "colorscale": {
           "diverging": [
            [
             0,
             "#8e0152"
            ],
            [
             0.1,
             "#c51b7d"
            ],
            [
             0.2,
             "#de77ae"
            ],
            [
             0.3,
             "#f1b6da"
            ],
            [
             0.4,
             "#fde0ef"
            ],
            [
             0.5,
             "#f7f7f7"
            ],
            [
             0.6,
             "#e6f5d0"
            ],
            [
             0.7,
             "#b8e186"
            ],
            [
             0.8,
             "#7fbc41"
            ],
            [
             0.9,
             "#4d9221"
            ],
            [
             1,
             "#276419"
            ]
           ],
           "sequential": [
            [
             0,
             "#0d0887"
            ],
            [
             0.1111111111111111,
             "#46039f"
            ],
            [
             0.2222222222222222,
             "#7201a8"
            ],
            [
             0.3333333333333333,
             "#9c179e"
            ],
            [
             0.4444444444444444,
             "#bd3786"
            ],
            [
             0.5555555555555556,
             "#d8576b"
            ],
            [
             0.6666666666666666,
             "#ed7953"
            ],
            [
             0.7777777777777778,
             "#fb9f3a"
            ],
            [
             0.8888888888888888,
             "#fdca26"
            ],
            [
             1,
             "#f0f921"
            ]
           ],
           "sequentialminus": [
            [
             0,
             "#0d0887"
            ],
            [
             0.1111111111111111,
             "#46039f"
            ],
            [
             0.2222222222222222,
             "#7201a8"
            ],
            [
             0.3333333333333333,
             "#9c179e"
            ],
            [
             0.4444444444444444,
             "#bd3786"
            ],
            [
             0.5555555555555556,
             "#d8576b"
            ],
            [
             0.6666666666666666,
             "#ed7953"
            ],
            [
             0.7777777777777778,
             "#fb9f3a"
            ],
            [
             0.8888888888888888,
             "#fdca26"
            ],
            [
             1,
             "#f0f921"
            ]
           ]
          },
          "colorway": [
           "#636efa",
           "#EF553B",
           "#00cc96",
           "#ab63fa",
           "#FFA15A",
           "#19d3f3",
           "#FF6692",
           "#B6E880",
           "#FF97FF",
           "#FECB52"
          ],
          "font": {
           "color": "#2a3f5f"
          },
          "geo": {
           "bgcolor": "white",
           "lakecolor": "white",
           "landcolor": "#E5ECF6",
           "showlakes": true,
           "showland": true,
           "subunitcolor": "white"
          },
          "hoverlabel": {
           "align": "left"
          },
          "hovermode": "closest",
          "mapbox": {
           "style": "light"
          },
          "paper_bgcolor": "white",
          "plot_bgcolor": "#E5ECF6",
          "polar": {
           "angularaxis": {
            "gridcolor": "white",
            "linecolor": "white",
            "ticks": ""
           },
           "bgcolor": "#E5ECF6",
           "radialaxis": {
            "gridcolor": "white",
            "linecolor": "white",
            "ticks": ""
           }
          },
          "scene": {
           "xaxis": {
            "backgroundcolor": "#E5ECF6",
            "gridcolor": "white",
            "gridwidth": 2,
            "linecolor": "white",
            "showbackground": true,
            "ticks": "",
            "zerolinecolor": "white"
           },
           "yaxis": {
            "backgroundcolor": "#E5ECF6",
            "gridcolor": "white",
            "gridwidth": 2,
            "linecolor": "white",
            "showbackground": true,
            "ticks": "",
            "zerolinecolor": "white"
           },
           "zaxis": {
            "backgroundcolor": "#E5ECF6",
            "gridcolor": "white",
            "gridwidth": 2,
            "linecolor": "white",
            "showbackground": true,
            "ticks": "",
            "zerolinecolor": "white"
           }
          },
          "shapedefaults": {
           "line": {
            "color": "#2a3f5f"
           }
          },
          "ternary": {
           "aaxis": {
            "gridcolor": "white",
            "linecolor": "white",
            "ticks": ""
           },
           "baxis": {
            "gridcolor": "white",
            "linecolor": "white",
            "ticks": ""
           },
           "bgcolor": "#E5ECF6",
           "caxis": {
            "gridcolor": "white",
            "linecolor": "white",
            "ticks": ""
           }
          },
          "title": {
           "x": 0.05
          },
          "xaxis": {
           "automargin": true,
           "gridcolor": "white",
           "linecolor": "white",
           "ticks": "",
           "title": {
            "standoff": 15
           },
           "zerolinecolor": "white",
           "zerolinewidth": 2
          },
          "yaxis": {
           "automargin": true,
           "gridcolor": "white",
           "linecolor": "white",
           "ticks": "",
           "title": {
            "standoff": 15
           },
           "zerolinecolor": "white",
           "zerolinewidth": 2
          }
         }
        },
        "title": {
         "font": {
          "family": "Calibri",
          "size": 32
         },
         "text": "r/Mommit: Posts with topics associated with home responsibilities"
        },
        "width": 1200,
        "xaxis": {
         "anchor": "y",
         "domain": [
          0,
          1
         ],
         "dtick": "M2",
         "gridcolor": "lightgrey",
         "gridwidth": 0.5,
         "range": [
          "2019-12-01",
          "2022-04-30"
         ],
         "rangebreaks": [
          {
           "bounds": [
            "2020-06-01",
            "2021-02-28"
           ]
          },
          {
           "bounds": [
            "2021-05-01",
            "2022-02-28"
           ]
          }
         ],
         "showgrid": true,
         "tickangle": 45,
         "tickfont": {
          "family": "Calibri",
          "size": 24
         },
         "ticklabelmode": "period",
         "tickvals": [
          "2019-12-31",
          "2020-01-31",
          "2020-02-28",
          "2020-03-31",
          "2020-04-30",
          "2021-03-31",
          "2022-03-31"
         ],
         "title": {
          "font": {
           "family": "Calibri",
           "size": 24
          },
          "text": ""
         }
        },
        "yaxis": {
         "anchor": "x",
         "domain": [
          0,
          1
         ],
         "dtick": 5,
         "gridcolor": "lightgrey",
         "gridwidth": 0.5,
         "range": [
          0,
          30
         ],
         "showgrid": true,
         "tickfont": {
          "family": "Calibri",
          "size": 24
         },
         "tickmode": "linear",
         "title": {
          "font": {
           "family": "Calibri",
           "size": 24
          },
          "text": "Share (%)"
         }
        }
       }
      }
     },
     "metadata": {},
     "output_type": "display_data"
    },
    {
     "data": {
      "application/vnd.plotly.v1+json": {
       "config": {
        "plotlyServerURL": "https://plot.ly"
       },
       "data": [
        {
         "hovertemplate": "small_categories=Care work<br>date_time=%{x}<br>relative chores=%{y}<extra></extra>",
         "legendgroup": "Care work",
         "line": {
          "color": "rgb(31, 119, 180)",
          "dash": "solid"
         },
         "marker": {
          "symbol": "circle"
         },
         "mode": "lines+markers",
         "name": "Care work",
         "orientation": "v",
         "showlegend": true,
         "type": "scatter",
         "x": [
          "2019-12-01T00:00:00",
          "2019-12-08T00:00:00",
          "2019-12-15T00:00:00",
          "2019-12-22T00:00:00",
          "2019-12-29T00:00:00",
          "2020-01-05T00:00:00",
          "2020-01-12T00:00:00",
          "2020-01-19T00:00:00",
          "2020-01-26T00:00:00",
          "2020-02-02T00:00:00",
          "2020-02-09T00:00:00",
          "2020-02-16T00:00:00",
          "2020-02-23T00:00:00",
          "2020-03-01T00:00:00",
          "2020-03-08T00:00:00",
          "2020-03-15T00:00:00",
          "2020-03-22T00:00:00",
          "2020-03-29T00:00:00",
          "2020-04-05T00:00:00",
          "2020-04-12T00:00:00",
          "2020-04-19T00:00:00",
          "2020-04-26T00:00:00",
          "2020-05-03T00:00:00",
          "2021-03-07T00:00:00",
          "2021-03-14T00:00:00",
          "2021-03-21T00:00:00",
          "2021-03-28T00:00:00",
          "2021-04-04T00:00:00",
          "2022-03-06T00:00:00",
          "2022-03-13T00:00:00",
          "2022-03-20T00:00:00",
          "2022-03-27T00:00:00",
          "2022-04-03T00:00:00"
         ],
         "xaxis": "x",
         "y": [
          16.546762589928058,
          8.333333333333332,
          8.29581993569132,
          10.978835978835978,
          4.236006051437216,
          8.988235294117647,
          8.013598834385624,
          6.086956521739131,
          10.24697845507094,
          8.810784785748677,
          8.317120622568092,
          7.645764576457646,
          7.477567298105684,
          7.043815862451471,
          6.124401913875598,
          8.401768793430197,
          6.822157434402332,
          8.119079837618404,
          6.775510204081632,
          5.055401662049862,
          8.035714285714286,
          6.666666666666667,
          5.8898847631242,
          7.4278698588090855,
          5.781057810578106,
          9.055555555555555,
          7.66488413547237,
          7.002801120448179,
          5.105254433946627,
          10.052689961175817,
          9.663813422652275,
          8.208232445520581,
          8.297644539614561
         ],
         "yaxis": "y"
        },
        {
         "hovertemplate": "small_categories=Household chores<br>date_time=%{x}<br>relative chores=%{y}<extra></extra>",
         "legendgroup": "Household chores",
         "line": {
          "color": "rgb(44, 160, 44)",
          "dash": "solid"
         },
         "marker": {
          "symbol": "circle"
         },
         "mode": "lines+markers",
         "name": "Household chores",
         "orientation": "v",
         "showlegend": true,
         "type": "scatter",
         "x": [
          "2019-12-01T00:00:00",
          "2019-12-08T00:00:00",
          "2019-12-15T00:00:00",
          "2019-12-22T00:00:00",
          "2019-12-29T00:00:00",
          "2020-01-05T00:00:00",
          "2020-01-12T00:00:00",
          "2020-01-19T00:00:00",
          "2020-01-26T00:00:00",
          "2020-02-02T00:00:00",
          "2020-02-09T00:00:00",
          "2020-02-16T00:00:00",
          "2020-02-23T00:00:00",
          "2020-03-01T00:00:00",
          "2020-03-08T00:00:00",
          "2020-03-15T00:00:00",
          "2020-03-22T00:00:00",
          "2020-03-29T00:00:00",
          "2020-04-05T00:00:00",
          "2020-04-12T00:00:00",
          "2020-04-19T00:00:00",
          "2020-04-26T00:00:00",
          "2020-05-03T00:00:00",
          "2021-03-07T00:00:00",
          "2021-03-14T00:00:00",
          "2021-03-21T00:00:00",
          "2021-03-28T00:00:00",
          "2021-04-04T00:00:00",
          "2022-03-06T00:00:00",
          "2022-03-13T00:00:00",
          "2022-03-20T00:00:00",
          "2022-03-27T00:00:00",
          "2022-04-03T00:00:00"
         ],
         "xaxis": "x",
         "y": [
          2.158273381294964,
          1.906318082788671,
          1.607717041800643,
          2.1164021164021163,
          1.4624306606152295,
          3.3411764705882354,
          2.476930548810102,
          2.2282608695652173,
          2.364687335785602,
          4.140587385652383,
          2.1887159533073928,
          4.180418041804181,
          2.6919242273180455,
          5.0471436494731,
          3.7799043062200957,
          2.337334175615919,
          3.498542274052478,
          4.059539918809202,
          2.693877551020408,
          3.9473684210526314,
          1.9230769230769231,
          2.666666666666667,
          3.585147247119078,
          5.647636586863106,
          1.8450184501845017,
          3.0555555555555554,
          2.2578728461081403,
          3.5014005602240896,
          3.6300348085529586,
          6.58624514697726,
          5.272298722242898,
          2.6997578692493946,
          2.676659528907923
         ],
         "yaxis": "y"
        },
        {
         "hovertemplate": "small_categories=Organization & mental load<br>date_time=%{x}<br>relative chores=%{y}<extra></extra>",
         "legendgroup": "Organization & mental load",
         "line": {
          "color": "rgb(214, 39, 40)",
          "dash": "solid"
         },
         "marker": {
          "symbol": "circle"
         },
         "mode": "lines+markers",
         "name": "Organization & mental load",
         "orientation": "v",
         "showlegend": true,
         "type": "scatter",
         "x": [
          "2019-12-01T00:00:00",
          "2019-12-08T00:00:00",
          "2019-12-15T00:00:00",
          "2019-12-22T00:00:00",
          "2019-12-29T00:00:00",
          "2020-01-05T00:00:00",
          "2020-01-12T00:00:00",
          "2020-01-19T00:00:00",
          "2020-01-26T00:00:00",
          "2020-02-02T00:00:00",
          "2020-02-09T00:00:00",
          "2020-02-16T00:00:00",
          "2020-02-23T00:00:00",
          "2020-03-01T00:00:00",
          "2020-03-08T00:00:00",
          "2020-03-15T00:00:00",
          "2020-03-22T00:00:00",
          "2020-03-29T00:00:00",
          "2020-04-05T00:00:00",
          "2020-04-12T00:00:00",
          "2020-04-19T00:00:00",
          "2020-04-26T00:00:00",
          "2020-05-03T00:00:00",
          "2021-03-07T00:00:00",
          "2021-03-14T00:00:00",
          "2021-03-21T00:00:00",
          "2021-03-28T00:00:00",
          "2021-04-04T00:00:00",
          "2022-03-06T00:00:00",
          "2022-03-13T00:00:00",
          "2022-03-20T00:00:00",
          "2022-03-27T00:00:00",
          "2022-04-03T00:00:00"
         ],
         "xaxis": "x",
         "y": [
          5.755395683453238,
          8.115468409586056,
          5.080385852090032,
          6.944444444444445,
          4.53857791225416,
          6.447058823529411,
          6.605148130160273,
          7.282608695652174,
          4.5191802417235944,
          6.692344727973038,
          6.27431906614786,
          5.9405940594059405,
          6.380857427716849,
          6.156405990016639,
          5.215311004784689,
          4.358812381554012,
          6.122448979591836,
          6.630581867388363,
          6.530612244897959,
          6.786703601108034,
          6.318681318681318,
          5.739130434782608,
          4.481434058898848,
          5.70902394106814,
          5.289052890528905,
          5.166666666666667,
          5.525846702317291,
          7.142857142857142,
          4.707442400132604,
          7.2240709927897955,
          5.880163751395608,
          12.627118644067798,
          5.5139186295503215
         ],
         "yaxis": "y"
        },
        {
         "hovertemplate": "small_categories=Other<br>date_time=%{x}<br>relative chores=%{y}<extra></extra>",
         "legendgroup": "Other",
         "line": {
          "color": "rgb(127, 127, 127)",
          "dash": "solid"
         },
         "marker": {
          "symbol": "circle"
         },
         "mode": "lines+markers",
         "name": "Other",
         "orientation": "v",
         "showlegend": true,
         "type": "scatter",
         "x": [
          "2019-12-08T00:00:00",
          "2019-12-15T00:00:00",
          "2019-12-22T00:00:00",
          "2019-12-29T00:00:00",
          "2020-01-05T00:00:00",
          "2020-01-12T00:00:00",
          "2020-01-19T00:00:00",
          "2020-01-26T00:00:00",
          "2020-02-02T00:00:00",
          "2020-02-09T00:00:00",
          "2020-02-16T00:00:00",
          "2020-02-23T00:00:00",
          "2020-03-01T00:00:00",
          "2020-03-08T00:00:00",
          "2020-03-15T00:00:00",
          "2020-03-22T00:00:00",
          "2020-03-29T00:00:00",
          "2020-04-05T00:00:00",
          "2020-04-12T00:00:00",
          "2020-04-19T00:00:00",
          "2020-04-26T00:00:00",
          "2020-05-03T00:00:00",
          "2021-03-07T00:00:00",
          "2021-03-14T00:00:00",
          "2021-03-21T00:00:00",
          "2021-03-28T00:00:00",
          "2021-04-04T00:00:00",
          "2022-03-06T00:00:00",
          "2022-03-13T00:00:00",
          "2022-03-20T00:00:00",
          "2022-03-27T00:00:00",
          "2022-04-03T00:00:00"
         ],
         "xaxis": "x",
         "y": [
          0.16339869281045752,
          1.4790996784565917,
          0.13227513227513227,
          0.3530005042864347,
          0.4705882352941176,
          0.6799417192812044,
          0.32608695652173914,
          0.3152916447714136,
          0.2407318247472316,
          1.3132295719844358,
          0.825082508250825,
          0.3489531405782652,
          0.33277870216306155,
          0.7177033492822966,
          0.3158559696778269,
          0.23323615160349853,
          0.2706359945872801,
          0.5714285714285714,
          0.2770083102493075,
          0.3434065934065934,
          0.17391304347826086,
          0.6402048655569782,
          0.7366482504604052,
          0.5535055350553505,
          0.2777777777777778,
          0.29708853238265004,
          0.5602240896358543,
          0.5138405436764462,
          1.8718801996672214,
          0.3225406277136832,
          1.1501210653753027,
          0.6156316916488223
         ],
         "yaxis": "y"
        },
        {
         "marker": {
          "color": "black",
          "size": 10
         },
         "mode": "lines",
         "name": "Start of pandemic",
         "showlegend": true,
         "type": "scatter",
         "x": [
          null
         ],
         "y": [
          null
         ]
        }
       ],
       "layout": {
        "height": 500,
        "legend": {
         "font": {
          "size": 18
         },
         "itemsizing": "trace",
         "title": {
          "text": ""
         },
         "tracegroupgap": 0,
         "traceorder": "normal"
        },
        "plot_bgcolor": "white",
        "shapes": [
         {
          "line": {
           "color": "black",
           "width": 2
          },
          "name": "Start of pandemic",
          "type": "line",
          "x0": "2020-03-11",
          "x1": "2020-03-11",
          "y0": 0,
          "y1": 2500
         }
        ],
        "template": {
         "data": {
          "bar": [
           {
            "error_x": {
             "color": "#2a3f5f"
            },
            "error_y": {
             "color": "#2a3f5f"
            },
            "marker": {
             "line": {
              "color": "#E5ECF6",
              "width": 0.5
             },
             "pattern": {
              "fillmode": "overlay",
              "size": 10,
              "solidity": 0.2
             }
            },
            "type": "bar"
           }
          ],
          "barpolar": [
           {
            "marker": {
             "line": {
              "color": "#E5ECF6",
              "width": 0.5
             },
             "pattern": {
              "fillmode": "overlay",
              "size": 10,
              "solidity": 0.2
             }
            },
            "type": "barpolar"
           }
          ],
          "carpet": [
           {
            "aaxis": {
             "endlinecolor": "#2a3f5f",
             "gridcolor": "white",
             "linecolor": "white",
             "minorgridcolor": "white",
             "startlinecolor": "#2a3f5f"
            },
            "baxis": {
             "endlinecolor": "#2a3f5f",
             "gridcolor": "white",
             "linecolor": "white",
             "minorgridcolor": "white",
             "startlinecolor": "#2a3f5f"
            },
            "type": "carpet"
           }
          ],
          "choropleth": [
           {
            "colorbar": {
             "outlinewidth": 0,
             "ticks": ""
            },
            "type": "choropleth"
           }
          ],
          "contour": [
           {
            "colorbar": {
             "outlinewidth": 0,
             "ticks": ""
            },
            "colorscale": [
             [
              0,
              "#0d0887"
             ],
             [
              0.1111111111111111,
              "#46039f"
             ],
             [
              0.2222222222222222,
              "#7201a8"
             ],
             [
              0.3333333333333333,
              "#9c179e"
             ],
             [
              0.4444444444444444,
              "#bd3786"
             ],
             [
              0.5555555555555556,
              "#d8576b"
             ],
             [
              0.6666666666666666,
              "#ed7953"
             ],
             [
              0.7777777777777778,
              "#fb9f3a"
             ],
             [
              0.8888888888888888,
              "#fdca26"
             ],
             [
              1,
              "#f0f921"
             ]
            ],
            "type": "contour"
           }
          ],
          "contourcarpet": [
           {
            "colorbar": {
             "outlinewidth": 0,
             "ticks": ""
            },
            "type": "contourcarpet"
           }
          ],
          "heatmap": [
           {
            "colorbar": {
             "outlinewidth": 0,
             "ticks": ""
            },
            "colorscale": [
             [
              0,
              "#0d0887"
             ],
             [
              0.1111111111111111,
              "#46039f"
             ],
             [
              0.2222222222222222,
              "#7201a8"
             ],
             [
              0.3333333333333333,
              "#9c179e"
             ],
             [
              0.4444444444444444,
              "#bd3786"
             ],
             [
              0.5555555555555556,
              "#d8576b"
             ],
             [
              0.6666666666666666,
              "#ed7953"
             ],
             [
              0.7777777777777778,
              "#fb9f3a"
             ],
             [
              0.8888888888888888,
              "#fdca26"
             ],
             [
              1,
              "#f0f921"
             ]
            ],
            "type": "heatmap"
           }
          ],
          "heatmapgl": [
           {
            "colorbar": {
             "outlinewidth": 0,
             "ticks": ""
            },
            "colorscale": [
             [
              0,
              "#0d0887"
             ],
             [
              0.1111111111111111,
              "#46039f"
             ],
             [
              0.2222222222222222,
              "#7201a8"
             ],
             [
              0.3333333333333333,
              "#9c179e"
             ],
             [
              0.4444444444444444,
              "#bd3786"
             ],
             [
              0.5555555555555556,
              "#d8576b"
             ],
             [
              0.6666666666666666,
              "#ed7953"
             ],
             [
              0.7777777777777778,
              "#fb9f3a"
             ],
             [
              0.8888888888888888,
              "#fdca26"
             ],
             [
              1,
              "#f0f921"
             ]
            ],
            "type": "heatmapgl"
           }
          ],
          "histogram": [
           {
            "marker": {
             "pattern": {
              "fillmode": "overlay",
              "size": 10,
              "solidity": 0.2
             }
            },
            "type": "histogram"
           }
          ],
          "histogram2d": [
           {
            "colorbar": {
             "outlinewidth": 0,
             "ticks": ""
            },
            "colorscale": [
             [
              0,
              "#0d0887"
             ],
             [
              0.1111111111111111,
              "#46039f"
             ],
             [
              0.2222222222222222,
              "#7201a8"
             ],
             [
              0.3333333333333333,
              "#9c179e"
             ],
             [
              0.4444444444444444,
              "#bd3786"
             ],
             [
              0.5555555555555556,
              "#d8576b"
             ],
             [
              0.6666666666666666,
              "#ed7953"
             ],
             [
              0.7777777777777778,
              "#fb9f3a"
             ],
             [
              0.8888888888888888,
              "#fdca26"
             ],
             [
              1,
              "#f0f921"
             ]
            ],
            "type": "histogram2d"
           }
          ],
          "histogram2dcontour": [
           {
            "colorbar": {
             "outlinewidth": 0,
             "ticks": ""
            },
            "colorscale": [
             [
              0,
              "#0d0887"
             ],
             [
              0.1111111111111111,
              "#46039f"
             ],
             [
              0.2222222222222222,
              "#7201a8"
             ],
             [
              0.3333333333333333,
              "#9c179e"
             ],
             [
              0.4444444444444444,
              "#bd3786"
             ],
             [
              0.5555555555555556,
              "#d8576b"
             ],
             [
              0.6666666666666666,
              "#ed7953"
             ],
             [
              0.7777777777777778,
              "#fb9f3a"
             ],
             [
              0.8888888888888888,
              "#fdca26"
             ],
             [
              1,
              "#f0f921"
             ]
            ],
            "type": "histogram2dcontour"
           }
          ],
          "mesh3d": [
           {
            "colorbar": {
             "outlinewidth": 0,
             "ticks": ""
            },
            "type": "mesh3d"
           }
          ],
          "parcoords": [
           {
            "line": {
             "colorbar": {
              "outlinewidth": 0,
              "ticks": ""
             }
            },
            "type": "parcoords"
           }
          ],
          "pie": [
           {
            "automargin": true,
            "type": "pie"
           }
          ],
          "scatter": [
           {
            "fillpattern": {
             "fillmode": "overlay",
             "size": 10,
             "solidity": 0.2
            },
            "type": "scatter"
           }
          ],
          "scatter3d": [
           {
            "line": {
             "colorbar": {
              "outlinewidth": 0,
              "ticks": ""
             }
            },
            "marker": {
             "colorbar": {
              "outlinewidth": 0,
              "ticks": ""
             }
            },
            "type": "scatter3d"
           }
          ],
          "scattercarpet": [
           {
            "marker": {
             "colorbar": {
              "outlinewidth": 0,
              "ticks": ""
             }
            },
            "type": "scattercarpet"
           }
          ],
          "scattergeo": [
           {
            "marker": {
             "colorbar": {
              "outlinewidth": 0,
              "ticks": ""
             }
            },
            "type": "scattergeo"
           }
          ],
          "scattergl": [
           {
            "marker": {
             "colorbar": {
              "outlinewidth": 0,
              "ticks": ""
             }
            },
            "type": "scattergl"
           }
          ],
          "scattermapbox": [
           {
            "marker": {
             "colorbar": {
              "outlinewidth": 0,
              "ticks": ""
             }
            },
            "type": "scattermapbox"
           }
          ],
          "scatterpolar": [
           {
            "marker": {
             "colorbar": {
              "outlinewidth": 0,
              "ticks": ""
             }
            },
            "type": "scatterpolar"
           }
          ],
          "scatterpolargl": [
           {
            "marker": {
             "colorbar": {
              "outlinewidth": 0,
              "ticks": ""
             }
            },
            "type": "scatterpolargl"
           }
          ],
          "scatterternary": [
           {
            "marker": {
             "colorbar": {
              "outlinewidth": 0,
              "ticks": ""
             }
            },
            "type": "scatterternary"
           }
          ],
          "surface": [
           {
            "colorbar": {
             "outlinewidth": 0,
             "ticks": ""
            },
            "colorscale": [
             [
              0,
              "#0d0887"
             ],
             [
              0.1111111111111111,
              "#46039f"
             ],
             [
              0.2222222222222222,
              "#7201a8"
             ],
             [
              0.3333333333333333,
              "#9c179e"
             ],
             [
              0.4444444444444444,
              "#bd3786"
             ],
             [
              0.5555555555555556,
              "#d8576b"
             ],
             [
              0.6666666666666666,
              "#ed7953"
             ],
             [
              0.7777777777777778,
              "#fb9f3a"
             ],
             [
              0.8888888888888888,
              "#fdca26"
             ],
             [
              1,
              "#f0f921"
             ]
            ],
            "type": "surface"
           }
          ],
          "table": [
           {
            "cells": {
             "fill": {
              "color": "#EBF0F8"
             },
             "line": {
              "color": "white"
             }
            },
            "header": {
             "fill": {
              "color": "#C8D4E3"
             },
             "line": {
              "color": "white"
             }
            },
            "type": "table"
           }
          ]
         },
         "layout": {
          "annotationdefaults": {
           "arrowcolor": "#2a3f5f",
           "arrowhead": 0,
           "arrowwidth": 1
          },
          "autotypenumbers": "strict",
          "coloraxis": {
           "colorbar": {
            "outlinewidth": 0,
            "ticks": ""
           }
          },
          "colorscale": {
           "diverging": [
            [
             0,
             "#8e0152"
            ],
            [
             0.1,
             "#c51b7d"
            ],
            [
             0.2,
             "#de77ae"
            ],
            [
             0.3,
             "#f1b6da"
            ],
            [
             0.4,
             "#fde0ef"
            ],
            [
             0.5,
             "#f7f7f7"
            ],
            [
             0.6,
             "#e6f5d0"
            ],
            [
             0.7,
             "#b8e186"
            ],
            [
             0.8,
             "#7fbc41"
            ],
            [
             0.9,
             "#4d9221"
            ],
            [
             1,
             "#276419"
            ]
           ],
           "sequential": [
            [
             0,
             "#0d0887"
            ],
            [
             0.1111111111111111,
             "#46039f"
            ],
            [
             0.2222222222222222,
             "#7201a8"
            ],
            [
             0.3333333333333333,
             "#9c179e"
            ],
            [
             0.4444444444444444,
             "#bd3786"
            ],
            [
             0.5555555555555556,
             "#d8576b"
            ],
            [
             0.6666666666666666,
             "#ed7953"
            ],
            [
             0.7777777777777778,
             "#fb9f3a"
            ],
            [
             0.8888888888888888,
             "#fdca26"
            ],
            [
             1,
             "#f0f921"
            ]
           ],
           "sequentialminus": [
            [
             0,
             "#0d0887"
            ],
            [
             0.1111111111111111,
             "#46039f"
            ],
            [
             0.2222222222222222,
             "#7201a8"
            ],
            [
             0.3333333333333333,
             "#9c179e"
            ],
            [
             0.4444444444444444,
             "#bd3786"
            ],
            [
             0.5555555555555556,
             "#d8576b"
            ],
            [
             0.6666666666666666,
             "#ed7953"
            ],
            [
             0.7777777777777778,
             "#fb9f3a"
            ],
            [
             0.8888888888888888,
             "#fdca26"
            ],
            [
             1,
             "#f0f921"
            ]
           ]
          },
          "colorway": [
           "#636efa",
           "#EF553B",
           "#00cc96",
           "#ab63fa",
           "#FFA15A",
           "#19d3f3",
           "#FF6692",
           "#B6E880",
           "#FF97FF",
           "#FECB52"
          ],
          "font": {
           "color": "#2a3f5f"
          },
          "geo": {
           "bgcolor": "white",
           "lakecolor": "white",
           "landcolor": "#E5ECF6",
           "showlakes": true,
           "showland": true,
           "subunitcolor": "white"
          },
          "hoverlabel": {
           "align": "left"
          },
          "hovermode": "closest",
          "mapbox": {
           "style": "light"
          },
          "paper_bgcolor": "white",
          "plot_bgcolor": "#E5ECF6",
          "polar": {
           "angularaxis": {
            "gridcolor": "white",
            "linecolor": "white",
            "ticks": ""
           },
           "bgcolor": "#E5ECF6",
           "radialaxis": {
            "gridcolor": "white",
            "linecolor": "white",
            "ticks": ""
           }
          },
          "scene": {
           "xaxis": {
            "backgroundcolor": "#E5ECF6",
            "gridcolor": "white",
            "gridwidth": 2,
            "linecolor": "white",
            "showbackground": true,
            "ticks": "",
            "zerolinecolor": "white"
           },
           "yaxis": {
            "backgroundcolor": "#E5ECF6",
            "gridcolor": "white",
            "gridwidth": 2,
            "linecolor": "white",
            "showbackground": true,
            "ticks": "",
            "zerolinecolor": "white"
           },
           "zaxis": {
            "backgroundcolor": "#E5ECF6",
            "gridcolor": "white",
            "gridwidth": 2,
            "linecolor": "white",
            "showbackground": true,
            "ticks": "",
            "zerolinecolor": "white"
           }
          },
          "shapedefaults": {
           "line": {
            "color": "#2a3f5f"
           }
          },
          "ternary": {
           "aaxis": {
            "gridcolor": "white",
            "linecolor": "white",
            "ticks": ""
           },
           "baxis": {
            "gridcolor": "white",
            "linecolor": "white",
            "ticks": ""
           },
           "bgcolor": "#E5ECF6",
           "caxis": {
            "gridcolor": "white",
            "linecolor": "white",
            "ticks": ""
           }
          },
          "title": {
           "x": 0.05
          },
          "xaxis": {
           "automargin": true,
           "gridcolor": "white",
           "linecolor": "white",
           "ticks": "",
           "title": {
            "standoff": 15
           },
           "zerolinecolor": "white",
           "zerolinewidth": 2
          },
          "yaxis": {
           "automargin": true,
           "gridcolor": "white",
           "linecolor": "white",
           "ticks": "",
           "title": {
            "standoff": 15
           },
           "zerolinecolor": "white",
           "zerolinewidth": 2
          }
         }
        },
        "title": {
         "font": {
          "family": "Calibri",
          "size": 32
         },
         "text": "r/daddit: Posts with topics associated with home responsibilities"
        },
        "width": 1200,
        "xaxis": {
         "anchor": "y",
         "domain": [
          0,
          1
         ],
         "dtick": "M2",
         "gridcolor": "lightgrey",
         "gridwidth": 0.5,
         "range": [
          "2019-12-01",
          "2022-04-30"
         ],
         "rangebreaks": [
          {
           "bounds": [
            "2020-06-01",
            "2021-02-28"
           ]
          },
          {
           "bounds": [
            "2021-05-01",
            "2022-02-28"
           ]
          }
         ],
         "showgrid": true,
         "tickangle": 45,
         "tickfont": {
          "family": "Calibri",
          "size": 24
         },
         "ticklabelmode": "period",
         "tickvals": [
          "2019-12-31",
          "2020-01-31",
          "2020-02-28",
          "2020-03-31",
          "2020-04-30",
          "2021-03-31",
          "2022-03-31"
         ],
         "title": {
          "font": {
           "family": "Calibri",
           "size": 24
          },
          "text": ""
         }
        },
        "yaxis": {
         "anchor": "x",
         "domain": [
          0,
          1
         ],
         "dtick": 5,
         "gridcolor": "lightgrey",
         "gridwidth": 0.5,
         "range": [
          0,
          30
         ],
         "showgrid": true,
         "tickfont": {
          "family": "Calibri",
          "size": 24
         },
         "tickmode": "linear",
         "title": {
          "font": {
           "family": "Calibri",
           "size": 24
          },
          "text": "Share (%)"
         }
        }
       }
      }
     },
     "metadata": {},
     "output_type": "display_data"
    },
    {
     "data": {
      "application/vnd.plotly.v1+json": {
       "config": {
        "plotlyServerURL": "https://plot.ly"
       },
       "data": [
        {
         "hovertemplate": "small_categories=Care work<br>date_time=%{x}<br>relative chores=%{y}<extra></extra>",
         "legendgroup": "Care work",
         "line": {
          "color": "rgb(31, 119, 180)",
          "dash": "solid"
         },
         "marker": {
          "symbol": "circle"
         },
         "mode": "lines+markers",
         "name": "Care work",
         "orientation": "v",
         "showlegend": true,
         "type": "scatter",
         "x": [
          "2019-12-31T00:00:00",
          "2020-01-31T00:00:00",
          "2020-02-29T00:00:00",
          "2020-03-31T00:00:00",
          "2020-04-30T00:00:00",
          "2021-03-31T00:00:00",
          "2022-03-31T00:00:00"
         ],
         "xaxis": "x",
         "y": [
          18.39080459770115,
          19.277833500501504,
          17.315936626281452,
          19.03925014645577,
          23.54064954362131,
          15.677899066603384,
          17.418478846526863
         ],
         "yaxis": "y"
        },
        {
         "hovertemplate": "small_categories=Household chores<br>date_time=%{x}<br>relative chores=%{y}<extra></extra>",
         "legendgroup": "Household chores",
         "line": {
          "color": "rgb(44, 160, 44)",
          "dash": "solid"
         },
         "marker": {
          "symbol": "circle"
         },
         "mode": "lines+markers",
         "name": "Household chores",
         "orientation": "v",
         "showlegend": true,
         "type": "scatter",
         "x": [
          "2019-12-31T00:00:00",
          "2020-01-31T00:00:00",
          "2020-02-29T00:00:00",
          "2020-03-31T00:00:00",
          "2020-04-30T00:00:00",
          "2021-03-31T00:00:00",
          "2022-03-31T00:00:00"
         ],
         "xaxis": "x",
         "y": [
          5.725840783312048,
          7.843530591775326,
          6.244175209692451,
          8.924038273774654,
          3.863298662704309,
          7.704477139693086,
          5.89452358887045
         ],
         "yaxis": "y"
        },
        {
         "hovertemplate": "small_categories=Organization & mental load<br>date_time=%{x}<br>relative chores=%{y}<extra></extra>",
         "legendgroup": "Organization & mental load",
         "line": {
          "color": "rgb(214, 39, 40)",
          "dash": "solid"
         },
         "marker": {
          "symbol": "circle"
         },
         "mode": "lines+markers",
         "name": "Organization & mental load",
         "orientation": "v",
         "showlegend": true,
         "type": "scatter",
         "x": [
          "2019-12-31T00:00:00",
          "2020-01-31T00:00:00",
          "2020-02-29T00:00:00",
          "2020-03-31T00:00:00",
          "2020-04-30T00:00:00",
          "2021-03-31T00:00:00",
          "2022-03-31T00:00:00"
         ],
         "xaxis": "x",
         "y": [
          9.25925925925926,
          7.362086258776329,
          6.35601118359739,
          10.466705721538762,
          6.028444067077054,
          5.885144755576649,
          7.054031336882261
         ],
         "yaxis": "y"
        },
        {
         "hovertemplate": "small_categories=Other<br>date_time=%{x}<br>relative chores=%{y}<extra></extra>",
         "legendgroup": "Other",
         "line": {
          "color": "rgb(127, 127, 127)",
          "dash": "solid"
         },
         "marker": {
          "symbol": "circle"
         },
         "mode": "lines+markers",
         "name": "Other",
         "orientation": "v",
         "showlegend": true,
         "type": "scatter",
         "x": [
          "2019-12-31T00:00:00",
          "2020-01-31T00:00:00",
          "2020-02-29T00:00:00",
          "2020-03-31T00:00:00",
          "2020-04-30T00:00:00",
          "2021-03-31T00:00:00",
          "2022-03-31T00:00:00"
         ],
         "xaxis": "x",
         "y": [
          0.17028522775649213,
          0.18054162487462386,
          0.260950605778192,
          0.8787346221441126,
          0.2334960730205901,
          0.09492168960607499,
          0.18750404103536714
         ],
         "yaxis": "y"
        },
        {
         "marker": {
          "color": "black",
          "size": 10
         },
         "mode": "lines",
         "name": "Start of pandemic",
         "showlegend": true,
         "type": "scatter",
         "x": [
          null
         ],
         "y": [
          null
         ]
        }
       ],
       "layout": {
        "height": 500,
        "legend": {
         "font": {
          "size": 18
         },
         "itemsizing": "trace",
         "title": {
          "text": ""
         },
         "tracegroupgap": 0,
         "traceorder": "normal"
        },
        "margin": {
         "t": 60
        },
        "plot_bgcolor": "white",
        "shapes": [
         {
          "line": {
           "color": "black",
           "width": 2
          },
          "name": "Start of pandemic",
          "type": "line",
          "x0": "2020-03-11",
          "x1": "2020-03-11",
          "y0": 0,
          "y1": 2500
         }
        ],
        "template": {
         "data": {
          "bar": [
           {
            "error_x": {
             "color": "#2a3f5f"
            },
            "error_y": {
             "color": "#2a3f5f"
            },
            "marker": {
             "line": {
              "color": "#E5ECF6",
              "width": 0.5
             },
             "pattern": {
              "fillmode": "overlay",
              "size": 10,
              "solidity": 0.2
             }
            },
            "type": "bar"
           }
          ],
          "barpolar": [
           {
            "marker": {
             "line": {
              "color": "#E5ECF6",
              "width": 0.5
             },
             "pattern": {
              "fillmode": "overlay",
              "size": 10,
              "solidity": 0.2
             }
            },
            "type": "barpolar"
           }
          ],
          "carpet": [
           {
            "aaxis": {
             "endlinecolor": "#2a3f5f",
             "gridcolor": "white",
             "linecolor": "white",
             "minorgridcolor": "white",
             "startlinecolor": "#2a3f5f"
            },
            "baxis": {
             "endlinecolor": "#2a3f5f",
             "gridcolor": "white",
             "linecolor": "white",
             "minorgridcolor": "white",
             "startlinecolor": "#2a3f5f"
            },
            "type": "carpet"
           }
          ],
          "choropleth": [
           {
            "colorbar": {
             "outlinewidth": 0,
             "ticks": ""
            },
            "type": "choropleth"
           }
          ],
          "contour": [
           {
            "colorbar": {
             "outlinewidth": 0,
             "ticks": ""
            },
            "colorscale": [
             [
              0,
              "#0d0887"
             ],
             [
              0.1111111111111111,
              "#46039f"
             ],
             [
              0.2222222222222222,
              "#7201a8"
             ],
             [
              0.3333333333333333,
              "#9c179e"
             ],
             [
              0.4444444444444444,
              "#bd3786"
             ],
             [
              0.5555555555555556,
              "#d8576b"
             ],
             [
              0.6666666666666666,
              "#ed7953"
             ],
             [
              0.7777777777777778,
              "#fb9f3a"
             ],
             [
              0.8888888888888888,
              "#fdca26"
             ],
             [
              1,
              "#f0f921"
             ]
            ],
            "type": "contour"
           }
          ],
          "contourcarpet": [
           {
            "colorbar": {
             "outlinewidth": 0,
             "ticks": ""
            },
            "type": "contourcarpet"
           }
          ],
          "heatmap": [
           {
            "colorbar": {
             "outlinewidth": 0,
             "ticks": ""
            },
            "colorscale": [
             [
              0,
              "#0d0887"
             ],
             [
              0.1111111111111111,
              "#46039f"
             ],
             [
              0.2222222222222222,
              "#7201a8"
             ],
             [
              0.3333333333333333,
              "#9c179e"
             ],
             [
              0.4444444444444444,
              "#bd3786"
             ],
             [
              0.5555555555555556,
              "#d8576b"
             ],
             [
              0.6666666666666666,
              "#ed7953"
             ],
             [
              0.7777777777777778,
              "#fb9f3a"
             ],
             [
              0.8888888888888888,
              "#fdca26"
             ],
             [
              1,
              "#f0f921"
             ]
            ],
            "type": "heatmap"
           }
          ],
          "heatmapgl": [
           {
            "colorbar": {
             "outlinewidth": 0,
             "ticks": ""
            },
            "colorscale": [
             [
              0,
              "#0d0887"
             ],
             [
              0.1111111111111111,
              "#46039f"
             ],
             [
              0.2222222222222222,
              "#7201a8"
             ],
             [
              0.3333333333333333,
              "#9c179e"
             ],
             [
              0.4444444444444444,
              "#bd3786"
             ],
             [
              0.5555555555555556,
              "#d8576b"
             ],
             [
              0.6666666666666666,
              "#ed7953"
             ],
             [
              0.7777777777777778,
              "#fb9f3a"
             ],
             [
              0.8888888888888888,
              "#fdca26"
             ],
             [
              1,
              "#f0f921"
             ]
            ],
            "type": "heatmapgl"
           }
          ],
          "histogram": [
           {
            "marker": {
             "pattern": {
              "fillmode": "overlay",
              "size": 10,
              "solidity": 0.2
             }
            },
            "type": "histogram"
           }
          ],
          "histogram2d": [
           {
            "colorbar": {
             "outlinewidth": 0,
             "ticks": ""
            },
            "colorscale": [
             [
              0,
              "#0d0887"
             ],
             [
              0.1111111111111111,
              "#46039f"
             ],
             [
              0.2222222222222222,
              "#7201a8"
             ],
             [
              0.3333333333333333,
              "#9c179e"
             ],
             [
              0.4444444444444444,
              "#bd3786"
             ],
             [
              0.5555555555555556,
              "#d8576b"
             ],
             [
              0.6666666666666666,
              "#ed7953"
             ],
             [
              0.7777777777777778,
              "#fb9f3a"
             ],
             [
              0.8888888888888888,
              "#fdca26"
             ],
             [
              1,
              "#f0f921"
             ]
            ],
            "type": "histogram2d"
           }
          ],
          "histogram2dcontour": [
           {
            "colorbar": {
             "outlinewidth": 0,
             "ticks": ""
            },
            "colorscale": [
             [
              0,
              "#0d0887"
             ],
             [
              0.1111111111111111,
              "#46039f"
             ],
             [
              0.2222222222222222,
              "#7201a8"
             ],
             [
              0.3333333333333333,
              "#9c179e"
             ],
             [
              0.4444444444444444,
              "#bd3786"
             ],
             [
              0.5555555555555556,
              "#d8576b"
             ],
             [
              0.6666666666666666,
              "#ed7953"
             ],
             [
              0.7777777777777778,
              "#fb9f3a"
             ],
             [
              0.8888888888888888,
              "#fdca26"
             ],
             [
              1,
              "#f0f921"
             ]
            ],
            "type": "histogram2dcontour"
           }
          ],
          "mesh3d": [
           {
            "colorbar": {
             "outlinewidth": 0,
             "ticks": ""
            },
            "type": "mesh3d"
           }
          ],
          "parcoords": [
           {
            "line": {
             "colorbar": {
              "outlinewidth": 0,
              "ticks": ""
             }
            },
            "type": "parcoords"
           }
          ],
          "pie": [
           {
            "automargin": true,
            "type": "pie"
           }
          ],
          "scatter": [
           {
            "fillpattern": {
             "fillmode": "overlay",
             "size": 10,
             "solidity": 0.2
            },
            "type": "scatter"
           }
          ],
          "scatter3d": [
           {
            "line": {
             "colorbar": {
              "outlinewidth": 0,
              "ticks": ""
             }
            },
            "marker": {
             "colorbar": {
              "outlinewidth": 0,
              "ticks": ""
             }
            },
            "type": "scatter3d"
           }
          ],
          "scattercarpet": [
           {
            "marker": {
             "colorbar": {
              "outlinewidth": 0,
              "ticks": ""
             }
            },
            "type": "scattercarpet"
           }
          ],
          "scattergeo": [
           {
            "marker": {
             "colorbar": {
              "outlinewidth": 0,
              "ticks": ""
             }
            },
            "type": "scattergeo"
           }
          ],
          "scattergl": [
           {
            "marker": {
             "colorbar": {
              "outlinewidth": 0,
              "ticks": ""
             }
            },
            "type": "scattergl"
           }
          ],
          "scattermapbox": [
           {
            "marker": {
             "colorbar": {
              "outlinewidth": 0,
              "ticks": ""
             }
            },
            "type": "scattermapbox"
           }
          ],
          "scatterpolar": [
           {
            "marker": {
             "colorbar": {
              "outlinewidth": 0,
              "ticks": ""
             }
            },
            "type": "scatterpolar"
           }
          ],
          "scatterpolargl": [
           {
            "marker": {
             "colorbar": {
              "outlinewidth": 0,
              "ticks": ""
             }
            },
            "type": "scatterpolargl"
           }
          ],
          "scatterternary": [
           {
            "marker": {
             "colorbar": {
              "outlinewidth": 0,
              "ticks": ""
             }
            },
            "type": "scatterternary"
           }
          ],
          "surface": [
           {
            "colorbar": {
             "outlinewidth": 0,
             "ticks": ""
            },
            "colorscale": [
             [
              0,
              "#0d0887"
             ],
             [
              0.1111111111111111,
              "#46039f"
             ],
             [
              0.2222222222222222,
              "#7201a8"
             ],
             [
              0.3333333333333333,
              "#9c179e"
             ],
             [
              0.4444444444444444,
              "#bd3786"
             ],
             [
              0.5555555555555556,
              "#d8576b"
             ],
             [
              0.6666666666666666,
              "#ed7953"
             ],
             [
              0.7777777777777778,
              "#fb9f3a"
             ],
             [
              0.8888888888888888,
              "#fdca26"
             ],
             [
              1,
              "#f0f921"
             ]
            ],
            "type": "surface"
           }
          ],
          "table": [
           {
            "cells": {
             "fill": {
              "color": "#EBF0F8"
             },
             "line": {
              "color": "white"
             }
            },
            "header": {
             "fill": {
              "color": "#C8D4E3"
             },
             "line": {
              "color": "white"
             }
            },
            "type": "table"
           }
          ]
         },
         "layout": {
          "annotationdefaults": {
           "arrowcolor": "#2a3f5f",
           "arrowhead": 0,
           "arrowwidth": 1
          },
          "autotypenumbers": "strict",
          "coloraxis": {
           "colorbar": {
            "outlinewidth": 0,
            "ticks": ""
           }
          },
          "colorscale": {
           "diverging": [
            [
             0,
             "#8e0152"
            ],
            [
             0.1,
             "#c51b7d"
            ],
            [
             0.2,
             "#de77ae"
            ],
            [
             0.3,
             "#f1b6da"
            ],
            [
             0.4,
             "#fde0ef"
            ],
            [
             0.5,
             "#f7f7f7"
            ],
            [
             0.6,
             "#e6f5d0"
            ],
            [
             0.7,
             "#b8e186"
            ],
            [
             0.8,
             "#7fbc41"
            ],
            [
             0.9,
             "#4d9221"
            ],
            [
             1,
             "#276419"
            ]
           ],
           "sequential": [
            [
             0,
             "#0d0887"
            ],
            [
             0.1111111111111111,
             "#46039f"
            ],
            [
             0.2222222222222222,
             "#7201a8"
            ],
            [
             0.3333333333333333,
             "#9c179e"
            ],
            [
             0.4444444444444444,
             "#bd3786"
            ],
            [
             0.5555555555555556,
             "#d8576b"
            ],
            [
             0.6666666666666666,
             "#ed7953"
            ],
            [
             0.7777777777777778,
             "#fb9f3a"
            ],
            [
             0.8888888888888888,
             "#fdca26"
            ],
            [
             1,
             "#f0f921"
            ]
           ],
           "sequentialminus": [
            [
             0,
             "#0d0887"
            ],
            [
             0.1111111111111111,
             "#46039f"
            ],
            [
             0.2222222222222222,
             "#7201a8"
            ],
            [
             0.3333333333333333,
             "#9c179e"
            ],
            [
             0.4444444444444444,
             "#bd3786"
            ],
            [
             0.5555555555555556,
             "#d8576b"
            ],
            [
             0.6666666666666666,
             "#ed7953"
            ],
            [
             0.7777777777777778,
             "#fb9f3a"
            ],
            [
             0.8888888888888888,
             "#fdca26"
            ],
            [
             1,
             "#f0f921"
            ]
           ]
          },
          "colorway": [
           "#636efa",
           "#EF553B",
           "#00cc96",
           "#ab63fa",
           "#FFA15A",
           "#19d3f3",
           "#FF6692",
           "#B6E880",
           "#FF97FF",
           "#FECB52"
          ],
          "font": {
           "color": "#2a3f5f"
          },
          "geo": {
           "bgcolor": "white",
           "lakecolor": "white",
           "landcolor": "#E5ECF6",
           "showlakes": true,
           "showland": true,
           "subunitcolor": "white"
          },
          "hoverlabel": {
           "align": "left"
          },
          "hovermode": "closest",
          "mapbox": {
           "style": "light"
          },
          "paper_bgcolor": "white",
          "plot_bgcolor": "#E5ECF6",
          "polar": {
           "angularaxis": {
            "gridcolor": "white",
            "linecolor": "white",
            "ticks": ""
           },
           "bgcolor": "#E5ECF6",
           "radialaxis": {
            "gridcolor": "white",
            "linecolor": "white",
            "ticks": ""
           }
          },
          "scene": {
           "xaxis": {
            "backgroundcolor": "#E5ECF6",
            "gridcolor": "white",
            "gridwidth": 2,
            "linecolor": "white",
            "showbackground": true,
            "ticks": "",
            "zerolinecolor": "white"
           },
           "yaxis": {
            "backgroundcolor": "#E5ECF6",
            "gridcolor": "white",
            "gridwidth": 2,
            "linecolor": "white",
            "showbackground": true,
            "ticks": "",
            "zerolinecolor": "white"
           },
           "zaxis": {
            "backgroundcolor": "#E5ECF6",
            "gridcolor": "white",
            "gridwidth": 2,
            "linecolor": "white",
            "showbackground": true,
            "ticks": "",
            "zerolinecolor": "white"
           }
          },
          "shapedefaults": {
           "line": {
            "color": "#2a3f5f"
           }
          },
          "ternary": {
           "aaxis": {
            "gridcolor": "white",
            "linecolor": "white",
            "ticks": ""
           },
           "baxis": {
            "gridcolor": "white",
            "linecolor": "white",
            "ticks": ""
           },
           "bgcolor": "#E5ECF6",
           "caxis": {
            "gridcolor": "white",
            "linecolor": "white",
            "ticks": ""
           }
          },
          "title": {
           "x": 0.05
          },
          "xaxis": {
           "automargin": true,
           "gridcolor": "white",
           "linecolor": "white",
           "ticks": "",
           "title": {
            "standoff": 15
           },
           "zerolinecolor": "white",
           "zerolinewidth": 2
          },
          "yaxis": {
           "automargin": true,
           "gridcolor": "white",
           "linecolor": "white",
           "ticks": "",
           "title": {
            "standoff": 15
           },
           "zerolinecolor": "white",
           "zerolinewidth": 2
          }
         }
        },
        "title": {
         "font": {
          "family": "Calibri",
          "size": 32
         }
        },
        "width": 1200,
        "xaxis": {
         "anchor": "y",
         "domain": [
          0,
          1
         ],
         "dtick": "M2",
         "gridcolor": "lightgrey",
         "gridwidth": 0.5,
         "range": [
          "2019-12-01",
          "2022-04-30"
         ],
         "rangebreaks": [
          {
           "bounds": [
            "2020-06-01",
            "2021-02-28"
           ]
          },
          {
           "bounds": [
            "2021-05-01",
            "2022-02-28"
           ]
          }
         ],
         "showgrid": true,
         "tickangle": 45,
         "tickfont": {
          "family": "Calibri",
          "size": 24
         },
         "ticklabelmode": "period",
         "tickvals": [
          "2019-12-31",
          "2020-01-31",
          "2020-02-28",
          "2020-03-31",
          "2020-04-30",
          "2021-03-31",
          "2022-03-31"
         ],
         "title": {
          "font": {
           "family": "Calibri",
           "size": 24
          },
          "text": ""
         }
        },
        "yaxis": {
         "anchor": "x",
         "domain": [
          0,
          1
         ],
         "dtick": 5,
         "gridcolor": "lightgrey",
         "gridwidth": 0.5,
         "range": [
          0,
          30
         ],
         "showgrid": true,
         "tickfont": {
          "family": "Calibri",
          "size": 24
         },
         "tickmode": "linear",
         "title": {
          "font": {
           "family": "Calibri",
           "size": 24
          },
          "text": "Share (%)"
         }
        }
       }
      }
     },
     "metadata": {},
     "output_type": "display_data"
    },
    {
     "data": {
      "application/vnd.plotly.v1+json": {
       "config": {
        "plotlyServerURL": "https://plot.ly"
       },
       "data": [
        {
         "hovertemplate": "small_categories=Care work<br>date_time=%{x}<br>relative chores=%{y}<extra></extra>",
         "legendgroup": "Care work",
         "line": {
          "color": "rgb(31, 119, 180)",
          "dash": "solid"
         },
         "marker": {
          "symbol": "circle"
         },
         "mode": "lines+markers",
         "name": "Care work",
         "orientation": "v",
         "showlegend": true,
         "type": "scatter",
         "x": [
          "2019-12-31T00:00:00",
          "2020-01-31T00:00:00",
          "2020-02-29T00:00:00",
          "2020-03-31T00:00:00",
          "2020-04-30T00:00:00",
          "2021-03-31T00:00:00",
          "2022-03-31T00:00:00"
         ],
         "xaxis": "x",
         "y": [
          7.6294636974568455,
          8.902575587905934,
          7.569671102184284,
          7.37550471063257,
          6.275818239593263,
          7.474503488996243,
          8.40790342922347
         ],
         "yaxis": "y"
        },
        {
         "hovertemplate": "small_categories=Household chores<br>date_time=%{x}<br>relative chores=%{y}<extra></extra>",
         "legendgroup": "Household chores",
         "line": {
          "color": "rgb(44, 160, 44)",
          "dash": "solid"
         },
         "marker": {
          "symbol": "circle"
         },
         "mode": "lines+markers",
         "name": "Household chores",
         "orientation": "v",
         "showlegend": true,
         "type": "scatter",
         "x": [
          "2019-12-31T00:00:00",
          "2020-01-31T00:00:00",
          "2020-02-29T00:00:00",
          "2020-03-31T00:00:00",
          "2020-04-30T00:00:00",
          "2021-03-31T00:00:00",
          "2022-03-31T00:00:00"
         ],
         "xaxis": "x",
         "y": [
          1.9633680326788774,
          2.9339305711086228,
          3.3768516193823754,
          3.297442799461642,
          2.971083571655545,
          3.22061191626409,
          4.330070266050087
         ],
         "yaxis": "y"
        },
        {
         "hovertemplate": "small_categories=Organization & mental load<br>date_time=%{x}<br>relative chores=%{y}<extra></extra>",
         "legendgroup": "Organization & mental load",
         "line": {
          "color": "rgb(214, 39, 40)",
          "dash": "solid"
         },
         "marker": {
          "symbol": "circle"
         },
         "mode": "lines+markers",
         "name": "Organization & mental load",
         "orientation": "v",
         "showlegend": true,
         "type": "scatter",
         "x": [
          "2019-12-31T00:00:00",
          "2020-01-31T00:00:00",
          "2020-02-29T00:00:00",
          "2020-03-31T00:00:00",
          "2020-04-30T00:00:00",
          "2021-03-31T00:00:00",
          "2022-03-31T00:00:00"
         ],
         "xaxis": "x",
         "y": [
          6.179997364606668,
          5.9462486002239645,
          6.502636203866433,
          5.6258411843876175,
          6.164601207499206,
          5.58239398819109,
          7.5911356675274755
         ],
         "yaxis": "y"
        },
        {
         "hovertemplate": "small_categories=Other<br>date_time=%{x}<br>relative chores=%{y}<extra></extra>",
         "legendgroup": "Other",
         "line": {
          "color": "rgb(127, 127, 127)",
          "dash": "solid"
         },
         "marker": {
          "symbol": "circle"
         },
         "mode": "lines+markers",
         "name": "Other",
         "orientation": "v",
         "showlegend": true,
         "type": "scatter",
         "x": [
          "2019-12-31T00:00:00",
          "2020-01-31T00:00:00",
          "2020-02-29T00:00:00",
          "2020-03-31T00:00:00",
          "2020-04-30T00:00:00",
          "2021-03-31T00:00:00",
          "2022-03-31T00:00:00"
         ],
         "xaxis": "x",
         "y": [
          0.46119383317960205,
          0.45912653975363943,
          0.6653276424805423,
          0.43068640646029605,
          0.34953924372418177,
          0.46967257112184646,
          0.9308750225211699
         ],
         "yaxis": "y"
        },
        {
         "marker": {
          "color": "black",
          "size": 10
         },
         "mode": "lines",
         "name": "Start of pandemic",
         "showlegend": true,
         "type": "scatter",
         "x": [
          null
         ],
         "y": [
          null
         ]
        }
       ],
       "layout": {
        "height": 500,
        "legend": {
         "font": {
          "size": 18
         },
         "itemsizing": "trace",
         "title": {
          "text": ""
         },
         "tracegroupgap": 0,
         "traceorder": "normal"
        },
        "margin": {
         "t": 60
        },
        "plot_bgcolor": "white",
        "shapes": [
         {
          "line": {
           "color": "black",
           "width": 2
          },
          "name": "Start of pandemic",
          "type": "line",
          "x0": "2020-03-11",
          "x1": "2020-03-11",
          "y0": 0,
          "y1": 2500
         }
        ],
        "template": {
         "data": {
          "bar": [
           {
            "error_x": {
             "color": "#2a3f5f"
            },
            "error_y": {
             "color": "#2a3f5f"
            },
            "marker": {
             "line": {
              "color": "#E5ECF6",
              "width": 0.5
             },
             "pattern": {
              "fillmode": "overlay",
              "size": 10,
              "solidity": 0.2
             }
            },
            "type": "bar"
           }
          ],
          "barpolar": [
           {
            "marker": {
             "line": {
              "color": "#E5ECF6",
              "width": 0.5
             },
             "pattern": {
              "fillmode": "overlay",
              "size": 10,
              "solidity": 0.2
             }
            },
            "type": "barpolar"
           }
          ],
          "carpet": [
           {
            "aaxis": {
             "endlinecolor": "#2a3f5f",
             "gridcolor": "white",
             "linecolor": "white",
             "minorgridcolor": "white",
             "startlinecolor": "#2a3f5f"
            },
            "baxis": {
             "endlinecolor": "#2a3f5f",
             "gridcolor": "white",
             "linecolor": "white",
             "minorgridcolor": "white",
             "startlinecolor": "#2a3f5f"
            },
            "type": "carpet"
           }
          ],
          "choropleth": [
           {
            "colorbar": {
             "outlinewidth": 0,
             "ticks": ""
            },
            "type": "choropleth"
           }
          ],
          "contour": [
           {
            "colorbar": {
             "outlinewidth": 0,
             "ticks": ""
            },
            "colorscale": [
             [
              0,
              "#0d0887"
             ],
             [
              0.1111111111111111,
              "#46039f"
             ],
             [
              0.2222222222222222,
              "#7201a8"
             ],
             [
              0.3333333333333333,
              "#9c179e"
             ],
             [
              0.4444444444444444,
              "#bd3786"
             ],
             [
              0.5555555555555556,
              "#d8576b"
             ],
             [
              0.6666666666666666,
              "#ed7953"
             ],
             [
              0.7777777777777778,
              "#fb9f3a"
             ],
             [
              0.8888888888888888,
              "#fdca26"
             ],
             [
              1,
              "#f0f921"
             ]
            ],
            "type": "contour"
           }
          ],
          "contourcarpet": [
           {
            "colorbar": {
             "outlinewidth": 0,
             "ticks": ""
            },
            "type": "contourcarpet"
           }
          ],
          "heatmap": [
           {
            "colorbar": {
             "outlinewidth": 0,
             "ticks": ""
            },
            "colorscale": [
             [
              0,
              "#0d0887"
             ],
             [
              0.1111111111111111,
              "#46039f"
             ],
             [
              0.2222222222222222,
              "#7201a8"
             ],
             [
              0.3333333333333333,
              "#9c179e"
             ],
             [
              0.4444444444444444,
              "#bd3786"
             ],
             [
              0.5555555555555556,
              "#d8576b"
             ],
             [
              0.6666666666666666,
              "#ed7953"
             ],
             [
              0.7777777777777778,
              "#fb9f3a"
             ],
             [
              0.8888888888888888,
              "#fdca26"
             ],
             [
              1,
              "#f0f921"
             ]
            ],
            "type": "heatmap"
           }
          ],
          "heatmapgl": [
           {
            "colorbar": {
             "outlinewidth": 0,
             "ticks": ""
            },
            "colorscale": [
             [
              0,
              "#0d0887"
             ],
             [
              0.1111111111111111,
              "#46039f"
             ],
             [
              0.2222222222222222,
              "#7201a8"
             ],
             [
              0.3333333333333333,
              "#9c179e"
             ],
             [
              0.4444444444444444,
              "#bd3786"
             ],
             [
              0.5555555555555556,
              "#d8576b"
             ],
             [
              0.6666666666666666,
              "#ed7953"
             ],
             [
              0.7777777777777778,
              "#fb9f3a"
             ],
             [
              0.8888888888888888,
              "#fdca26"
             ],
             [
              1,
              "#f0f921"
             ]
            ],
            "type": "heatmapgl"
           }
          ],
          "histogram": [
           {
            "marker": {
             "pattern": {
              "fillmode": "overlay",
              "size": 10,
              "solidity": 0.2
             }
            },
            "type": "histogram"
           }
          ],
          "histogram2d": [
           {
            "colorbar": {
             "outlinewidth": 0,
             "ticks": ""
            },
            "colorscale": [
             [
              0,
              "#0d0887"
             ],
             [
              0.1111111111111111,
              "#46039f"
             ],
             [
              0.2222222222222222,
              "#7201a8"
             ],
             [
              0.3333333333333333,
              "#9c179e"
             ],
             [
              0.4444444444444444,
              "#bd3786"
             ],
             [
              0.5555555555555556,
              "#d8576b"
             ],
             [
              0.6666666666666666,
              "#ed7953"
             ],
             [
              0.7777777777777778,
              "#fb9f3a"
             ],
             [
              0.8888888888888888,
              "#fdca26"
             ],
             [
              1,
              "#f0f921"
             ]
            ],
            "type": "histogram2d"
           }
          ],
          "histogram2dcontour": [
           {
            "colorbar": {
             "outlinewidth": 0,
             "ticks": ""
            },
            "colorscale": [
             [
              0,
              "#0d0887"
             ],
             [
              0.1111111111111111,
              "#46039f"
             ],
             [
              0.2222222222222222,
              "#7201a8"
             ],
             [
              0.3333333333333333,
              "#9c179e"
             ],
             [
              0.4444444444444444,
              "#bd3786"
             ],
             [
              0.5555555555555556,
              "#d8576b"
             ],
             [
              0.6666666666666666,
              "#ed7953"
             ],
             [
              0.7777777777777778,
              "#fb9f3a"
             ],
             [
              0.8888888888888888,
              "#fdca26"
             ],
             [
              1,
              "#f0f921"
             ]
            ],
            "type": "histogram2dcontour"
           }
          ],
          "mesh3d": [
           {
            "colorbar": {
             "outlinewidth": 0,
             "ticks": ""
            },
            "type": "mesh3d"
           }
          ],
          "parcoords": [
           {
            "line": {
             "colorbar": {
              "outlinewidth": 0,
              "ticks": ""
             }
            },
            "type": "parcoords"
           }
          ],
          "pie": [
           {
            "automargin": true,
            "type": "pie"
           }
          ],
          "scatter": [
           {
            "fillpattern": {
             "fillmode": "overlay",
             "size": 10,
             "solidity": 0.2
            },
            "type": "scatter"
           }
          ],
          "scatter3d": [
           {
            "line": {
             "colorbar": {
              "outlinewidth": 0,
              "ticks": ""
             }
            },
            "marker": {
             "colorbar": {
              "outlinewidth": 0,
              "ticks": ""
             }
            },
            "type": "scatter3d"
           }
          ],
          "scattercarpet": [
           {
            "marker": {
             "colorbar": {
              "outlinewidth": 0,
              "ticks": ""
             }
            },
            "type": "scattercarpet"
           }
          ],
          "scattergeo": [
           {
            "marker": {
             "colorbar": {
              "outlinewidth": 0,
              "ticks": ""
             }
            },
            "type": "scattergeo"
           }
          ],
          "scattergl": [
           {
            "marker": {
             "colorbar": {
              "outlinewidth": 0,
              "ticks": ""
             }
            },
            "type": "scattergl"
           }
          ],
          "scattermapbox": [
           {
            "marker": {
             "colorbar": {
              "outlinewidth": 0,
              "ticks": ""
             }
            },
            "type": "scattermapbox"
           }
          ],
          "scatterpolar": [
           {
            "marker": {
             "colorbar": {
              "outlinewidth": 0,
              "ticks": ""
             }
            },
            "type": "scatterpolar"
           }
          ],
          "scatterpolargl": [
           {
            "marker": {
             "colorbar": {
              "outlinewidth": 0,
              "ticks": ""
             }
            },
            "type": "scatterpolargl"
           }
          ],
          "scatterternary": [
           {
            "marker": {
             "colorbar": {
              "outlinewidth": 0,
              "ticks": ""
             }
            },
            "type": "scatterternary"
           }
          ],
          "surface": [
           {
            "colorbar": {
             "outlinewidth": 0,
             "ticks": ""
            },
            "colorscale": [
             [
              0,
              "#0d0887"
             ],
             [
              0.1111111111111111,
              "#46039f"
             ],
             [
              0.2222222222222222,
              "#7201a8"
             ],
             [
              0.3333333333333333,
              "#9c179e"
             ],
             [
              0.4444444444444444,
              "#bd3786"
             ],
             [
              0.5555555555555556,
              "#d8576b"
             ],
             [
              0.6666666666666666,
              "#ed7953"
             ],
             [
              0.7777777777777778,
              "#fb9f3a"
             ],
             [
              0.8888888888888888,
              "#fdca26"
             ],
             [
              1,
              "#f0f921"
             ]
            ],
            "type": "surface"
           }
          ],
          "table": [
           {
            "cells": {
             "fill": {
              "color": "#EBF0F8"
             },
             "line": {
              "color": "white"
             }
            },
            "header": {
             "fill": {
              "color": "#C8D4E3"
             },
             "line": {
              "color": "white"
             }
            },
            "type": "table"
           }
          ]
         },
         "layout": {
          "annotationdefaults": {
           "arrowcolor": "#2a3f5f",
           "arrowhead": 0,
           "arrowwidth": 1
          },
          "autotypenumbers": "strict",
          "coloraxis": {
           "colorbar": {
            "outlinewidth": 0,
            "ticks": ""
           }
          },
          "colorscale": {
           "diverging": [
            [
             0,
             "#8e0152"
            ],
            [
             0.1,
             "#c51b7d"
            ],
            [
             0.2,
             "#de77ae"
            ],
            [
             0.3,
             "#f1b6da"
            ],
            [
             0.4,
             "#fde0ef"
            ],
            [
             0.5,
             "#f7f7f7"
            ],
            [
             0.6,
             "#e6f5d0"
            ],
            [
             0.7,
             "#b8e186"
            ],
            [
             0.8,
             "#7fbc41"
            ],
            [
             0.9,
             "#4d9221"
            ],
            [
             1,
             "#276419"
            ]
           ],
           "sequential": [
            [
             0,
             "#0d0887"
            ],
            [
             0.1111111111111111,
             "#46039f"
            ],
            [
             0.2222222222222222,
             "#7201a8"
            ],
            [
             0.3333333333333333,
             "#9c179e"
            ],
            [
             0.4444444444444444,
             "#bd3786"
            ],
            [
             0.5555555555555556,
             "#d8576b"
            ],
            [
             0.6666666666666666,
             "#ed7953"
            ],
            [
             0.7777777777777778,
             "#fb9f3a"
            ],
            [
             0.8888888888888888,
             "#fdca26"
            ],
            [
             1,
             "#f0f921"
            ]
           ],
           "sequentialminus": [
            [
             0,
             "#0d0887"
            ],
            [
             0.1111111111111111,
             "#46039f"
            ],
            [
             0.2222222222222222,
             "#7201a8"
            ],
            [
             0.3333333333333333,
             "#9c179e"
            ],
            [
             0.4444444444444444,
             "#bd3786"
            ],
            [
             0.5555555555555556,
             "#d8576b"
            ],
            [
             0.6666666666666666,
             "#ed7953"
            ],
            [
             0.7777777777777778,
             "#fb9f3a"
            ],
            [
             0.8888888888888888,
             "#fdca26"
            ],
            [
             1,
             "#f0f921"
            ]
           ]
          },
          "colorway": [
           "#636efa",
           "#EF553B",
           "#00cc96",
           "#ab63fa",
           "#FFA15A",
           "#19d3f3",
           "#FF6692",
           "#B6E880",
           "#FF97FF",
           "#FECB52"
          ],
          "font": {
           "color": "#2a3f5f"
          },
          "geo": {
           "bgcolor": "white",
           "lakecolor": "white",
           "landcolor": "#E5ECF6",
           "showlakes": true,
           "showland": true,
           "subunitcolor": "white"
          },
          "hoverlabel": {
           "align": "left"
          },
          "hovermode": "closest",
          "mapbox": {
           "style": "light"
          },
          "paper_bgcolor": "white",
          "plot_bgcolor": "#E5ECF6",
          "polar": {
           "angularaxis": {
            "gridcolor": "white",
            "linecolor": "white",
            "ticks": ""
           },
           "bgcolor": "#E5ECF6",
           "radialaxis": {
            "gridcolor": "white",
            "linecolor": "white",
            "ticks": ""
           }
          },
          "scene": {
           "xaxis": {
            "backgroundcolor": "#E5ECF6",
            "gridcolor": "white",
            "gridwidth": 2,
            "linecolor": "white",
            "showbackground": true,
            "ticks": "",
            "zerolinecolor": "white"
           },
           "yaxis": {
            "backgroundcolor": "#E5ECF6",
            "gridcolor": "white",
            "gridwidth": 2,
            "linecolor": "white",
            "showbackground": true,
            "ticks": "",
            "zerolinecolor": "white"
           },
           "zaxis": {
            "backgroundcolor": "#E5ECF6",
            "gridcolor": "white",
            "gridwidth": 2,
            "linecolor": "white",
            "showbackground": true,
            "ticks": "",
            "zerolinecolor": "white"
           }
          },
          "shapedefaults": {
           "line": {
            "color": "#2a3f5f"
           }
          },
          "ternary": {
           "aaxis": {
            "gridcolor": "white",
            "linecolor": "white",
            "ticks": ""
           },
           "baxis": {
            "gridcolor": "white",
            "linecolor": "white",
            "ticks": ""
           },
           "bgcolor": "#E5ECF6",
           "caxis": {
            "gridcolor": "white",
            "linecolor": "white",
            "ticks": ""
           }
          },
          "title": {
           "x": 0.05
          },
          "xaxis": {
           "automargin": true,
           "gridcolor": "white",
           "linecolor": "white",
           "ticks": "",
           "title": {
            "standoff": 15
           },
           "zerolinecolor": "white",
           "zerolinewidth": 2
          },
          "yaxis": {
           "automargin": true,
           "gridcolor": "white",
           "linecolor": "white",
           "ticks": "",
           "title": {
            "standoff": 15
           },
           "zerolinecolor": "white",
           "zerolinewidth": 2
          }
         }
        },
        "title": {
         "font": {
          "family": "Calibri",
          "size": 32
         }
        },
        "width": 1200,
        "xaxis": {
         "anchor": "y",
         "domain": [
          0,
          1
         ],
         "dtick": "M2",
         "gridcolor": "lightgrey",
         "gridwidth": 0.5,
         "range": [
          "2019-12-01",
          "2022-04-30"
         ],
         "rangebreaks": [
          {
           "bounds": [
            "2020-06-01",
            "2021-02-28"
           ]
          },
          {
           "bounds": [
            "2021-05-01",
            "2022-02-28"
           ]
          }
         ],
         "showgrid": true,
         "tickangle": 45,
         "tickfont": {
          "family": "Calibri",
          "size": 24
         },
         "ticklabelmode": "period",
         "tickvals": [
          "2019-12-31",
          "2020-01-31",
          "2020-02-28",
          "2020-03-31",
          "2020-04-30",
          "2021-03-31",
          "2022-03-31"
         ],
         "title": {
          "font": {
           "family": "Calibri",
           "size": 24
          },
          "text": ""
         }
        },
        "yaxis": {
         "anchor": "x",
         "domain": [
          0,
          1
         ],
         "dtick": 5,
         "gridcolor": "lightgrey",
         "gridwidth": 0.5,
         "range": [
          0,
          30
         ],
         "showgrid": true,
         "tickfont": {
          "family": "Calibri",
          "size": 24
         },
         "tickmode": "linear",
         "title": {
          "font": {
           "family": "Calibri",
           "size": 24
          },
          "text": "Share (%)"
         }
        }
       }
      }
     },
     "metadata": {},
     "output_type": "display_data"
    }
   ],
   "source": [
    "# Define the desired order for the legend values\n",
    "legend_order = [\"Care work\", \"Household chores\", \"Organization & mental load\", \"Other\"]  # Replace with your desired order\n",
    "colors = {\n",
    "    'Care work': 'rgb(31, 119, 180)',\n",
    "    'Household chores': 'rgb(44, 160, 44)',\n",
    "    'Organization & mental load': 'rgb(214, 39, 40)',\n",
    "    'Other':'rgb(127, 127, 127)'\n",
    "}\n",
    "\n",
    "dataframes = [relative_weeks_mommit, relative_weeks_daddit, relative_months_mommit, relative_months_daddit]\n",
    "titles = ['r/Mommit: Posts with topics associated with home responsibilities',\n",
    "          'r/daddit: Posts with topics associated with home responsibilities',\n",
    "          '',  # Specify the titles for each dataframe\n",
    "          ''] #daddit\n",
    "\n",
    "for i, df in enumerate(dataframes):\n",
    "    fig = px.line(df, x='date_time', y=\"relative chores\", color=\"small_categories\",\n",
    "                  title=f\"{titles[i]}\", height=500, width=1200, category_orders={'small_categories': legend_order}, color_discrete_map=colors, markers=True)\n",
    "\n",
    "\n",
    "    # Set the same y-axis scale for both graphs\n",
    "    fig.update_layout(yaxis=dict(range=[0, 30]))\n",
    "\n",
    "        # Add vertical line --> start pandemic\n",
    "    fig.add_shape(\n",
    "        type=\"line\",\n",
    "        x0=\"2020-03-11\", x1=\"2020-03-11\",\n",
    "        y0=0, y1=2500,\n",
    "        line=dict(color=\"black\", width=2),\n",
    "        name=\"Start of pandemic\"\n",
    "    )\n",
    "\n",
    "    # Add custom legend items as annotations\n",
    "    fig.add_trace(\n",
    "        go.Scatter(\n",
    "            x=[None],\n",
    "            y=[None],\n",
    "            mode='lines',\n",
    "            marker=dict(color=\"black\", size=10),\n",
    "            showlegend=True,\n",
    "            name=\"Start of pandemic\"\n",
    "        )\n",
    "    )\n",
    "\n",
    "    fig.update_layout(\n",
    "        legend=dict(\n",
    "            title='',\n",
    "            title_font=dict(size=14)\n",
    "        ),\n",
    "        xaxis=dict(\n",
    "            showgrid=True,  # Display x-axis grid lines\n",
    "            gridcolor='lightgrey',  # Set the color of the x-axis grid lines\n",
    "            gridwidth=0.5  # Set the width of the x-axis grid lines\n",
    "        ),\n",
    "        yaxis=dict(\n",
    "            showgrid=True,  # Display y-axis grid lines\n",
    "            gridcolor='lightgrey',  # Set the color of the y-axis grid lines\n",
    "            gridwidth=0.5  # Set the width of the y-axis grid lines\n",
    "        )\n",
    "    )\n",
    "\n",
    "    # Updating layout and axis labels\n",
    "    fig.update_layout(\n",
    "        plot_bgcolor='white',\n",
    "        title={\n",
    "            'font': {'size': 32, 'family': 'Calibri'} \n",
    "        },\n",
    "        xaxis_title='',\n",
    "        yaxis_title='Share (%)',\n",
    "        xaxis={\n",
    "            'title': {'font': {'size': 24, 'family': 'Calibri'}},  \n",
    "            'tickfont': {'size': 24, 'family': 'Calibri'},  \n",
    "            \"range\":[\"2019-12-01\", \"2022-04-30\"],\n",
    "            \"dtick\":\"M2\",\n",
    "            \"ticklabelmode\":\"period\",\n",
    "            \"tickvals\":[\"2019-12-31\", \"2020-01-31\", \"2020-02-28\", \"2020-03-31\", \"2020-04-30\", \"2021-03-31\", \"2022-03-31\"],\n",
    "            \"rangebreaks\": [\n",
    "            {\"bounds\": [\"2020-06-01\", \"2021-02-28\"]},  \n",
    "            {\"bounds\": [\"2021-05-01\", \"2022-02-28\"]}\n",
    "        ]\n",
    "            \n",
    "        },\n",
    "        yaxis={\n",
    "            'title': {'font': {'size': 24, 'family': 'Calibri'}},  \n",
    "            'tickfont': {'size': 24, 'family': 'Calibri'}, \n",
    "            'tickmode': 'linear',  # Set the tick mode to linear\n",
    "            'dtick': 5  # Set the tick step size to 5\n",
    "\n",
    "        },\n",
    "\n",
    "        legend=dict(\n",
    "            title='',\n",
    "            title_font=dict(size=14),\n",
    "            font=dict(size=18),\n",
    "            traceorder='normal',  # Preserve the order of legend items\n",
    "            itemsizing='trace'  # Adjust the size of legend items based on traces\n",
    "        )\n",
    "    )\n",
    "    fig.update_xaxes(tickangle= 45)  \n",
    "\n",
    "\n",
    "    fig.show()"
   ]
  },
  {
   "attachments": {},
   "cell_type": "markdown",
   "metadata": {},
   "source": [
    "##### no grouping\n",
    "\n",
    "just show documents with top_n _words over time in relation to *all* postings --> also zu data_mommit/daddit weekly/ monthly gruppiert\n",
    "- weekly\n",
    "- monthly"
   ]
  },
  {
   "cell_type": "code",
   "execution_count": 54,
   "metadata": {},
   "outputs": [
    {
     "data": {
      "text/html": [
       "<div>\n",
       "<style scoped>\n",
       "    .dataframe tbody tr th:only-of-type {\n",
       "        vertical-align: middle;\n",
       "    }\n",
       "\n",
       "    .dataframe tbody tr th {\n",
       "        vertical-align: top;\n",
       "    }\n",
       "\n",
       "    .dataframe thead th {\n",
       "        text-align: right;\n",
       "    }\n",
       "</style>\n",
       "<table border=\"1\" class=\"dataframe\">\n",
       "  <thead>\n",
       "    <tr style=\"text-align: right;\">\n",
       "      <th></th>\n",
       "      <th>date_time</th>\n",
       "      <th>grouped_count</th>\n",
       "    </tr>\n",
       "  </thead>\n",
       "  <tbody>\n",
       "    <tr>\n",
       "      <th>0</th>\n",
       "      <td>2019-12-31</td>\n",
       "      <td>4698</td>\n",
       "    </tr>\n",
       "    <tr>\n",
       "      <th>1</th>\n",
       "      <td>2020-01-31</td>\n",
       "      <td>4985</td>\n",
       "    </tr>\n",
       "    <tr>\n",
       "      <th>2</th>\n",
       "      <td>2020-02-29</td>\n",
       "      <td>5365</td>\n",
       "    </tr>\n",
       "    <tr>\n",
       "      <th>3</th>\n",
       "      <td>2020-03-31</td>\n",
       "      <td>5121</td>\n",
       "    </tr>\n",
       "    <tr>\n",
       "      <th>4</th>\n",
       "      <td>2020-04-30</td>\n",
       "      <td>4711</td>\n",
       "    </tr>\n",
       "    <tr>\n",
       "      <th>5</th>\n",
       "      <td>2020-05-31</td>\n",
       "      <td>0</td>\n",
       "    </tr>\n",
       "    <tr>\n",
       "      <th>6</th>\n",
       "      <td>2020-06-30</td>\n",
       "      <td>0</td>\n",
       "    </tr>\n",
       "    <tr>\n",
       "      <th>7</th>\n",
       "      <td>2020-07-31</td>\n",
       "      <td>0</td>\n",
       "    </tr>\n",
       "    <tr>\n",
       "      <th>8</th>\n",
       "      <td>2020-08-31</td>\n",
       "      <td>0</td>\n",
       "    </tr>\n",
       "    <tr>\n",
       "      <th>9</th>\n",
       "      <td>2020-09-30</td>\n",
       "      <td>0</td>\n",
       "    </tr>\n",
       "    <tr>\n",
       "      <th>10</th>\n",
       "      <td>2020-10-31</td>\n",
       "      <td>0</td>\n",
       "    </tr>\n",
       "    <tr>\n",
       "      <th>11</th>\n",
       "      <td>2020-11-30</td>\n",
       "      <td>0</td>\n",
       "    </tr>\n",
       "    <tr>\n",
       "      <th>12</th>\n",
       "      <td>2020-12-31</td>\n",
       "      <td>0</td>\n",
       "    </tr>\n",
       "    <tr>\n",
       "      <th>13</th>\n",
       "      <td>2021-01-31</td>\n",
       "      <td>0</td>\n",
       "    </tr>\n",
       "    <tr>\n",
       "      <th>14</th>\n",
       "      <td>2021-02-28</td>\n",
       "      <td>0</td>\n",
       "    </tr>\n",
       "    <tr>\n",
       "      <th>15</th>\n",
       "      <td>2021-03-31</td>\n",
       "      <td>6321</td>\n",
       "    </tr>\n",
       "    <tr>\n",
       "      <th>16</th>\n",
       "      <td>2021-04-30</td>\n",
       "      <td>0</td>\n",
       "    </tr>\n",
       "    <tr>\n",
       "      <th>17</th>\n",
       "      <td>2021-05-31</td>\n",
       "      <td>0</td>\n",
       "    </tr>\n",
       "    <tr>\n",
       "      <th>18</th>\n",
       "      <td>2021-06-30</td>\n",
       "      <td>0</td>\n",
       "    </tr>\n",
       "    <tr>\n",
       "      <th>19</th>\n",
       "      <td>2021-07-31</td>\n",
       "      <td>0</td>\n",
       "    </tr>\n",
       "    <tr>\n",
       "      <th>20</th>\n",
       "      <td>2021-08-31</td>\n",
       "      <td>0</td>\n",
       "    </tr>\n",
       "    <tr>\n",
       "      <th>21</th>\n",
       "      <td>2021-09-30</td>\n",
       "      <td>0</td>\n",
       "    </tr>\n",
       "    <tr>\n",
       "      <th>22</th>\n",
       "      <td>2021-10-31</td>\n",
       "      <td>0</td>\n",
       "    </tr>\n",
       "    <tr>\n",
       "      <th>23</th>\n",
       "      <td>2021-11-30</td>\n",
       "      <td>0</td>\n",
       "    </tr>\n",
       "    <tr>\n",
       "      <th>24</th>\n",
       "      <td>2021-12-31</td>\n",
       "      <td>0</td>\n",
       "    </tr>\n",
       "    <tr>\n",
       "      <th>25</th>\n",
       "      <td>2022-01-31</td>\n",
       "      <td>0</td>\n",
       "    </tr>\n",
       "    <tr>\n",
       "      <th>26</th>\n",
       "      <td>2022-02-28</td>\n",
       "      <td>0</td>\n",
       "    </tr>\n",
       "    <tr>\n",
       "      <th>27</th>\n",
       "      <td>2022-03-31</td>\n",
       "      <td>46399</td>\n",
       "    </tr>\n",
       "  </tbody>\n",
       "</table>\n",
       "</div>"
      ],
      "text/plain": [
       "    date_time  grouped_count\n",
       "0  2019-12-31           4698\n",
       "1  2020-01-31           4985\n",
       "2  2020-02-29           5365\n",
       "3  2020-03-31           5121\n",
       "4  2020-04-30           4711\n",
       "5  2020-05-31              0\n",
       "6  2020-06-30              0\n",
       "7  2020-07-31              0\n",
       "8  2020-08-31              0\n",
       "9  2020-09-30              0\n",
       "10 2020-10-31              0\n",
       "11 2020-11-30              0\n",
       "12 2020-12-31              0\n",
       "13 2021-01-31              0\n",
       "14 2021-02-28              0\n",
       "15 2021-03-31           6321\n",
       "16 2021-04-30              0\n",
       "17 2021-05-31              0\n",
       "18 2021-06-30              0\n",
       "19 2021-07-31              0\n",
       "20 2021-08-31              0\n",
       "21 2021-09-30              0\n",
       "22 2021-10-31              0\n",
       "23 2021-11-30              0\n",
       "24 2021-12-31              0\n",
       "25 2022-01-31              0\n",
       "26 2022-02-28              0\n",
       "27 2022-03-31          46399"
      ]
     },
     "execution_count": 54,
     "metadata": {},
     "output_type": "execute_result"
    }
   ],
   "source": [
    "# hh chores df grouped\n",
    "weekly_mommit, monthly_mommit=weekly_monthly_grouping(top_n_clean_mommit)\n",
    "weekly_daddit, monthly_daddit=weekly_monthly_grouping(top_n_clean_daddit)\n",
    "\n",
    "\n",
    "weekly_mommit_orig, monthly_mommit_orig=weekly_monthly_grouping(data_mommit)\n",
    "weekly_daddit_orig, monthly_daddit_orig=weekly_monthly_grouping(data_daddit)\n",
    "monthly_mommit_orig"
   ]
  },
  {
   "cell_type": "code",
   "execution_count": 55,
   "metadata": {},
   "outputs": [
    {
     "data": {
      "text/html": [
       "<div>\n",
       "<style scoped>\n",
       "    .dataframe tbody tr th:only-of-type {\n",
       "        vertical-align: middle;\n",
       "    }\n",
       "\n",
       "    .dataframe tbody tr th {\n",
       "        vertical-align: top;\n",
       "    }\n",
       "\n",
       "    .dataframe thead th {\n",
       "        text-align: right;\n",
       "    }\n",
       "</style>\n",
       "<table border=\"1\" class=\"dataframe\">\n",
       "  <thead>\n",
       "    <tr style=\"text-align: right;\">\n",
       "      <th></th>\n",
       "      <th>date_time</th>\n",
       "      <th>grouped_count</th>\n",
       "    </tr>\n",
       "  </thead>\n",
       "  <tbody>\n",
       "    <tr>\n",
       "      <th>0</th>\n",
       "      <td>2019-12-31</td>\n",
       "      <td>1576</td>\n",
       "    </tr>\n",
       "    <tr>\n",
       "      <th>1</th>\n",
       "      <td>2020-01-31</td>\n",
       "      <td>1728</td>\n",
       "    </tr>\n",
       "    <tr>\n",
       "      <th>2</th>\n",
       "      <td>2020-02-29</td>\n",
       "      <td>1619</td>\n",
       "    </tr>\n",
       "    <tr>\n",
       "      <th>3</th>\n",
       "      <td>2020-03-31</td>\n",
       "      <td>2013</td>\n",
       "    </tr>\n",
       "    <tr>\n",
       "      <th>4</th>\n",
       "      <td>2020-04-30</td>\n",
       "      <td>1586</td>\n",
       "    </tr>\n",
       "  </tbody>\n",
       "</table>\n",
       "</div>"
      ],
      "text/plain": [
       "   date_time  grouped_count\n",
       "0 2019-12-31           1576\n",
       "1 2020-01-31           1728\n",
       "2 2020-02-29           1619\n",
       "3 2020-03-31           2013\n",
       "4 2020-04-30           1586"
      ]
     },
     "execution_count": 55,
     "metadata": {},
     "output_type": "execute_result"
    }
   ],
   "source": [
    "monthly_mommit.head()"
   ]
  },
  {
   "cell_type": "code",
   "execution_count": 56,
   "metadata": {},
   "outputs": [],
   "source": [
    "def rel_orig_groups(monthly_orig, monthly_chores, weekly_orig, weekly_chores, subreddit):\n",
    "\n",
    "    merged_months = pd.merge(monthly_orig, monthly_chores, on=\"date_time\", suffixes=('_orig', '_chores'))\n",
    "    merged_months[\"grouped_count_chores\"]=merged_months[\"grouped_count_chores\"].astype(int)\n",
    "    merged_months[\"grouped_count_orig\"]=merged_months[\"grouped_count_orig\"].astype(int)\n",
    "\n",
    "    merged_months[\"relative\"]=merged_months[\"grouped_count_chores\"]/merged_months[\"grouped_count_orig\"]*100\n",
    "\n",
    "    merged_weeks = pd.merge(weekly_orig, weekly_chores, on=\"date_time\", suffixes=('_orig', '_chores'))\n",
    "    merged_weeks[\"grouped_count_chores\"]=merged_weeks[\"grouped_count_chores\"].astype(int)\n",
    "    merged_weeks[\"grouped_count_orig\"]=merged_weeks[\"grouped_count_orig\"].astype(int)\n",
    "\n",
    "    merged_weeks[\"relative\"]=merged_weeks[\"grouped_count_chores\"]/merged_weeks[\"grouped_count_orig\"]*100\n",
    "\n",
    "    merged_months.fillna(0, inplace=True)\n",
    "    merged_weeks.fillna(0, inplace=True)\n",
    "    \n",
    "    merged_months[\"subreddit\"]=f\"{subreddit}\"\n",
    "    merged_weeks[\"subreddit\"]=f\"{subreddit}\"\n",
    "\n",
    "    # drop rows where count = 0\n",
    "    merged_months = merged_months[merged_months['grouped_count_orig'] != 0]\n",
    "    merged_weeks = merged_weeks[merged_weeks['grouped_count_orig'] != 0]\n",
    "\n",
    "    return merged_months, merged_weeks"
   ]
  },
  {
   "cell_type": "code",
   "execution_count": 57,
   "metadata": {},
   "outputs": [
    {
     "data": {
      "text/html": [
       "<div>\n",
       "<style scoped>\n",
       "    .dataframe tbody tr th:only-of-type {\n",
       "        vertical-align: middle;\n",
       "    }\n",
       "\n",
       "    .dataframe tbody tr th {\n",
       "        vertical-align: top;\n",
       "    }\n",
       "\n",
       "    .dataframe thead th {\n",
       "        text-align: right;\n",
       "    }\n",
       "</style>\n",
       "<table border=\"1\" class=\"dataframe\">\n",
       "  <thead>\n",
       "    <tr style=\"text-align: right;\">\n",
       "      <th></th>\n",
       "      <th>date_time</th>\n",
       "      <th>grouped_count_orig</th>\n",
       "      <th>grouped_count_chores</th>\n",
       "      <th>relative</th>\n",
       "      <th>subreddit</th>\n",
       "    </tr>\n",
       "  </thead>\n",
       "  <tbody>\n",
       "    <tr>\n",
       "      <th>0</th>\n",
       "      <td>2019-12-31</td>\n",
       "      <td>4698</td>\n",
       "      <td>1576</td>\n",
       "      <td>33.546190</td>\n",
       "      <td>Mommit</td>\n",
       "    </tr>\n",
       "    <tr>\n",
       "      <th>1</th>\n",
       "      <td>2020-01-31</td>\n",
       "      <td>4985</td>\n",
       "      <td>1728</td>\n",
       "      <td>34.663992</td>\n",
       "      <td>Mommit</td>\n",
       "    </tr>\n",
       "    <tr>\n",
       "      <th>2</th>\n",
       "      <td>2020-02-29</td>\n",
       "      <td>5365</td>\n",
       "      <td>1619</td>\n",
       "      <td>30.177074</td>\n",
       "      <td>Mommit</td>\n",
       "    </tr>\n",
       "    <tr>\n",
       "      <th>3</th>\n",
       "      <td>2020-03-31</td>\n",
       "      <td>5121</td>\n",
       "      <td>2013</td>\n",
       "      <td>39.308729</td>\n",
       "      <td>Mommit</td>\n",
       "    </tr>\n",
       "    <tr>\n",
       "      <th>4</th>\n",
       "      <td>2020-04-30</td>\n",
       "      <td>4711</td>\n",
       "      <td>1586</td>\n",
       "      <td>33.665888</td>\n",
       "      <td>Mommit</td>\n",
       "    </tr>\n",
       "    <tr>\n",
       "      <th>15</th>\n",
       "      <td>2021-03-31</td>\n",
       "      <td>6321</td>\n",
       "      <td>1856</td>\n",
       "      <td>29.362443</td>\n",
       "      <td>Mommit</td>\n",
       "    </tr>\n",
       "    <tr>\n",
       "      <th>27</th>\n",
       "      <td>2022-03-31</td>\n",
       "      <td>46399</td>\n",
       "      <td>14177</td>\n",
       "      <td>30.554538</td>\n",
       "      <td>Mommit</td>\n",
       "    </tr>\n",
       "  </tbody>\n",
       "</table>\n",
       "</div>"
      ],
      "text/plain": [
       "    date_time  grouped_count_orig  grouped_count_chores   relative subreddit\n",
       "0  2019-12-31                4698                  1576  33.546190    Mommit\n",
       "1  2020-01-31                4985                  1728  34.663992    Mommit\n",
       "2  2020-02-29                5365                  1619  30.177074    Mommit\n",
       "3  2020-03-31                5121                  2013  39.308729    Mommit\n",
       "4  2020-04-30                4711                  1586  33.665888    Mommit\n",
       "15 2021-03-31                6321                  1856  29.362443    Mommit\n",
       "27 2022-03-31               46399                 14177  30.554538    Mommit"
      ]
     },
     "execution_count": 57,
     "metadata": {},
     "output_type": "execute_result"
    }
   ],
   "source": [
    "merged_months_mommit, merged_weeks_mommit=rel_orig_groups(monthly_mommit_orig, monthly_mommit, weekly_mommit_orig, weekly_mommit, \"Mommit\")\n",
    "merged_months_daddit, merged_weeks_daddit=rel_orig_groups(monthly_daddit_orig, monthly_daddit, weekly_daddit_orig, weekly_daddit, \"daddit\")\n",
    "merged_weeks_mommit\n",
    "merged_months_mommit"
   ]
  },
  {
   "cell_type": "code",
   "execution_count": 58,
   "metadata": {},
   "outputs": [
    {
     "data": {
      "text/html": [
       "<div>\n",
       "<style scoped>\n",
       "    .dataframe tbody tr th:only-of-type {\n",
       "        vertical-align: middle;\n",
       "    }\n",
       "\n",
       "    .dataframe tbody tr th {\n",
       "        vertical-align: top;\n",
       "    }\n",
       "\n",
       "    .dataframe thead th {\n",
       "        text-align: right;\n",
       "    }\n",
       "</style>\n",
       "<table border=\"1\" class=\"dataframe\">\n",
       "  <thead>\n",
       "    <tr style=\"text-align: right;\">\n",
       "      <th></th>\n",
       "      <th>date_time</th>\n",
       "      <th>grouped_count_orig</th>\n",
       "      <th>grouped_count_chores</th>\n",
       "      <th>relative</th>\n",
       "      <th>subreddit</th>\n",
       "    </tr>\n",
       "  </thead>\n",
       "  <tbody>\n",
       "    <tr>\n",
       "      <th>0</th>\n",
       "      <td>2019-12-01</td>\n",
       "      <td>121</td>\n",
       "      <td>46</td>\n",
       "      <td>38.016529</td>\n",
       "      <td>Mommit</td>\n",
       "    </tr>\n",
       "    <tr>\n",
       "      <th>1</th>\n",
       "      <td>2019-12-08</td>\n",
       "      <td>1141</td>\n",
       "      <td>339</td>\n",
       "      <td>29.710780</td>\n",
       "      <td>Mommit</td>\n",
       "    </tr>\n",
       "    <tr>\n",
       "      <th>2</th>\n",
       "      <td>2019-12-15</td>\n",
       "      <td>1146</td>\n",
       "      <td>368</td>\n",
       "      <td>32.111693</td>\n",
       "      <td>Mommit</td>\n",
       "    </tr>\n",
       "    <tr>\n",
       "      <th>3</th>\n",
       "      <td>2019-12-22</td>\n",
       "      <td>1144</td>\n",
       "      <td>418</td>\n",
       "      <td>36.538462</td>\n",
       "      <td>Mommit</td>\n",
       "    </tr>\n",
       "    <tr>\n",
       "      <th>4</th>\n",
       "      <td>2019-12-29</td>\n",
       "      <td>858</td>\n",
       "      <td>320</td>\n",
       "      <td>37.296037</td>\n",
       "      <td>Mommit</td>\n",
       "    </tr>\n",
       "    <tr>\n",
       "      <th>...</th>\n",
       "      <td>...</td>\n",
       "      <td>...</td>\n",
       "      <td>...</td>\n",
       "      <td>...</td>\n",
       "      <td>...</td>\n",
       "    </tr>\n",
       "    <tr>\n",
       "      <th>61</th>\n",
       "      <td>2022-03-06</td>\n",
       "      <td>6033</td>\n",
       "      <td>842</td>\n",
       "      <td>13.956572</td>\n",
       "      <td>daddit</td>\n",
       "    </tr>\n",
       "    <tr>\n",
       "      <th>62</th>\n",
       "      <td>2022-03-13</td>\n",
       "      <td>7212</td>\n",
       "      <td>1856</td>\n",
       "      <td>25.734886</td>\n",
       "      <td>daddit</td>\n",
       "    </tr>\n",
       "    <tr>\n",
       "      <th>63</th>\n",
       "      <td>2022-03-20</td>\n",
       "      <td>8061</td>\n",
       "      <td>1704</td>\n",
       "      <td>21.138817</td>\n",
       "      <td>daddit</td>\n",
       "    </tr>\n",
       "    <tr>\n",
       "      <th>64</th>\n",
       "      <td>2022-03-27</td>\n",
       "      <td>8260</td>\n",
       "      <td>2039</td>\n",
       "      <td>24.685230</td>\n",
       "      <td>daddit</td>\n",
       "    </tr>\n",
       "    <tr>\n",
       "      <th>65</th>\n",
       "      <td>2022-04-03</td>\n",
       "      <td>3736</td>\n",
       "      <td>639</td>\n",
       "      <td>17.103854</td>\n",
       "      <td>daddit</td>\n",
       "    </tr>\n",
       "  </tbody>\n",
       "</table>\n",
       "<p>66 rows × 5 columns</p>\n",
       "</div>"
      ],
      "text/plain": [
       "    date_time  grouped_count_orig  grouped_count_chores   relative subreddit\n",
       "0  2019-12-01                 121                    46  38.016529    Mommit\n",
       "1  2019-12-08                1141                   339  29.710780    Mommit\n",
       "2  2019-12-15                1146                   368  32.111693    Mommit\n",
       "3  2019-12-22                1144                   418  36.538462    Mommit\n",
       "4  2019-12-29                 858                   320  37.296037    Mommit\n",
       "..        ...                 ...                   ...        ...       ...\n",
       "61 2022-03-06                6033                   842  13.956572    daddit\n",
       "62 2022-03-13                7212                  1856  25.734886    daddit\n",
       "63 2022-03-20                8061                  1704  21.138817    daddit\n",
       "64 2022-03-27                8260                  2039  24.685230    daddit\n",
       "65 2022-04-03                3736                   639  17.103854    daddit\n",
       "\n",
       "[66 rows x 5 columns]"
      ]
     },
     "execution_count": 58,
     "metadata": {},
     "output_type": "execute_result"
    }
   ],
   "source": [
    "# create df with monthly both subreddits and weekly both subreddits\n",
    "relative_monhtly_subreddits = pd.concat([merged_months_mommit, merged_months_daddit], ignore_index=True)\n",
    "relative_weekly_subreddits = pd.concat([merged_weeks_mommit, merged_weeks_daddit], ignore_index=True)\n",
    "relative_weekly_subreddits\n",
    "\n",
    "#relative_monhtly_subreddits.to_csv('basis tabellen für rq3/monthly_subreddits_top_n_words.csv', index=False)\n",
    "#relative_weekly_subreddits.to_csv('basis tabellen für rq3/weekly_subreddits_top_n_words.csv', index=False)"
   ]
  },
  {
   "cell_type": "code",
   "execution_count": 59,
   "metadata": {},
   "outputs": [
    {
     "data": {
      "application/vnd.plotly.v1+json": {
       "config": {
        "plotlyServerURL": "https://plot.ly"
       },
       "data": [
        {
         "hovertemplate": "date_time=%{x}<br>relative=%{y}<extra></extra>",
         "legendgroup": "",
         "line": {
          "color": "rgb(158, 158, 158)",
          "dash": "solid"
         },
         "marker": {
          "symbol": "circle"
         },
         "mode": "lines",
         "name": "",
         "orientation": "v",
         "showlegend": false,
         "type": "scatter",
         "x": [
          "2019-12-31T00:00:00",
          "2020-01-31T00:00:00",
          "2020-02-29T00:00:00",
          "2020-03-31T00:00:00",
          "2020-04-30T00:00:00",
          "2021-03-31T00:00:00",
          "2022-03-31T00:00:00"
         ],
         "xaxis": "x",
         "y": [
          33.54618986802895,
          34.663991975927786,
          30.177073625349486,
          39.3087287639133,
          33.665888346423266,
          29.3624426514792,
          30.55453781331494
         ],
         "yaxis": "y"
        },
        {
         "marker": {
          "color": "black",
          "size": 10
         },
         "mode": "lines",
         "name": "Start of pandemic",
         "showlegend": true,
         "type": "scatter",
         "x": [
          null
         ],
         "y": [
          null
         ]
        }
       ],
       "layout": {
        "height": 500,
        "legend": {
         "title": {
          "font": {
           "size": 14
          },
          "text": ""
         },
         "tracegroupgap": 0
        },
        "plot_bgcolor": "white",
        "shapes": [
         {
          "line": {
           "color": "black",
           "width": 2
          },
          "name": "Start of pandemic",
          "type": "line",
          "x0": "2020-03-11",
          "x1": "2020-03-11",
          "y0": 0,
          "y1": 2500
         }
        ],
        "template": {
         "data": {
          "bar": [
           {
            "error_x": {
             "color": "#2a3f5f"
            },
            "error_y": {
             "color": "#2a3f5f"
            },
            "marker": {
             "line": {
              "color": "#E5ECF6",
              "width": 0.5
             },
             "pattern": {
              "fillmode": "overlay",
              "size": 10,
              "solidity": 0.2
             }
            },
            "type": "bar"
           }
          ],
          "barpolar": [
           {
            "marker": {
             "line": {
              "color": "#E5ECF6",
              "width": 0.5
             },
             "pattern": {
              "fillmode": "overlay",
              "size": 10,
              "solidity": 0.2
             }
            },
            "type": "barpolar"
           }
          ],
          "carpet": [
           {
            "aaxis": {
             "endlinecolor": "#2a3f5f",
             "gridcolor": "white",
             "linecolor": "white",
             "minorgridcolor": "white",
             "startlinecolor": "#2a3f5f"
            },
            "baxis": {
             "endlinecolor": "#2a3f5f",
             "gridcolor": "white",
             "linecolor": "white",
             "minorgridcolor": "white",
             "startlinecolor": "#2a3f5f"
            },
            "type": "carpet"
           }
          ],
          "choropleth": [
           {
            "colorbar": {
             "outlinewidth": 0,
             "ticks": ""
            },
            "type": "choropleth"
           }
          ],
          "contour": [
           {
            "colorbar": {
             "outlinewidth": 0,
             "ticks": ""
            },
            "colorscale": [
             [
              0,
              "#0d0887"
             ],
             [
              0.1111111111111111,
              "#46039f"
             ],
             [
              0.2222222222222222,
              "#7201a8"
             ],
             [
              0.3333333333333333,
              "#9c179e"
             ],
             [
              0.4444444444444444,
              "#bd3786"
             ],
             [
              0.5555555555555556,
              "#d8576b"
             ],
             [
              0.6666666666666666,
              "#ed7953"
             ],
             [
              0.7777777777777778,
              "#fb9f3a"
             ],
             [
              0.8888888888888888,
              "#fdca26"
             ],
             [
              1,
              "#f0f921"
             ]
            ],
            "type": "contour"
           }
          ],
          "contourcarpet": [
           {
            "colorbar": {
             "outlinewidth": 0,
             "ticks": ""
            },
            "type": "contourcarpet"
           }
          ],
          "heatmap": [
           {
            "colorbar": {
             "outlinewidth": 0,
             "ticks": ""
            },
            "colorscale": [
             [
              0,
              "#0d0887"
             ],
             [
              0.1111111111111111,
              "#46039f"
             ],
             [
              0.2222222222222222,
              "#7201a8"
             ],
             [
              0.3333333333333333,
              "#9c179e"
             ],
             [
              0.4444444444444444,
              "#bd3786"
             ],
             [
              0.5555555555555556,
              "#d8576b"
             ],
             [
              0.6666666666666666,
              "#ed7953"
             ],
             [
              0.7777777777777778,
              "#fb9f3a"
             ],
             [
              0.8888888888888888,
              "#fdca26"
             ],
             [
              1,
              "#f0f921"
             ]
            ],
            "type": "heatmap"
           }
          ],
          "heatmapgl": [
           {
            "colorbar": {
             "outlinewidth": 0,
             "ticks": ""
            },
            "colorscale": [
             [
              0,
              "#0d0887"
             ],
             [
              0.1111111111111111,
              "#46039f"
             ],
             [
              0.2222222222222222,
              "#7201a8"
             ],
             [
              0.3333333333333333,
              "#9c179e"
             ],
             [
              0.4444444444444444,
              "#bd3786"
             ],
             [
              0.5555555555555556,
              "#d8576b"
             ],
             [
              0.6666666666666666,
              "#ed7953"
             ],
             [
              0.7777777777777778,
              "#fb9f3a"
             ],
             [
              0.8888888888888888,
              "#fdca26"
             ],
             [
              1,
              "#f0f921"
             ]
            ],
            "type": "heatmapgl"
           }
          ],
          "histogram": [
           {
            "marker": {
             "pattern": {
              "fillmode": "overlay",
              "size": 10,
              "solidity": 0.2
             }
            },
            "type": "histogram"
           }
          ],
          "histogram2d": [
           {
            "colorbar": {
             "outlinewidth": 0,
             "ticks": ""
            },
            "colorscale": [
             [
              0,
              "#0d0887"
             ],
             [
              0.1111111111111111,
              "#46039f"
             ],
             [
              0.2222222222222222,
              "#7201a8"
             ],
             [
              0.3333333333333333,
              "#9c179e"
             ],
             [
              0.4444444444444444,
              "#bd3786"
             ],
             [
              0.5555555555555556,
              "#d8576b"
             ],
             [
              0.6666666666666666,
              "#ed7953"
             ],
             [
              0.7777777777777778,
              "#fb9f3a"
             ],
             [
              0.8888888888888888,
              "#fdca26"
             ],
             [
              1,
              "#f0f921"
             ]
            ],
            "type": "histogram2d"
           }
          ],
          "histogram2dcontour": [
           {
            "colorbar": {
             "outlinewidth": 0,
             "ticks": ""
            },
            "colorscale": [
             [
              0,
              "#0d0887"
             ],
             [
              0.1111111111111111,
              "#46039f"
             ],
             [
              0.2222222222222222,
              "#7201a8"
             ],
             [
              0.3333333333333333,
              "#9c179e"
             ],
             [
              0.4444444444444444,
              "#bd3786"
             ],
             [
              0.5555555555555556,
              "#d8576b"
             ],
             [
              0.6666666666666666,
              "#ed7953"
             ],
             [
              0.7777777777777778,
              "#fb9f3a"
             ],
             [
              0.8888888888888888,
              "#fdca26"
             ],
             [
              1,
              "#f0f921"
             ]
            ],
            "type": "histogram2dcontour"
           }
          ],
          "mesh3d": [
           {
            "colorbar": {
             "outlinewidth": 0,
             "ticks": ""
            },
            "type": "mesh3d"
           }
          ],
          "parcoords": [
           {
            "line": {
             "colorbar": {
              "outlinewidth": 0,
              "ticks": ""
             }
            },
            "type": "parcoords"
           }
          ],
          "pie": [
           {
            "automargin": true,
            "type": "pie"
           }
          ],
          "scatter": [
           {
            "fillpattern": {
             "fillmode": "overlay",
             "size": 10,
             "solidity": 0.2
            },
            "type": "scatter"
           }
          ],
          "scatter3d": [
           {
            "line": {
             "colorbar": {
              "outlinewidth": 0,
              "ticks": ""
             }
            },
            "marker": {
             "colorbar": {
              "outlinewidth": 0,
              "ticks": ""
             }
            },
            "type": "scatter3d"
           }
          ],
          "scattercarpet": [
           {
            "marker": {
             "colorbar": {
              "outlinewidth": 0,
              "ticks": ""
             }
            },
            "type": "scattercarpet"
           }
          ],
          "scattergeo": [
           {
            "marker": {
             "colorbar": {
              "outlinewidth": 0,
              "ticks": ""
             }
            },
            "type": "scattergeo"
           }
          ],
          "scattergl": [
           {
            "marker": {
             "colorbar": {
              "outlinewidth": 0,
              "ticks": ""
             }
            },
            "type": "scattergl"
           }
          ],
          "scattermapbox": [
           {
            "marker": {
             "colorbar": {
              "outlinewidth": 0,
              "ticks": ""
             }
            },
            "type": "scattermapbox"
           }
          ],
          "scatterpolar": [
           {
            "marker": {
             "colorbar": {
              "outlinewidth": 0,
              "ticks": ""
             }
            },
            "type": "scatterpolar"
           }
          ],
          "scatterpolargl": [
           {
            "marker": {
             "colorbar": {
              "outlinewidth": 0,
              "ticks": ""
             }
            },
            "type": "scatterpolargl"
           }
          ],
          "scatterternary": [
           {
            "marker": {
             "colorbar": {
              "outlinewidth": 0,
              "ticks": ""
             }
            },
            "type": "scatterternary"
           }
          ],
          "surface": [
           {
            "colorbar": {
             "outlinewidth": 0,
             "ticks": ""
            },
            "colorscale": [
             [
              0,
              "#0d0887"
             ],
             [
              0.1111111111111111,
              "#46039f"
             ],
             [
              0.2222222222222222,
              "#7201a8"
             ],
             [
              0.3333333333333333,
              "#9c179e"
             ],
             [
              0.4444444444444444,
              "#bd3786"
             ],
             [
              0.5555555555555556,
              "#d8576b"
             ],
             [
              0.6666666666666666,
              "#ed7953"
             ],
             [
              0.7777777777777778,
              "#fb9f3a"
             ],
             [
              0.8888888888888888,
              "#fdca26"
             ],
             [
              1,
              "#f0f921"
             ]
            ],
            "type": "surface"
           }
          ],
          "table": [
           {
            "cells": {
             "fill": {
              "color": "#EBF0F8"
             },
             "line": {
              "color": "white"
             }
            },
            "header": {
             "fill": {
              "color": "#C8D4E3"
             },
             "line": {
              "color": "white"
             }
            },
            "type": "table"
           }
          ]
         },
         "layout": {
          "annotationdefaults": {
           "arrowcolor": "#2a3f5f",
           "arrowhead": 0,
           "arrowwidth": 1
          },
          "autotypenumbers": "strict",
          "coloraxis": {
           "colorbar": {
            "outlinewidth": 0,
            "ticks": ""
           }
          },
          "colorscale": {
           "diverging": [
            [
             0,
             "#8e0152"
            ],
            [
             0.1,
             "#c51b7d"
            ],
            [
             0.2,
             "#de77ae"
            ],
            [
             0.3,
             "#f1b6da"
            ],
            [
             0.4,
             "#fde0ef"
            ],
            [
             0.5,
             "#f7f7f7"
            ],
            [
             0.6,
             "#e6f5d0"
            ],
            [
             0.7,
             "#b8e186"
            ],
            [
             0.8,
             "#7fbc41"
            ],
            [
             0.9,
             "#4d9221"
            ],
            [
             1,
             "#276419"
            ]
           ],
           "sequential": [
            [
             0,
             "#0d0887"
            ],
            [
             0.1111111111111111,
             "#46039f"
            ],
            [
             0.2222222222222222,
             "#7201a8"
            ],
            [
             0.3333333333333333,
             "#9c179e"
            ],
            [
             0.4444444444444444,
             "#bd3786"
            ],
            [
             0.5555555555555556,
             "#d8576b"
            ],
            [
             0.6666666666666666,
             "#ed7953"
            ],
            [
             0.7777777777777778,
             "#fb9f3a"
            ],
            [
             0.8888888888888888,
             "#fdca26"
            ],
            [
             1,
             "#f0f921"
            ]
           ],
           "sequentialminus": [
            [
             0,
             "#0d0887"
            ],
            [
             0.1111111111111111,
             "#46039f"
            ],
            [
             0.2222222222222222,
             "#7201a8"
            ],
            [
             0.3333333333333333,
             "#9c179e"
            ],
            [
             0.4444444444444444,
             "#bd3786"
            ],
            [
             0.5555555555555556,
             "#d8576b"
            ],
            [
             0.6666666666666666,
             "#ed7953"
            ],
            [
             0.7777777777777778,
             "#fb9f3a"
            ],
            [
             0.8888888888888888,
             "#fdca26"
            ],
            [
             1,
             "#f0f921"
            ]
           ]
          },
          "colorway": [
           "#636efa",
           "#EF553B",
           "#00cc96",
           "#ab63fa",
           "#FFA15A",
           "#19d3f3",
           "#FF6692",
           "#B6E880",
           "#FF97FF",
           "#FECB52"
          ],
          "font": {
           "color": "#2a3f5f"
          },
          "geo": {
           "bgcolor": "white",
           "lakecolor": "white",
           "landcolor": "#E5ECF6",
           "showlakes": true,
           "showland": true,
           "subunitcolor": "white"
          },
          "hoverlabel": {
           "align": "left"
          },
          "hovermode": "closest",
          "mapbox": {
           "style": "light"
          },
          "paper_bgcolor": "white",
          "plot_bgcolor": "#E5ECF6",
          "polar": {
           "angularaxis": {
            "gridcolor": "white",
            "linecolor": "white",
            "ticks": ""
           },
           "bgcolor": "#E5ECF6",
           "radialaxis": {
            "gridcolor": "white",
            "linecolor": "white",
            "ticks": ""
           }
          },
          "scene": {
           "xaxis": {
            "backgroundcolor": "#E5ECF6",
            "gridcolor": "white",
            "gridwidth": 2,
            "linecolor": "white",
            "showbackground": true,
            "ticks": "",
            "zerolinecolor": "white"
           },
           "yaxis": {
            "backgroundcolor": "#E5ECF6",
            "gridcolor": "white",
            "gridwidth": 2,
            "linecolor": "white",
            "showbackground": true,
            "ticks": "",
            "zerolinecolor": "white"
           },
           "zaxis": {
            "backgroundcolor": "#E5ECF6",
            "gridcolor": "white",
            "gridwidth": 2,
            "linecolor": "white",
            "showbackground": true,
            "ticks": "",
            "zerolinecolor": "white"
           }
          },
          "shapedefaults": {
           "line": {
            "color": "#2a3f5f"
           }
          },
          "ternary": {
           "aaxis": {
            "gridcolor": "white",
            "linecolor": "white",
            "ticks": ""
           },
           "baxis": {
            "gridcolor": "white",
            "linecolor": "white",
            "ticks": ""
           },
           "bgcolor": "#E5ECF6",
           "caxis": {
            "gridcolor": "white",
            "linecolor": "white",
            "ticks": ""
           }
          },
          "title": {
           "x": 0.05
          },
          "xaxis": {
           "automargin": true,
           "gridcolor": "white",
           "linecolor": "white",
           "ticks": "",
           "title": {
            "standoff": 15
           },
           "zerolinecolor": "white",
           "zerolinewidth": 2
          },
          "yaxis": {
           "automargin": true,
           "gridcolor": "white",
           "linecolor": "white",
           "ticks": "",
           "title": {
            "standoff": 15
           },
           "zerolinecolor": "white",
           "zerolinewidth": 2
          }
         }
        },
        "title": {
         "font": {
          "family": "Calibri",
          "size": 32
         },
         "text": "Mommit: Postings with topics associated with household chores, monthly in %"
        },
        "width": 1200,
        "xaxis": {
         "anchor": "y",
         "domain": [
          0,
          1
         ],
         "gridcolor": "lightgrey",
         "gridwidth": 0.5,
         "showgrid": true,
         "tickfont": {
          "family": "Calibri",
          "size": 24
         },
         "title": {
          "font": {
           "family": "Calibri",
           "size": 24
          },
          "text": "Date"
         }
        },
        "yaxis": {
         "anchor": "x",
         "domain": [
          0,
          1
         ],
         "gridcolor": "lightgrey",
         "gridwidth": 0.5,
         "range": [
          -5,
          80
         ],
         "showgrid": true,
         "tickfont": {
          "family": "Calibri",
          "size": 24
         },
         "title": {
          "font": {
           "family": "Calibri",
           "size": 24
          },
          "text": "Frequency in %"
         }
        }
       }
      }
     },
     "metadata": {},
     "output_type": "display_data"
    },
    {
     "data": {
      "application/vnd.plotly.v1+json": {
       "config": {
        "plotlyServerURL": "https://plot.ly"
       },
       "data": [
        {
         "hovertemplate": "date_time=%{x}<br>relative=%{y}<extra></extra>",
         "legendgroup": "",
         "line": {
          "color": "rgb(158, 158, 158)",
          "dash": "solid"
         },
         "marker": {
          "symbol": "circle"
         },
         "mode": "lines",
         "name": "",
         "orientation": "v",
         "showlegend": false,
         "type": "scatter",
         "x": [
          "2019-12-31T00:00:00",
          "2020-01-31T00:00:00",
          "2020-02-29T00:00:00",
          "2020-03-31T00:00:00",
          "2020-04-30T00:00:00",
          "2021-03-31T00:00:00",
          "2022-03-31T00:00:00"
         ],
         "xaxis": "x",
         "y": [
          16.23402292792199,
          18.241881298992162,
          18.11448656791363,
          16.729475100942125,
          15.761042262472197,
          16.74718196457327,
          21.259984385322202
         ],
         "yaxis": "y"
        },
        {
         "marker": {
          "color": "black",
          "size": 10
         },
         "mode": "lines",
         "name": "Start of pandemic",
         "showlegend": true,
         "type": "scatter",
         "x": [
          null
         ],
         "y": [
          null
         ]
        }
       ],
       "layout": {
        "height": 500,
        "legend": {
         "title": {
          "font": {
           "size": 14
          },
          "text": ""
         },
         "tracegroupgap": 0
        },
        "plot_bgcolor": "white",
        "shapes": [
         {
          "line": {
           "color": "black",
           "width": 2
          },
          "name": "Start of pandemic",
          "type": "line",
          "x0": "2020-03-11",
          "x1": "2020-03-11",
          "y0": 0,
          "y1": 2500
         }
        ],
        "template": {
         "data": {
          "bar": [
           {
            "error_x": {
             "color": "#2a3f5f"
            },
            "error_y": {
             "color": "#2a3f5f"
            },
            "marker": {
             "line": {
              "color": "#E5ECF6",
              "width": 0.5
             },
             "pattern": {
              "fillmode": "overlay",
              "size": 10,
              "solidity": 0.2
             }
            },
            "type": "bar"
           }
          ],
          "barpolar": [
           {
            "marker": {
             "line": {
              "color": "#E5ECF6",
              "width": 0.5
             },
             "pattern": {
              "fillmode": "overlay",
              "size": 10,
              "solidity": 0.2
             }
            },
            "type": "barpolar"
           }
          ],
          "carpet": [
           {
            "aaxis": {
             "endlinecolor": "#2a3f5f",
             "gridcolor": "white",
             "linecolor": "white",
             "minorgridcolor": "white",
             "startlinecolor": "#2a3f5f"
            },
            "baxis": {
             "endlinecolor": "#2a3f5f",
             "gridcolor": "white",
             "linecolor": "white",
             "minorgridcolor": "white",
             "startlinecolor": "#2a3f5f"
            },
            "type": "carpet"
           }
          ],
          "choropleth": [
           {
            "colorbar": {
             "outlinewidth": 0,
             "ticks": ""
            },
            "type": "choropleth"
           }
          ],
          "contour": [
           {
            "colorbar": {
             "outlinewidth": 0,
             "ticks": ""
            },
            "colorscale": [
             [
              0,
              "#0d0887"
             ],
             [
              0.1111111111111111,
              "#46039f"
             ],
             [
              0.2222222222222222,
              "#7201a8"
             ],
             [
              0.3333333333333333,
              "#9c179e"
             ],
             [
              0.4444444444444444,
              "#bd3786"
             ],
             [
              0.5555555555555556,
              "#d8576b"
             ],
             [
              0.6666666666666666,
              "#ed7953"
             ],
             [
              0.7777777777777778,
              "#fb9f3a"
             ],
             [
              0.8888888888888888,
              "#fdca26"
             ],
             [
              1,
              "#f0f921"
             ]
            ],
            "type": "contour"
           }
          ],
          "contourcarpet": [
           {
            "colorbar": {
             "outlinewidth": 0,
             "ticks": ""
            },
            "type": "contourcarpet"
           }
          ],
          "heatmap": [
           {
            "colorbar": {
             "outlinewidth": 0,
             "ticks": ""
            },
            "colorscale": [
             [
              0,
              "#0d0887"
             ],
             [
              0.1111111111111111,
              "#46039f"
             ],
             [
              0.2222222222222222,
              "#7201a8"
             ],
             [
              0.3333333333333333,
              "#9c179e"
             ],
             [
              0.4444444444444444,
              "#bd3786"
             ],
             [
              0.5555555555555556,
              "#d8576b"
             ],
             [
              0.6666666666666666,
              "#ed7953"
             ],
             [
              0.7777777777777778,
              "#fb9f3a"
             ],
             [
              0.8888888888888888,
              "#fdca26"
             ],
             [
              1,
              "#f0f921"
             ]
            ],
            "type": "heatmap"
           }
          ],
          "heatmapgl": [
           {
            "colorbar": {
             "outlinewidth": 0,
             "ticks": ""
            },
            "colorscale": [
             [
              0,
              "#0d0887"
             ],
             [
              0.1111111111111111,
              "#46039f"
             ],
             [
              0.2222222222222222,
              "#7201a8"
             ],
             [
              0.3333333333333333,
              "#9c179e"
             ],
             [
              0.4444444444444444,
              "#bd3786"
             ],
             [
              0.5555555555555556,
              "#d8576b"
             ],
             [
              0.6666666666666666,
              "#ed7953"
             ],
             [
              0.7777777777777778,
              "#fb9f3a"
             ],
             [
              0.8888888888888888,
              "#fdca26"
             ],
             [
              1,
              "#f0f921"
             ]
            ],
            "type": "heatmapgl"
           }
          ],
          "histogram": [
           {
            "marker": {
             "pattern": {
              "fillmode": "overlay",
              "size": 10,
              "solidity": 0.2
             }
            },
            "type": "histogram"
           }
          ],
          "histogram2d": [
           {
            "colorbar": {
             "outlinewidth": 0,
             "ticks": ""
            },
            "colorscale": [
             [
              0,
              "#0d0887"
             ],
             [
              0.1111111111111111,
              "#46039f"
             ],
             [
              0.2222222222222222,
              "#7201a8"
             ],
             [
              0.3333333333333333,
              "#9c179e"
             ],
             [
              0.4444444444444444,
              "#bd3786"
             ],
             [
              0.5555555555555556,
              "#d8576b"
             ],
             [
              0.6666666666666666,
              "#ed7953"
             ],
             [
              0.7777777777777778,
              "#fb9f3a"
             ],
             [
              0.8888888888888888,
              "#fdca26"
             ],
             [
              1,
              "#f0f921"
             ]
            ],
            "type": "histogram2d"
           }
          ],
          "histogram2dcontour": [
           {
            "colorbar": {
             "outlinewidth": 0,
             "ticks": ""
            },
            "colorscale": [
             [
              0,
              "#0d0887"
             ],
             [
              0.1111111111111111,
              "#46039f"
             ],
             [
              0.2222222222222222,
              "#7201a8"
             ],
             [
              0.3333333333333333,
              "#9c179e"
             ],
             [
              0.4444444444444444,
              "#bd3786"
             ],
             [
              0.5555555555555556,
              "#d8576b"
             ],
             [
              0.6666666666666666,
              "#ed7953"
             ],
             [
              0.7777777777777778,
              "#fb9f3a"
             ],
             [
              0.8888888888888888,
              "#fdca26"
             ],
             [
              1,
              "#f0f921"
             ]
            ],
            "type": "histogram2dcontour"
           }
          ],
          "mesh3d": [
           {
            "colorbar": {
             "outlinewidth": 0,
             "ticks": ""
            },
            "type": "mesh3d"
           }
          ],
          "parcoords": [
           {
            "line": {
             "colorbar": {
              "outlinewidth": 0,
              "ticks": ""
             }
            },
            "type": "parcoords"
           }
          ],
          "pie": [
           {
            "automargin": true,
            "type": "pie"
           }
          ],
          "scatter": [
           {
            "fillpattern": {
             "fillmode": "overlay",
             "size": 10,
             "solidity": 0.2
            },
            "type": "scatter"
           }
          ],
          "scatter3d": [
           {
            "line": {
             "colorbar": {
              "outlinewidth": 0,
              "ticks": ""
             }
            },
            "marker": {
             "colorbar": {
              "outlinewidth": 0,
              "ticks": ""
             }
            },
            "type": "scatter3d"
           }
          ],
          "scattercarpet": [
           {
            "marker": {
             "colorbar": {
              "outlinewidth": 0,
              "ticks": ""
             }
            },
            "type": "scattercarpet"
           }
          ],
          "scattergeo": [
           {
            "marker": {
             "colorbar": {
              "outlinewidth": 0,
              "ticks": ""
             }
            },
            "type": "scattergeo"
           }
          ],
          "scattergl": [
           {
            "marker": {
             "colorbar": {
              "outlinewidth": 0,
              "ticks": ""
             }
            },
            "type": "scattergl"
           }
          ],
          "scattermapbox": [
           {
            "marker": {
             "colorbar": {
              "outlinewidth": 0,
              "ticks": ""
             }
            },
            "type": "scattermapbox"
           }
          ],
          "scatterpolar": [
           {
            "marker": {
             "colorbar": {
              "outlinewidth": 0,
              "ticks": ""
             }
            },
            "type": "scatterpolar"
           }
          ],
          "scatterpolargl": [
           {
            "marker": {
             "colorbar": {
              "outlinewidth": 0,
              "ticks": ""
             }
            },
            "type": "scatterpolargl"
           }
          ],
          "scatterternary": [
           {
            "marker": {
             "colorbar": {
              "outlinewidth": 0,
              "ticks": ""
             }
            },
            "type": "scatterternary"
           }
          ],
          "surface": [
           {
            "colorbar": {
             "outlinewidth": 0,
             "ticks": ""
            },
            "colorscale": [
             [
              0,
              "#0d0887"
             ],
             [
              0.1111111111111111,
              "#46039f"
             ],
             [
              0.2222222222222222,
              "#7201a8"
             ],
             [
              0.3333333333333333,
              "#9c179e"
             ],
             [
              0.4444444444444444,
              "#bd3786"
             ],
             [
              0.5555555555555556,
              "#d8576b"
             ],
             [
              0.6666666666666666,
              "#ed7953"
             ],
             [
              0.7777777777777778,
              "#fb9f3a"
             ],
             [
              0.8888888888888888,
              "#fdca26"
             ],
             [
              1,
              "#f0f921"
             ]
            ],
            "type": "surface"
           }
          ],
          "table": [
           {
            "cells": {
             "fill": {
              "color": "#EBF0F8"
             },
             "line": {
              "color": "white"
             }
            },
            "header": {
             "fill": {
              "color": "#C8D4E3"
             },
             "line": {
              "color": "white"
             }
            },
            "type": "table"
           }
          ]
         },
         "layout": {
          "annotationdefaults": {
           "arrowcolor": "#2a3f5f",
           "arrowhead": 0,
           "arrowwidth": 1
          },
          "autotypenumbers": "strict",
          "coloraxis": {
           "colorbar": {
            "outlinewidth": 0,
            "ticks": ""
           }
          },
          "colorscale": {
           "diverging": [
            [
             0,
             "#8e0152"
            ],
            [
             0.1,
             "#c51b7d"
            ],
            [
             0.2,
             "#de77ae"
            ],
            [
             0.3,
             "#f1b6da"
            ],
            [
             0.4,
             "#fde0ef"
            ],
            [
             0.5,
             "#f7f7f7"
            ],
            [
             0.6,
             "#e6f5d0"
            ],
            [
             0.7,
             "#b8e186"
            ],
            [
             0.8,
             "#7fbc41"
            ],
            [
             0.9,
             "#4d9221"
            ],
            [
             1,
             "#276419"
            ]
           ],
           "sequential": [
            [
             0,
             "#0d0887"
            ],
            [
             0.1111111111111111,
             "#46039f"
            ],
            [
             0.2222222222222222,
             "#7201a8"
            ],
            [
             0.3333333333333333,
             "#9c179e"
            ],
            [
             0.4444444444444444,
             "#bd3786"
            ],
            [
             0.5555555555555556,
             "#d8576b"
            ],
            [
             0.6666666666666666,
             "#ed7953"
            ],
            [
             0.7777777777777778,
             "#fb9f3a"
            ],
            [
             0.8888888888888888,
             "#fdca26"
            ],
            [
             1,
             "#f0f921"
            ]
           ],
           "sequentialminus": [
            [
             0,
             "#0d0887"
            ],
            [
             0.1111111111111111,
             "#46039f"
            ],
            [
             0.2222222222222222,
             "#7201a8"
            ],
            [
             0.3333333333333333,
             "#9c179e"
            ],
            [
             0.4444444444444444,
             "#bd3786"
            ],
            [
             0.5555555555555556,
             "#d8576b"
            ],
            [
             0.6666666666666666,
             "#ed7953"
            ],
            [
             0.7777777777777778,
             "#fb9f3a"
            ],
            [
             0.8888888888888888,
             "#fdca26"
            ],
            [
             1,
             "#f0f921"
            ]
           ]
          },
          "colorway": [
           "#636efa",
           "#EF553B",
           "#00cc96",
           "#ab63fa",
           "#FFA15A",
           "#19d3f3",
           "#FF6692",
           "#B6E880",
           "#FF97FF",
           "#FECB52"
          ],
          "font": {
           "color": "#2a3f5f"
          },
          "geo": {
           "bgcolor": "white",
           "lakecolor": "white",
           "landcolor": "#E5ECF6",
           "showlakes": true,
           "showland": true,
           "subunitcolor": "white"
          },
          "hoverlabel": {
           "align": "left"
          },
          "hovermode": "closest",
          "mapbox": {
           "style": "light"
          },
          "paper_bgcolor": "white",
          "plot_bgcolor": "#E5ECF6",
          "polar": {
           "angularaxis": {
            "gridcolor": "white",
            "linecolor": "white",
            "ticks": ""
           },
           "bgcolor": "#E5ECF6",
           "radialaxis": {
            "gridcolor": "white",
            "linecolor": "white",
            "ticks": ""
           }
          },
          "scene": {
           "xaxis": {
            "backgroundcolor": "#E5ECF6",
            "gridcolor": "white",
            "gridwidth": 2,
            "linecolor": "white",
            "showbackground": true,
            "ticks": "",
            "zerolinecolor": "white"
           },
           "yaxis": {
            "backgroundcolor": "#E5ECF6",
            "gridcolor": "white",
            "gridwidth": 2,
            "linecolor": "white",
            "showbackground": true,
            "ticks": "",
            "zerolinecolor": "white"
           },
           "zaxis": {
            "backgroundcolor": "#E5ECF6",
            "gridcolor": "white",
            "gridwidth": 2,
            "linecolor": "white",
            "showbackground": true,
            "ticks": "",
            "zerolinecolor": "white"
           }
          },
          "shapedefaults": {
           "line": {
            "color": "#2a3f5f"
           }
          },
          "ternary": {
           "aaxis": {
            "gridcolor": "white",
            "linecolor": "white",
            "ticks": ""
           },
           "baxis": {
            "gridcolor": "white",
            "linecolor": "white",
            "ticks": ""
           },
           "bgcolor": "#E5ECF6",
           "caxis": {
            "gridcolor": "white",
            "linecolor": "white",
            "ticks": ""
           }
          },
          "title": {
           "x": 0.05
          },
          "xaxis": {
           "automargin": true,
           "gridcolor": "white",
           "linecolor": "white",
           "ticks": "",
           "title": {
            "standoff": 15
           },
           "zerolinecolor": "white",
           "zerolinewidth": 2
          },
          "yaxis": {
           "automargin": true,
           "gridcolor": "white",
           "linecolor": "white",
           "ticks": "",
           "title": {
            "standoff": 15
           },
           "zerolinecolor": "white",
           "zerolinewidth": 2
          }
         }
        },
        "title": {
         "font": {
          "family": "Calibri",
          "size": 32
         },
         "text": "Daddit: Postings with topics associated with household chores, monthly in %"
        },
        "width": 1200,
        "xaxis": {
         "anchor": "y",
         "domain": [
          0,
          1
         ],
         "gridcolor": "lightgrey",
         "gridwidth": 0.5,
         "showgrid": true,
         "tickfont": {
          "family": "Calibri",
          "size": 24
         },
         "title": {
          "font": {
           "family": "Calibri",
           "size": 24
          },
          "text": "Date"
         }
        },
        "yaxis": {
         "anchor": "x",
         "domain": [
          0,
          1
         ],
         "gridcolor": "lightgrey",
         "gridwidth": 0.5,
         "range": [
          -5,
          80
         ],
         "showgrid": true,
         "tickfont": {
          "family": "Calibri",
          "size": 24
         },
         "title": {
          "font": {
           "family": "Calibri",
           "size": 24
          },
          "text": "Frequency in %"
         }
        }
       }
      }
     },
     "metadata": {},
     "output_type": "display_data"
    },
    {
     "data": {
      "application/vnd.plotly.v1+json": {
       "config": {
        "plotlyServerURL": "https://plot.ly"
       },
       "data": [
        {
         "hovertemplate": "date_time=%{x}<br>relative=%{y}<extra></extra>",
         "legendgroup": "",
         "line": {
          "color": "rgb(158, 158, 158)",
          "dash": "solid"
         },
         "marker": {
          "symbol": "circle"
         },
         "mode": "lines",
         "name": "",
         "orientation": "v",
         "showlegend": false,
         "type": "scatter",
         "x": [
          "2019-12-01T00:00:00",
          "2019-12-08T00:00:00",
          "2019-12-15T00:00:00",
          "2019-12-22T00:00:00",
          "2019-12-29T00:00:00",
          "2020-01-05T00:00:00",
          "2020-01-12T00:00:00",
          "2020-01-19T00:00:00",
          "2020-01-26T00:00:00",
          "2020-02-02T00:00:00",
          "2020-02-09T00:00:00",
          "2020-02-16T00:00:00",
          "2020-02-23T00:00:00",
          "2020-03-01T00:00:00",
          "2020-03-08T00:00:00",
          "2020-03-15T00:00:00",
          "2020-03-22T00:00:00",
          "2020-03-29T00:00:00",
          "2020-04-05T00:00:00",
          "2020-04-12T00:00:00",
          "2020-04-19T00:00:00",
          "2020-04-26T00:00:00",
          "2020-05-03T00:00:00",
          "2021-03-07T00:00:00",
          "2021-03-14T00:00:00",
          "2021-03-21T00:00:00",
          "2021-03-28T00:00:00",
          "2021-04-04T00:00:00",
          "2022-03-06T00:00:00",
          "2022-03-13T00:00:00",
          "2022-03-20T00:00:00",
          "2022-03-27T00:00:00",
          "2022-04-03T00:00:00"
         ],
         "xaxis": "x",
         "y": [
          38.01652892561984,
          29.71078001752848,
          32.11169284467714,
          36.53846153846153,
          37.2960372960373,
          33.56164383561644,
          37.0242214532872,
          37.91887125220458,
          29.308836395450566,
          31.73996175908222,
          31.187290969899667,
          29.160636758321274,
          31.855136733185514,
          30.20086083213773,
          42.72727272727273,
          40.57193923145665,
          37.31617647058824,
          38.28197945845005,
          36.023622047244096,
          24.903846153846153,
          39.55461293743372,
          34.49554896142433,
          34.0486409155937,
          28.031687995124926,
          28.385416666666668,
          38.55507868383405,
          25.76985413290113,
          23.660714285714285,
          27.862884877900807,
          33.652889572216694,
          33.42996919731836,
          27.77586503701153,
          27.933694403413757
         ],
         "yaxis": "y"
        },
        {
         "marker": {
          "color": "black",
          "size": 10
         },
         "mode": "lines",
         "name": "Start of pandemic",
         "showlegend": true,
         "type": "scatter",
         "x": [
          null
         ],
         "y": [
          null
         ]
        }
       ],
       "layout": {
        "height": 500,
        "legend": {
         "title": {
          "font": {
           "size": 14
          },
          "text": ""
         },
         "tracegroupgap": 0
        },
        "plot_bgcolor": "white",
        "shapes": [
         {
          "line": {
           "color": "black",
           "width": 2
          },
          "name": "Start of pandemic",
          "type": "line",
          "x0": "2020-03-11",
          "x1": "2020-03-11",
          "y0": 0,
          "y1": 2500
         }
        ],
        "template": {
         "data": {
          "bar": [
           {
            "error_x": {
             "color": "#2a3f5f"
            },
            "error_y": {
             "color": "#2a3f5f"
            },
            "marker": {
             "line": {
              "color": "#E5ECF6",
              "width": 0.5
             },
             "pattern": {
              "fillmode": "overlay",
              "size": 10,
              "solidity": 0.2
             }
            },
            "type": "bar"
           }
          ],
          "barpolar": [
           {
            "marker": {
             "line": {
              "color": "#E5ECF6",
              "width": 0.5
             },
             "pattern": {
              "fillmode": "overlay",
              "size": 10,
              "solidity": 0.2
             }
            },
            "type": "barpolar"
           }
          ],
          "carpet": [
           {
            "aaxis": {
             "endlinecolor": "#2a3f5f",
             "gridcolor": "white",
             "linecolor": "white",
             "minorgridcolor": "white",
             "startlinecolor": "#2a3f5f"
            },
            "baxis": {
             "endlinecolor": "#2a3f5f",
             "gridcolor": "white",
             "linecolor": "white",
             "minorgridcolor": "white",
             "startlinecolor": "#2a3f5f"
            },
            "type": "carpet"
           }
          ],
          "choropleth": [
           {
            "colorbar": {
             "outlinewidth": 0,
             "ticks": ""
            },
            "type": "choropleth"
           }
          ],
          "contour": [
           {
            "colorbar": {
             "outlinewidth": 0,
             "ticks": ""
            },
            "colorscale": [
             [
              0,
              "#0d0887"
             ],
             [
              0.1111111111111111,
              "#46039f"
             ],
             [
              0.2222222222222222,
              "#7201a8"
             ],
             [
              0.3333333333333333,
              "#9c179e"
             ],
             [
              0.4444444444444444,
              "#bd3786"
             ],
             [
              0.5555555555555556,
              "#d8576b"
             ],
             [
              0.6666666666666666,
              "#ed7953"
             ],
             [
              0.7777777777777778,
              "#fb9f3a"
             ],
             [
              0.8888888888888888,
              "#fdca26"
             ],
             [
              1,
              "#f0f921"
             ]
            ],
            "type": "contour"
           }
          ],
          "contourcarpet": [
           {
            "colorbar": {
             "outlinewidth": 0,
             "ticks": ""
            },
            "type": "contourcarpet"
           }
          ],
          "heatmap": [
           {
            "colorbar": {
             "outlinewidth": 0,
             "ticks": ""
            },
            "colorscale": [
             [
              0,
              "#0d0887"
             ],
             [
              0.1111111111111111,
              "#46039f"
             ],
             [
              0.2222222222222222,
              "#7201a8"
             ],
             [
              0.3333333333333333,
              "#9c179e"
             ],
             [
              0.4444444444444444,
              "#bd3786"
             ],
             [
              0.5555555555555556,
              "#d8576b"
             ],
             [
              0.6666666666666666,
              "#ed7953"
             ],
             [
              0.7777777777777778,
              "#fb9f3a"
             ],
             [
              0.8888888888888888,
              "#fdca26"
             ],
             [
              1,
              "#f0f921"
             ]
            ],
            "type": "heatmap"
           }
          ],
          "heatmapgl": [
           {
            "colorbar": {
             "outlinewidth": 0,
             "ticks": ""
            },
            "colorscale": [
             [
              0,
              "#0d0887"
             ],
             [
              0.1111111111111111,
              "#46039f"
             ],
             [
              0.2222222222222222,
              "#7201a8"
             ],
             [
              0.3333333333333333,
              "#9c179e"
             ],
             [
              0.4444444444444444,
              "#bd3786"
             ],
             [
              0.5555555555555556,
              "#d8576b"
             ],
             [
              0.6666666666666666,
              "#ed7953"
             ],
             [
              0.7777777777777778,
              "#fb9f3a"
             ],
             [
              0.8888888888888888,
              "#fdca26"
             ],
             [
              1,
              "#f0f921"
             ]
            ],
            "type": "heatmapgl"
           }
          ],
          "histogram": [
           {
            "marker": {
             "pattern": {
              "fillmode": "overlay",
              "size": 10,
              "solidity": 0.2
             }
            },
            "type": "histogram"
           }
          ],
          "histogram2d": [
           {
            "colorbar": {
             "outlinewidth": 0,
             "ticks": ""
            },
            "colorscale": [
             [
              0,
              "#0d0887"
             ],
             [
              0.1111111111111111,
              "#46039f"
             ],
             [
              0.2222222222222222,
              "#7201a8"
             ],
             [
              0.3333333333333333,
              "#9c179e"
             ],
             [
              0.4444444444444444,
              "#bd3786"
             ],
             [
              0.5555555555555556,
              "#d8576b"
             ],
             [
              0.6666666666666666,
              "#ed7953"
             ],
             [
              0.7777777777777778,
              "#fb9f3a"
             ],
             [
              0.8888888888888888,
              "#fdca26"
             ],
             [
              1,
              "#f0f921"
             ]
            ],
            "type": "histogram2d"
           }
          ],
          "histogram2dcontour": [
           {
            "colorbar": {
             "outlinewidth": 0,
             "ticks": ""
            },
            "colorscale": [
             [
              0,
              "#0d0887"
             ],
             [
              0.1111111111111111,
              "#46039f"
             ],
             [
              0.2222222222222222,
              "#7201a8"
             ],
             [
              0.3333333333333333,
              "#9c179e"
             ],
             [
              0.4444444444444444,
              "#bd3786"
             ],
             [
              0.5555555555555556,
              "#d8576b"
             ],
             [
              0.6666666666666666,
              "#ed7953"
             ],
             [
              0.7777777777777778,
              "#fb9f3a"
             ],
             [
              0.8888888888888888,
              "#fdca26"
             ],
             [
              1,
              "#f0f921"
             ]
            ],
            "type": "histogram2dcontour"
           }
          ],
          "mesh3d": [
           {
            "colorbar": {
             "outlinewidth": 0,
             "ticks": ""
            },
            "type": "mesh3d"
           }
          ],
          "parcoords": [
           {
            "line": {
             "colorbar": {
              "outlinewidth": 0,
              "ticks": ""
             }
            },
            "type": "parcoords"
           }
          ],
          "pie": [
           {
            "automargin": true,
            "type": "pie"
           }
          ],
          "scatter": [
           {
            "fillpattern": {
             "fillmode": "overlay",
             "size": 10,
             "solidity": 0.2
            },
            "type": "scatter"
           }
          ],
          "scatter3d": [
           {
            "line": {
             "colorbar": {
              "outlinewidth": 0,
              "ticks": ""
             }
            },
            "marker": {
             "colorbar": {
              "outlinewidth": 0,
              "ticks": ""
             }
            },
            "type": "scatter3d"
           }
          ],
          "scattercarpet": [
           {
            "marker": {
             "colorbar": {
              "outlinewidth": 0,
              "ticks": ""
             }
            },
            "type": "scattercarpet"
           }
          ],
          "scattergeo": [
           {
            "marker": {
             "colorbar": {
              "outlinewidth": 0,
              "ticks": ""
             }
            },
            "type": "scattergeo"
           }
          ],
          "scattergl": [
           {
            "marker": {
             "colorbar": {
              "outlinewidth": 0,
              "ticks": ""
             }
            },
            "type": "scattergl"
           }
          ],
          "scattermapbox": [
           {
            "marker": {
             "colorbar": {
              "outlinewidth": 0,
              "ticks": ""
             }
            },
            "type": "scattermapbox"
           }
          ],
          "scatterpolar": [
           {
            "marker": {
             "colorbar": {
              "outlinewidth": 0,
              "ticks": ""
             }
            },
            "type": "scatterpolar"
           }
          ],
          "scatterpolargl": [
           {
            "marker": {
             "colorbar": {
              "outlinewidth": 0,
              "ticks": ""
             }
            },
            "type": "scatterpolargl"
           }
          ],
          "scatterternary": [
           {
            "marker": {
             "colorbar": {
              "outlinewidth": 0,
              "ticks": ""
             }
            },
            "type": "scatterternary"
           }
          ],
          "surface": [
           {
            "colorbar": {
             "outlinewidth": 0,
             "ticks": ""
            },
            "colorscale": [
             [
              0,
              "#0d0887"
             ],
             [
              0.1111111111111111,
              "#46039f"
             ],
             [
              0.2222222222222222,
              "#7201a8"
             ],
             [
              0.3333333333333333,
              "#9c179e"
             ],
             [
              0.4444444444444444,
              "#bd3786"
             ],
             [
              0.5555555555555556,
              "#d8576b"
             ],
             [
              0.6666666666666666,
              "#ed7953"
             ],
             [
              0.7777777777777778,
              "#fb9f3a"
             ],
             [
              0.8888888888888888,
              "#fdca26"
             ],
             [
              1,
              "#f0f921"
             ]
            ],
            "type": "surface"
           }
          ],
          "table": [
           {
            "cells": {
             "fill": {
              "color": "#EBF0F8"
             },
             "line": {
              "color": "white"
             }
            },
            "header": {
             "fill": {
              "color": "#C8D4E3"
             },
             "line": {
              "color": "white"
             }
            },
            "type": "table"
           }
          ]
         },
         "layout": {
          "annotationdefaults": {
           "arrowcolor": "#2a3f5f",
           "arrowhead": 0,
           "arrowwidth": 1
          },
          "autotypenumbers": "strict",
          "coloraxis": {
           "colorbar": {
            "outlinewidth": 0,
            "ticks": ""
           }
          },
          "colorscale": {
           "diverging": [
            [
             0,
             "#8e0152"
            ],
            [
             0.1,
             "#c51b7d"
            ],
            [
             0.2,
             "#de77ae"
            ],
            [
             0.3,
             "#f1b6da"
            ],
            [
             0.4,
             "#fde0ef"
            ],
            [
             0.5,
             "#f7f7f7"
            ],
            [
             0.6,
             "#e6f5d0"
            ],
            [
             0.7,
             "#b8e186"
            ],
            [
             0.8,
             "#7fbc41"
            ],
            [
             0.9,
             "#4d9221"
            ],
            [
             1,
             "#276419"
            ]
           ],
           "sequential": [
            [
             0,
             "#0d0887"
            ],
            [
             0.1111111111111111,
             "#46039f"
            ],
            [
             0.2222222222222222,
             "#7201a8"
            ],
            [
             0.3333333333333333,
             "#9c179e"
            ],
            [
             0.4444444444444444,
             "#bd3786"
            ],
            [
             0.5555555555555556,
             "#d8576b"
            ],
            [
             0.6666666666666666,
             "#ed7953"
            ],
            [
             0.7777777777777778,
             "#fb9f3a"
            ],
            [
             0.8888888888888888,
             "#fdca26"
            ],
            [
             1,
             "#f0f921"
            ]
           ],
           "sequentialminus": [
            [
             0,
             "#0d0887"
            ],
            [
             0.1111111111111111,
             "#46039f"
            ],
            [
             0.2222222222222222,
             "#7201a8"
            ],
            [
             0.3333333333333333,
             "#9c179e"
            ],
            [
             0.4444444444444444,
             "#bd3786"
            ],
            [
             0.5555555555555556,
             "#d8576b"
            ],
            [
             0.6666666666666666,
             "#ed7953"
            ],
            [
             0.7777777777777778,
             "#fb9f3a"
            ],
            [
             0.8888888888888888,
             "#fdca26"
            ],
            [
             1,
             "#f0f921"
            ]
           ]
          },
          "colorway": [
           "#636efa",
           "#EF553B",
           "#00cc96",
           "#ab63fa",
           "#FFA15A",
           "#19d3f3",
           "#FF6692",
           "#B6E880",
           "#FF97FF",
           "#FECB52"
          ],
          "font": {
           "color": "#2a3f5f"
          },
          "geo": {
           "bgcolor": "white",
           "lakecolor": "white",
           "landcolor": "#E5ECF6",
           "showlakes": true,
           "showland": true,
           "subunitcolor": "white"
          },
          "hoverlabel": {
           "align": "left"
          },
          "hovermode": "closest",
          "mapbox": {
           "style": "light"
          },
          "paper_bgcolor": "white",
          "plot_bgcolor": "#E5ECF6",
          "polar": {
           "angularaxis": {
            "gridcolor": "white",
            "linecolor": "white",
            "ticks": ""
           },
           "bgcolor": "#E5ECF6",
           "radialaxis": {
            "gridcolor": "white",
            "linecolor": "white",
            "ticks": ""
           }
          },
          "scene": {
           "xaxis": {
            "backgroundcolor": "#E5ECF6",
            "gridcolor": "white",
            "gridwidth": 2,
            "linecolor": "white",
            "showbackground": true,
            "ticks": "",
            "zerolinecolor": "white"
           },
           "yaxis": {
            "backgroundcolor": "#E5ECF6",
            "gridcolor": "white",
            "gridwidth": 2,
            "linecolor": "white",
            "showbackground": true,
            "ticks": "",
            "zerolinecolor": "white"
           },
           "zaxis": {
            "backgroundcolor": "#E5ECF6",
            "gridcolor": "white",
            "gridwidth": 2,
            "linecolor": "white",
            "showbackground": true,
            "ticks": "",
            "zerolinecolor": "white"
           }
          },
          "shapedefaults": {
           "line": {
            "color": "#2a3f5f"
           }
          },
          "ternary": {
           "aaxis": {
            "gridcolor": "white",
            "linecolor": "white",
            "ticks": ""
           },
           "baxis": {
            "gridcolor": "white",
            "linecolor": "white",
            "ticks": ""
           },
           "bgcolor": "#E5ECF6",
           "caxis": {
            "gridcolor": "white",
            "linecolor": "white",
            "ticks": ""
           }
          },
          "title": {
           "x": 0.05
          },
          "xaxis": {
           "automargin": true,
           "gridcolor": "white",
           "linecolor": "white",
           "ticks": "",
           "title": {
            "standoff": 15
           },
           "zerolinecolor": "white",
           "zerolinewidth": 2
          },
          "yaxis": {
           "automargin": true,
           "gridcolor": "white",
           "linecolor": "white",
           "ticks": "",
           "title": {
            "standoff": 15
           },
           "zerolinecolor": "white",
           "zerolinewidth": 2
          }
         }
        },
        "title": {
         "font": {
          "family": "Calibri",
          "size": 32
         },
         "text": "Mommit: Postings with topics associated with household chores, weekly in %"
        },
        "width": 1200,
        "xaxis": {
         "anchor": "y",
         "domain": [
          0,
          1
         ],
         "gridcolor": "lightgrey",
         "gridwidth": 0.5,
         "showgrid": true,
         "tickfont": {
          "family": "Calibri",
          "size": 24
         },
         "title": {
          "font": {
           "family": "Calibri",
           "size": 24
          },
          "text": "Date"
         }
        },
        "yaxis": {
         "anchor": "x",
         "domain": [
          0,
          1
         ],
         "gridcolor": "lightgrey",
         "gridwidth": 0.5,
         "range": [
          -5,
          80
         ],
         "showgrid": true,
         "tickfont": {
          "family": "Calibri",
          "size": 24
         },
         "title": {
          "font": {
           "family": "Calibri",
           "size": 24
          },
          "text": "Frequency in %"
         }
        }
       }
      }
     },
     "metadata": {},
     "output_type": "display_data"
    },
    {
     "data": {
      "application/vnd.plotly.v1+json": {
       "config": {
        "plotlyServerURL": "https://plot.ly"
       },
       "data": [
        {
         "hovertemplate": "date_time=%{x}<br>relative=%{y}<extra></extra>",
         "legendgroup": "",
         "line": {
          "color": "rgb(158, 158, 158)",
          "dash": "solid"
         },
         "marker": {
          "symbol": "circle"
         },
         "mode": "lines",
         "name": "",
         "orientation": "v",
         "showlegend": false,
         "type": "scatter",
         "x": [
          "2019-12-01T00:00:00",
          "2019-12-08T00:00:00",
          "2019-12-15T00:00:00",
          "2019-12-22T00:00:00",
          "2019-12-29T00:00:00",
          "2020-01-05T00:00:00",
          "2020-01-12T00:00:00",
          "2020-01-19T00:00:00",
          "2020-01-26T00:00:00",
          "2020-02-02T00:00:00",
          "2020-02-09T00:00:00",
          "2020-02-16T00:00:00",
          "2020-02-23T00:00:00",
          "2020-03-01T00:00:00",
          "2020-03-08T00:00:00",
          "2020-03-15T00:00:00",
          "2020-03-22T00:00:00",
          "2020-03-29T00:00:00",
          "2020-04-05T00:00:00",
          "2020-04-12T00:00:00",
          "2020-04-19T00:00:00",
          "2020-04-26T00:00:00",
          "2020-05-03T00:00:00",
          "2021-03-07T00:00:00",
          "2021-03-14T00:00:00",
          "2021-03-21T00:00:00",
          "2021-03-28T00:00:00",
          "2021-04-04T00:00:00",
          "2022-03-06T00:00:00",
          "2022-03-13T00:00:00",
          "2022-03-20T00:00:00",
          "2022-03-27T00:00:00",
          "2022-04-03T00:00:00"
         ],
         "xaxis": "x",
         "y": [
          24.46043165467626,
          18.51851851851852,
          16.463022508038584,
          20.17195767195767,
          10.59001512859304,
          19.24705882352941,
          17.7756192326372,
          15.92391304347826,
          17.44613767735155,
          19.884448724121327,
          18.09338521400778,
          18.59185918591859,
          16.899302093718845,
          18.580144204104272,
          15.83732057416268,
          15.413771320277952,
          16.676384839650147,
          19.079837618403246,
          16.57142857142857,
          16.06648199445983,
          16.62087912087912,
          15.246376811594203,
          14.596670934699105,
          19.521178637200737,
          13.468634686346864,
          17.555555555555554,
          15.745692216280451,
          18.207282913165265,
          13.956572186308636,
          25.734886300610093,
          21.13881652400447,
          24.685230024213077,
          17.103854389721626
         ],
         "yaxis": "y"
        },
        {
         "marker": {
          "color": "black",
          "size": 10
         },
         "mode": "lines",
         "name": "Start of pandemic",
         "showlegend": true,
         "type": "scatter",
         "x": [
          null
         ],
         "y": [
          null
         ]
        }
       ],
       "layout": {
        "height": 500,
        "legend": {
         "title": {
          "font": {
           "size": 14
          },
          "text": ""
         },
         "tracegroupgap": 0
        },
        "plot_bgcolor": "white",
        "shapes": [
         {
          "line": {
           "color": "black",
           "width": 2
          },
          "name": "Start of pandemic",
          "type": "line",
          "x0": "2020-03-11",
          "x1": "2020-03-11",
          "y0": 0,
          "y1": 2500
         }
        ],
        "template": {
         "data": {
          "bar": [
           {
            "error_x": {
             "color": "#2a3f5f"
            },
            "error_y": {
             "color": "#2a3f5f"
            },
            "marker": {
             "line": {
              "color": "#E5ECF6",
              "width": 0.5
             },
             "pattern": {
              "fillmode": "overlay",
              "size": 10,
              "solidity": 0.2
             }
            },
            "type": "bar"
           }
          ],
          "barpolar": [
           {
            "marker": {
             "line": {
              "color": "#E5ECF6",
              "width": 0.5
             },
             "pattern": {
              "fillmode": "overlay",
              "size": 10,
              "solidity": 0.2
             }
            },
            "type": "barpolar"
           }
          ],
          "carpet": [
           {
            "aaxis": {
             "endlinecolor": "#2a3f5f",
             "gridcolor": "white",
             "linecolor": "white",
             "minorgridcolor": "white",
             "startlinecolor": "#2a3f5f"
            },
            "baxis": {
             "endlinecolor": "#2a3f5f",
             "gridcolor": "white",
             "linecolor": "white",
             "minorgridcolor": "white",
             "startlinecolor": "#2a3f5f"
            },
            "type": "carpet"
           }
          ],
          "choropleth": [
           {
            "colorbar": {
             "outlinewidth": 0,
             "ticks": ""
            },
            "type": "choropleth"
           }
          ],
          "contour": [
           {
            "colorbar": {
             "outlinewidth": 0,
             "ticks": ""
            },
            "colorscale": [
             [
              0,
              "#0d0887"
             ],
             [
              0.1111111111111111,
              "#46039f"
             ],
             [
              0.2222222222222222,
              "#7201a8"
             ],
             [
              0.3333333333333333,
              "#9c179e"
             ],
             [
              0.4444444444444444,
              "#bd3786"
             ],
             [
              0.5555555555555556,
              "#d8576b"
             ],
             [
              0.6666666666666666,
              "#ed7953"
             ],
             [
              0.7777777777777778,
              "#fb9f3a"
             ],
             [
              0.8888888888888888,
              "#fdca26"
             ],
             [
              1,
              "#f0f921"
             ]
            ],
            "type": "contour"
           }
          ],
          "contourcarpet": [
           {
            "colorbar": {
             "outlinewidth": 0,
             "ticks": ""
            },
            "type": "contourcarpet"
           }
          ],
          "heatmap": [
           {
            "colorbar": {
             "outlinewidth": 0,
             "ticks": ""
            },
            "colorscale": [
             [
              0,
              "#0d0887"
             ],
             [
              0.1111111111111111,
              "#46039f"
             ],
             [
              0.2222222222222222,
              "#7201a8"
             ],
             [
              0.3333333333333333,
              "#9c179e"
             ],
             [
              0.4444444444444444,
              "#bd3786"
             ],
             [
              0.5555555555555556,
              "#d8576b"
             ],
             [
              0.6666666666666666,
              "#ed7953"
             ],
             [
              0.7777777777777778,
              "#fb9f3a"
             ],
             [
              0.8888888888888888,
              "#fdca26"
             ],
             [
              1,
              "#f0f921"
             ]
            ],
            "type": "heatmap"
           }
          ],
          "heatmapgl": [
           {
            "colorbar": {
             "outlinewidth": 0,
             "ticks": ""
            },
            "colorscale": [
             [
              0,
              "#0d0887"
             ],
             [
              0.1111111111111111,
              "#46039f"
             ],
             [
              0.2222222222222222,
              "#7201a8"
             ],
             [
              0.3333333333333333,
              "#9c179e"
             ],
             [
              0.4444444444444444,
              "#bd3786"
             ],
             [
              0.5555555555555556,
              "#d8576b"
             ],
             [
              0.6666666666666666,
              "#ed7953"
             ],
             [
              0.7777777777777778,
              "#fb9f3a"
             ],
             [
              0.8888888888888888,
              "#fdca26"
             ],
             [
              1,
              "#f0f921"
             ]
            ],
            "type": "heatmapgl"
           }
          ],
          "histogram": [
           {
            "marker": {
             "pattern": {
              "fillmode": "overlay",
              "size": 10,
              "solidity": 0.2
             }
            },
            "type": "histogram"
           }
          ],
          "histogram2d": [
           {
            "colorbar": {
             "outlinewidth": 0,
             "ticks": ""
            },
            "colorscale": [
             [
              0,
              "#0d0887"
             ],
             [
              0.1111111111111111,
              "#46039f"
             ],
             [
              0.2222222222222222,
              "#7201a8"
             ],
             [
              0.3333333333333333,
              "#9c179e"
             ],
             [
              0.4444444444444444,
              "#bd3786"
             ],
             [
              0.5555555555555556,
              "#d8576b"
             ],
             [
              0.6666666666666666,
              "#ed7953"
             ],
             [
              0.7777777777777778,
              "#fb9f3a"
             ],
             [
              0.8888888888888888,
              "#fdca26"
             ],
             [
              1,
              "#f0f921"
             ]
            ],
            "type": "histogram2d"
           }
          ],
          "histogram2dcontour": [
           {
            "colorbar": {
             "outlinewidth": 0,
             "ticks": ""
            },
            "colorscale": [
             [
              0,
              "#0d0887"
             ],
             [
              0.1111111111111111,
              "#46039f"
             ],
             [
              0.2222222222222222,
              "#7201a8"
             ],
             [
              0.3333333333333333,
              "#9c179e"
             ],
             [
              0.4444444444444444,
              "#bd3786"
             ],
             [
              0.5555555555555556,
              "#d8576b"
             ],
             [
              0.6666666666666666,
              "#ed7953"
             ],
             [
              0.7777777777777778,
              "#fb9f3a"
             ],
             [
              0.8888888888888888,
              "#fdca26"
             ],
             [
              1,
              "#f0f921"
             ]
            ],
            "type": "histogram2dcontour"
           }
          ],
          "mesh3d": [
           {
            "colorbar": {
             "outlinewidth": 0,
             "ticks": ""
            },
            "type": "mesh3d"
           }
          ],
          "parcoords": [
           {
            "line": {
             "colorbar": {
              "outlinewidth": 0,
              "ticks": ""
             }
            },
            "type": "parcoords"
           }
          ],
          "pie": [
           {
            "automargin": true,
            "type": "pie"
           }
          ],
          "scatter": [
           {
            "fillpattern": {
             "fillmode": "overlay",
             "size": 10,
             "solidity": 0.2
            },
            "type": "scatter"
           }
          ],
          "scatter3d": [
           {
            "line": {
             "colorbar": {
              "outlinewidth": 0,
              "ticks": ""
             }
            },
            "marker": {
             "colorbar": {
              "outlinewidth": 0,
              "ticks": ""
             }
            },
            "type": "scatter3d"
           }
          ],
          "scattercarpet": [
           {
            "marker": {
             "colorbar": {
              "outlinewidth": 0,
              "ticks": ""
             }
            },
            "type": "scattercarpet"
           }
          ],
          "scattergeo": [
           {
            "marker": {
             "colorbar": {
              "outlinewidth": 0,
              "ticks": ""
             }
            },
            "type": "scattergeo"
           }
          ],
          "scattergl": [
           {
            "marker": {
             "colorbar": {
              "outlinewidth": 0,
              "ticks": ""
             }
            },
            "type": "scattergl"
           }
          ],
          "scattermapbox": [
           {
            "marker": {
             "colorbar": {
              "outlinewidth": 0,
              "ticks": ""
             }
            },
            "type": "scattermapbox"
           }
          ],
          "scatterpolar": [
           {
            "marker": {
             "colorbar": {
              "outlinewidth": 0,
              "ticks": ""
             }
            },
            "type": "scatterpolar"
           }
          ],
          "scatterpolargl": [
           {
            "marker": {
             "colorbar": {
              "outlinewidth": 0,
              "ticks": ""
             }
            },
            "type": "scatterpolargl"
           }
          ],
          "scatterternary": [
           {
            "marker": {
             "colorbar": {
              "outlinewidth": 0,
              "ticks": ""
             }
            },
            "type": "scatterternary"
           }
          ],
          "surface": [
           {
            "colorbar": {
             "outlinewidth": 0,
             "ticks": ""
            },
            "colorscale": [
             [
              0,
              "#0d0887"
             ],
             [
              0.1111111111111111,
              "#46039f"
             ],
             [
              0.2222222222222222,
              "#7201a8"
             ],
             [
              0.3333333333333333,
              "#9c179e"
             ],
             [
              0.4444444444444444,
              "#bd3786"
             ],
             [
              0.5555555555555556,
              "#d8576b"
             ],
             [
              0.6666666666666666,
              "#ed7953"
             ],
             [
              0.7777777777777778,
              "#fb9f3a"
             ],
             [
              0.8888888888888888,
              "#fdca26"
             ],
             [
              1,
              "#f0f921"
             ]
            ],
            "type": "surface"
           }
          ],
          "table": [
           {
            "cells": {
             "fill": {
              "color": "#EBF0F8"
             },
             "line": {
              "color": "white"
             }
            },
            "header": {
             "fill": {
              "color": "#C8D4E3"
             },
             "line": {
              "color": "white"
             }
            },
            "type": "table"
           }
          ]
         },
         "layout": {
          "annotationdefaults": {
           "arrowcolor": "#2a3f5f",
           "arrowhead": 0,
           "arrowwidth": 1
          },
          "autotypenumbers": "strict",
          "coloraxis": {
           "colorbar": {
            "outlinewidth": 0,
            "ticks": ""
           }
          },
          "colorscale": {
           "diverging": [
            [
             0,
             "#8e0152"
            ],
            [
             0.1,
             "#c51b7d"
            ],
            [
             0.2,
             "#de77ae"
            ],
            [
             0.3,
             "#f1b6da"
            ],
            [
             0.4,
             "#fde0ef"
            ],
            [
             0.5,
             "#f7f7f7"
            ],
            [
             0.6,
             "#e6f5d0"
            ],
            [
             0.7,
             "#b8e186"
            ],
            [
             0.8,
             "#7fbc41"
            ],
            [
             0.9,
             "#4d9221"
            ],
            [
             1,
             "#276419"
            ]
           ],
           "sequential": [
            [
             0,
             "#0d0887"
            ],
            [
             0.1111111111111111,
             "#46039f"
            ],
            [
             0.2222222222222222,
             "#7201a8"
            ],
            [
             0.3333333333333333,
             "#9c179e"
            ],
            [
             0.4444444444444444,
             "#bd3786"
            ],
            [
             0.5555555555555556,
             "#d8576b"
            ],
            [
             0.6666666666666666,
             "#ed7953"
            ],
            [
             0.7777777777777778,
             "#fb9f3a"
            ],
            [
             0.8888888888888888,
             "#fdca26"
            ],
            [
             1,
             "#f0f921"
            ]
           ],
           "sequentialminus": [
            [
             0,
             "#0d0887"
            ],
            [
             0.1111111111111111,
             "#46039f"
            ],
            [
             0.2222222222222222,
             "#7201a8"
            ],
            [
             0.3333333333333333,
             "#9c179e"
            ],
            [
             0.4444444444444444,
             "#bd3786"
            ],
            [
             0.5555555555555556,
             "#d8576b"
            ],
            [
             0.6666666666666666,
             "#ed7953"
            ],
            [
             0.7777777777777778,
             "#fb9f3a"
            ],
            [
             0.8888888888888888,
             "#fdca26"
            ],
            [
             1,
             "#f0f921"
            ]
           ]
          },
          "colorway": [
           "#636efa",
           "#EF553B",
           "#00cc96",
           "#ab63fa",
           "#FFA15A",
           "#19d3f3",
           "#FF6692",
           "#B6E880",
           "#FF97FF",
           "#FECB52"
          ],
          "font": {
           "color": "#2a3f5f"
          },
          "geo": {
           "bgcolor": "white",
           "lakecolor": "white",
           "landcolor": "#E5ECF6",
           "showlakes": true,
           "showland": true,
           "subunitcolor": "white"
          },
          "hoverlabel": {
           "align": "left"
          },
          "hovermode": "closest",
          "mapbox": {
           "style": "light"
          },
          "paper_bgcolor": "white",
          "plot_bgcolor": "#E5ECF6",
          "polar": {
           "angularaxis": {
            "gridcolor": "white",
            "linecolor": "white",
            "ticks": ""
           },
           "bgcolor": "#E5ECF6",
           "radialaxis": {
            "gridcolor": "white",
            "linecolor": "white",
            "ticks": ""
           }
          },
          "scene": {
           "xaxis": {
            "backgroundcolor": "#E5ECF6",
            "gridcolor": "white",
            "gridwidth": 2,
            "linecolor": "white",
            "showbackground": true,
            "ticks": "",
            "zerolinecolor": "white"
           },
           "yaxis": {
            "backgroundcolor": "#E5ECF6",
            "gridcolor": "white",
            "gridwidth": 2,
            "linecolor": "white",
            "showbackground": true,
            "ticks": "",
            "zerolinecolor": "white"
           },
           "zaxis": {
            "backgroundcolor": "#E5ECF6",
            "gridcolor": "white",
            "gridwidth": 2,
            "linecolor": "white",
            "showbackground": true,
            "ticks": "",
            "zerolinecolor": "white"
           }
          },
          "shapedefaults": {
           "line": {
            "color": "#2a3f5f"
           }
          },
          "ternary": {
           "aaxis": {
            "gridcolor": "white",
            "linecolor": "white",
            "ticks": ""
           },
           "baxis": {
            "gridcolor": "white",
            "linecolor": "white",
            "ticks": ""
           },
           "bgcolor": "#E5ECF6",
           "caxis": {
            "gridcolor": "white",
            "linecolor": "white",
            "ticks": ""
           }
          },
          "title": {
           "x": 0.05
          },
          "xaxis": {
           "automargin": true,
           "gridcolor": "white",
           "linecolor": "white",
           "ticks": "",
           "title": {
            "standoff": 15
           },
           "zerolinecolor": "white",
           "zerolinewidth": 2
          },
          "yaxis": {
           "automargin": true,
           "gridcolor": "white",
           "linecolor": "white",
           "ticks": "",
           "title": {
            "standoff": 15
           },
           "zerolinecolor": "white",
           "zerolinewidth": 2
          }
         }
        },
        "title": {
         "font": {
          "family": "Calibri",
          "size": 32
         },
         "text": "Daddit: Postings with topics associated with household chores, weekly in %"
        },
        "width": 1200,
        "xaxis": {
         "anchor": "y",
         "domain": [
          0,
          1
         ],
         "gridcolor": "lightgrey",
         "gridwidth": 0.5,
         "showgrid": true,
         "tickfont": {
          "family": "Calibri",
          "size": 24
         },
         "title": {
          "font": {
           "family": "Calibri",
           "size": 24
          },
          "text": "Date"
         }
        },
        "yaxis": {
         "anchor": "x",
         "domain": [
          0,
          1
         ],
         "gridcolor": "lightgrey",
         "gridwidth": 0.5,
         "range": [
          -5,
          80
         ],
         "showgrid": true,
         "tickfont": {
          "family": "Calibri",
          "size": 24
         },
         "title": {
          "font": {
           "family": "Calibri",
           "size": 24
          },
          "text": "Frequency in %"
         }
        }
       }
      }
     },
     "metadata": {},
     "output_type": "display_data"
    }
   ],
   "source": [
    "# visualize the broad categories based on top_n_words\n",
    "dataframes = [merged_months_mommit,merged_months_daddit, merged_weeks_mommit, merged_weeks_daddit]\n",
    "titles = ['Mommit: Postings with topics associated with household chores, monthly in %',\n",
    "          'Daddit: Postings with topics associated with household chores, monthly in %',\n",
    "          'Mommit: Postings with topics associated with household chores, weekly in %',  \n",
    "          'Daddit: Postings with topics associated with household chores, weekly in %']  # Specify the titles for each dataframe\n",
    "\n",
    "for i, dataframe in enumerate(dataframes):\n",
    "    fig = px.line(dataframe, x='date_time', y=\"relative\",\n",
    "                  title=f\"{titles[i]}\", height=500, width=1200)\n",
    "    fig.update_traces(line_color=\"rgb(158, 158, 158)\")\n",
    "\n",
    "    # Set the same y-axis scale for both graphs\n",
    "    fig.update_layout(yaxis=dict(range=[0, 80]))\n",
    "\n",
    "    # Add vertical line --> start pandemic\n",
    "    fig.add_shape(\n",
    "        type=\"line\",\n",
    "        x0=\"2020-03-11\", x1=\"2020-03-11\",\n",
    "        y0=0, y1=2500,\n",
    "        line=dict(color=\"black\", width=2),\n",
    "        name=\"Start of pandemic\"\n",
    "    )\n",
    "\n",
    "    # Add custom legend items as annotations\n",
    "    fig.add_trace(\n",
    "        go.Scatter(\n",
    "            x=[None],\n",
    "            y=[None],\n",
    "            mode='lines',\n",
    "            marker=dict(color=\"black\", size=10),\n",
    "            showlegend=True,\n",
    "            name=\"Start of pandemic\"\n",
    "        )\n",
    "    )\n",
    "\n",
    "    fig.update_layout(\n",
    "        legend=dict(\n",
    "            title='',\n",
    "            title_font=dict(size=14)\n",
    "        ),\n",
    "        xaxis=dict(\n",
    "            showgrid=True,  # Display x-axis grid lines\n",
    "            gridcolor='lightgrey',  # Set the color of the x-axis grid lines\n",
    "            gridwidth=0.5  # Set the width of the x-axis grid lines\n",
    "        ),\n",
    "        yaxis=dict(\n",
    "            showgrid=True,  # Display y-axis grid lines\n",
    "            gridcolor='lightgrey',  # Set the color of the y-axis grid lines\n",
    "            gridwidth=0.5  # Set the width of the y-axis grid lines\n",
    "        )\n",
    "    )\n",
    "\n",
    "    # Updating layout and axis labels\n",
    "    fig.update_layout(\n",
    "        plot_bgcolor='white',\n",
    "        title={\n",
    "            'font': {'size': 32, 'family': 'Calibri'}  \n",
    "        },\n",
    "        xaxis_title='Date',\n",
    "        yaxis_title='Frequency in %',\n",
    "        xaxis={\n",
    "            'title': {'font': {'size': 24, 'family': 'Calibri'}},  \n",
    "            'tickfont': {'size': 24, 'family': 'Calibri'}  \n",
    "        },\n",
    "        yaxis={\n",
    "            'title': {'font': {'size': 24, 'family': 'Calibri'}},  \n",
    "            'tickfont': {'size': 24, 'family': 'Calibri'}, \n",
    "            'range': [-5, 80]\n",
    "        }\n",
    "    )\n",
    "\n",
    "    fig.show()"
   ]
  },
  {
   "attachments": {},
   "cell_type": "markdown",
   "metadata": {},
   "source": [
    "### weekly and monthly grouping together"
   ]
  },
  {
   "cell_type": "code",
   "execution_count": 60,
   "metadata": {},
   "outputs": [
    {
     "data": {
      "text/html": [
       "<div>\n",
       "<style scoped>\n",
       "    .dataframe tbody tr th:only-of-type {\n",
       "        vertical-align: middle;\n",
       "    }\n",
       "\n",
       "    .dataframe tbody tr th {\n",
       "        vertical-align: top;\n",
       "    }\n",
       "\n",
       "    .dataframe thead th {\n",
       "        text-align: right;\n",
       "    }\n",
       "</style>\n",
       "<table border=\"1\" class=\"dataframe\">\n",
       "  <thead>\n",
       "    <tr style=\"text-align: right;\">\n",
       "      <th></th>\n",
       "      <th>date_time</th>\n",
       "      <th>small_categories</th>\n",
       "      <th>Count</th>\n",
       "      <th>grouped_count</th>\n",
       "      <th>relative chores</th>\n",
       "    </tr>\n",
       "  </thead>\n",
       "  <tbody>\n",
       "    <tr>\n",
       "      <th>0</th>\n",
       "      <td>2019-12-01</td>\n",
       "      <td>Organization &amp; mental load</td>\n",
       "      <td>32</td>\n",
       "      <td>121</td>\n",
       "      <td>26.446281</td>\n",
       "    </tr>\n",
       "    <tr>\n",
       "      <th>1</th>\n",
       "      <td>2019-12-01</td>\n",
       "      <td>Care work</td>\n",
       "      <td>10</td>\n",
       "      <td>121</td>\n",
       "      <td>8.264463</td>\n",
       "    </tr>\n",
       "    <tr>\n",
       "      <th>2</th>\n",
       "      <td>2019-12-01</td>\n",
       "      <td>Household chores</td>\n",
       "      <td>4</td>\n",
       "      <td>121</td>\n",
       "      <td>3.305785</td>\n",
       "    </tr>\n",
       "    <tr>\n",
       "      <th>3</th>\n",
       "      <td>2019-12-08</td>\n",
       "      <td>Care work</td>\n",
       "      <td>160</td>\n",
       "      <td>1141</td>\n",
       "      <td>14.022787</td>\n",
       "    </tr>\n",
       "    <tr>\n",
       "      <th>4</th>\n",
       "      <td>2019-12-08</td>\n",
       "      <td>Organization &amp; mental load</td>\n",
       "      <td>133</td>\n",
       "      <td>1141</td>\n",
       "      <td>11.656442</td>\n",
       "    </tr>\n",
       "    <tr>\n",
       "      <th>...</th>\n",
       "      <td>...</td>\n",
       "      <td>...</td>\n",
       "      <td>...</td>\n",
       "      <td>...</td>\n",
       "      <td>...</td>\n",
       "    </tr>\n",
       "    <tr>\n",
       "      <th>122</th>\n",
       "      <td>2022-03-27</td>\n",
       "      <td>Other</td>\n",
       "      <td>14</td>\n",
       "      <td>11618</td>\n",
       "      <td>0.120503</td>\n",
       "    </tr>\n",
       "    <tr>\n",
       "      <th>123</th>\n",
       "      <td>2022-04-03</td>\n",
       "      <td>Care work</td>\n",
       "      <td>958</td>\n",
       "      <td>6093</td>\n",
       "      <td>15.722961</td>\n",
       "    </tr>\n",
       "    <tr>\n",
       "      <th>124</th>\n",
       "      <td>2022-04-03</td>\n",
       "      <td>Household chores</td>\n",
       "      <td>488</td>\n",
       "      <td>6093</td>\n",
       "      <td>8.009191</td>\n",
       "    </tr>\n",
       "    <tr>\n",
       "      <th>125</th>\n",
       "      <td>2022-04-03</td>\n",
       "      <td>Organization &amp; mental load</td>\n",
       "      <td>250</td>\n",
       "      <td>6093</td>\n",
       "      <td>4.103069</td>\n",
       "    </tr>\n",
       "    <tr>\n",
       "      <th>126</th>\n",
       "      <td>2022-04-03</td>\n",
       "      <td>Other</td>\n",
       "      <td>6</td>\n",
       "      <td>6093</td>\n",
       "      <td>0.098474</td>\n",
       "    </tr>\n",
       "  </tbody>\n",
       "</table>\n",
       "<p>127 rows × 5 columns</p>\n",
       "</div>"
      ],
      "text/plain": [
       "     date_time            small_categories  Count  grouped_count  \\\n",
       "0   2019-12-01  Organization & mental load     32            121   \n",
       "1   2019-12-01                   Care work     10            121   \n",
       "2   2019-12-01            Household chores      4            121   \n",
       "3   2019-12-08                   Care work    160           1141   \n",
       "4   2019-12-08  Organization & mental load    133           1141   \n",
       "..         ...                         ...    ...            ...   \n",
       "122 2022-03-27                       Other     14          11618   \n",
       "123 2022-04-03                   Care work    958           6093   \n",
       "124 2022-04-03            Household chores    488           6093   \n",
       "125 2022-04-03  Organization & mental load    250           6093   \n",
       "126 2022-04-03                       Other      6           6093   \n",
       "\n",
       "     relative chores  \n",
       "0          26.446281  \n",
       "1           8.264463  \n",
       "2           3.305785  \n",
       "3          14.022787  \n",
       "4          11.656442  \n",
       "..               ...  \n",
       "122         0.120503  \n",
       "123        15.722961  \n",
       "124         8.009191  \n",
       "125         4.103069  \n",
       "126         0.098474  \n",
       "\n",
       "[127 rows x 5 columns]"
      ]
     },
     "execution_count": 60,
     "metadata": {},
     "output_type": "execute_result"
    }
   ],
   "source": [
    "relative_weeks_mommit"
   ]
  },
  {
   "cell_type": "code",
   "execution_count": 61,
   "metadata": {},
   "outputs": [
    {
     "data": {
      "text/html": [
       "<div>\n",
       "<style scoped>\n",
       "    .dataframe tbody tr th:only-of-type {\n",
       "        vertical-align: middle;\n",
       "    }\n",
       "\n",
       "    .dataframe tbody tr th {\n",
       "        vertical-align: top;\n",
       "    }\n",
       "\n",
       "    .dataframe thead th {\n",
       "        text-align: right;\n",
       "    }\n",
       "</style>\n",
       "<table border=\"1\" class=\"dataframe\">\n",
       "  <thead>\n",
       "    <tr style=\"text-align: right;\">\n",
       "      <th></th>\n",
       "      <th>date_time</th>\n",
       "      <th>small_categories</th>\n",
       "      <th>Count</th>\n",
       "      <th>grouped_count</th>\n",
       "      <th>relative chores</th>\n",
       "    </tr>\n",
       "  </thead>\n",
       "  <tbody>\n",
       "    <tr>\n",
       "      <th>0</th>\n",
       "      <td>2019-12-31</td>\n",
       "      <td>Care work</td>\n",
       "      <td>864</td>\n",
       "      <td>4698</td>\n",
       "      <td>18.390805</td>\n",
       "    </tr>\n",
       "    <tr>\n",
       "      <th>1</th>\n",
       "      <td>2019-12-31</td>\n",
       "      <td>Organization &amp; mental load</td>\n",
       "      <td>435</td>\n",
       "      <td>4698</td>\n",
       "      <td>9.259259</td>\n",
       "    </tr>\n",
       "    <tr>\n",
       "      <th>2</th>\n",
       "      <td>2019-12-31</td>\n",
       "      <td>Household chores</td>\n",
       "      <td>269</td>\n",
       "      <td>4698</td>\n",
       "      <td>5.725841</td>\n",
       "    </tr>\n",
       "    <tr>\n",
       "      <th>3</th>\n",
       "      <td>2019-12-31</td>\n",
       "      <td>Other</td>\n",
       "      <td>8</td>\n",
       "      <td>4698</td>\n",
       "      <td>0.170285</td>\n",
       "    </tr>\n",
       "    <tr>\n",
       "      <th>4</th>\n",
       "      <td>2020-01-31</td>\n",
       "      <td>Care work</td>\n",
       "      <td>961</td>\n",
       "      <td>4985</td>\n",
       "      <td>19.277834</td>\n",
       "    </tr>\n",
       "    <tr>\n",
       "      <th>5</th>\n",
       "      <td>2020-01-31</td>\n",
       "      <td>Household chores</td>\n",
       "      <td>391</td>\n",
       "      <td>4985</td>\n",
       "      <td>7.843531</td>\n",
       "    </tr>\n",
       "    <tr>\n",
       "      <th>6</th>\n",
       "      <td>2020-01-31</td>\n",
       "      <td>Organization &amp; mental load</td>\n",
       "      <td>367</td>\n",
       "      <td>4985</td>\n",
       "      <td>7.362086</td>\n",
       "    </tr>\n",
       "    <tr>\n",
       "      <th>7</th>\n",
       "      <td>2020-01-31</td>\n",
       "      <td>Other</td>\n",
       "      <td>9</td>\n",
       "      <td>4985</td>\n",
       "      <td>0.180542</td>\n",
       "    </tr>\n",
       "    <tr>\n",
       "      <th>8</th>\n",
       "      <td>2020-02-29</td>\n",
       "      <td>Care work</td>\n",
       "      <td>929</td>\n",
       "      <td>5365</td>\n",
       "      <td>17.315937</td>\n",
       "    </tr>\n",
       "    <tr>\n",
       "      <th>9</th>\n",
       "      <td>2020-02-29</td>\n",
       "      <td>Organization &amp; mental load</td>\n",
       "      <td>341</td>\n",
       "      <td>5365</td>\n",
       "      <td>6.356011</td>\n",
       "    </tr>\n",
       "    <tr>\n",
       "      <th>10</th>\n",
       "      <td>2020-02-29</td>\n",
       "      <td>Household chores</td>\n",
       "      <td>335</td>\n",
       "      <td>5365</td>\n",
       "      <td>6.244175</td>\n",
       "    </tr>\n",
       "    <tr>\n",
       "      <th>11</th>\n",
       "      <td>2020-02-29</td>\n",
       "      <td>Other</td>\n",
       "      <td>14</td>\n",
       "      <td>5365</td>\n",
       "      <td>0.260951</td>\n",
       "    </tr>\n",
       "    <tr>\n",
       "      <th>12</th>\n",
       "      <td>2020-03-31</td>\n",
       "      <td>Care work</td>\n",
       "      <td>975</td>\n",
       "      <td>5121</td>\n",
       "      <td>19.039250</td>\n",
       "    </tr>\n",
       "    <tr>\n",
       "      <th>13</th>\n",
       "      <td>2020-03-31</td>\n",
       "      <td>Organization &amp; mental load</td>\n",
       "      <td>536</td>\n",
       "      <td>5121</td>\n",
       "      <td>10.466706</td>\n",
       "    </tr>\n",
       "    <tr>\n",
       "      <th>14</th>\n",
       "      <td>2020-03-31</td>\n",
       "      <td>Household chores</td>\n",
       "      <td>457</td>\n",
       "      <td>5121</td>\n",
       "      <td>8.924038</td>\n",
       "    </tr>\n",
       "    <tr>\n",
       "      <th>15</th>\n",
       "      <td>2020-03-31</td>\n",
       "      <td>Other</td>\n",
       "      <td>45</td>\n",
       "      <td>5121</td>\n",
       "      <td>0.878735</td>\n",
       "    </tr>\n",
       "    <tr>\n",
       "      <th>16</th>\n",
       "      <td>2020-04-30</td>\n",
       "      <td>Care work</td>\n",
       "      <td>1109</td>\n",
       "      <td>4711</td>\n",
       "      <td>23.540650</td>\n",
       "    </tr>\n",
       "    <tr>\n",
       "      <th>17</th>\n",
       "      <td>2020-04-30</td>\n",
       "      <td>Organization &amp; mental load</td>\n",
       "      <td>284</td>\n",
       "      <td>4711</td>\n",
       "      <td>6.028444</td>\n",
       "    </tr>\n",
       "    <tr>\n",
       "      <th>18</th>\n",
       "      <td>2020-04-30</td>\n",
       "      <td>Household chores</td>\n",
       "      <td>182</td>\n",
       "      <td>4711</td>\n",
       "      <td>3.863299</td>\n",
       "    </tr>\n",
       "    <tr>\n",
       "      <th>19</th>\n",
       "      <td>2020-04-30</td>\n",
       "      <td>Other</td>\n",
       "      <td>11</td>\n",
       "      <td>4711</td>\n",
       "      <td>0.233496</td>\n",
       "    </tr>\n",
       "    <tr>\n",
       "      <th>20</th>\n",
       "      <td>2021-03-31</td>\n",
       "      <td>Care work</td>\n",
       "      <td>991</td>\n",
       "      <td>6321</td>\n",
       "      <td>15.677899</td>\n",
       "    </tr>\n",
       "    <tr>\n",
       "      <th>21</th>\n",
       "      <td>2021-03-31</td>\n",
       "      <td>Household chores</td>\n",
       "      <td>487</td>\n",
       "      <td>6321</td>\n",
       "      <td>7.704477</td>\n",
       "    </tr>\n",
       "    <tr>\n",
       "      <th>22</th>\n",
       "      <td>2021-03-31</td>\n",
       "      <td>Organization &amp; mental load</td>\n",
       "      <td>372</td>\n",
       "      <td>6321</td>\n",
       "      <td>5.885145</td>\n",
       "    </tr>\n",
       "    <tr>\n",
       "      <th>23</th>\n",
       "      <td>2021-03-31</td>\n",
       "      <td>Other</td>\n",
       "      <td>6</td>\n",
       "      <td>6321</td>\n",
       "      <td>0.094922</td>\n",
       "    </tr>\n",
       "    <tr>\n",
       "      <th>24</th>\n",
       "      <td>2022-03-31</td>\n",
       "      <td>Care work</td>\n",
       "      <td>8082</td>\n",
       "      <td>46399</td>\n",
       "      <td>17.418479</td>\n",
       "    </tr>\n",
       "    <tr>\n",
       "      <th>25</th>\n",
       "      <td>2022-03-31</td>\n",
       "      <td>Organization &amp; mental load</td>\n",
       "      <td>3273</td>\n",
       "      <td>46399</td>\n",
       "      <td>7.054031</td>\n",
       "    </tr>\n",
       "    <tr>\n",
       "      <th>26</th>\n",
       "      <td>2022-03-31</td>\n",
       "      <td>Household chores</td>\n",
       "      <td>2735</td>\n",
       "      <td>46399</td>\n",
       "      <td>5.894524</td>\n",
       "    </tr>\n",
       "    <tr>\n",
       "      <th>27</th>\n",
       "      <td>2022-03-31</td>\n",
       "      <td>Other</td>\n",
       "      <td>87</td>\n",
       "      <td>46399</td>\n",
       "      <td>0.187504</td>\n",
       "    </tr>\n",
       "  </tbody>\n",
       "</table>\n",
       "</div>"
      ],
      "text/plain": [
       "    date_time            small_categories  Count  grouped_count  \\\n",
       "0  2019-12-31                   Care work    864           4698   \n",
       "1  2019-12-31  Organization & mental load    435           4698   \n",
       "2  2019-12-31            Household chores    269           4698   \n",
       "3  2019-12-31                       Other      8           4698   \n",
       "4  2020-01-31                   Care work    961           4985   \n",
       "5  2020-01-31            Household chores    391           4985   \n",
       "6  2020-01-31  Organization & mental load    367           4985   \n",
       "7  2020-01-31                       Other      9           4985   \n",
       "8  2020-02-29                   Care work    929           5365   \n",
       "9  2020-02-29  Organization & mental load    341           5365   \n",
       "10 2020-02-29            Household chores    335           5365   \n",
       "11 2020-02-29                       Other     14           5365   \n",
       "12 2020-03-31                   Care work    975           5121   \n",
       "13 2020-03-31  Organization & mental load    536           5121   \n",
       "14 2020-03-31            Household chores    457           5121   \n",
       "15 2020-03-31                       Other     45           5121   \n",
       "16 2020-04-30                   Care work   1109           4711   \n",
       "17 2020-04-30  Organization & mental load    284           4711   \n",
       "18 2020-04-30            Household chores    182           4711   \n",
       "19 2020-04-30                       Other     11           4711   \n",
       "20 2021-03-31                   Care work    991           6321   \n",
       "21 2021-03-31            Household chores    487           6321   \n",
       "22 2021-03-31  Organization & mental load    372           6321   \n",
       "23 2021-03-31                       Other      6           6321   \n",
       "24 2022-03-31                   Care work   8082          46399   \n",
       "25 2022-03-31  Organization & mental load   3273          46399   \n",
       "26 2022-03-31            Household chores   2735          46399   \n",
       "27 2022-03-31                       Other     87          46399   \n",
       "\n",
       "    relative chores  \n",
       "0         18.390805  \n",
       "1          9.259259  \n",
       "2          5.725841  \n",
       "3          0.170285  \n",
       "4         19.277834  \n",
       "5          7.843531  \n",
       "6          7.362086  \n",
       "7          0.180542  \n",
       "8         17.315937  \n",
       "9          6.356011  \n",
       "10         6.244175  \n",
       "11         0.260951  \n",
       "12        19.039250  \n",
       "13        10.466706  \n",
       "14         8.924038  \n",
       "15         0.878735  \n",
       "16        23.540650  \n",
       "17         6.028444  \n",
       "18         3.863299  \n",
       "19         0.233496  \n",
       "20        15.677899  \n",
       "21         7.704477  \n",
       "22         5.885145  \n",
       "23         0.094922  \n",
       "24        17.418479  \n",
       "25         7.054031  \n",
       "26         5.894524  \n",
       "27         0.187504  "
      ]
     },
     "execution_count": 61,
     "metadata": {},
     "output_type": "execute_result"
    }
   ],
   "source": [
    "relative_months_mommit"
   ]
  },
  {
   "cell_type": "code",
   "execution_count": 62,
   "metadata": {},
   "outputs": [
    {
     "data": {
      "text/html": [
       "<div>\n",
       "<style scoped>\n",
       "    .dataframe tbody tr th:only-of-type {\n",
       "        vertical-align: middle;\n",
       "    }\n",
       "\n",
       "    .dataframe tbody tr th {\n",
       "        vertical-align: top;\n",
       "    }\n",
       "\n",
       "    .dataframe thead th {\n",
       "        text-align: right;\n",
       "    }\n",
       "</style>\n",
       "<table border=\"1\" class=\"dataframe\">\n",
       "  <thead>\n",
       "    <tr style=\"text-align: right;\">\n",
       "      <th></th>\n",
       "      <th>date_time</th>\n",
       "      <th>small_categories</th>\n",
       "      <th>Count</th>\n",
       "      <th>grouped_count</th>\n",
       "      <th>relative chores</th>\n",
       "      <th>time</th>\n",
       "      <th>line</th>\n",
       "    </tr>\n",
       "  </thead>\n",
       "  <tbody>\n",
       "    <tr>\n",
       "      <th>0</th>\n",
       "      <td>2019-12-01</td>\n",
       "      <td>Organization &amp; mental load</td>\n",
       "      <td>32</td>\n",
       "      <td>121</td>\n",
       "      <td>26.446281</td>\n",
       "      <td>weekly</td>\n",
       "      <td>Organization &amp; mental load weekly</td>\n",
       "    </tr>\n",
       "    <tr>\n",
       "      <th>1</th>\n",
       "      <td>2019-12-01</td>\n",
       "      <td>Care work</td>\n",
       "      <td>10</td>\n",
       "      <td>121</td>\n",
       "      <td>8.264463</td>\n",
       "      <td>weekly</td>\n",
       "      <td>Care work weekly</td>\n",
       "    </tr>\n",
       "    <tr>\n",
       "      <th>2</th>\n",
       "      <td>2019-12-01</td>\n",
       "      <td>Household chores</td>\n",
       "      <td>4</td>\n",
       "      <td>121</td>\n",
       "      <td>3.305785</td>\n",
       "      <td>weekly</td>\n",
       "      <td>Household chores weekly</td>\n",
       "    </tr>\n",
       "    <tr>\n",
       "      <th>3</th>\n",
       "      <td>2019-12-08</td>\n",
       "      <td>Care work</td>\n",
       "      <td>160</td>\n",
       "      <td>1141</td>\n",
       "      <td>14.022787</td>\n",
       "      <td>weekly</td>\n",
       "      <td>Care work weekly</td>\n",
       "    </tr>\n",
       "    <tr>\n",
       "      <th>4</th>\n",
       "      <td>2019-12-08</td>\n",
       "      <td>Organization &amp; mental load</td>\n",
       "      <td>133</td>\n",
       "      <td>1141</td>\n",
       "      <td>11.656442</td>\n",
       "      <td>weekly</td>\n",
       "      <td>Organization &amp; mental load weekly</td>\n",
       "    </tr>\n",
       "    <tr>\n",
       "      <th>...</th>\n",
       "      <td>...</td>\n",
       "      <td>...</td>\n",
       "      <td>...</td>\n",
       "      <td>...</td>\n",
       "      <td>...</td>\n",
       "      <td>...</td>\n",
       "      <td>...</td>\n",
       "    </tr>\n",
       "    <tr>\n",
       "      <th>23</th>\n",
       "      <td>2021-03-31</td>\n",
       "      <td>Other</td>\n",
       "      <td>6</td>\n",
       "      <td>6321</td>\n",
       "      <td>0.094922</td>\n",
       "      <td>monthly</td>\n",
       "      <td>Other monthly</td>\n",
       "    </tr>\n",
       "    <tr>\n",
       "      <th>24</th>\n",
       "      <td>2022-03-31</td>\n",
       "      <td>Care work</td>\n",
       "      <td>8082</td>\n",
       "      <td>46399</td>\n",
       "      <td>17.418479</td>\n",
       "      <td>monthly</td>\n",
       "      <td>Care work monthly</td>\n",
       "    </tr>\n",
       "    <tr>\n",
       "      <th>25</th>\n",
       "      <td>2022-03-31</td>\n",
       "      <td>Organization &amp; mental load</td>\n",
       "      <td>3273</td>\n",
       "      <td>46399</td>\n",
       "      <td>7.054031</td>\n",
       "      <td>monthly</td>\n",
       "      <td>Organization &amp; mental load monthly</td>\n",
       "    </tr>\n",
       "    <tr>\n",
       "      <th>26</th>\n",
       "      <td>2022-03-31</td>\n",
       "      <td>Household chores</td>\n",
       "      <td>2735</td>\n",
       "      <td>46399</td>\n",
       "      <td>5.894524</td>\n",
       "      <td>monthly</td>\n",
       "      <td>Household chores monthly</td>\n",
       "    </tr>\n",
       "    <tr>\n",
       "      <th>27</th>\n",
       "      <td>2022-03-31</td>\n",
       "      <td>Other</td>\n",
       "      <td>87</td>\n",
       "      <td>46399</td>\n",
       "      <td>0.187504</td>\n",
       "      <td>monthly</td>\n",
       "      <td>Other monthly</td>\n",
       "    </tr>\n",
       "  </tbody>\n",
       "</table>\n",
       "<p>155 rows × 7 columns</p>\n",
       "</div>"
      ],
      "text/plain": [
       "    date_time            small_categories  Count  grouped_count  \\\n",
       "0  2019-12-01  Organization & mental load     32            121   \n",
       "1  2019-12-01                   Care work     10            121   \n",
       "2  2019-12-01            Household chores      4            121   \n",
       "3  2019-12-08                   Care work    160           1141   \n",
       "4  2019-12-08  Organization & mental load    133           1141   \n",
       "..        ...                         ...    ...            ...   \n",
       "23 2021-03-31                       Other      6           6321   \n",
       "24 2022-03-31                   Care work   8082          46399   \n",
       "25 2022-03-31  Organization & mental load   3273          46399   \n",
       "26 2022-03-31            Household chores   2735          46399   \n",
       "27 2022-03-31                       Other     87          46399   \n",
       "\n",
       "    relative chores     time                                line  \n",
       "0         26.446281   weekly   Organization & mental load weekly  \n",
       "1          8.264463   weekly                    Care work weekly  \n",
       "2          3.305785   weekly             Household chores weekly  \n",
       "3         14.022787   weekly                    Care work weekly  \n",
       "4         11.656442   weekly   Organization & mental load weekly  \n",
       "..              ...      ...                                 ...  \n",
       "23         0.094922  monthly                       Other monthly  \n",
       "24        17.418479  monthly                   Care work monthly  \n",
       "25         7.054031  monthly  Organization & mental load monthly  \n",
       "26         5.894524  monthly            Household chores monthly  \n",
       "27         0.187504  monthly                       Other monthly  \n",
       "\n",
       "[155 rows x 7 columns]"
      ]
     },
     "execution_count": 62,
     "metadata": {},
     "output_type": "execute_result"
    }
   ],
   "source": [
    "relative_weeks_mommit[\"time\"]=\"weekly\"\n",
    "relative_months_mommit[\"time\"]=\"monthly\"\n",
    "grouping_mommit=pd.concat([relative_weeks_mommit, relative_months_mommit])\n",
    "grouping_mommit[\"line\"]=grouping_mommit[\"small_categories\"]+\" \"+grouping_mommit[\"time\"]\n",
    "grouping_mommit"
   ]
  },
  {
   "cell_type": "code",
   "execution_count": 63,
   "metadata": {},
   "outputs": [
    {
     "data": {
      "application/vnd.plotly.v1+json": {
       "config": {
        "plotlyServerURL": "https://plot.ly"
       },
       "data": [
        {
         "hovertemplate": "line=Organization & mental load weekly<br>date_time=%{x}<br>relative chores=%{y}<extra></extra>",
         "legendgroup": "Organization & mental load weekly",
         "line": {
          "color": "rgb(214, 39, 40, 0.30)",
          "dash": "dot",
          "width": 1.5
         },
         "marker": {
          "symbol": "circle"
         },
         "mode": "lines",
         "name": "Organization & mental load weekly",
         "orientation": "v",
         "showlegend": true,
         "type": "scatter",
         "x": [
          "2019-12-01T00:00:00",
          "2019-12-08T00:00:00",
          "2019-12-15T00:00:00",
          "2019-12-22T00:00:00",
          "2019-12-29T00:00:00",
          "2020-01-05T00:00:00",
          "2020-01-12T00:00:00",
          "2020-01-19T00:00:00",
          "2020-01-26T00:00:00",
          "2020-02-02T00:00:00",
          "2020-02-09T00:00:00",
          "2020-02-16T00:00:00",
          "2020-02-23T00:00:00",
          "2020-03-01T00:00:00",
          "2020-03-08T00:00:00",
          "2020-03-15T00:00:00",
          "2020-03-22T00:00:00",
          "2020-03-29T00:00:00",
          "2020-04-05T00:00:00",
          "2020-04-12T00:00:00",
          "2020-04-19T00:00:00",
          "2020-04-26T00:00:00",
          "2020-05-03T00:00:00",
          "2021-03-07T00:00:00",
          "2021-03-14T00:00:00",
          "2021-03-21T00:00:00",
          "2021-03-28T00:00:00",
          "2021-04-04T00:00:00",
          "2022-03-06T00:00:00",
          "2022-03-13T00:00:00",
          "2022-03-20T00:00:00",
          "2022-03-27T00:00:00",
          "2022-04-03T00:00:00"
         ],
         "xaxis": "x",
         "y": [
          26.446280991735538,
          11.65644171779141,
          8.289703315881326,
          5.681818181818182,
          12.004662004662006,
          5.38160469667319,
          6.660899653979238,
          8.641975308641975,
          6.474190726159231,
          7.743785850860421,
          5.2675585284280935,
          7.23589001447178,
          6.577974870657798,
          6.743185078909613,
          19.015151515151516,
          4.647006255585344,
          7.44485294117647,
          11.297852474323063,
          5.511811023622047,
          4.134615384615384,
          12.513255567338282,
          4.080118694362018,
          3.862660944206009,
          5.301645338208409,
          6.684027777777778,
          5.579399141630901,
          6.40194489465154,
          5.691964285714286,
          5.809191566813287,
          7.5608211992403005,
          8.452618227939844,
          7.496987433293166,
          4.103069095683572
         ],
         "yaxis": "y"
        },
        {
         "hovertemplate": "line=Care work weekly<br>date_time=%{x}<br>relative chores=%{y}<extra></extra>",
         "legendgroup": "Care work weekly",
         "line": {
          "color": "rgb(31, 119, 180, 0.30)",
          "dash": "dot",
          "width": 1.5
         },
         "marker": {
          "symbol": "circle"
         },
         "mode": "lines",
         "name": "Care work weekly",
         "orientation": "v",
         "showlegend": true,
         "type": "scatter",
         "x": [
          "2019-12-01T00:00:00",
          "2019-12-08T00:00:00",
          "2019-12-15T00:00:00",
          "2019-12-22T00:00:00",
          "2019-12-29T00:00:00",
          "2020-01-05T00:00:00",
          "2020-01-12T00:00:00",
          "2020-01-19T00:00:00",
          "2020-01-26T00:00:00",
          "2020-02-02T00:00:00",
          "2020-02-09T00:00:00",
          "2020-02-16T00:00:00",
          "2020-02-23T00:00:00",
          "2020-03-01T00:00:00",
          "2020-03-08T00:00:00",
          "2020-03-15T00:00:00",
          "2020-03-22T00:00:00",
          "2020-03-29T00:00:00",
          "2020-04-05T00:00:00",
          "2020-04-12T00:00:00",
          "2020-04-19T00:00:00",
          "2020-04-26T00:00:00",
          "2020-05-03T00:00:00",
          "2021-03-07T00:00:00",
          "2021-03-14T00:00:00",
          "2021-03-21T00:00:00",
          "2021-03-28T00:00:00",
          "2021-04-04T00:00:00",
          "2022-03-06T00:00:00",
          "2022-03-13T00:00:00",
          "2022-03-20T00:00:00",
          "2022-03-27T00:00:00",
          "2022-04-03T00:00:00"
         ],
         "xaxis": "x",
         "y": [
          8.264462809917356,
          14.022787028921998,
          18.411867364746946,
          24.737762237762237,
          18.181818181818183,
          18.003913894324853,
          18.94463667820069,
          21.252204585537918,
          17.585301837270343,
          18.54684512428298,
          19.230769230769234,
          17.00434153400868,
          18.107908351810792,
          15.925394548063126,
          17.727272727272727,
          21.26899016979446,
          20.036764705882355,
          16.059757236227824,
          23.326771653543307,
          17.884615384615383,
          22.481442205726403,
          26.706231454005934,
          27.181688125894134,
          16.87995124923827,
          12.934027777777779,
          21.030042918454935,
          13.695299837925445,
          11.383928571428571,
          16.032155316244502,
          20.728949986433935,
          18.046747599202753,
          15.34687553795834,
          15.722960774659445
         ],
         "yaxis": "y"
        },
        {
         "hovertemplate": "line=Household chores weekly<br>date_time=%{x}<br>relative chores=%{y}<extra></extra>",
         "legendgroup": "Household chores weekly",
         "line": {
          "color": "rgba(44, 160, 44, 0.30)",
          "dash": "dot",
          "width": 1.5
         },
         "marker": {
          "symbol": "circle"
         },
         "mode": "lines",
         "name": "Household chores weekly",
         "orientation": "v",
         "showlegend": true,
         "type": "scatter",
         "x": [
          "2019-12-01T00:00:00",
          "2019-12-08T00:00:00",
          "2019-12-15T00:00:00",
          "2019-12-22T00:00:00",
          "2019-12-29T00:00:00",
          "2020-01-05T00:00:00",
          "2020-01-12T00:00:00",
          "2020-01-19T00:00:00",
          "2020-01-26T00:00:00",
          "2020-02-02T00:00:00",
          "2020-02-09T00:00:00",
          "2020-02-16T00:00:00",
          "2020-02-23T00:00:00",
          "2020-03-01T00:00:00",
          "2020-03-08T00:00:00",
          "2020-03-15T00:00:00",
          "2020-03-22T00:00:00",
          "2020-03-29T00:00:00",
          "2020-04-05T00:00:00",
          "2020-04-12T00:00:00",
          "2020-04-19T00:00:00",
          "2020-04-26T00:00:00",
          "2020-05-03T00:00:00",
          "2021-03-07T00:00:00",
          "2021-03-14T00:00:00",
          "2021-03-21T00:00:00",
          "2021-03-28T00:00:00",
          "2021-04-04T00:00:00",
          "2022-03-06T00:00:00",
          "2022-03-13T00:00:00",
          "2022-03-20T00:00:00",
          "2022-03-27T00:00:00",
          "2022-04-03T00:00:00"
         ],
         "xaxis": "x",
         "y": [
          3.3057851239669422,
          3.856266432953549,
          5.322862129144852,
          6.118881118881119,
          6.75990675990676,
          9.882583170254403,
          11.245674740484429,
          7.671957671957672,
          5.16185476815398,
          5.162523900573614,
          6.605351170568562,
          4.848046309696093,
          6.72579453067258,
          7.245337159253945,
          5.909090909090909,
          14.655942806076855,
          6.341911764705882,
          10.457516339869281,
          6.791338582677166,
          2.6923076923076925,
          4.453870625662779,
          3.5608308605341246,
          2.575107296137339,
          5.850091407678245,
          8.59375,
          11.731044349070102,
          5.591572123176661,
          6.584821428571429,
          5.82435916881541,
          5.12797322962829,
          6.676934227215075,
          4.811499397486658,
          8.009190874774331
         ],
         "yaxis": "y"
        },
        {
         "hovertemplate": "line=Other weekly<br>date_time=%{x}<br>relative chores=%{y}<extra></extra>",
         "legendgroup": "Other weekly",
         "line": {
          "color": "rgba(127, 127, 127, 0.30)",
          "dash": "dot",
          "width": 1.5
         },
         "marker": {
          "symbol": "circle"
         },
         "mode": "lines",
         "name": "Other weekly",
         "orientation": "v",
         "showlegend": true,
         "type": "scatter",
         "x": [
          "2019-12-08T00:00:00",
          "2019-12-15T00:00:00",
          "2019-12-29T00:00:00",
          "2020-01-05T00:00:00",
          "2020-01-12T00:00:00",
          "2020-01-19T00:00:00",
          "2020-01-26T00:00:00",
          "2020-02-02T00:00:00",
          "2020-02-09T00:00:00",
          "2020-02-16T00:00:00",
          "2020-02-23T00:00:00",
          "2020-03-01T00:00:00",
          "2020-03-08T00:00:00",
          "2020-03-22T00:00:00",
          "2020-03-29T00:00:00",
          "2020-04-05T00:00:00",
          "2020-04-12T00:00:00",
          "2020-04-19T00:00:00",
          "2020-04-26T00:00:00",
          "2020-05-03T00:00:00",
          "2021-03-14T00:00:00",
          "2021-03-21T00:00:00",
          "2021-03-28T00:00:00",
          "2022-03-06T00:00:00",
          "2022-03-13T00:00:00",
          "2022-03-20T00:00:00",
          "2022-03-27T00:00:00",
          "2022-04-03T00:00:00"
         ],
         "xaxis": "x",
         "y": [
          0.175284837861525,
          0.08726003490401396,
          0.34965034965034963,
          0.29354207436399216,
          0.17301038062283738,
          0.3527336860670194,
          0.08748906386701663,
          0.28680688336520077,
          0.08361204013377926,
          0.0723589001447178,
          0.4434589800443459,
          0.2869440459110474,
          0.07575757575757576,
          3.4926470588235294,
          0.4668534080298786,
          0.39370078740157477,
          0.19230769230769232,
          0.10604453870625664,
          0.1483679525222552,
          0.4291845493562232,
          0.1736111111111111,
          0.2145922746781116,
          0.08103727714748785,
          0.19717882602760503,
          0.23514515691417204,
          0.2536691429606813,
          0.12050266827336892,
          0.09847365829640572
         ],
         "yaxis": "y"
        },
        {
         "hovertemplate": "line=Care work monthly<br>date_time=%{x}<br>relative chores=%{y}<extra></extra>",
         "legendgroup": "Care work monthly",
         "line": {
          "color": "rgb(31, 119, 180)",
          "dash": "solid"
         },
         "marker": {
          "symbol": "circle"
         },
         "mode": "lines",
         "name": "Care work monthly",
         "orientation": "v",
         "showlegend": true,
         "type": "scatter",
         "x": [
          "2019-12-31T00:00:00",
          "2020-01-31T00:00:00",
          "2020-02-29T00:00:00",
          "2020-03-31T00:00:00",
          "2020-04-30T00:00:00",
          "2021-03-31T00:00:00",
          "2022-03-31T00:00:00"
         ],
         "xaxis": "x",
         "y": [
          18.39080459770115,
          19.277833500501504,
          17.315936626281452,
          19.03925014645577,
          23.54064954362131,
          15.677899066603384,
          17.418478846526863
         ],
         "yaxis": "y"
        },
        {
         "hovertemplate": "line=Organization & mental load monthly<br>date_time=%{x}<br>relative chores=%{y}<extra></extra>",
         "legendgroup": "Organization & mental load monthly",
         "line": {
          "color": "rgb(214, 39, 40)",
          "dash": "solid"
         },
         "marker": {
          "symbol": "circle"
         },
         "mode": "lines",
         "name": "Organization & mental load monthly",
         "orientation": "v",
         "showlegend": true,
         "type": "scatter",
         "x": [
          "2019-12-31T00:00:00",
          "2020-01-31T00:00:00",
          "2020-02-29T00:00:00",
          "2020-03-31T00:00:00",
          "2020-04-30T00:00:00",
          "2021-03-31T00:00:00",
          "2022-03-31T00:00:00"
         ],
         "xaxis": "x",
         "y": [
          9.25925925925926,
          7.362086258776329,
          6.35601118359739,
          10.466705721538762,
          6.028444067077054,
          5.885144755576649,
          7.054031336882261
         ],
         "yaxis": "y"
        },
        {
         "hovertemplate": "line=Household chores monthly<br>date_time=%{x}<br>relative chores=%{y}<extra></extra>",
         "legendgroup": "Household chores monthly",
         "line": {
          "color": "rgb(44, 160, 44)",
          "dash": "solid"
         },
         "marker": {
          "symbol": "circle"
         },
         "mode": "lines",
         "name": "Household chores monthly",
         "orientation": "v",
         "showlegend": true,
         "type": "scatter",
         "x": [
          "2019-12-31T00:00:00",
          "2020-01-31T00:00:00",
          "2020-02-29T00:00:00",
          "2020-03-31T00:00:00",
          "2020-04-30T00:00:00",
          "2021-03-31T00:00:00",
          "2022-03-31T00:00:00"
         ],
         "xaxis": "x",
         "y": [
          5.725840783312048,
          7.843530591775326,
          6.244175209692451,
          8.924038273774654,
          3.863298662704309,
          7.704477139693086,
          5.89452358887045
         ],
         "yaxis": "y"
        },
        {
         "hovertemplate": "line=Other monthly<br>date_time=%{x}<br>relative chores=%{y}<extra></extra>",
         "legendgroup": "Other monthly",
         "line": {
          "color": "rgb(127, 127, 127)",
          "dash": "solid"
         },
         "marker": {
          "symbol": "circle"
         },
         "mode": "lines",
         "name": "Other monthly",
         "orientation": "v",
         "showlegend": true,
         "type": "scatter",
         "x": [
          "2019-12-31T00:00:00",
          "2020-01-31T00:00:00",
          "2020-02-29T00:00:00",
          "2020-03-31T00:00:00",
          "2020-04-30T00:00:00",
          "2021-03-31T00:00:00",
          "2022-03-31T00:00:00"
         ],
         "xaxis": "x",
         "y": [
          0.17028522775649213,
          0.18054162487462386,
          0.260950605778192,
          0.8787346221441126,
          0.2334960730205901,
          0.09492168960607499,
          0.18750404103536714
         ],
         "yaxis": "y"
        },
        {
         "marker": {
          "color": "black",
          "size": 10
         },
         "mode": "lines",
         "name": "Start of pandemic",
         "showlegend": true,
         "type": "scatter",
         "x": [
          null
         ],
         "y": [
          null
         ]
        }
       ],
       "layout": {
        "height": 500,
        "legend": {
         "title": {
          "font": {
           "size": 14
          },
          "text": ""
         },
         "tracegroupgap": 0
        },
        "plot_bgcolor": "white",
        "shapes": [
         {
          "line": {
           "color": "black",
           "width": 3
          },
          "type": "line",
          "x0": "2020-03-11",
          "x1": "2020-03-11",
          "xref": "x",
          "y0": 0,
          "y1": 1,
          "yref": "y domain"
         },
         {
          "line": {
           "color": "black",
           "width": 2
          },
          "name": "Start of pandemic",
          "type": "line",
          "x0": "2020-03-11",
          "x1": "2020-03-11",
          "y0": 0,
          "y1": 2500
         }
        ],
        "template": {
         "data": {
          "bar": [
           {
            "error_x": {
             "color": "#2a3f5f"
            },
            "error_y": {
             "color": "#2a3f5f"
            },
            "marker": {
             "line": {
              "color": "#E5ECF6",
              "width": 0.5
             },
             "pattern": {
              "fillmode": "overlay",
              "size": 10,
              "solidity": 0.2
             }
            },
            "type": "bar"
           }
          ],
          "barpolar": [
           {
            "marker": {
             "line": {
              "color": "#E5ECF6",
              "width": 0.5
             },
             "pattern": {
              "fillmode": "overlay",
              "size": 10,
              "solidity": 0.2
             }
            },
            "type": "barpolar"
           }
          ],
          "carpet": [
           {
            "aaxis": {
             "endlinecolor": "#2a3f5f",
             "gridcolor": "white",
             "linecolor": "white",
             "minorgridcolor": "white",
             "startlinecolor": "#2a3f5f"
            },
            "baxis": {
             "endlinecolor": "#2a3f5f",
             "gridcolor": "white",
             "linecolor": "white",
             "minorgridcolor": "white",
             "startlinecolor": "#2a3f5f"
            },
            "type": "carpet"
           }
          ],
          "choropleth": [
           {
            "colorbar": {
             "outlinewidth": 0,
             "ticks": ""
            },
            "type": "choropleth"
           }
          ],
          "contour": [
           {
            "colorbar": {
             "outlinewidth": 0,
             "ticks": ""
            },
            "colorscale": [
             [
              0,
              "#0d0887"
             ],
             [
              0.1111111111111111,
              "#46039f"
             ],
             [
              0.2222222222222222,
              "#7201a8"
             ],
             [
              0.3333333333333333,
              "#9c179e"
             ],
             [
              0.4444444444444444,
              "#bd3786"
             ],
             [
              0.5555555555555556,
              "#d8576b"
             ],
             [
              0.6666666666666666,
              "#ed7953"
             ],
             [
              0.7777777777777778,
              "#fb9f3a"
             ],
             [
              0.8888888888888888,
              "#fdca26"
             ],
             [
              1,
              "#f0f921"
             ]
            ],
            "type": "contour"
           }
          ],
          "contourcarpet": [
           {
            "colorbar": {
             "outlinewidth": 0,
             "ticks": ""
            },
            "type": "contourcarpet"
           }
          ],
          "heatmap": [
           {
            "colorbar": {
             "outlinewidth": 0,
             "ticks": ""
            },
            "colorscale": [
             [
              0,
              "#0d0887"
             ],
             [
              0.1111111111111111,
              "#46039f"
             ],
             [
              0.2222222222222222,
              "#7201a8"
             ],
             [
              0.3333333333333333,
              "#9c179e"
             ],
             [
              0.4444444444444444,
              "#bd3786"
             ],
             [
              0.5555555555555556,
              "#d8576b"
             ],
             [
              0.6666666666666666,
              "#ed7953"
             ],
             [
              0.7777777777777778,
              "#fb9f3a"
             ],
             [
              0.8888888888888888,
              "#fdca26"
             ],
             [
              1,
              "#f0f921"
             ]
            ],
            "type": "heatmap"
           }
          ],
          "heatmapgl": [
           {
            "colorbar": {
             "outlinewidth": 0,
             "ticks": ""
            },
            "colorscale": [
             [
              0,
              "#0d0887"
             ],
             [
              0.1111111111111111,
              "#46039f"
             ],
             [
              0.2222222222222222,
              "#7201a8"
             ],
             [
              0.3333333333333333,
              "#9c179e"
             ],
             [
              0.4444444444444444,
              "#bd3786"
             ],
             [
              0.5555555555555556,
              "#d8576b"
             ],
             [
              0.6666666666666666,
              "#ed7953"
             ],
             [
              0.7777777777777778,
              "#fb9f3a"
             ],
             [
              0.8888888888888888,
              "#fdca26"
             ],
             [
              1,
              "#f0f921"
             ]
            ],
            "type": "heatmapgl"
           }
          ],
          "histogram": [
           {
            "marker": {
             "pattern": {
              "fillmode": "overlay",
              "size": 10,
              "solidity": 0.2
             }
            },
            "type": "histogram"
           }
          ],
          "histogram2d": [
           {
            "colorbar": {
             "outlinewidth": 0,
             "ticks": ""
            },
            "colorscale": [
             [
              0,
              "#0d0887"
             ],
             [
              0.1111111111111111,
              "#46039f"
             ],
             [
              0.2222222222222222,
              "#7201a8"
             ],
             [
              0.3333333333333333,
              "#9c179e"
             ],
             [
              0.4444444444444444,
              "#bd3786"
             ],
             [
              0.5555555555555556,
              "#d8576b"
             ],
             [
              0.6666666666666666,
              "#ed7953"
             ],
             [
              0.7777777777777778,
              "#fb9f3a"
             ],
             [
              0.8888888888888888,
              "#fdca26"
             ],
             [
              1,
              "#f0f921"
             ]
            ],
            "type": "histogram2d"
           }
          ],
          "histogram2dcontour": [
           {
            "colorbar": {
             "outlinewidth": 0,
             "ticks": ""
            },
            "colorscale": [
             [
              0,
              "#0d0887"
             ],
             [
              0.1111111111111111,
              "#46039f"
             ],
             [
              0.2222222222222222,
              "#7201a8"
             ],
             [
              0.3333333333333333,
              "#9c179e"
             ],
             [
              0.4444444444444444,
              "#bd3786"
             ],
             [
              0.5555555555555556,
              "#d8576b"
             ],
             [
              0.6666666666666666,
              "#ed7953"
             ],
             [
              0.7777777777777778,
              "#fb9f3a"
             ],
             [
              0.8888888888888888,
              "#fdca26"
             ],
             [
              1,
              "#f0f921"
             ]
            ],
            "type": "histogram2dcontour"
           }
          ],
          "mesh3d": [
           {
            "colorbar": {
             "outlinewidth": 0,
             "ticks": ""
            },
            "type": "mesh3d"
           }
          ],
          "parcoords": [
           {
            "line": {
             "colorbar": {
              "outlinewidth": 0,
              "ticks": ""
             }
            },
            "type": "parcoords"
           }
          ],
          "pie": [
           {
            "automargin": true,
            "type": "pie"
           }
          ],
          "scatter": [
           {
            "fillpattern": {
             "fillmode": "overlay",
             "size": 10,
             "solidity": 0.2
            },
            "type": "scatter"
           }
          ],
          "scatter3d": [
           {
            "line": {
             "colorbar": {
              "outlinewidth": 0,
              "ticks": ""
             }
            },
            "marker": {
             "colorbar": {
              "outlinewidth": 0,
              "ticks": ""
             }
            },
            "type": "scatter3d"
           }
          ],
          "scattercarpet": [
           {
            "marker": {
             "colorbar": {
              "outlinewidth": 0,
              "ticks": ""
             }
            },
            "type": "scattercarpet"
           }
          ],
          "scattergeo": [
           {
            "marker": {
             "colorbar": {
              "outlinewidth": 0,
              "ticks": ""
             }
            },
            "type": "scattergeo"
           }
          ],
          "scattergl": [
           {
            "marker": {
             "colorbar": {
              "outlinewidth": 0,
              "ticks": ""
             }
            },
            "type": "scattergl"
           }
          ],
          "scattermapbox": [
           {
            "marker": {
             "colorbar": {
              "outlinewidth": 0,
              "ticks": ""
             }
            },
            "type": "scattermapbox"
           }
          ],
          "scatterpolar": [
           {
            "marker": {
             "colorbar": {
              "outlinewidth": 0,
              "ticks": ""
             }
            },
            "type": "scatterpolar"
           }
          ],
          "scatterpolargl": [
           {
            "marker": {
             "colorbar": {
              "outlinewidth": 0,
              "ticks": ""
             }
            },
            "type": "scatterpolargl"
           }
          ],
          "scatterternary": [
           {
            "marker": {
             "colorbar": {
              "outlinewidth": 0,
              "ticks": ""
             }
            },
            "type": "scatterternary"
           }
          ],
          "surface": [
           {
            "colorbar": {
             "outlinewidth": 0,
             "ticks": ""
            },
            "colorscale": [
             [
              0,
              "#0d0887"
             ],
             [
              0.1111111111111111,
              "#46039f"
             ],
             [
              0.2222222222222222,
              "#7201a8"
             ],
             [
              0.3333333333333333,
              "#9c179e"
             ],
             [
              0.4444444444444444,
              "#bd3786"
             ],
             [
              0.5555555555555556,
              "#d8576b"
             ],
             [
              0.6666666666666666,
              "#ed7953"
             ],
             [
              0.7777777777777778,
              "#fb9f3a"
             ],
             [
              0.8888888888888888,
              "#fdca26"
             ],
             [
              1,
              "#f0f921"
             ]
            ],
            "type": "surface"
           }
          ],
          "table": [
           {
            "cells": {
             "fill": {
              "color": "#EBF0F8"
             },
             "line": {
              "color": "white"
             }
            },
            "header": {
             "fill": {
              "color": "#C8D4E3"
             },
             "line": {
              "color": "white"
             }
            },
            "type": "table"
           }
          ]
         },
         "layout": {
          "annotationdefaults": {
           "arrowcolor": "#2a3f5f",
           "arrowhead": 0,
           "arrowwidth": 1
          },
          "autotypenumbers": "strict",
          "coloraxis": {
           "colorbar": {
            "outlinewidth": 0,
            "ticks": ""
           }
          },
          "colorscale": {
           "diverging": [
            [
             0,
             "#8e0152"
            ],
            [
             0.1,
             "#c51b7d"
            ],
            [
             0.2,
             "#de77ae"
            ],
            [
             0.3,
             "#f1b6da"
            ],
            [
             0.4,
             "#fde0ef"
            ],
            [
             0.5,
             "#f7f7f7"
            ],
            [
             0.6,
             "#e6f5d0"
            ],
            [
             0.7,
             "#b8e186"
            ],
            [
             0.8,
             "#7fbc41"
            ],
            [
             0.9,
             "#4d9221"
            ],
            [
             1,
             "#276419"
            ]
           ],
           "sequential": [
            [
             0,
             "#0d0887"
            ],
            [
             0.1111111111111111,
             "#46039f"
            ],
            [
             0.2222222222222222,
             "#7201a8"
            ],
            [
             0.3333333333333333,
             "#9c179e"
            ],
            [
             0.4444444444444444,
             "#bd3786"
            ],
            [
             0.5555555555555556,
             "#d8576b"
            ],
            [
             0.6666666666666666,
             "#ed7953"
            ],
            [
             0.7777777777777778,
             "#fb9f3a"
            ],
            [
             0.8888888888888888,
             "#fdca26"
            ],
            [
             1,
             "#f0f921"
            ]
           ],
           "sequentialminus": [
            [
             0,
             "#0d0887"
            ],
            [
             0.1111111111111111,
             "#46039f"
            ],
            [
             0.2222222222222222,
             "#7201a8"
            ],
            [
             0.3333333333333333,
             "#9c179e"
            ],
            [
             0.4444444444444444,
             "#bd3786"
            ],
            [
             0.5555555555555556,
             "#d8576b"
            ],
            [
             0.6666666666666666,
             "#ed7953"
            ],
            [
             0.7777777777777778,
             "#fb9f3a"
            ],
            [
             0.8888888888888888,
             "#fdca26"
            ],
            [
             1,
             "#f0f921"
            ]
           ]
          },
          "colorway": [
           "#636efa",
           "#EF553B",
           "#00cc96",
           "#ab63fa",
           "#FFA15A",
           "#19d3f3",
           "#FF6692",
           "#B6E880",
           "#FF97FF",
           "#FECB52"
          ],
          "font": {
           "color": "#2a3f5f"
          },
          "geo": {
           "bgcolor": "white",
           "lakecolor": "white",
           "landcolor": "#E5ECF6",
           "showlakes": true,
           "showland": true,
           "subunitcolor": "white"
          },
          "hoverlabel": {
           "align": "left"
          },
          "hovermode": "closest",
          "mapbox": {
           "style": "light"
          },
          "paper_bgcolor": "white",
          "plot_bgcolor": "#E5ECF6",
          "polar": {
           "angularaxis": {
            "gridcolor": "white",
            "linecolor": "white",
            "ticks": ""
           },
           "bgcolor": "#E5ECF6",
           "radialaxis": {
            "gridcolor": "white",
            "linecolor": "white",
            "ticks": ""
           }
          },
          "scene": {
           "xaxis": {
            "backgroundcolor": "#E5ECF6",
            "gridcolor": "white",
            "gridwidth": 2,
            "linecolor": "white",
            "showbackground": true,
            "ticks": "",
            "zerolinecolor": "white"
           },
           "yaxis": {
            "backgroundcolor": "#E5ECF6",
            "gridcolor": "white",
            "gridwidth": 2,
            "linecolor": "white",
            "showbackground": true,
            "ticks": "",
            "zerolinecolor": "white"
           },
           "zaxis": {
            "backgroundcolor": "#E5ECF6",
            "gridcolor": "white",
            "gridwidth": 2,
            "linecolor": "white",
            "showbackground": true,
            "ticks": "",
            "zerolinecolor": "white"
           }
          },
          "shapedefaults": {
           "line": {
            "color": "#2a3f5f"
           }
          },
          "ternary": {
           "aaxis": {
            "gridcolor": "white",
            "linecolor": "white",
            "ticks": ""
           },
           "baxis": {
            "gridcolor": "white",
            "linecolor": "white",
            "ticks": ""
           },
           "bgcolor": "#E5ECF6",
           "caxis": {
            "gridcolor": "white",
            "linecolor": "white",
            "ticks": ""
           }
          },
          "title": {
           "x": 0.05
          },
          "xaxis": {
           "automargin": true,
           "gridcolor": "white",
           "linecolor": "white",
           "ticks": "",
           "title": {
            "standoff": 15
           },
           "zerolinecolor": "white",
           "zerolinewidth": 2
          },
          "yaxis": {
           "automargin": true,
           "gridcolor": "white",
           "linecolor": "white",
           "ticks": "",
           "title": {
            "standoff": 15
           },
           "zerolinecolor": "white",
           "zerolinewidth": 2
          }
         }
        },
        "title": {
         "font": {
          "family": "Calibri",
          "size": 32
         },
         "text": "Weekly and monthly share of posts<br>with home responsibilites in the topic representations"
        },
        "width": 1200,
        "xaxis": {
         "anchor": "y",
         "domain": [
          0,
          1
         ],
         "dtick": "M2",
         "gridcolor": "lightgrey",
         "gridwidth": 0.5,
         "range": [
          "2019-12-01",
          "2022-04-30"
         ],
         "showgrid": true,
         "tickangle": 45,
         "tickfont": {
          "family": "Calibri",
          "size": 24
         },
         "ticklabelmode": "period",
         "title": {
          "text": ""
         }
        },
        "yaxis": {
         "anchor": "x",
         "domain": [
          0,
          1
         ],
         "gridcolor": "lightgrey",
         "gridwidth": 0.5,
         "range": [
          -1,
          30
         ],
         "showgrid": true,
         "tickfont": {
          "family": "Calibri",
          "size": 24
         },
         "title": {
          "font": {
           "family": "Calibri",
           "size": 24
          },
          "text": "Frequency in %"
         }
        }
       }
      }
     },
     "metadata": {},
     "output_type": "display_data"
    }
   ],
   "source": [
    "colors = ['rgb(31, 119, 180)', 'rgb(214, 39, 40)','rgb(44, 160, 44)', 'rgb(127, 127, 127)']\n",
    "\n",
    "fig = px.line(grouping_mommit, x='date_time', y='relative chores', color=\"line\", height=500, width=1200,\n",
    "              title=\"Weekly and monthly share of posts<br>with home responsibilites in the topic representations\",\n",
    "              color_discrete_sequence=colors)\n",
    "\n",
    "\n",
    "fig.add_vline(x=\"2020-03-11\", line_color=\"black\", line_width=3)\n",
    "\n",
    "# Set the same y-axis scale for both graphs\n",
    "fig.update_layout(yaxis=dict(range=[0, 80]))\n",
    "\n",
    "    # Add vertical line --> start pandemic\n",
    "fig.add_shape(\n",
    "    type=\"line\",\n",
    "    x0=\"2020-03-11\", x1=\"2020-03-11\",\n",
    "    y0=0, y1=2500,\n",
    "    line=dict(color=\"black\", width=2),\n",
    "    name=\"Start of pandemic\"\n",
    ")\n",
    "\n",
    "# Add custom legend items as annotations\n",
    "fig.add_trace(\n",
    "    go.Scatter(\n",
    "        x=[None],\n",
    "        y=[None],\n",
    "        mode='lines',\n",
    "        marker=dict(color=\"black\", size=10),\n",
    "        showlegend=True,\n",
    "        name=\"Start of pandemic\"\n",
    "    )\n",
    ")\n",
    "\n",
    "fig.update_layout(\n",
    "    legend=dict(\n",
    "        title='',\n",
    "        title_font=dict(size=14)\n",
    "    ),\n",
    "    xaxis=dict(\n",
    "        showgrid=True,  # Display x-axis grid lines\n",
    "        gridcolor='lightgrey',  # Set the color of the x-axis grid lines\n",
    "        gridwidth=0.5  # Set the width of the x-axis grid lines\n",
    "    ),\n",
    "    yaxis=dict(\n",
    "        showgrid=True,  # Display y-axis grid lines\n",
    "        gridcolor='lightgrey',  # Set the color of the y-axis grid lines\n",
    "        gridwidth=0.5  # Set the width of the y-axis grid lines\n",
    "    )\n",
    ")\n",
    "\n",
    "# Updating layout and axis labels\n",
    "fig.update_layout(\n",
    "    plot_bgcolor='white',\n",
    "    title={\n",
    "        'font': {'size': 32, 'family': 'Calibri'}  \n",
    "    },\n",
    "    xaxis_title='Date',\n",
    "    yaxis_title='Frequency in %',\n",
    "    xaxis={\n",
    "        'title': \"\", #{'font': {'size': 24, 'family': 'Calibri'}}, \n",
    "        'tickfont': {'size': 24, 'family': 'Calibri'},  \n",
    "        \"range\":[\"2019-12-01\", \"2022-04-30\"],\n",
    "        \"dtick\":\"M2\",\n",
    "        \"ticklabelmode\":\"period\"\n",
    "    },\n",
    "    yaxis={\n",
    "        'title': {'font': {'size': 24, 'family': 'Calibri'}}, \n",
    "        'tickfont': {'size': 24, 'family': 'Calibri'}, \n",
    "        'range': [-1,30]\n",
    "    }\n",
    ")\n",
    "fig.update_traces(patch={\"line\": {\"color\": \"rgb(214, 39, 40, 0.30)\", \"width\": 1.5, \"dash\": 'dot'}}, selector={\"legendgroup\": \"Organization & mental load weekly\"}) \n",
    "fig.update_traces(patch={\"line\": {\"color\": \"rgb(31, 119, 180, 0.30)\", \"width\": 1.5, \"dash\": 'dot'}}, selector={\"legendgroup\": \"Care work weekly\"}) \n",
    "fig.update_traces(patch={\"line\": {\"color\": \"rgba(44, 160, 44, 0.30)\", \"width\": 1.5, \"dash\": 'dot'}}, selector={\"legendgroup\": \"Household chores weekly\"}) \n",
    "fig.update_traces(patch={\"line\": {\"color\": \"rgba(127, 127, 127, 0.30)\", \"width\": 1.5, \"dash\": 'dot'}}, selector={\"legendgroup\": \"Other weekly\"}) \n",
    "\n",
    "fig.update_xaxes(tickangle= 45)  \n",
    "\n",
    "fig.show()\n"
   ]
  }
 ],
 "metadata": {
  "kernelspec": {
   "display_name": "Python 3",
   "language": "python",
   "name": "python3"
  },
  "language_info": {
   "codemirror_mode": {
    "name": "ipython",
    "version": 3
   },
   "file_extension": ".py",
   "mimetype": "text/x-python",
   "name": "python",
   "nbconvert_exporter": "python",
   "pygments_lexer": "ipython3",
   "version": "3.9.7"
  },
  "orig_nbformat": 4
 },
 "nbformat": 4,
 "nbformat_minor": 2
}
